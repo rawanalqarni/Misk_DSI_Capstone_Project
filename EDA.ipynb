{
 "cells": [
  {
   "cell_type": "markdown",
   "metadata": {},
   "source": [
    "### Capstone Project \n",
    "### Perfumes Recommendation System "
   ]
  },
  {
   "cell_type": "markdown",
   "metadata": {},
   "source": [
    "#### Import Packages"
   ]
  },
  {
   "cell_type": "code",
   "execution_count": 1,
   "metadata": {},
   "outputs": [],
   "source": [
    "import pandas as pd \n",
    "import numpy as np\n",
    "import matplotlib.pyplot as plt"
   ]
  },
  {
   "cell_type": "markdown",
   "metadata": {},
   "source": [
    "#### Read Dataset:\n",
    "- Perfumes Dataset: \n",
    "This dataset contain Perfumes data: Perfumes_Name, Brand, Describtion, Price, Gender, Product_type, Fragrance_Family, Character, Average Rate, Ingredients, Top, Middle and Base Notes, image_URL.\n",
    "\n",
    "- Reviewa Dataset: \n",
    "This dataset contain User nickname, Perfume_name, Brand, Fragrance_Family, Overall_rating, User_rating, Revirews, Date.   "
   ]
  },
  {
   "cell_type": "code",
   "execution_count": 2,
   "metadata": {},
   "outputs": [],
   "source": [
    "Perfumes_df = pd.read_csv(\"C:/Users/hmq4/OneDrive/Desktop/Data Science- Misk/chrome/Misk_DSI_Capstone_Project/Dataset/Datasets/Perfume_Dataset.csv\")\n",
    "Reviews_df = pd.read_csv(\"C:/Users/hmq4/OneDrive/Desktop/Data Science- Misk/chrome/Misk_DSI_Capstone_Project/Dataset/Datasets/Reviews_Dataset.csv\")"
   ]
  },
  {
   "cell_type": "markdown",
   "metadata": {},
   "source": [
    "#### Data Dictionary:\n",
    "<table>\n",
    "<tr>\n",
    "<th> Column </th>\n",
    "<th> Description </th>\n",
    "</tr>\n",
    "\n",
    "<tr>\n",
    "    <td> Name </td>\n",
    "    <td> Full name of the perfume </td>\n",
    "</tr>\n",
    "\n",
    "\n",
    "<tr>\n",
    "    <td> Price </td>\n",
    "    <td> The price is in SAR and it is an object type not a float </td>\n",
    "</tr>  \n",
    "\n",
    "\n",
    "<tr>\n",
    "    <td> Description </td>\n",
    "    <td> The description consist of a perfume description as well as a small description about the brand </td>\n",
    "</tr>\n",
    "\n",
    "\n",
    "<tr>\n",
    "    <td> Rate </td>\n",
    "    <td> This represent the average rating for the perfume by the users on a scale 0-5</td>\n",
    "</tr>\n",
    "\n",
    "\n",
    "<tr>\n",
    "    <td> Rating_count </td>\n",
    "    <td> This represent how many users have rated the perfume </td>\n",
    "</tr>\n",
    "\n",
    "\n",
    "<tr>\n",
    "    <td> image </td>\n",
    "    <td> This contain the image url of the perfume </td>\n",
    "</tr>\n",
    "\n",
    "<tr>\n",
    "    <td> Brand </td>\n",
    "    <td> The dataset contains 484 brands </td>\n",
    "</tr>\n",
    "\n",
    "<tr>\n",
    "    <td> Gender </td>\n",
    "    <td> The gender as Wonem, Men, Home, Unisex </td>\n",
    "</tr>\n",
    "\n",
    "<tr>\n",
    "    <td> Product_Type </td>\n",
    "    <td> This specify the product type such as perfume, perfume set, perfume oil, candle </td>\n",
    "</tr>\n",
    "\n",
    "<tr>\n",
    "    <td> Character </td>\n",
    "    <td> this specify a character for each perfume such as Romantic,Charismatic. </td>\n",
    "</tr>\n",
    "\n",
    "<tr>\n",
    "    <td> Fragrance_Family </td>\n",
    "    <td> This reperesent the class of the perfume such as floral, woody </td>\n",
    "</tr>\n",
    "\n",
    "<tr>\n",
    "    <td> Size </td>\n",
    "    <td> Most Perfume measured in ml, however the dataset contains other sizes: g </td>\n",
    "</tr>\n",
    "\n",
    "<tr>\n",
    "    <td> Year </td>\n",
    "    <td> This represent the year the perfume have lunched </td>\n",
    "</tr>\n",
    "\n",
    "<tr>\n",
    "    <td> Ingredients </td>\n",
    "    <td> This contain all the perfume Ingredients </td>\n",
    "</tr>\n",
    "\n",
    "<tr>\n",
    "    <td> Concentration</td>\n",
    "    <td> This represent how strong the perfume is such as Parfum which is the strongest </td>\n",
    "</tr>\n",
    "\n",
    "<tr>\n",
    "    <td> Top_note </td>\n",
    "    <td> The Top Note is the note Ingredients, this note is the light note </td>\n",
    "</tr>\n",
    "\n",
    "<tr>\n",
    "    <td> Middle_note </td>\n",
    "    <td> The Middle note is the core and very essence of the of the perfume</td>\n",
    "</tr>\n",
    "\n",
    "<tr>\n",
    "    <td> Base_note </td>\n",
    "    <td> The base notes of the perfume give it depth, richness (the foundation of the perfume)</td>\n",
    "</tr>\n",
    "\n",
    "</table>\n"
   ]
  },
  {
   "cell_type": "markdown",
   "metadata": {},
   "source": [
    "### 1. Perfumes Dataset Cleaning "
   ]
  },
  {
   "cell_type": "markdown",
   "metadata": {},
   "source": [
    "Summary of the Cleaning step:\n",
    "1. Remove duplicate\n",
    "2. Change price datatype and remove SAR\n",
    "3. Change Rate,Rating_count datatype to float \n",
    "4. Check all the columns values,so they don't have any wrong values >> resulted from web scraping\n",
    "5. Remove the size from Name  \n",
    "6. Handle null values \n",
    "7. A lot of manual cleaning to resolve inconsistency "
   ]
  },
  {
   "cell_type": "code",
   "execution_count": 3,
   "metadata": {},
   "outputs": [
    {
     "data": {
      "text/plain": [
       "(6237, 19)"
      ]
     },
     "execution_count": 3,
     "metadata": {},
     "output_type": "execute_result"
    }
   ],
   "source": [
    "Perfumes_df.shape"
   ]
  },
  {
   "cell_type": "code",
   "execution_count": 4,
   "metadata": {},
   "outputs": [
    {
     "name": "stdout",
     "output_type": "stream",
     "text": [
      "The DataFrame have 25 duplicate\n"
     ]
    }
   ],
   "source": [
    "# Checking for duplicate \n",
    "print(f\"The DataFrame have {Perfumes_df.duplicated().sum()} duplicate\")\n",
    "# remove duplicate\n",
    "Perfumes_df = Perfumes_df.drop_duplicates()"
   ]
  },
  {
   "cell_type": "code",
   "execution_count": 5,
   "metadata": {},
   "outputs": [
    {
     "data": {
      "text/plain": [
       "(6212, 19)"
      ]
     },
     "execution_count": 5,
     "metadata": {},
     "output_type": "execute_result"
    }
   ],
   "source": [
    "Perfumes_df.shape"
   ]
  },
  {
   "cell_type": "code",
   "execution_count": 6,
   "metadata": {},
   "outputs": [
    {
     "name": "stdout",
     "output_type": "stream",
     "text": [
      "<class 'pandas.core.frame.DataFrame'>\n",
      "Int64Index: 6212 entries, 0 to 6236\n",
      "Data columns (total 19 columns):\n",
      " #   Column            Non-Null Count  Dtype \n",
      "---  ------            --------------  ----- \n",
      " 0   Name              6212 non-null   object\n",
      " 1   Price             6212 non-null   object\n",
      " 2   Description       6103 non-null   object\n",
      " 3   Rate              6103 non-null   object\n",
      " 4   Rating_count      6098 non-null   object\n",
      " 5   Details           6097 non-null   object\n",
      " 6   image             6097 non-null   object\n",
      " 7   Brand             5808 non-null   object\n",
      " 8   Gender            5895 non-null   object\n",
      " 9   Product_Type      5594 non-null   object\n",
      " 10  Character         5347 non-null   object\n",
      " 11  Fragrance_Family  5582 non-null   object\n",
      " 12  Size              5571 non-null   object\n",
      " 13  Year              4211 non-null   object\n",
      " 14  Ingredients       5454 non-null   object\n",
      " 15  Concentration     4855 non-null   object\n",
      " 16  Top_note          5283 non-null   object\n",
      " 17  Middle_note       4977 non-null   object\n",
      " 18  Base_note         4939 non-null   object\n",
      "dtypes: object(19)\n",
      "memory usage: 970.6+ KB\n"
     ]
    }
   ],
   "source": [
    "Perfumes_df.info()"
   ]
  },
  {
   "cell_type": "markdown",
   "metadata": {},
   "source": [
    "After manual cleaning I created a new csv file and copy the data to it, unfortunately the dataset size get reduced "
   ]
  },
  {
   "cell_type": "code",
   "execution_count": 7,
   "metadata": {},
   "outputs": [],
   "source": [
    "final_df = pd.read_csv(\"C:/Users/hmq4/OneDrive/Desktop/Data Science- Misk/chrome/Misk_DSI_Capstone_Project/Dataset/Datasets/Dataset.csv\")"
   ]
  },
  {
   "cell_type": "code",
   "execution_count": 8,
   "metadata": {},
   "outputs": [
    {
     "data": {
      "text/plain": [
       "(4239, 18)"
      ]
     },
     "execution_count": 8,
     "metadata": {},
     "output_type": "execute_result"
    }
   ],
   "source": [
    "final_df.shape"
   ]
  },
  {
   "cell_type": "code",
   "execution_count": 9,
   "metadata": {},
   "outputs": [
    {
     "name": "stdout",
     "output_type": "stream",
     "text": [
      "The DataFrame have 0 duplicate\n"
     ]
    }
   ],
   "source": [
    "# Checking for duplicate \n",
    "print(f\"The DataFrame have {final_df.duplicated().sum()} duplicate\")\n",
    "# remove duplicate\n",
    "final_df = final_df.drop_duplicates()"
   ]
  },
  {
   "cell_type": "code",
   "execution_count": 10,
   "metadata": {},
   "outputs": [
    {
     "name": "stdout",
     "output_type": "stream",
     "text": [
      "<class 'pandas.core.frame.DataFrame'>\n",
      "Int64Index: 4239 entries, 0 to 4238\n",
      "Data columns (total 18 columns):\n",
      " #   Column            Non-Null Count  Dtype  \n",
      "---  ------            --------------  -----  \n",
      " 0   Name              4239 non-null   object \n",
      " 1   Price             4239 non-null   object \n",
      " 2   Description       4239 non-null   object \n",
      " 3   Rate              4239 non-null   object \n",
      " 4   Rating_count      4239 non-null   object \n",
      " 5   image             4239 non-null   object \n",
      " 6   Brand             4239 non-null   object \n",
      " 7   Gender            4239 non-null   object \n",
      " 8   Product_Type      4239 non-null   object \n",
      " 9   Character_x       4239 non-null   object \n",
      " 10  Fragrance_Family  4219 non-null   object \n",
      " 11  Size              4238 non-null   object \n",
      " 12  Year              4218 non-null   float64\n",
      " 13  Ingredients       4239 non-null   object \n",
      " 14  Concentration     4225 non-null   object \n",
      " 15  Top_note          4239 non-null   object \n",
      " 16  Middle_note       4233 non-null   object \n",
      " 17  Base_note         4224 non-null   object \n",
      "dtypes: float64(1), object(17)\n",
      "memory usage: 629.2+ KB\n"
     ]
    }
   ],
   "source": [
    "final_df.info()"
   ]
  },
  {
   "cell_type": "code",
   "execution_count": 11,
   "metadata": {},
   "outputs": [
    {
     "data": {
      "text/html": [
       "<div>\n",
       "<style scoped>\n",
       "    .dataframe tbody tr th:only-of-type {\n",
       "        vertical-align: middle;\n",
       "    }\n",
       "\n",
       "    .dataframe tbody tr th {\n",
       "        vertical-align: top;\n",
       "    }\n",
       "\n",
       "    .dataframe thead th {\n",
       "        text-align: right;\n",
       "    }\n",
       "</style>\n",
       "<table border=\"1\" class=\"dataframe\">\n",
       "  <thead>\n",
       "    <tr style=\"text-align: right;\">\n",
       "      <th></th>\n",
       "      <th>Name</th>\n",
       "      <th>Price</th>\n",
       "      <th>Description</th>\n",
       "      <th>Rate</th>\n",
       "      <th>Rating_count</th>\n",
       "      <th>image</th>\n",
       "      <th>Brand</th>\n",
       "      <th>Gender</th>\n",
       "      <th>Product_Type</th>\n",
       "      <th>Character_x</th>\n",
       "      <th>Fragrance_Family</th>\n",
       "      <th>Size</th>\n",
       "      <th>Year</th>\n",
       "      <th>Ingredients</th>\n",
       "      <th>Concentration</th>\n",
       "      <th>Top_note</th>\n",
       "      <th>Middle_note</th>\n",
       "      <th>Base_note</th>\n",
       "    </tr>\n",
       "  </thead>\n",
       "  <tbody>\n",
       "    <tr>\n",
       "      <th>0</th>\n",
       "      <td>Dolce &amp; Gabanna L'imperatrice 3 Pour Femme</td>\n",
       "      <td>199</td>\n",
       "      <td>Perfume for the energetic woman who is a hero ...</td>\n",
       "      <td>5</td>\n",
       "      <td>6 Rating</td>\n",
       "      <td>https://assets.goldenscent.com/catalog/product...</td>\n",
       "      <td>Dolce&amp;Gabbana</td>\n",
       "      <td>Women</td>\n",
       "      <td>Perfume</td>\n",
       "      <td>Romantic</td>\n",
       "      <td>Floral</td>\n",
       "      <td>100 ml</td>\n",
       "      <td>2009.0</td>\n",
       "      <td>Watermerlon, Kiwi, Pink Cyclamen, Musk, Pink P...</td>\n",
       "      <td>Eau de Toilette</td>\n",
       "      <td>Pink pepper, kiwi, rhubarb</td>\n",
       "      <td>jasmine, cyclamen, watermelon</td>\n",
       "      <td>musk, sandalwood, lemon trees.</td>\n",
       "    </tr>\n",
       "    <tr>\n",
       "      <th>1</th>\n",
       "      <td>Roberto Cavalli Paradiso</td>\n",
       "      <td>169</td>\n",
       "      <td>Woody floral fragrance, a subtle aroma that ma...</td>\n",
       "      <td>4.95</td>\n",
       "      <td>17 Rating</td>\n",
       "      <td>https://assets.goldenscent.com/catalog/product...</td>\n",
       "      <td>Roberto Cavalli</td>\n",
       "      <td>Women</td>\n",
       "      <td>Perfume</td>\n",
       "      <td>Romantic</td>\n",
       "      <td>Woody</td>\n",
       "      <td>50 ml</td>\n",
       "      <td>2015.0</td>\n",
       "      <td>Citrus, mandarin, bergamot, jasmine, pine, cyp...</td>\n",
       "      <td>Eau de Parfum</td>\n",
       "      <td>Citruses , Mandarin , Bergamot</td>\n",
       "      <td>Jasmine</td>\n",
       "      <td>Cypress, Parasol pine, Pink laurel</td>\n",
       "    </tr>\n",
       "    <tr>\n",
       "      <th>2</th>\n",
       "      <td>Yves Saint Laurent Libre</td>\n",
       "      <td>389</td>\n",
       "      <td>This perfume is a reflection of Freedom, speci...</td>\n",
       "      <td>5</td>\n",
       "      <td>3 Rating</td>\n",
       "      <td>https://assets.goldenscent.com/catalog/product...</td>\n",
       "      <td>Yves Saint Laurent</td>\n",
       "      <td>Women</td>\n",
       "      <td>Perfume</td>\n",
       "      <td>Romantic</td>\n",
       "      <td>Floral</td>\n",
       "      <td>90 ml</td>\n",
       "      <td>2019.0</td>\n",
       "      <td>Mandarin Orange, lavendar, black currant, peti...</td>\n",
       "      <td>Eau de Parfum</td>\n",
       "      <td>Mandarin Orange, Lavendar, Black Currant, Peti...</td>\n",
       "      <td>Jasmine, Orange Blossom</td>\n",
       "      <td>Vanilla, Cedar, Musk, Ambergris</td>\n",
       "    </tr>\n",
       "    <tr>\n",
       "      <th>3</th>\n",
       "      <td>Mancera Red Tobacco</td>\n",
       "      <td>499</td>\n",
       "      <td>Mancera Red Tobacco is the new oriental, woody...</td>\n",
       "      <td>4.38</td>\n",
       "      <td>8 Rating</td>\n",
       "      <td>https://assets.goldenscent.com/catalog/product...</td>\n",
       "      <td>Mancera</td>\n",
       "      <td>Women</td>\n",
       "      <td>Perfume</td>\n",
       "      <td>Romantic</td>\n",
       "      <td>Oriental</td>\n",
       "      <td>120 ml</td>\n",
       "      <td>2017.0</td>\n",
       "      <td>Saffron, Cinnamon, Incense, Nutmeg, White Peac...</td>\n",
       "      <td>Eau de Parfum</td>\n",
       "      <td>Saffron, Cinnamon, Incense, Nutmeg, White peac...</td>\n",
       "      <td>Patchouli, Jasmine</td>\n",
       "      <td>Tobacco, Amber, Woody notes, Vetiver, Vanilla,...</td>\n",
       "    </tr>\n",
       "    <tr>\n",
       "      <th>4</th>\n",
       "      <td>Giorgio Armani Emporio Armani Stronger With Yo...</td>\n",
       "      <td>399</td>\n",
       "      <td>for every romantic gentle man, This strong fas...</td>\n",
       "      <td>5</td>\n",
       "      <td>3 Rating</td>\n",
       "      <td>https://assets.goldenscent.com/catalog/product...</td>\n",
       "      <td>Giorgio Armani</td>\n",
       "      <td>Men</td>\n",
       "      <td>Perfume</td>\n",
       "      <td>Romantic</td>\n",
       "      <td>Aromatic</td>\n",
       "      <td>100 ml</td>\n",
       "      <td>2019.0</td>\n",
       "      <td>Spices, Violet, Lavender, Sweet Toffee, Carame...</td>\n",
       "      <td>Eau de Parfum</td>\n",
       "      <td>Pink pepper, Juniper, Violet leaf</td>\n",
       "      <td>Lavender, Sage, Toffee, Cinnamon</td>\n",
       "      <td>Tonka bean, Suede, Amber, Vanilla</td>\n",
       "    </tr>\n",
       "  </tbody>\n",
       "</table>\n",
       "</div>"
      ],
      "text/plain": [
       "                                                Name Price  \\\n",
       "0         Dolce & Gabanna L'imperatrice 3 Pour Femme   199   \n",
       "1                           Roberto Cavalli Paradiso   169   \n",
       "2                           Yves Saint Laurent Libre   389   \n",
       "3                                Mancera Red Tobacco   499   \n",
       "4  Giorgio Armani Emporio Armani Stronger With Yo...   399   \n",
       "\n",
       "                                         Description  Rate Rating_count  \\\n",
       "0  Perfume for the energetic woman who is a hero ...     5     6 Rating   \n",
       "1  Woody floral fragrance, a subtle aroma that ma...  4.95    17 Rating   \n",
       "2  This perfume is a reflection of Freedom, speci...     5     3 Rating   \n",
       "3  Mancera Red Tobacco is the new oriental, woody...  4.38     8 Rating   \n",
       "4  for every romantic gentle man, This strong fas...     5     3 Rating   \n",
       "\n",
       "                                               image               Brand  \\\n",
       "0  https://assets.goldenscent.com/catalog/product...       Dolce&Gabbana   \n",
       "1  https://assets.goldenscent.com/catalog/product...     Roberto Cavalli   \n",
       "2  https://assets.goldenscent.com/catalog/product...  Yves Saint Laurent   \n",
       "3  https://assets.goldenscent.com/catalog/product...             Mancera   \n",
       "4  https://assets.goldenscent.com/catalog/product...      Giorgio Armani   \n",
       "\n",
       "  Gender Product_Type Character_x Fragrance_Family    Size    Year  \\\n",
       "0  Women      Perfume    Romantic           Floral  100 ml  2009.0   \n",
       "1  Women      Perfume    Romantic            Woody   50 ml  2015.0   \n",
       "2  Women      Perfume    Romantic           Floral   90 ml  2019.0   \n",
       "3  Women      Perfume    Romantic         Oriental  120 ml  2017.0   \n",
       "4    Men      Perfume    Romantic         Aromatic  100 ml  2019.0   \n",
       "\n",
       "                                         Ingredients    Concentration  \\\n",
       "0  Watermerlon, Kiwi, Pink Cyclamen, Musk, Pink P...  Eau de Toilette   \n",
       "1  Citrus, mandarin, bergamot, jasmine, pine, cyp...    Eau de Parfum   \n",
       "2  Mandarin Orange, lavendar, black currant, peti...    Eau de Parfum   \n",
       "3  Saffron, Cinnamon, Incense, Nutmeg, White Peac...    Eau de Parfum   \n",
       "4  Spices, Violet, Lavender, Sweet Toffee, Carame...    Eau de Parfum   \n",
       "\n",
       "                                            Top_note  \\\n",
       "0                         Pink pepper, kiwi, rhubarb   \n",
       "1                     Citruses , Mandarin , Bergamot   \n",
       "2  Mandarin Orange, Lavendar, Black Currant, Peti...   \n",
       "3  Saffron, Cinnamon, Incense, Nutmeg, White peac...   \n",
       "4                  Pink pepper, Juniper, Violet leaf   \n",
       "\n",
       "                        Middle_note  \\\n",
       "0     jasmine, cyclamen, watermelon   \n",
       "1                           Jasmine   \n",
       "2           Jasmine, Orange Blossom   \n",
       "3                Patchouli, Jasmine   \n",
       "4  Lavender, Sage, Toffee, Cinnamon   \n",
       "\n",
       "                                           Base_note  \n",
       "0                     musk, sandalwood, lemon trees.  \n",
       "1                 Cypress, Parasol pine, Pink laurel  \n",
       "2                    Vanilla, Cedar, Musk, Ambergris  \n",
       "3  Tobacco, Amber, Woody notes, Vetiver, Vanilla,...  \n",
       "4                  Tonka bean, Suede, Amber, Vanilla  "
      ]
     },
     "execution_count": 11,
     "metadata": {},
     "output_type": "execute_result"
    }
   ],
   "source": [
    "final_df.head()"
   ]
  },
  {
   "cell_type": "code",
   "execution_count": 12,
   "metadata": {},
   "outputs": [],
   "source": [
    "final_df['Name'] = final_df.Name.str.split('-').str[0]\n",
    "final_df['Name'] = final_df.Name.str.split('(').str[0]"
   ]
  },
  {
   "cell_type": "code",
   "execution_count": 13,
   "metadata": {},
   "outputs": [],
   "source": [
    "# remove SAR from price column \n",
    "final_df['Price'] = final_df.Price.str.split(' ').str[0]"
   ]
  },
  {
   "cell_type": "code",
   "execution_count": 14,
   "metadata": {},
   "outputs": [],
   "source": [
    "# converting price to numric value \n",
    "final_df.Price = pd.to_numeric(final_df.Price)"
   ]
  },
  {
   "cell_type": "code",
   "execution_count": 15,
   "metadata": {},
   "outputs": [],
   "source": [
    "# removing \"Rating\" in Rating_count column\n",
    "final_df['Rating_count'] = final_df.Rating_count.str.split(' ').str[0]"
   ]
  },
  {
   "cell_type": "markdown",
   "metadata": {},
   "source": [
    "In Rating and Rating_cont columns \"none\" represent no rating, 0 lowest score and 5 highest score \n",
    "Thus, I will keep Rate and Rating_count as it is, so I can know if no rating which majority of the perfume have no rating"
   ]
  },
  {
   "cell_type": "code",
   "execution_count": 16,
   "metadata": {},
   "outputs": [
    {
     "data": {
      "text/plain": [
       "none    3832\n",
       "5        299\n",
       "4         34\n",
       "4.5       22\n",
       "3          9\n",
       "3.5        5\n",
       "1          5\n",
       "4.75       5\n",
       "4.25       4\n",
       "4.6        4\n",
       "4.83       4\n",
       "4.67       3\n",
       "3.67       3\n",
       "4.88       2\n",
       "4.95       1\n",
       "4.8        1\n",
       "4.79       1\n",
       "4.38       1\n",
       "4.42       1\n",
       "4.93       1\n",
       "4.89       1\n",
       "4.92       1\n",
       "Name: Rate, dtype: int64"
      ]
     },
     "execution_count": 16,
     "metadata": {},
     "output_type": "execute_result"
    }
   ],
   "source": [
    "final_df.Rate.value_counts()"
   ]
  },
  {
   "cell_type": "markdown",
   "metadata": {},
   "source": [
    "### 2. EDA\n",
    "Let's Discover the dataset scraped from Golden Scent Website "
   ]
  },
  {
   "cell_type": "code",
   "execution_count": 17,
   "metadata": {},
   "outputs": [
    {
     "name": "stdout",
     "output_type": "stream",
     "text": [
      "<class 'pandas.core.frame.DataFrame'>\n",
      "Int64Index: 4239 entries, 0 to 4238\n",
      "Data columns (total 18 columns):\n",
      " #   Column            Non-Null Count  Dtype  \n",
      "---  ------            --------------  -----  \n",
      " 0   Name              4239 non-null   object \n",
      " 1   Price             4239 non-null   int64  \n",
      " 2   Description       4239 non-null   object \n",
      " 3   Rate              4239 non-null   object \n",
      " 4   Rating_count      4239 non-null   object \n",
      " 5   image             4239 non-null   object \n",
      " 6   Brand             4239 non-null   object \n",
      " 7   Gender            4239 non-null   object \n",
      " 8   Product_Type      4239 non-null   object \n",
      " 9   Character_x       4239 non-null   object \n",
      " 10  Fragrance_Family  4219 non-null   object \n",
      " 11  Size              4238 non-null   object \n",
      " 12  Year              4218 non-null   float64\n",
      " 13  Ingredients       4239 non-null   object \n",
      " 14  Concentration     4225 non-null   object \n",
      " 15  Top_note          4239 non-null   object \n",
      " 16  Middle_note       4233 non-null   object \n",
      " 17  Base_note         4224 non-null   object \n",
      "dtypes: float64(1), int64(1), object(16)\n",
      "memory usage: 629.2+ KB\n"
     ]
    }
   ],
   "source": [
    "final_df.info()"
   ]
  },
  {
   "cell_type": "code",
   "execution_count": 18,
   "metadata": {},
   "outputs": [
    {
     "name": "stdout",
     "output_type": "stream",
     "text": [
      "This dataset contains: (4239, 18)\n"
     ]
    }
   ],
   "source": [
    "print(f'This dataset contains: {final_df.shape}')"
   ]
  },
  {
   "cell_type": "markdown",
   "metadata": {},
   "source": [
    "##### How many Brand in the Dataset?"
   ]
  },
  {
   "cell_type": "code",
   "execution_count": 19,
   "metadata": {},
   "outputs": [
    {
     "name": "stdout",
     "output_type": "stream",
     "text": [
      "This dataset contain: 385\n"
     ]
    }
   ],
   "source": [
    "print(f'This dataset contain: {final_df.Brand.nunique()}')"
   ]
  },
  {
   "cell_type": "code",
   "execution_count": 20,
   "metadata": {},
   "outputs": [
    {
     "data": {
      "text/html": [
       "<div>\n",
       "<style scoped>\n",
       "    .dataframe tbody tr th:only-of-type {\n",
       "        vertical-align: middle;\n",
       "    }\n",
       "\n",
       "    .dataframe tbody tr th {\n",
       "        vertical-align: top;\n",
       "    }\n",
       "\n",
       "    .dataframe thead th {\n",
       "        text-align: right;\n",
       "    }\n",
       "</style>\n",
       "<table border=\"1\" class=\"dataframe\">\n",
       "  <thead>\n",
       "    <tr style=\"text-align: right;\">\n",
       "      <th></th>\n",
       "      <th>Price</th>\n",
       "    </tr>\n",
       "    <tr>\n",
       "      <th>Brand</th>\n",
       "      <th></th>\n",
       "    </tr>\n",
       "  </thead>\n",
       "  <tbody>\n",
       "    <tr>\n",
       "      <th>Bvlgari</th>\n",
       "      <td>8193</td>\n",
       "    </tr>\n",
       "    <tr>\n",
       "      <th>Creed</th>\n",
       "      <td>6285</td>\n",
       "    </tr>\n",
       "    <tr>\n",
       "      <th>Xerjoff</th>\n",
       "      <td>5750</td>\n",
       "    </tr>\n",
       "    <tr>\n",
       "      <th>Boadicea</th>\n",
       "      <td>3763</td>\n",
       "    </tr>\n",
       "    <tr>\n",
       "      <th>Roja</th>\n",
       "      <td>3260</td>\n",
       "    </tr>\n",
       "  </tbody>\n",
       "</table>\n",
       "</div>"
      ],
      "text/plain": [
       "          Price\n",
       "Brand          \n",
       "Bvlgari    8193\n",
       "Creed      6285\n",
       "Xerjoff    5750\n",
       "Boadicea   3763\n",
       "Roja       3260"
      ]
     },
     "execution_count": 20,
     "metadata": {},
     "output_type": "execute_result"
    }
   ],
   "source": [
    "top_brand = final_df.groupby('Brand').agg({'Price':'max'}).sort_values(by=['Price'], ascending=False)\n",
    "top_brand.head()"
   ]
  },
  {
   "cell_type": "markdown",
   "metadata": {},
   "source": [
    "##### What the Perfumes Price range in Dataset?"
   ]
  },
  {
   "cell_type": "code",
   "execution_count": 21,
   "metadata": {},
   "outputs": [
    {
     "name": "stdout",
     "output_type": "stream",
     "text": [
      "Highest Price : 8193,   Lowest Price : 18\n"
     ]
    }
   ],
   "source": [
    "print(f'Highest Price : {final_df.Price.max()},   Lowest Price : {final_df.Price.min()}')"
   ]
  },
  {
   "cell_type": "code",
   "execution_count": 22,
   "metadata": {},
   "outputs": [
    {
     "data": {
      "text/plain": [
       "119     120\n",
       "295     108\n",
       "99       53\n",
       "199      48\n",
       "240      38\n",
       "       ... \n",
       "471       1\n",
       "1192      1\n",
       "621       1\n",
       "526       1\n",
       "2362      1\n",
       "Name: Price, Length: 876, dtype: int64"
      ]
     },
     "execution_count": 22,
     "metadata": {},
     "output_type": "execute_result"
    }
   ],
   "source": [
    "final_df.Price.value_counts()"
   ]
  },
  {
   "cell_type": "code",
   "execution_count": 23,
   "metadata": {},
   "outputs": [
    {
     "data": {
      "image/png": "[encoded data removed]",
      "text/plain": [
       "<Figure size 720x360 with 1 Axes>"
      ]
     },
     "metadata": {
      "needs_background": "light"
     },
     "output_type": "display_data"
    }
   ],
   "source": [
    "import matplotlib.pyplot as plt\n",
    "import seaborn as sns \n",
    "fig = plt.figure(figsize = (10, 5))\n",
    " \n",
    "# creating the bar plot\n",
    "sns.histplot(final_df.Price, color ='#AF7AC5')\n",
    " \n",
    "plt.xlabel(\"Prices\")\n",
    "plt.ylabel(\"No. of Perfumes\")\n",
    "plt.title(\"Price Ranges\")\n",
    "plt.xticks(rotation=45)\n",
    "plt.show()"
   ]
  },
  {
   "cell_type": "markdown",
   "metadata": {},
   "source": [
    "As the plot shows the majority of perfumes prices are below 1000 SAR and we get less and less as the price get higher   "
   ]
  },
  {
   "cell_type": "markdown",
   "metadata": {},
   "source": [
    "#### How many perfumes have Rate values and what the Rating distribution?"
   ]
  },
  {
   "cell_type": "code",
   "execution_count": 24,
   "metadata": {},
   "outputs": [
    {
     "data": {
      "text/plain": [
       "none    3832\n",
       "5        299\n",
       "4         34\n",
       "4.5       22\n",
       "3          9\n",
       "3.5        5\n",
       "1          5\n",
       "4.75       5\n",
       "4.25       4\n",
       "4.6        4\n",
       "4.83       4\n",
       "4.67       3\n",
       "3.67       3\n",
       "4.88       2\n",
       "4.95       1\n",
       "4.8        1\n",
       "4.79       1\n",
       "4.38       1\n",
       "4.42       1\n",
       "4.93       1\n",
       "4.89       1\n",
       "4.92       1\n",
       "Name: Rate, dtype: int64"
      ]
     },
     "execution_count": 24,
     "metadata": {},
     "output_type": "execute_result"
    }
   ],
   "source": [
    "final_df.Rate.value_counts()"
   ]
  },
  {
   "cell_type": "code",
   "execution_count": 25,
   "metadata": {},
   "outputs": [
    {
     "data": {
      "text/plain": [
       "none    3832\n",
       "1        248\n",
       "2         83\n",
       "3         38\n",
       "4         17\n",
       "5          8\n",
       "7          4\n",
       "6          3\n",
       "8          2\n",
       "17         1\n",
       "12         1\n",
       "18         1\n",
       "13         1\n",
       "Name: Rating_count, dtype: int64"
      ]
     },
     "execution_count": 25,
     "metadata": {},
     "output_type": "execute_result"
    }
   ],
   "source": [
    "final_df.Rating_count.value_counts()"
   ]
  },
  {
   "cell_type": "code",
   "execution_count": 26,
   "metadata": {},
   "outputs": [
    {
     "data": {
      "image/png": "[encoded data removed]",
      "text/plain": [
       "<Figure size 720x360 with 1 Axes>"
      ]
     },
     "metadata": {
      "needs_background": "light"
     },
     "output_type": "display_data"
    }
   ],
   "source": [
    "import matplotlib.pyplot as plt\n",
    "import seaborn as sns \n",
    "fig = plt.figure(figsize = (10, 5))\n",
    "sns.cubehelix_palette(start=.5, rot=-.5, as_cmap=True)\n",
    "# creating the bar plot\n",
    "plt.hist(final_df.Rate, color ='#AF7AC5')\n",
    " \n",
    "plt.xlabel(\"Rates\")\n",
    "plt.ylabel(\"No. of Perfumes\")\n",
    "plt.title(\"Rate Ranges\")\n",
    "plt.xticks(rotation=45)\n",
    "plt.show()"
   ]
  },
  {
   "cell_type": "markdown",
   "metadata": {},
   "source": [
    "As shown above I don't have a lot of rating data, thus Iam going to choose a content-based model that focuses on perfume features "
   ]
  },
  {
   "cell_type": "markdown",
   "metadata": {},
   "source": [
    "#### What the format of the Description column? "
   ]
  },
  {
   "cell_type": "code",
   "execution_count": 27,
   "metadata": {},
   "outputs": [
    {
     "data": {
      "text/plain": [
       "Unknown                                                                                                                                                                                                                                                                                                                                                                                                                                                                                                                                                                                                                                                                                                                                                                                                                                                                                                                                                                                                                                                                                                                                                                                                         34\n",
       "It's a magnificent blend of sweet and smoky notes that highlights its Middle Eastern roots with warm amber, Taif rose, oud, and exotic incense leading the way for a divine blend of seductive scents. Hints of blackcurrant, raspberry, ylang-ylang, Bulgarian rose, and rich white jasmine all incorporate their own fruity and floral accords, while the addition of pink pepper, sandalwood, patchouli, musk, and leather encompass the senses with a spicy and earthy final touch.\\nAbout the brand:\\nThe Estee Lauder Companies Inc. is one of the world's leading manufacturers and marketers of quality skin care, makeup, fragrance and hair care products. The company began in 1946 when EstÃƒÂ©e Lauder and her husband Joseph Lauder began producing cosmetics in New York City. They first carried only four products: Cleansing Oil, Skin Lotion, Super Rich All purpose Creme, and Creme Pack.                                                                                                                                                                                                                                                                                                   4\n",
       "A refreshing fragrance for women seeking the highest levels of charming feminine beauty.\\nIt has notes of rose, lychee and attractive amber.\\nIt adds elegance to your look.\\nIt helps you keep your look gorgeous for long hours.\\nAbout the brand:\\nJeanne Arthes is a French brand with more than 40 years of experience and creativity in producing luxurious fragrances, which are widely sold across the world.                                                                                                                                                                                                                                                                                                                                                                                                                                                                                                                                                                                                                                                                                                                                                                                            4\n",
       "About the brand:\\nFounded in 1925 by Hugo Boss for clothing launching purpose, Hugo Boss is a German luxury fashion house. As of 2016, Hugo Boss has 1,100 retail stores worldwide. Hugo Boss has emerged as probably one of the most famous brands in the manufacturing and selling of fashion products. With a strong emphasis on both masculine and feminine products, you simply cannot help but fall in love with their perfumes.                                                                                                                                                                                                                                                                                                                                                                                                                                                                                                                                                                                                                                                                                                                                                                           4\n",
       "A citrus fresh scent launched in 2011, Pure White Cologne, by Creed, is part of the Royal Exclusives Line created to celebrate the houseÃ¢â‚¬â„¢s 250th anniversary. This fragrance is also known as Original Cologne. Top notes of this scent are all citrus, with bittersweet grapefruit, tart lemon, and tangy bergamot. Middle heart notes are pear, neroli, and galbanum, followed by the interesting base note mix of rice, ambergris, white musk, and powdery notes. Best worn as a daytime cologne in the warmer months. A must-have for your perfume vanity!\\nAbout the brand:\\nA British multinational perfume house, Creed started off as a tailoring house in the 1700s. In the 1900s, Olivier Creed released the brand's first eponymously named fragrance, a traditional Eau de Cologne with a matching aftershave, marking Creed's first official foray into the world of fragrances. Today, the brand is considered as one of the most influential fragrance brands in the world.                                                                                                                                                                                                                4\n",
       "                                                                                                                                                                                                                                                                                                                                                                                                                                                                                                                                                                                                                                                                                                                                                                                                                                                                                                                                                                                                                                                                                                                                                                                                                ..\n",
       "Le Male Essence is an oriental fragrance that mixes many different ingredients to give you a bright fusion that increases your charisma. The fragrance combines bergamot, cardamom, Georgy wood, osmanthus, leather, vanilla and Tonka.\\nAbout the brand:\\nJean Paul Gaultier is a French fashion designer whose first collection was presented in 1976. The first perfume of the Gaultier house was launched in 1993, and now has 125 perfumes in his fragrance base.                                                                                                                                                                                                                                                                                                                                                                                                                                                                                                                                                                                                                                                                                                                                           1\n",
       "This strong wonderful scent is the newest aromatic edition for men by Giorgio Armani.It is for the gentle charismatic man who lives in the present and like to feel modern a the time.It is a lovely mix of two fragrances, one perfectly feminine, the other strongly masculine. Use it and never regret.\\nAbout the brand:\\nGirogio Armani has no competition when it comes to quality fragrances and perfumes for men and women. With an annual turnover of $1.6 billion as of 2017, Armani specializes in ready-to-wear, accessories, glasses, cosmetics, and perfumes. It is one of the most popular brands that have stopped using animal fur in their products.                                                                                                                                                                                                                                                                                                                                                                                                                                                                                                                                           1\n",
       "Korloff In White Intense is a perfume for Men with an Aromatic Fougere fragrance, it was launched in 2010. The top notes are cardamom, bergamot and violet leaf; middle notes are lavender, African orange flower, and clary sage; base notes are cashmere, Virginia cedar, musk, and tonka bean.\\nAbout the brand:\\nThe brand Korloff Paris was found in 1978 by Daniel Paillasseur, who named it after a luxurious and legendary diamond. His unique and innovative creations earned him reputation and international recognition even before Korloff was found. The first fragrance in the house was simply named Korloff, a floral.                                                                                                                                                                                                                                                                                                                                                                                                                                                                                                                                                                          1\n",
       "Introduced in 2005, Dior Homme by Christian Dior is an aromatic, woody floral fragrance for men, and the first of its kind to use iris as part of its scent makeup. Sage, lavender, and bergamot are the top notes of this masculine perfume, with middle notes of iris, cacao, cardamom, and amber. Bookended with base notes of Tahitian vetiver, leather, and patchouli, this perfume formulated by Olivier Polge is elegant, sexy, and unique, especially for winter and evening wear. Dior Homme is worn as a sleek modern suit, leaving behind an immediately recognizable woody and spicy trail of elegance.\\nAbout the brand:\\nFounded in 1946 by designer Christian Dior, Dior is a pillar in the world of leather goods, fashion accessories, footwear, jewelry, timepieces, fragrance, makeup and skin care products, maintaining a long tradition as a creator of haute-couture fashion. In 1947, the group's first fragrance, Miss Dior, took the world by storm. Since that fateful day, Dior fragrances have truly made their mark thanks to their scope of influence and the use of the noblest of materials, boldly and passionately creating high-quality, unique and timeless fragrances.     1\n",
       "Al Athal is an aromatic resin perfume bridging and celebrating the bonds between the generations of the region. Love, respect and innovative traditions are carried in the scent of Al Athal. Spices, flowers and Frankincence at the top lay on an olfactive bed of Amber and Musk. Al Athal Oud takes the beautiful initial scent, and adds pure precious Indian Oud Oil, to make the scent deeper and warmer. Ghawali Concentrated Perfumes are a 100% oil-based fragrance, ideal for your pulse points and for layering with our perfumes.\\nAbout the brand:\\nGhawali was founded in 2016 to reinvent the oriental universe into a luxurious modern oriental niche experience. At Ghawali, the storytelling heritage of fragrances is our core, crafting personalized and luxury scents is our essence while building and embracing the community is our strong passion. We aim to create scented journeys through our unique offering and embracing our guests quest for a personalized and styled scented journey. Ghawali is our celebration and love for the scented journeys of the GCC.                                                                                                                1\n",
       "Name: Description, Length: 3659, dtype: int64"
      ]
     },
     "execution_count": 27,
     "metadata": {},
     "output_type": "execute_result"
    }
   ],
   "source": [
    "final_df.Description.value_counts()"
   ]
  },
  {
   "cell_type": "code",
   "execution_count": 28,
   "metadata": {},
   "outputs": [
    {
     "name": "stderr",
     "output_type": "stream",
     "text": [
      "C:\\Users\\hmq4\\AppData\\Local\\Temp\\ipykernel_8864\\4272716560.py:1: FutureWarning: Passing a negative integer is deprecated in version 1.0 and will not be supported in future version. Instead, use None to not limit the column width.\n",
      "  pd.set_option(\"display.max_colwidth\", -1)\n"
     ]
    },
    {
     "data": {
      "text/plain": [
       "0    Perfume for the energetic woman who is a hero in her movie in life every day! It keeps you vibrant and sparkling with irresistible attractiveness, a combination of kiwi, lemon and sandalwood.\\nAbout the brand:\\nDolce & Gabbana was established in 1985 by two Italian fashion designers. Dolce & Gabbana has not only managed to build a loyal customer base in such a short span of time but it also partnered with Motorola and Sony Ericson for multiple campaigns. D&G has also partnered with football clubs namely AC Milan and Chelsea FC.\n",
       "Name: Description, dtype: object"
      ]
     },
     "execution_count": 28,
     "metadata": {},
     "output_type": "execute_result"
    }
   ],
   "source": [
    "pd.set_option(\"display.max_colwidth\", -1)\n",
    "final_df.Description.head(1)"
   ]
  },
  {
   "cell_type": "markdown",
   "metadata": {},
   "source": [
    "As shown above Description is not unique for all perfume, some brand provide static description for all there perfume and specify perfume features in the following data. \n",
    "In addition, Descriptions are a bit long and contains \"About Brand:\" section which is not our goal,and will be repeated in all perfumes from a specific brand >> thus I will substract about brand part from the description. "
   ]
  },
  {
   "cell_type": "code",
   "execution_count": 29,
   "metadata": {},
   "outputs": [
    {
     "name": "stderr",
     "output_type": "stream",
     "text": [
      "C:\\Users\\hmq4\\AppData\\Local\\Temp\\ipykernel_8864\\2844140122.py:2: FutureWarning: Passing a negative integer is deprecated in version 1.0 and will not be supported in future version. Instead, use None to not limit the column width.\n",
      "  pd.set_option(\"display.max_colwidth\", -1)\n"
     ]
    },
    {
     "data": {
      "text/plain": [
       "0    Perfume for the energetic woman who is a hero in her movie in life every day! It keeps you vibrant and sparkling with irresistible attractiveness, a combination of kiwi, lemon and sandalwood.\n",
       "Name: Description, dtype: object"
      ]
     },
     "execution_count": 29,
     "metadata": {},
     "output_type": "execute_result"
    }
   ],
   "source": [
    "final_df['Description'] = final_df['Description'].str.split(\"\\nAbout the brand:\\n\").str[0]\n",
    "pd.set_option(\"display.max_colwidth\", -1)\n",
    "final_df.Description.head(1)"
   ]
  },
  {
   "cell_type": "markdown",
   "metadata": {},
   "source": [
    "#### What perfume Sizes included in the dataset and what is the measures?"
   ]
  },
  {
   "cell_type": "code",
   "execution_count": 30,
   "metadata": {},
   "outputs": [
    {
     "data": {
      "text/plain": [
       "100 ml     2233\n",
       "50 ml      685 \n",
       "75 ml      259 \n",
       "55 ml      147 \n",
       "125 ml     117 \n",
       "          ...  \n",
       "251 ml     1   \n",
       "18 ml      1   \n",
       "75ml       1   \n",
       "100 g      1   \n",
       "100 ml     1   \n",
       "Name: Size, Length: 73, dtype: int64"
      ]
     },
     "execution_count": 30,
     "metadata": {},
     "output_type": "execute_result"
    }
   ],
   "source": [
    "final_df.Size.value_counts()"
   ]
  },
  {
   "cell_type": "markdown",
   "metadata": {},
   "source": [
    "The majority is measured in ml, however we have grams as well "
   ]
  },
  {
   "cell_type": "markdown",
   "metadata": {},
   "source": [
    "#### What are the gender in the dataset and what is the distribution for each?"
   ]
  },
  {
   "cell_type": "code",
   "execution_count": 31,
   "metadata": {},
   "outputs": [
    {
     "data": {
      "text/plain": [
       "Women     2167\n",
       "Unisex    1095\n",
       "Men       862 \n",
       "Home      115 \n",
       "Name: Gender, dtype: int64"
      ]
     },
     "execution_count": 31,
     "metadata": {},
     "output_type": "execute_result"
    }
   ],
   "source": [
    "final_df.Gender.value_counts()"
   ]
  },
  {
   "cell_type": "markdown",
   "metadata": {},
   "source": [
    "#### What the percentage of each gender in the dataset?"
   ]
  },
  {
   "cell_type": "code",
   "execution_count": 32,
   "metadata": {},
   "outputs": [],
   "source": [
    "total = len(final_df.index)\n",
    "women = (len(final_df[final_df['Gender'] == 'Women'].index)/total)*100\n",
    "men = (len(final_df[final_df['Gender'] == 'Men'].index)/total)*100\n",
    "home = (len(final_df[final_df['Gender'] == 'Home'].index)/total)*100\n",
    "unisex = (len(final_df[final_df['Gender'] == 'Unisex'].index)/total)*100"
   ]
  },
  {
   "cell_type": "code",
   "execution_count": 33,
   "metadata": {},
   "outputs": [
    {
     "data": {
      "image/png": "[encoded data removed]",
      "text/plain": [
       "<Figure size 720x360 with 1 Axes>"
      ]
     },
     "metadata": {},
     "output_type": "display_data"
    }
   ],
   "source": [
    "colors = sns.cubehelix_palette()[0:5]\n",
    "fig = plt.figure(figsize = (10, 5))\n",
    "data = [women, men, unisex, home]\n",
    "labels = ['Women', 'Men', 'Unisex', 'Home']\n",
    "\n",
    "fig.patch.set_facecolor('white')\n",
    "#create pie chart\n",
    "plt.pie(data, labels= labels , colors = colors, autopct='%.0f%%')\n",
    "plt.show()"
   ]
  },
  {
   "cell_type": "markdown",
   "metadata": {},
   "source": [
    "#### What product type included in the dataset ? "
   ]
  },
  {
   "cell_type": "code",
   "execution_count": 34,
   "metadata": {},
   "outputs": [
    {
     "name": "stdout",
     "output_type": "stream",
     "text": [
      "This dataset consist of : 15 different product type\n"
     ]
    }
   ],
   "source": [
    "print(f'This dataset consist of : {final_df.Product_Type.nunique()} different product type')"
   ]
  },
  {
   "cell_type": "code",
   "execution_count": 35,
   "metadata": {},
   "outputs": [
    {
     "data": {
      "text/plain": [
       "Perfume               3530\n",
       "Perfume Set           357 \n",
       "Perfume Oil           72  \n",
       "Room Spray            62  \n",
       "Hair Mist             62  \n",
       "Body Mist             43  \n",
       "Bakhoor               36  \n",
       "Oud                   28  \n",
       "Hair & Body Mist      15  \n",
       "Diffuser              15  \n",
       "Candle                8   \n",
       "Bundles               5   \n",
       "Body Lotion           4   \n",
       "Perfume               1   \n",
       "Home Fragrance Set    1   \n",
       "Name: Product_Type, dtype: int64"
      ]
     },
     "execution_count": 35,
     "metadata": {},
     "output_type": "execute_result"
    }
   ],
   "source": [
    "final_df.Product_Type.value_counts()"
   ]
  },
  {
   "cell_type": "markdown",
   "metadata": {},
   "source": [
    "Note: This Product types are after cleaning, before I found some product type that should be excluded like makeup, shower gel, Deodorant"
   ]
  },
  {
   "cell_type": "code",
   "execution_count": 36,
   "metadata": {},
   "outputs": [
    {
     "data": {
      "image/png": "[encoded data removed]",
      "text/plain": [
       "<Figure size 1296x576 with 1 Axes>"
      ]
     },
     "metadata": {
      "needs_background": "light"
     },
     "output_type": "display_data"
    }
   ],
   "source": [
    "import matplotlib.pyplot as plt\n",
    "import seaborn as sns \n",
    "fig = plt.figure(figsize = (18, 8))\n",
    "# creating the bar plot\n",
    "#sns.histplot(final_df.Product_Type, color='final_df.Product_Type')\n",
    "colors = sns.cubehelix_palette()\n",
    "sns.histplot(final_df, x=\"Product_Type\", color=\"#AF7AC5\")\n",
    "plt.xlabel(\"Product Type\")\n",
    "plt.ylabel(\"No. of Product Type\")\n",
    "plt.title(\"Different Product Type\")\n",
    "plt.xticks(rotation=90)\n",
    "plt.show()"
   ]
  },
  {
   "cell_type": "markdown",
   "metadata": {},
   "source": [
    "As Shown in the plot Perfumes have the majority as expected  "
   ]
  },
  {
   "cell_type": "markdown",
   "metadata": {},
   "source": [
    "#### How many fragrance family and which one have the highest count in the dataset? "
   ]
  },
  {
   "cell_type": "code",
   "execution_count": 37,
   "metadata": {},
   "outputs": [
    {
     "name": "stdout",
     "output_type": "stream",
     "text": [
      "This dataset consist of : 21 different product type\n",
      "They are : ['Floral' 'Woody' 'Oriental' 'Aromatic' 'Fruity' 'Floral Oriental' 'Oud'\n",
      " 'Soft Oriental' 'Woody Oriental' 'Citrus' 'Sweet' 'Aquatic' 'Soft Floral'\n",
      " 'Leather' nan 'Arabian' 'Chypre' 'Floral ' 'Woody,Woody' 'Floral,Fruity'\n",
      " 'Floral,Woody' 'Aromatic,Oriental']\n"
     ]
    }
   ],
   "source": [
    "print(f'This dataset consist of : {final_df.Fragrance_Family.nunique()} different product type')\n",
    "print(f'They are : {final_df.Fragrance_Family.unique()}')"
   ]
  },
  {
   "cell_type": "markdown",
   "metadata": {},
   "source": [
    "As above there is families that is repeated twice such as \"Woody,Woody\" that represent Woody family, so I will change it.\n",
    "That also will reduce the fragrance family"
   ]
  },
  {
   "cell_type": "code",
   "execution_count": 38,
   "metadata": {},
   "outputs": [],
   "source": [
    "final_df.Fragrance_Family.replace(\"Woody,Woody\", \"Woody\", inplace=True)"
   ]
  },
  {
   "cell_type": "code",
   "execution_count": 39,
   "metadata": {},
   "outputs": [
    {
     "name": "stdout",
     "output_type": "stream",
     "text": [
      "This dataset consist of : 20 different product type\n",
      "They are : ['Floral' 'Woody' 'Oriental' 'Aromatic' 'Fruity' 'Floral Oriental' 'Oud'\n",
      " 'Soft Oriental' 'Woody Oriental' 'Citrus' 'Sweet' 'Aquatic' 'Soft Floral'\n",
      " 'Leather' nan 'Arabian' 'Chypre' 'Floral ' 'Floral,Fruity' 'Floral,Woody'\n",
      " 'Aromatic,Oriental']\n"
     ]
    }
   ],
   "source": [
    "print(f'This dataset consist of : {final_df.Fragrance_Family.nunique()} different product type')\n",
    "print(f'They are : {final_df.Fragrance_Family.unique()}')"
   ]
  },
  {
   "cell_type": "code",
   "execution_count": 40,
   "metadata": {},
   "outputs": [
    {
     "data": {
      "text/plain": [
       "Floral               1246\n",
       "Oriental             678 \n",
       "Woody                594 \n",
       "Aromatic             402 \n",
       "Fruity               332 \n",
       "Citrus               292 \n",
       "Floral Oriental      196 \n",
       "Woody Oriental       133 \n",
       "Leather              89  \n",
       "Oud                  84  \n",
       "Soft Floral          55  \n",
       "Aquatic              51  \n",
       "Soft Oriental        28  \n",
       "Arabian              22  \n",
       "Chypre               7   \n",
       "Sweet                3   \n",
       "Floral               2   \n",
       "Floral,Fruity        2   \n",
       "Floral,Woody         2   \n",
       "Aromatic,Oriental    1   \n",
       "Name: Fragrance_Family, dtype: int64"
      ]
     },
     "execution_count": 40,
     "metadata": {},
     "output_type": "execute_result"
    }
   ],
   "source": [
    "final_df.Fragrance_Family.value_counts()"
   ]
  },
  {
   "cell_type": "code",
   "execution_count": 41,
   "metadata": {},
   "outputs": [
    {
     "data": {
      "text/html": [
       "<div>\n",
       "<style scoped>\n",
       "    .dataframe tbody tr th:only-of-type {\n",
       "        vertical-align: middle;\n",
       "    }\n",
       "\n",
       "    .dataframe tbody tr th {\n",
       "        vertical-align: top;\n",
       "    }\n",
       "\n",
       "    .dataframe thead th {\n",
       "        text-align: right;\n",
       "    }\n",
       "</style>\n",
       "<table border=\"1\" class=\"dataframe\">\n",
       "  <thead>\n",
       "    <tr style=\"text-align: right;\">\n",
       "      <th></th>\n",
       "      <th>Price</th>\n",
       "    </tr>\n",
       "    <tr>\n",
       "      <th>Fragrance_Family</th>\n",
       "      <th></th>\n",
       "    </tr>\n",
       "  </thead>\n",
       "  <tbody>\n",
       "    <tr>\n",
       "      <th>Chypre</th>\n",
       "      <td>881.428571</td>\n",
       "    </tr>\n",
       "    <tr>\n",
       "      <th>Woody Oriental</th>\n",
       "      <td>719.368421</td>\n",
       "    </tr>\n",
       "    <tr>\n",
       "      <th>Leather</th>\n",
       "      <td>686.741573</td>\n",
       "    </tr>\n",
       "    <tr>\n",
       "      <th>Floral</th>\n",
       "      <td>680.000000</td>\n",
       "    </tr>\n",
       "    <tr>\n",
       "      <th>Woody</th>\n",
       "      <td>649.311448</td>\n",
       "    </tr>\n",
       "  </tbody>\n",
       "</table>\n",
       "</div>"
      ],
      "text/plain": [
       "                       Price\n",
       "Fragrance_Family            \n",
       "Chypre            881.428571\n",
       "Woody Oriental    719.368421\n",
       "Leather           686.741573\n",
       "Floral            680.000000\n",
       "Woody             649.311448"
      ]
     },
     "execution_count": 41,
     "metadata": {},
     "output_type": "execute_result"
    }
   ],
   "source": [
    "# Is there a relation between fragrance family and price? top five most expensive fragrance family\n",
    "top_family = final_df.groupby(\"Fragrance_Family\").agg({'Price' :\"mean\"}).sort_values(by = \"Price\", ascending=False)\n",
    "top_family.head()"
   ]
  },
  {
   "cell_type": "code",
   "execution_count": 42,
   "metadata": {},
   "outputs": [
    {
     "data": {
      "image/png": "[encoded data removed]",
      "text/plain": [
       "<Figure size 1296x576 with 1 Axes>"
      ]
     },
     "metadata": {
      "needs_background": "light"
     },
     "output_type": "display_data"
    }
   ],
   "source": [
    "import matplotlib.pyplot as plt\n",
    "import seaborn as sns \n",
    "fig = plt.figure(figsize = (18, 8))\n",
    "\n",
    "# creating the bar plot\n",
    "sns.histplot(final_df,x=\"Fragrance_Family\",  hue ='Fragrance_Family')\n",
    " \n",
    "plt.xlabel(\"Fragrance Family\")\n",
    "plt.ylabel(\"No. of Perfumes\")\n",
    "plt.title(\"Different Fragrance Family\")\n",
    "plt.xticks(rotation=90)\n",
    "plt.show()"
   ]
  },
  {
   "cell_type": "markdown",
   "metadata": {},
   "source": [
    "Floral family is the highest "
   ]
  },
  {
   "cell_type": "markdown",
   "metadata": {},
   "source": [
    "#### How many Character in the dataset?"
   ]
  },
  {
   "cell_type": "code",
   "execution_count": 43,
   "metadata": {},
   "outputs": [
    {
     "name": "stdout",
     "output_type": "stream",
     "text": [
      "This dataset consist of : 15 different product type\n",
      "They are : ['Romantic' 'Sophisticated' 'Feminine' 'Charismatic' 'Masculine'\n",
      " 'Extravagant' 'Dynamic' 'Fresh' 'Glamorous' 'Classical' 'Natural'\n",
      " 'Sensual' 'Modern' 'Woody' 'natural']\n"
     ]
    }
   ],
   "source": [
    "print(f'This dataset consist of : {final_df.Character_x.nunique()} different product type')\n",
    "print(f'They are : {final_df.Character_x.unique()}')\n"
   ]
  },
  {
   "cell_type": "markdown",
   "metadata": {},
   "source": [
    "Fresh is not a character, so i will replace it with Natural which is more approriate, as well as natural with lowercase \"N\" "
   ]
  },
  {
   "cell_type": "code",
   "execution_count": 44,
   "metadata": {},
   "outputs": [],
   "source": [
    "final_df.Character_x.replace(\"Fresh\", \"Natural\", inplace=True)\n",
    "final_df.Character_x.replace(\"natural\", \"Natural\", inplace=True)\n",
    "final_df.Character_x.replace(\"Woody\", \"Natural\", inplace=True)"
   ]
  },
  {
   "cell_type": "code",
   "execution_count": 45,
   "metadata": {},
   "outputs": [
    {
     "data": {
      "text/plain": [
       "Romantic         2086\n",
       "Charismatic      513 \n",
       "Natural          314 \n",
       "Extravagant      279 \n",
       "Feminine         276 \n",
       "Dynamic          186 \n",
       "Sensual          171 \n",
       "Sophisticated    133 \n",
       "Glamorous        110 \n",
       "Classical        92  \n",
       "Masculine        50  \n",
       "Modern           29  \n",
       "Name: Character_x, dtype: int64"
      ]
     },
     "execution_count": 45,
     "metadata": {},
     "output_type": "execute_result"
    }
   ],
   "source": [
    "final_df.Character_x.value_counts()"
   ]
  },
  {
   "cell_type": "code",
   "execution_count": 46,
   "metadata": {},
   "outputs": [
    {
     "data": {
      "image/png": "[encoded data removed]",
      "text/plain": [
       "<Figure size 1296x576 with 1 Axes>"
      ]
     },
     "metadata": {
      "needs_background": "light"
     },
     "output_type": "display_data"
    }
   ],
   "source": [
    "fig = plt.figure(figsize = (18, 8))\n",
    "\n",
    "# creating the bar plot\n",
    "sns.histplot(final_df,x=\"Character_x\",  hue ='Character_x')\n",
    " \n",
    "plt.xlabel(\"Character\")\n",
    "plt.ylabel(\"No. of Perfumes\")\n",
    "plt.title(\"Different Characters\")\n",
    "plt.xticks(rotation=90)\n",
    "plt.show()"
   ]
  },
  {
   "cell_type": "markdown",
   "metadata": {},
   "source": [
    "#### How ingredents are presented in the dataset?"
   ]
  },
  {
   "cell_type": "code",
   "execution_count": 47,
   "metadata": {},
   "outputs": [
    {
     "data": {
      "text/plain": [
       "0    Watermerlon, Kiwi, Pink Cyclamen, Musk, Pink Pepper, Jasmine, Sandalwood, Lemon Tree                                                                                                        \n",
       "1    Citrus, mandarin, bergamot, jasmine, pine, cypress, laurel.                                                                                                                                 \n",
       "2    Mandarin Orange, lavendar, black currant, petitgrain, jasmine, orange blossom, vanilla, cedar, musk, ambergris                                                                              \n",
       "3    Saffron, Cinnamon, Incense, Nutmeg, White Peach, Green Apple & Nepalese Oud, Leaves of Patchouli, delicate Jasmine, Precious Tobacco, Amber, Woody Notes, Vetiver, Vanilla Pods, White Musk.\n",
       "4    Spices, Violet, Lavender, Sweet Toffee, Caramel, Cinnamon, Suede, Vanilla, Amber                                                                                                            \n",
       "Name: Ingredients, dtype: object"
      ]
     },
     "execution_count": 47,
     "metadata": {},
     "output_type": "execute_result"
    }
   ],
   "source": [
    "final_df.Ingredients.head(5)"
   ]
  },
  {
   "cell_type": "markdown",
   "metadata": {},
   "source": [
    "As shown above Ingredents are listed with a comma in between words. Somthing to notice here is the Capitalization some words are in camelcase some in lowercase. Thus, I will transfer all to a lowercase so I don't run into this issue during the recommendations. "
   ]
  },
  {
   "cell_type": "code",
   "execution_count": 48,
   "metadata": {},
   "outputs": [],
   "source": [
    "# convert to a lowercase\n",
    "final_df['Ingredients'] = final_df[\"Ingredients\"].str.lower()"
   ]
  },
  {
   "cell_type": "code",
   "execution_count": 49,
   "metadata": {},
   "outputs": [
    {
     "data": {
      "text/plain": [
       "0    watermerlon, kiwi, pink cyclamen, musk, pink pepper, jasmine, sandalwood, lemon tree                                                                                                        \n",
       "1    citrus, mandarin, bergamot, jasmine, pine, cypress, laurel.                                                                                                                                 \n",
       "2    mandarin orange, lavendar, black currant, petitgrain, jasmine, orange blossom, vanilla, cedar, musk, ambergris                                                                              \n",
       "3    saffron, cinnamon, incense, nutmeg, white peach, green apple & nepalese oud, leaves of patchouli, delicate jasmine, precious tobacco, amber, woody notes, vetiver, vanilla pods, white musk.\n",
       "4    spices, violet, lavender, sweet toffee, caramel, cinnamon, suede, vanilla, amber                                                                                                            \n",
       "Name: Ingredients, dtype: object"
      ]
     },
     "execution_count": 49,
     "metadata": {},
     "output_type": "execute_result"
    }
   ],
   "source": [
    "final_df.Ingredients.head()"
   ]
  },
  {
   "cell_type": "code",
   "execution_count": 50,
   "metadata": {},
   "outputs": [],
   "source": [
    "# converting Top_note, Middle_note and Base_note to lowercase \n",
    "final_df['Top_note'] = final_df[\"Top_note\"].str.lower()\n",
    "final_df['Middle_note'] = final_df[\"Middle_note\"].str.lower()\n",
    "final_df['Base_note'] = final_df[\"Base_note\"].str.lower()"
   ]
  },
  {
   "cell_type": "markdown",
   "metadata": {},
   "source": [
    "##### What are the Concentrations in the dataset?"
   ]
  },
  {
   "cell_type": "code",
   "execution_count": 51,
   "metadata": {},
   "outputs": [
    {
     "name": "stdout",
     "output_type": "stream",
     "text": [
      "11 concentration levels in the dataset\n",
      "Eau de Parfum            3085\n",
      "Eau de Toilette          829 \n",
      "Eau de Cologne           109 \n",
      "Perfume Oil              70  \n",
      "Extrait de Parfum        62  \n",
      "Unknown                  49  \n",
      "Parfum                   13  \n",
      "Eau de Parfum Intense    3   \n",
      "Eau de Parfum            2   \n",
      "Eau de Soin              2   \n",
      "Eau Fraiche              1   \n",
      "Name: Concentration, dtype: int64\n"
     ]
    }
   ],
   "source": [
    "print(f'{final_df.Concentration.nunique()} concentration levels in the dataset')\n",
    "print(f'{final_df.Concentration.value_counts()}')"
   ]
  },
  {
   "cell_type": "markdown",
   "metadata": {},
   "source": [
    "#### Is there a relationship between Concentration and perfume price ?"
   ]
  },
  {
   "cell_type": "code",
   "execution_count": 52,
   "metadata": {},
   "outputs": [
    {
     "data": {
      "image/png": "[encoded data removed]",
      "text/plain": [
       "<Figure size 1296x576 with 1 Axes>"
      ]
     },
     "metadata": {
      "needs_background": "light"
     },
     "output_type": "display_data"
    }
   ],
   "source": [
    "fig = plt.figure(figsize = (18, 8))\n",
    "\n",
    "# creating the bar plot\n",
    "sns.stripplot(y=\"Concentration\", x=\"Price\",\n",
    "             hue=\"Concentration\",\n",
    "             data=final_df)\n",
    " \n",
    "plt.xlabel(\"Price\")\n",
    "plt.ylabel(\"Concentrations\")\n",
    "plt.title(\"Concentration and Perfume Price\")\n",
    "plt.xticks(rotation=90)\n",
    "plt.show()"
   ]
  },
  {
   "cell_type": "markdown",
   "metadata": {},
   "source": [
    "From the plot above we can say that Concentration have no relationship with the price, because \"Eau de Parfum\" and \"Parfum\" which are the strongests concentration in Perfumes have middle price range with only 3 outliers that could be cause be another factor like the brand of the perfume. "
   ]
  },
  {
   "cell_type": "markdown",
   "metadata": {},
   "source": [
    "#### What are the Years are in the dataset, Are the Perfumes new, or old? "
   ]
  },
  {
   "cell_type": "code",
   "execution_count": 53,
   "metadata": {},
   "outputs": [
    {
     "data": {
      "text/plain": [
       "array([2009., 2015., 2019., 2017., 2014., 2016., 2012., 2008., 2020.,\n",
       "       2004., 2018., 2013., 2000., 2006., 2021., 2007., 2003., 2002.,\n",
       "       2011., 2010., 1995., 1996., 1998., 2005., 1999., 1990., 1913.,\n",
       "       1988., 1934., 1997., 2001., 1994., 1991., 1993., 1984., 1981.,\n",
       "       1983., 1986., 1987., 1966., 1992., 1792., 1989., 1971., 1930.,\n",
       "       1969., 1920., 1962., 1978., 1976., 1985., 1974., 1955.,   nan,\n",
       "       1959., 1925., 1980., 1927., 1973., 1972., 1890.])"
      ]
     },
     "execution_count": 53,
     "metadata": {},
     "output_type": "execute_result"
    }
   ],
   "source": [
    "final_df.Year.unique()"
   ]
  },
  {
   "cell_type": "markdown",
   "metadata": {},
   "source": [
    "The dataset contains Perfumes from 1890-2021 which is Great "
   ]
  },
  {
   "cell_type": "markdown",
   "metadata": {},
   "source": [
    "#### Handling Missing Values "
   ]
  },
  {
   "cell_type": "code",
   "execution_count": 54,
   "metadata": {},
   "outputs": [
    {
     "data": {
      "text/plain": [
       "Name                0 \n",
       "Price               0 \n",
       "Description         0 \n",
       "Rate                0 \n",
       "Rating_count        0 \n",
       "image               0 \n",
       "Brand               0 \n",
       "Gender              0 \n",
       "Product_Type        0 \n",
       "Character_x         0 \n",
       "Fragrance_Family    20\n",
       "Size                1 \n",
       "Year                21\n",
       "Ingredients         0 \n",
       "Concentration       14\n",
       "Top_note            0 \n",
       "Middle_note         6 \n",
       "Base_note           15\n",
       "dtype: int64"
      ]
     },
     "execution_count": 54,
     "metadata": {},
     "output_type": "execute_result"
    }
   ],
   "source": [
    "final_df.isnull().sum()"
   ]
  },
  {
   "cell_type": "markdown",
   "metadata": {},
   "source": [
    "- Filling missing values:\n",
    "1. Fragrance Family: This column is based on the perfume it self, I will replace NaNs based on the top ingreadents that usually classifies perfumes to different families. \n",
    "Resource: https://www.scentstore.com/about/perfume-explained/#:~:text=The%20fragrance%20concentration%20of%20a,of%20the%20fragrance%20is%20greater\n",
    "2. Size: This column could be filled in with mode: 100 ml\n",
    "3. Year: from the dataset we can noticed that a lot of perfumes are lanuched in 2017, thus I will fill NaNs with 2017\n",
    "4. Concentration: This beased on the amout of the alcohol and perfume oils, which isn't specified in any other column,  thus I will replace with \"Unknown\" \n",
    "5. Middle_note: This column is based on the perfume itself, also not all perfumes have 3 notes such as simple perumes could be only created by a top note, so can't be fill in using mode or knnimputer, thus I will fill in with \"Unknown\" \n",
    "6. Base_note: This column is based on the perfume itself, thus I will fill in with \"Unknown\" "
   ]
  },
  {
   "cell_type": "code",
   "execution_count": 55,
   "metadata": {},
   "outputs": [],
   "source": [
    "# Unknown \n",
    "final_df.Concentration.fillna(\"Unknown\", inplace=True)\n",
    "final_df.Middle_note.fillna(\"Unknown\", inplace=True)\n",
    "final_df.Base_note.fillna(\"Unknown\", inplace=True)"
   ]
  },
  {
   "cell_type": "code",
   "execution_count": 56,
   "metadata": {},
   "outputs": [],
   "source": [
    "# mode \n",
    "final_df.Year.fillna(final_df['Year'].mode()[0], inplace=True)\n",
    "final_df.Size.fillna(final_df['Size'].mode()[0], inplace=True)"
   ]
  },
  {
   "cell_type": "code",
   "execution_count": 57,
   "metadata": {},
   "outputs": [],
   "source": [
    "final_df.loc[(final_df['Fragrance_Family'].isnull()) & (final_df['Ingredients'].str.contains(\"musk\")), 'Fragrance_Family'] = 'Oriental'  \n",
    "final_df.loc[(final_df['Fragrance_Family'].isnull()) & (final_df['Ingredients'].str.contains(\"grapefruit\")), 'Fragrance_Family'] = 'Citrus'  \n",
    "final_df.loc[(final_df['Fragrance_Family'].isnull()) & (final_df['Ingredients'].str.contains(\"leather\")), 'Fragrance_Family'] = 'Woody'  \n",
    "final_df.loc[(final_df['Fragrance_Family'].isnull()) & (final_df['Ingredients'].str.contains(\"rose\")), 'Fragrance_Family'] = 'Floral'  \n",
    "final_df.loc[(final_df['Fragrance_Family'].isnull()) & (final_df['Ingredients'].str.contains(\"lavender\")), 'Fragrance_Family'] = 'Aromatic'  "
   ]
  },
  {
   "cell_type": "code",
   "execution_count": 58,
   "metadata": {},
   "outputs": [],
   "source": [
    "final_df.loc[(final_df['Fragrance_Family'].isnull()) & (final_df['Ingredients'].str.contains(\"patchouli\")), 'Fragrance_Family'] = 'Oriental' \n",
    "final_df.loc[(final_df['Fragrance_Family'].isnull()) & (final_df['Ingredients'].str.contains(\"sandelwood\")), 'Fragrance_Family'] = 'Oriental'\n",
    "final_df.loc[(final_df['Fragrance_Family'].isnull()) & (final_df['Ingredients'].str.contains(\"perpper\")), 'Fragrance_Family'] = 'Floral'\n",
    "final_df.loc[(final_df['Fragrance_Family'].isnull()) & (final_df['Ingredients'].str.contains(\"iris\")), 'Fragrance_Family'] = 'Floral'\n",
    "final_df.loc[(final_df['Fragrance_Family'].isnull()) & (final_df['Ingredients'].str.contains(\"vanilla\")), 'Fragrance_Family'] = 'Floral'\n",
    "final_df.loc[(final_df['Fragrance_Family'].isnull()) & (final_df['Ingredients'].str.contains(\"jasmine\")), 'Fragrance_Family'] = 'Floral'\n",
    "final_df.loc[(final_df['Fragrance_Family'].isnull()) & (final_df['Ingredients'].str.contains(\"lemon\")), 'Fragrance_Family'] = 'Citrus'\n",
    "final_df.loc[(final_df['Fragrance_Family'].isnull()) & (final_df['Ingredients'].str.contains(\"orange\")), 'Fragrance_Family'] = 'Citrus'\n"
   ]
  },
  {
   "cell_type": "code",
   "execution_count": 59,
   "metadata": {},
   "outputs": [],
   "source": [
    "final_df.loc[(final_df['Fragrance_Family'].isnull()) & (final_df['Ingredients'].str.contains(\"amber\")), 'Fragrance_Family'] = 'Oriental'\n",
    "final_df.loc[(final_df['Fragrance_Family'].isnull()) & (final_df['Ingredients'].str.contains(\"oakmoss\")), 'Fragrance_Family'] = 'Woody'\n",
    "final_df.loc[(final_df['Fragrance_Family'].isnull()) & (final_df['Ingredients'].str.contains(\"tobaco\")), 'Fragrance_Family'] = 'Woody'\n",
    "final_df.loc[(final_df['Fragrance_Family'].isnull()) & (final_df['Ingredients'].str.contains(\"cedar\")), 'Fragrance_Family'] = 'Woody'\n",
    "final_df.loc[(final_df['Fragrance_Family'].isnull()) & (final_df['Ingredients'].str.contains(\"flowers\")), 'Fragrance_Family'] = 'Floral'\n",
    "final_df.loc[(final_df['Fragrance_Family'].isnull()) & (final_df['Top_note'].str.contains(\"flowers\")), 'Fragrance_Family'] = 'Floral'"
   ]
  },
  {
   "cell_type": "code",
   "execution_count": 61,
   "metadata": {},
   "outputs": [],
   "source": [
    "#final_df.to_csv(\"final_df.csv\")"
   ]
  }
 ],
 "metadata": {
  "interpreter": {
   "hash": "2be5faf79681da6f2a61fdfdd5405d65d042280f7fba6178067603e3a2925119"
  },
  "kernelspec": {
   "display_name": "Python 3.10.2 64-bit",
   "language": "python",
   "name": "python3"
  },
  "language_info": {
   "codemirror_mode": {
    "name": "ipython",
    "version": 3
   },
   "file_extension": ".py",
   "mimetype": "text/x-python",
   "name": "python",
   "nbconvert_exporter": "python",
   "pygments_lexer": "ipython3",
   "version": "3.10.2"
  },
  "orig_nbformat": 4
 },
 "nbformat": 4,
 "nbformat_minor": 2
}

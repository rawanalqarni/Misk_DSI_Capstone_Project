{
 "cells": [
  {
   "cell_type": "markdown",
   "metadata": {},
   "source": [
    "### Capstone Project -  Perfumes Recommendation System \n",
    "#### EDA "
   ]
  },
  {
   "cell_type": "markdown",
   "metadata": {},
   "source": [
    "#### Import Packages"
   ]
  },
  {
   "cell_type": "code",
   "execution_count": 2,
   "metadata": {},
   "outputs": [],
   "source": [
    "import pandas as pd \n",
    "import numpy as np"
   ]
  },
  {
   "cell_type": "markdown",
   "metadata": {},
   "source": [
    "#### Read Dataset:\n",
    "- Perfumes Dataset: \n",
    "This dataset contain Perfumes data: Perfumes_Name, Brand, Describtion, Price, Gender, Product_type, Fragrance_Family, Character, Average Rate, Ingredients, Top, Middle and Base Notes, image_URL.\n",
    "\n",
    "- Reviewa Dataset: \n",
    "This dataset contain User nickname, Perfume_name, Brand, Fragrance_Family, Overall_rating, User_rating, Revirews, Date.   "
   ]
  },
  {
   "cell_type": "code",
   "execution_count": 129,
   "metadata": {},
   "outputs": [],
   "source": [
    "Perfumes_df = pd.read_csv(\"../chrome/Datasets/Perfume_Dataset.csv\")\n",
    "Reviews_df = pd.read_csv(\"../chrome/Datasets/Reviews_Dataset.csv\")"
   ]
  },
  {
   "cell_type": "markdown",
   "metadata": {},
   "source": [
    "### 1. Perfumes Dataset EDA "
   ]
  },
  {
   "cell_type": "code",
   "execution_count": 4,
   "metadata": {},
   "outputs": [
    {
     "data": {
      "text/html": [
       "<div>\n",
       "<style scoped>\n",
       "    .dataframe tbody tr th:only-of-type {\n",
       "        vertical-align: middle;\n",
       "    }\n",
       "\n",
       "    .dataframe tbody tr th {\n",
       "        vertical-align: top;\n",
       "    }\n",
       "\n",
       "    .dataframe thead th {\n",
       "        text-align: right;\n",
       "    }\n",
       "</style>\n",
       "<table border=\"1\" class=\"dataframe\">\n",
       "  <thead>\n",
       "    <tr style=\"text-align: right;\">\n",
       "      <th></th>\n",
       "      <th>Name</th>\n",
       "      <th>Price</th>\n",
       "      <th>Description</th>\n",
       "      <th>Rate</th>\n",
       "      <th>Rating_count</th>\n",
       "      <th>Details</th>\n",
       "      <th>image</th>\n",
       "      <th>Brand</th>\n",
       "      <th>Gender</th>\n",
       "      <th>Product_Type</th>\n",
       "      <th>Character</th>\n",
       "      <th>Fragrance_Family</th>\n",
       "      <th>Size</th>\n",
       "      <th>Year</th>\n",
       "      <th>Ingredients</th>\n",
       "      <th>Concentration</th>\n",
       "      <th>Top_note</th>\n",
       "      <th>Middle_note</th>\n",
       "      <th>Base_note</th>\n",
       "    </tr>\n",
       "  </thead>\n",
       "  <tbody>\n",
       "    <tr>\n",
       "      <th>0</th>\n",
       "      <td>Dolce &amp; Gabanna L'imperatrice 3 Pour Femme</td>\n",
       "      <td>199 SAR</td>\n",
       "      <td>Perfume for the energetic woman who is a hero ...</td>\n",
       "      <td>5</td>\n",
       "      <td>6 Rating</td>\n",
       "      <td>['Dolce&amp;Gabbana', 'Women', 'Perfume', 'Romanti...</td>\n",
       "      <td>https://assets.goldenscent.com/catalog/product...</td>\n",
       "      <td>Dolce&amp;Gabbana</td>\n",
       "      <td>Women</td>\n",
       "      <td>Perfume</td>\n",
       "      <td>Romantic</td>\n",
       "      <td>Floral</td>\n",
       "      <td>100 ml</td>\n",
       "      <td>2009</td>\n",
       "      <td>Watermerlon, Kiwi, Pink Cyclamen, Musk, Pink P...</td>\n",
       "      <td>Eau de Toilette</td>\n",
       "      <td>Pink pepper, kiwi, rhubarb</td>\n",
       "      <td>jasmine, cyclamen, watermelon</td>\n",
       "      <td>musk, sandalwood, lemon trees.</td>\n",
       "    </tr>\n",
       "    <tr>\n",
       "      <th>1</th>\n",
       "      <td>Roberto Cavalli Paradiso</td>\n",
       "      <td>169 SAR</td>\n",
       "      <td>Woody floral fragrance, a subtle aroma that ma...</td>\n",
       "      <td>4.95</td>\n",
       "      <td>17 Rating</td>\n",
       "      <td>['Roberto Cavalli', 'Women', 'Perfume', 'Chari...</td>\n",
       "      <td>https://assets.goldenscent.com/catalog/product...</td>\n",
       "      <td>Roberto Cavalli</td>\n",
       "      <td>Women</td>\n",
       "      <td>Perfume</td>\n",
       "      <td>Charismatic</td>\n",
       "      <td>Woody</td>\n",
       "      <td>50 ml</td>\n",
       "      <td>2015</td>\n",
       "      <td>Citrus, mandarin, bergamot, jasmine, pine, cyp...</td>\n",
       "      <td>Eau de Parfum</td>\n",
       "      <td>Citruses , Mandarin , Bergamot</td>\n",
       "      <td>Jasmine</td>\n",
       "      <td>Cypress, Parasol pine, Pink laurel</td>\n",
       "    </tr>\n",
       "    <tr>\n",
       "      <th>2</th>\n",
       "      <td>Yves Saint Laurent Libre</td>\n",
       "      <td>383 SAR</td>\n",
       "      <td>This perfume is a reflection of Freedom, speci...</td>\n",
       "      <td>5</td>\n",
       "      <td>3 Rating</td>\n",
       "      <td>['Yves Saint Laurent', 'Women', 'Perfume', 'Ro...</td>\n",
       "      <td>https://assets.goldenscent.com/catalog/product...</td>\n",
       "      <td>Yves Saint Laurent</td>\n",
       "      <td>Women</td>\n",
       "      <td>Perfume</td>\n",
       "      <td>Romantic</td>\n",
       "      <td>Floral</td>\n",
       "      <td>90 ml</td>\n",
       "      <td>2019</td>\n",
       "      <td>Mandarin Orange, lavendar, black currant, peti...</td>\n",
       "      <td>Eau de Parfum</td>\n",
       "      <td>Mandarin Orange, Lavendar, Black Currant, Peti...</td>\n",
       "      <td>Jasmine, Orange Blossom</td>\n",
       "      <td>Vanilla, Cedar, Musk, Ambergris</td>\n",
       "    </tr>\n",
       "    <tr>\n",
       "      <th>3</th>\n",
       "      <td>Mancera Red Tobacco</td>\n",
       "      <td>499 SAR</td>\n",
       "      <td>Mancera Red Tobacco is the new oriental, woody...</td>\n",
       "      <td>4.38</td>\n",
       "      <td>8 Rating</td>\n",
       "      <td>['Mancera', 'Unisex', 'Perfume', 'Charismatic'...</td>\n",
       "      <td>https://assets.goldenscent.com/catalog/product...</td>\n",
       "      <td>Mancera</td>\n",
       "      <td>Unisex</td>\n",
       "      <td>Perfume</td>\n",
       "      <td>Charismatic</td>\n",
       "      <td>Oriental</td>\n",
       "      <td>120 ml</td>\n",
       "      <td>2017</td>\n",
       "      <td>Saffron, Cinnamon, Incense, Nutmeg, White Peac...</td>\n",
       "      <td>Eau de Parfum</td>\n",
       "      <td>Saffron, Cinnamon, Incense, Nutmeg, White peac...</td>\n",
       "      <td>Patchouli, Jasmine</td>\n",
       "      <td>Tobacco, Amber, Woody notes, Vetiver, Vanilla,...</td>\n",
       "    </tr>\n",
       "    <tr>\n",
       "      <th>4</th>\n",
       "      <td>Giorgio Armani Emporio Armani Stronger With Yo...</td>\n",
       "      <td>375 SAR</td>\n",
       "      <td>for every romantic gentle man, This strong fas...</td>\n",
       "      <td>5</td>\n",
       "      <td>3 Rating</td>\n",
       "      <td>['Giorgio Armani', 'Men', 'Perfume', 'Charisma...</td>\n",
       "      <td>https://assets.goldenscent.com/catalog/product...</td>\n",
       "      <td>Giorgio Armani</td>\n",
       "      <td>Men</td>\n",
       "      <td>Perfume</td>\n",
       "      <td>Charismatic</td>\n",
       "      <td>Aromatic</td>\n",
       "      <td>100 ml</td>\n",
       "      <td>2019</td>\n",
       "      <td>Spices, Violet, Lavender, Sweet Toffee, Carame...</td>\n",
       "      <td>Eau de Parfum</td>\n",
       "      <td>Pink pepper, Juniper, Violet leaf</td>\n",
       "      <td>Lavender, Sage, Toffee, Cinnamon</td>\n",
       "      <td>Tonka bean, Suede, Amber, Vanilla</td>\n",
       "    </tr>\n",
       "  </tbody>\n",
       "</table>\n",
       "</div>"
      ],
      "text/plain": [
       "                                                Name    Price  \\\n",
       "0         Dolce & Gabanna L'imperatrice 3 Pour Femme  199 SAR   \n",
       "1                           Roberto Cavalli Paradiso  169 SAR   \n",
       "2                           Yves Saint Laurent Libre  383 SAR   \n",
       "3                                Mancera Red Tobacco  499 SAR   \n",
       "4  Giorgio Armani Emporio Armani Stronger With Yo...  375 SAR   \n",
       "\n",
       "                                         Description  Rate Rating_count  \\\n",
       "0  Perfume for the energetic woman who is a hero ...     5     6 Rating   \n",
       "1  Woody floral fragrance, a subtle aroma that ma...  4.95    17 Rating   \n",
       "2  This perfume is a reflection of Freedom, speci...     5     3 Rating   \n",
       "3  Mancera Red Tobacco is the new oriental, woody...  4.38     8 Rating   \n",
       "4  for every romantic gentle man, This strong fas...     5     3 Rating   \n",
       "\n",
       "                                             Details  \\\n",
       "0  ['Dolce&Gabbana', 'Women', 'Perfume', 'Romanti...   \n",
       "1  ['Roberto Cavalli', 'Women', 'Perfume', 'Chari...   \n",
       "2  ['Yves Saint Laurent', 'Women', 'Perfume', 'Ro...   \n",
       "3  ['Mancera', 'Unisex', 'Perfume', 'Charismatic'...   \n",
       "4  ['Giorgio Armani', 'Men', 'Perfume', 'Charisma...   \n",
       "\n",
       "                                               image               Brand  \\\n",
       "0  https://assets.goldenscent.com/catalog/product...       Dolce&Gabbana   \n",
       "1  https://assets.goldenscent.com/catalog/product...     Roberto Cavalli   \n",
       "2  https://assets.goldenscent.com/catalog/product...  Yves Saint Laurent   \n",
       "3  https://assets.goldenscent.com/catalog/product...             Mancera   \n",
       "4  https://assets.goldenscent.com/catalog/product...      Giorgio Armani   \n",
       "\n",
       "   Gender Product_Type    Character Fragrance_Family    Size  Year  \\\n",
       "0   Women      Perfume     Romantic           Floral  100 ml  2009   \n",
       "1   Women      Perfume  Charismatic            Woody   50 ml  2015   \n",
       "2   Women      Perfume     Romantic           Floral   90 ml  2019   \n",
       "3  Unisex      Perfume  Charismatic         Oriental  120 ml  2017   \n",
       "4     Men      Perfume  Charismatic         Aromatic  100 ml  2019   \n",
       "\n",
       "                                         Ingredients    Concentration  \\\n",
       "0  Watermerlon, Kiwi, Pink Cyclamen, Musk, Pink P...  Eau de Toilette   \n",
       "1  Citrus, mandarin, bergamot, jasmine, pine, cyp...    Eau de Parfum   \n",
       "2  Mandarin Orange, lavendar, black currant, peti...    Eau de Parfum   \n",
       "3  Saffron, Cinnamon, Incense, Nutmeg, White Peac...    Eau de Parfum   \n",
       "4  Spices, Violet, Lavender, Sweet Toffee, Carame...    Eau de Parfum   \n",
       "\n",
       "                                            Top_note  \\\n",
       "0                         Pink pepper, kiwi, rhubarb   \n",
       "1                     Citruses , Mandarin , Bergamot   \n",
       "2  Mandarin Orange, Lavendar, Black Currant, Peti...   \n",
       "3  Saffron, Cinnamon, Incense, Nutmeg, White peac...   \n",
       "4                  Pink pepper, Juniper, Violet leaf   \n",
       "\n",
       "                        Middle_note  \\\n",
       "0     jasmine, cyclamen, watermelon   \n",
       "1                           Jasmine   \n",
       "2           Jasmine, Orange Blossom   \n",
       "3                Patchouli, Jasmine   \n",
       "4  Lavender, Sage, Toffee, Cinnamon   \n",
       "\n",
       "                                           Base_note  \n",
       "0                     musk, sandalwood, lemon trees.  \n",
       "1                 Cypress, Parasol pine, Pink laurel  \n",
       "2                    Vanilla, Cedar, Musk, Ambergris  \n",
       "3  Tobacco, Amber, Woody notes, Vetiver, Vanilla,...  \n",
       "4                  Tonka bean, Suede, Amber, Vanilla  "
      ]
     },
     "execution_count": 4,
     "metadata": {},
     "output_type": "execute_result"
    }
   ],
   "source": [
    "Perfumes_df.head()"
   ]
  },
  {
   "cell_type": "code",
   "execution_count": 5,
   "metadata": {},
   "outputs": [
    {
     "name": "stdout",
     "output_type": "stream",
     "text": [
      "<class 'pandas.core.frame.DataFrame'>\n",
      "RangeIndex: 9512 entries, 0 to 9511\n",
      "Data columns (total 19 columns):\n",
      " #   Column            Non-Null Count  Dtype \n",
      "---  ------            --------------  ----- \n",
      " 0   Name              9512 non-null   object\n",
      " 1   Price             9512 non-null   object\n",
      " 2   Description       9467 non-null   object\n",
      " 3   Rate              9512 non-null   object\n",
      " 4   Rating_count      9505 non-null   object\n",
      " 5   Details           9512 non-null   object\n",
      " 6   image             9512 non-null   object\n",
      " 7   Brand             9178 non-null   object\n",
      " 8   Gender            9156 non-null   object\n",
      " 9   Product_Type      9011 non-null   object\n",
      " 10  Character         8694 non-null   object\n",
      " 11  Fragrance_Family  8284 non-null   object\n",
      " 12  Size              8001 non-null   object\n",
      " 13  Year              7662 non-null   object\n",
      " 14  Ingredients       7506 non-null   object\n",
      " 15  Concentration     6897 non-null   object\n",
      " 16  Top_note          6134 non-null   object\n",
      " 17  Middle_note       5464 non-null   object\n",
      " 18  Base_note         3887 non-null   object\n",
      "dtypes: object(19)\n",
      "memory usage: 1.4+ MB\n"
     ]
    }
   ],
   "source": [
    "Perfumes_df.info()"
   ]
  },
  {
   "cell_type": "code",
   "execution_count": 49,
   "metadata": {},
   "outputs": [
    {
     "name": "stdout",
     "output_type": "stream",
     "text": [
      "This dataset contains: (9512, 19)\n"
     ]
    }
   ],
   "source": [
    "print(f'This dataset contains: {Perfumes_df.shape}')"
   ]
  },
  {
   "cell_type": "code",
   "execution_count": 134,
   "metadata": {},
   "outputs": [],
   "source": [
    "# I will drop Details column because it only contain lists of all the details which I have split them into columns  \n",
    "Perfumes_df.drop(\"Details\",  axis='columns', inplace=True)"
   ]
  },
  {
   "cell_type": "code",
   "execution_count": 135,
   "metadata": {},
   "outputs": [
    {
     "data": {
      "text/plain": [
       "(9512, 18)"
      ]
     },
     "execution_count": 135,
     "metadata": {},
     "output_type": "execute_result"
    }
   ],
   "source": [
    "# After droping we left with 18 columns\n",
    "Perfumes_df.shape"
   ]
  },
  {
   "cell_type": "code",
   "execution_count": 136,
   "metadata": {},
   "outputs": [
    {
     "data": {
      "text/plain": [
       "2926"
      ]
     },
     "execution_count": 136,
     "metadata": {},
     "output_type": "execute_result"
    }
   ],
   "source": [
    "# Removing Duplicate rows \n",
    "Perfumes_df.duplicated().sum()"
   ]
  },
  {
   "cell_type": "code",
   "execution_count": 140,
   "metadata": {},
   "outputs": [],
   "source": [
    "Perfumes_df.drop_duplicates(inplace=True)"
   ]
  },
  {
   "cell_type": "code",
   "execution_count": 142,
   "metadata": {},
   "outputs": [
    {
     "data": {
      "text/plain": [
       "(6586, 18)"
      ]
     },
     "execution_count": 142,
     "metadata": {},
     "output_type": "execute_result"
    }
   ],
   "source": [
    "#DataFrame size after droping duplicates\n",
    "Perfumes_df.shape"
   ]
  },
  {
   "cell_type": "markdown",
   "metadata": {},
   "source": [
    "### Cleaning Dataset"
   ]
  },
  {
   "cell_type": "code",
   "execution_count": 143,
   "metadata": {},
   "outputs": [
    {
     "data": {
      "text/plain": [
       "100 ml                                            2149\n",
       "50 ml                                              882\n",
       "75 ml                                              319\n",
       "55 ml                                              149\n",
       "125 ml                                             148\n",
       "                                                  ... \n",
       "Peony Flower                                         1\n",
       "Flowers, Jasmine                                     1\n",
       "Apple, Cinnamon, Saffron, Sandalwood, Agarwood       1\n",
       "Cambodian Oud Oil                                    1\n",
       "Black tea, clary sage, guaiac wood                   1\n",
       "Name: Size, Length: 239, dtype: int64"
      ]
     },
     "execution_count": 143,
     "metadata": {},
     "output_type": "execute_result"
    }
   ],
   "source": [
    "# some columns have unrelevant data like size\n",
    "Perfumes_df.Size.value_counts()"
   ]
  },
  {
   "cell_type": "code",
   "execution_count": 144,
   "metadata": {},
   "outputs": [
    {
     "data": {
      "text/html": [
       "<div>\n",
       "<style scoped>\n",
       "    .dataframe tbody tr th:only-of-type {\n",
       "        vertical-align: middle;\n",
       "    }\n",
       "\n",
       "    .dataframe tbody tr th {\n",
       "        vertical-align: top;\n",
       "    }\n",
       "\n",
       "    .dataframe thead th {\n",
       "        text-align: right;\n",
       "    }\n",
       "</style>\n",
       "<table border=\"1\" class=\"dataframe\">\n",
       "  <thead>\n",
       "    <tr style=\"text-align: right;\">\n",
       "      <th></th>\n",
       "      <th>Name</th>\n",
       "      <th>Price</th>\n",
       "      <th>Description</th>\n",
       "      <th>Rate</th>\n",
       "      <th>Rating_count</th>\n",
       "      <th>image</th>\n",
       "      <th>Brand</th>\n",
       "      <th>Gender</th>\n",
       "      <th>Product_Type</th>\n",
       "      <th>Character</th>\n",
       "      <th>Fragrance_Family</th>\n",
       "      <th>Size</th>\n",
       "      <th>Year</th>\n",
       "      <th>Ingredients</th>\n",
       "      <th>Concentration</th>\n",
       "      <th>Top_note</th>\n",
       "      <th>Middle_note</th>\n",
       "      <th>Base_note</th>\n",
       "    </tr>\n",
       "  </thead>\n",
       "  <tbody>\n",
       "    <tr>\n",
       "      <th>143</th>\n",
       "      <td>Narciso Rodriguez For Her Hair Mist - 30 ml</td>\n",
       "      <td>207 SAR</td>\n",
       "      <td>Narciso Rodriguez Hair Mist for Her has a Flor...</td>\n",
       "      <td>none</td>\n",
       "      <td>none</td>\n",
       "      <td>https://assets.goldenscent.com/catalog/product...</td>\n",
       "      <td>30 ml</td>\n",
       "      <td>Narciso Rodriguez</td>\n",
       "      <td>Women</td>\n",
       "      <td>Hair Mist</td>\n",
       "      <td>Glamorous</td>\n",
       "      <td>Floral</td>\n",
       "      <td>Rose, Iris, Powdery, Musk</td>\n",
       "      <td>Rose</td>\n",
       "      <td>Iris, Powdery</td>\n",
       "      <td>Musk</td>\n",
       "      <td>NaN</td>\n",
       "      <td>NaN</td>\n",
       "    </tr>\n",
       "    <tr>\n",
       "      <th>435</th>\n",
       "      <td>Narciso Rodriguez Narciso Hair Mist - 30 ml</td>\n",
       "      <td>246 SAR</td>\n",
       "      <td>Narciso Rodriguez Narciso Hair Mist A light an...</td>\n",
       "      <td>none</td>\n",
       "      <td>none</td>\n",
       "      <td>https://assets.goldenscent.com/catalog/product...</td>\n",
       "      <td>30 ml</td>\n",
       "      <td>Narciso Rodriguez</td>\n",
       "      <td>Women</td>\n",
       "      <td>Hair Mist</td>\n",
       "      <td>Glamorous</td>\n",
       "      <td>Floral</td>\n",
       "      <td>Rose, Gardenia, Musk, Cedar, Vetiver</td>\n",
       "      <td>Rose, Gardenia</td>\n",
       "      <td>Musk</td>\n",
       "      <td>Cedar, Vetiver</td>\n",
       "      <td>NaN</td>\n",
       "      <td>NaN</td>\n",
       "    </tr>\n",
       "    <tr>\n",
       "      <th>639</th>\n",
       "      <td>Carolina Herrera Good Girl Hair Mist</td>\n",
       "      <td>225 SAR</td>\n",
       "      <td>Carolina Herrera Good Girl Hair Mist for Women...</td>\n",
       "      <td>5</td>\n",
       "      <td>1 Rating</td>\n",
       "      <td>https://assets.goldenscent.com/catalog/product...</td>\n",
       "      <td>30 ml</td>\n",
       "      <td>Carolina Herrera</td>\n",
       "      <td>Women</td>\n",
       "      <td>Hair Mist</td>\n",
       "      <td>Feminine</td>\n",
       "      <td>Floral</td>\n",
       "      <td>2017</td>\n",
       "      <td>Almond, Coffee, Jasmine Sambac, Tuberose, Tonk...</td>\n",
       "      <td>NaN</td>\n",
       "      <td>NaN</td>\n",
       "      <td>NaN</td>\n",
       "      <td>NaN</td>\n",
       "    </tr>\n",
       "    <tr>\n",
       "      <th>864</th>\n",
       "      <td>Paris Hilton Heiress Gift Set - EDP 100 ml + B...</td>\n",
       "      <td>295 SAR</td>\n",
       "      <td>Paris Hilton Heiress Gift Set consists of an E...</td>\n",
       "      <td>none</td>\n",
       "      <td>none</td>\n",
       "      <td>https://assets.goldenscent.com/catalog/product...</td>\n",
       "      <td>Eau de Parfum</td>\n",
       "      <td>Paris Hilton</td>\n",
       "      <td>Women</td>\n",
       "      <td>Perfume Set</td>\n",
       "      <td>Glamorous</td>\n",
       "      <td>Floral</td>\n",
       "      <td>2006</td>\n",
       "      <td>Passion Fruit, Orange, Juicy Peach, Mimosas An...</td>\n",
       "      <td>Passion Fruit, Orange, Juicy Peach, Mimosas An...</td>\n",
       "      <td>Star Jasmine, Tiare Lily, Delightfully Sweet Y...</td>\n",
       "      <td>Violet Leaf, Tahiti Tonka And Light Wood</td>\n",
       "      <td>NaN</td>\n",
       "    </tr>\n",
       "    <tr>\n",
       "      <th>1063</th>\n",
       "      <td>Givenchy L'interdit Set (EDT 50 ml + Body Loti...</td>\n",
       "      <td>369 SAR</td>\n",
       "      <td>This set from Givenchy includes a 50 ml EDT an...</td>\n",
       "      <td>none</td>\n",
       "      <td>none</td>\n",
       "      <td>https://assets.goldenscent.com/catalog/product...</td>\n",
       "      <td>Eau de Toilette</td>\n",
       "      <td>Givenchy</td>\n",
       "      <td>Women</td>\n",
       "      <td>Perfume Set</td>\n",
       "      <td>Sophisticated</td>\n",
       "      <td>Floral</td>\n",
       "      <td>2018</td>\n",
       "      <td>Pear, Bergamot, Tuberose, Orange Blossom, Jasm...</td>\n",
       "      <td>Pear, Bergamot</td>\n",
       "      <td>Tuberose, Orange Blossom, Jasmine Sambac</td>\n",
       "      <td>Patchouli, Vetiver, Vanilla</td>\n",
       "      <td>NaN</td>\n",
       "    </tr>\n",
       "    <tr>\n",
       "      <th>...</th>\n",
       "      <td>...</td>\n",
       "      <td>...</td>\n",
       "      <td>...</td>\n",
       "      <td>...</td>\n",
       "      <td>...</td>\n",
       "      <td>...</td>\n",
       "      <td>...</td>\n",
       "      <td>...</td>\n",
       "      <td>...</td>\n",
       "      <td>...</td>\n",
       "      <td>...</td>\n",
       "      <td>...</td>\n",
       "      <td>...</td>\n",
       "      <td>...</td>\n",
       "      <td>...</td>\n",
       "      <td>...</td>\n",
       "      <td>...</td>\n",
       "      <td>...</td>\n",
       "    </tr>\n",
       "    <tr>\n",
       "      <th>8917</th>\n",
       "      <td>Exuma Parfums Body Mist Profumo Rosa - 100 ml</td>\n",
       "      <td>276 SAR</td>\n",
       "      <td>A perfect body mist full of oriental scents an...</td>\n",
       "      <td>none</td>\n",
       "      <td>none</td>\n",
       "      <td>none</td>\n",
       "      <td>100 ml</td>\n",
       "      <td>Exuma Parfums</td>\n",
       "      <td>Women</td>\n",
       "      <td>Body Mist</td>\n",
       "      <td>Sensual</td>\n",
       "      <td>Floral</td>\n",
       "      <td>2018</td>\n",
       "      <td>NaN</td>\n",
       "      <td>NaN</td>\n",
       "      <td>NaN</td>\n",
       "      <td>NaN</td>\n",
       "      <td>NaN</td>\n",
       "    </tr>\n",
       "    <tr>\n",
       "      <th>8946</th>\n",
       "      <td>Al Dakheel Oud Dream 3 Body Mist - 100 ml</td>\n",
       "      <td>46 SAR</td>\n",
       "      <td>A wonderful body mist enriched with an enchant...</td>\n",
       "      <td>none</td>\n",
       "      <td>none</td>\n",
       "      <td>none</td>\n",
       "      <td>100 ml</td>\n",
       "      <td>Al Dakheel Oud</td>\n",
       "      <td>Unisex</td>\n",
       "      <td>Body Mist</td>\n",
       "      <td>Sensual</td>\n",
       "      <td>Floral</td>\n",
       "      <td>NaN</td>\n",
       "      <td>NaN</td>\n",
       "      <td>NaN</td>\n",
       "      <td>NaN</td>\n",
       "      <td>NaN</td>\n",
       "      <td>NaN</td>\n",
       "    </tr>\n",
       "    <tr>\n",
       "      <th>8954</th>\n",
       "      <td>Al Dakheel Oud Crown Body Mist - 100 ml</td>\n",
       "      <td>46 SAR</td>\n",
       "      <td>An amazing body mist with a charming and refre...</td>\n",
       "      <td>none</td>\n",
       "      <td>none</td>\n",
       "      <td>none</td>\n",
       "      <td>100 ml</td>\n",
       "      <td>Al Dakheel Oud</td>\n",
       "      <td>Unisex</td>\n",
       "      <td>Body Mist</td>\n",
       "      <td>Sensual</td>\n",
       "      <td>Floral</td>\n",
       "      <td>Tangerine, Jasmine</td>\n",
       "      <td>Oriental Roses</td>\n",
       "      <td>Vanilla, Patchouli, Musk</td>\n",
       "      <td>NaN</td>\n",
       "      <td>NaN</td>\n",
       "      <td>NaN</td>\n",
       "    </tr>\n",
       "    <tr>\n",
       "      <th>9184</th>\n",
       "      <td>Narciso Rodriguez For Her Hair Mist - 30 ml</td>\n",
       "      <td>207 SAR</td>\n",
       "      <td>Narciso Rodriguez Hair Mist for Her has a Flor...</td>\n",
       "      <td>none</td>\n",
       "      <td>none</td>\n",
       "      <td>https://assets.goldenscent.com/catalog/product...</td>\n",
       "      <td>30 ml</td>\n",
       "      <td>Narciso Rodriguez</td>\n",
       "      <td>Women</td>\n",
       "      <td>Hair Mist</td>\n",
       "      <td>Glamorous</td>\n",
       "      <td>Floral</td>\n",
       "      <td>Rose, Iris, Powdery, Musk</td>\n",
       "      <td>Rose</td>\n",
       "      <td>Iris, Powdery</td>\n",
       "      <td>Musk</td>\n",
       "      <td>NaN</td>\n",
       "      <td>NaN</td>\n",
       "    </tr>\n",
       "    <tr>\n",
       "      <th>9476</th>\n",
       "      <td>Narciso Rodriguez Narciso Hair Mist - 30 ml</td>\n",
       "      <td>246 SAR</td>\n",
       "      <td>Narciso Rodriguez Narciso Hair Mist A light an...</td>\n",
       "      <td>none</td>\n",
       "      <td>none</td>\n",
       "      <td>https://assets.goldenscent.com/catalog/product...</td>\n",
       "      <td>30 ml</td>\n",
       "      <td>Narciso Rodriguez</td>\n",
       "      <td>Women</td>\n",
       "      <td>Hair Mist</td>\n",
       "      <td>Glamorous</td>\n",
       "      <td>Floral</td>\n",
       "      <td>Rose, Gardenia, Musk, Cedar, Vetiver</td>\n",
       "      <td>Rose, Gardenia</td>\n",
       "      <td>Musk</td>\n",
       "      <td>Cedar, Vetiver</td>\n",
       "      <td>NaN</td>\n",
       "      <td>NaN</td>\n",
       "    </tr>\n",
       "  </tbody>\n",
       "</table>\n",
       "<p>141 rows × 18 columns</p>\n",
       "</div>"
      ],
      "text/plain": [
       "                                                   Name    Price  \\\n",
       "143         Narciso Rodriguez For Her Hair Mist - 30 ml  207 SAR   \n",
       "435         Narciso Rodriguez Narciso Hair Mist - 30 ml  246 SAR   \n",
       "639                Carolina Herrera Good Girl Hair Mist  225 SAR   \n",
       "864   Paris Hilton Heiress Gift Set - EDP 100 ml + B...  295 SAR   \n",
       "1063  Givenchy L'interdit Set (EDT 50 ml + Body Loti...  369 SAR   \n",
       "...                                                 ...      ...   \n",
       "8917      Exuma Parfums Body Mist Profumo Rosa - 100 ml  276 SAR   \n",
       "8946          Al Dakheel Oud Dream 3 Body Mist - 100 ml   46 SAR   \n",
       "8954            Al Dakheel Oud Crown Body Mist - 100 ml   46 SAR   \n",
       "9184        Narciso Rodriguez For Her Hair Mist - 30 ml  207 SAR   \n",
       "9476        Narciso Rodriguez Narciso Hair Mist - 30 ml  246 SAR   \n",
       "\n",
       "                                            Description  Rate Rating_count  \\\n",
       "143   Narciso Rodriguez Hair Mist for Her has a Flor...  none         none   \n",
       "435   Narciso Rodriguez Narciso Hair Mist A light an...  none         none   \n",
       "639   Carolina Herrera Good Girl Hair Mist for Women...     5     1 Rating   \n",
       "864   Paris Hilton Heiress Gift Set consists of an E...  none         none   \n",
       "1063  This set from Givenchy includes a 50 ml EDT an...  none         none   \n",
       "...                                                 ...   ...          ...   \n",
       "8917  A perfect body mist full of oriental scents an...  none         none   \n",
       "8946  A wonderful body mist enriched with an enchant...  none         none   \n",
       "8954  An amazing body mist with a charming and refre...  none         none   \n",
       "9184  Narciso Rodriguez Hair Mist for Her has a Flor...  none         none   \n",
       "9476  Narciso Rodriguez Narciso Hair Mist A light an...  none         none   \n",
       "\n",
       "                                                  image            Brand  \\\n",
       "143   https://assets.goldenscent.com/catalog/product...            30 ml   \n",
       "435   https://assets.goldenscent.com/catalog/product...            30 ml   \n",
       "639   https://assets.goldenscent.com/catalog/product...            30 ml   \n",
       "864   https://assets.goldenscent.com/catalog/product...    Eau de Parfum   \n",
       "1063  https://assets.goldenscent.com/catalog/product...  Eau de Toilette   \n",
       "...                                                 ...              ...   \n",
       "8917                                               none           100 ml   \n",
       "8946                                               none           100 ml   \n",
       "8954                                               none           100 ml   \n",
       "9184  https://assets.goldenscent.com/catalog/product...            30 ml   \n",
       "9476  https://assets.goldenscent.com/catalog/product...            30 ml   \n",
       "\n",
       "                 Gender Product_Type    Character Fragrance_Family    Size  \\\n",
       "143   Narciso Rodriguez        Women    Hair Mist        Glamorous  Floral   \n",
       "435   Narciso Rodriguez        Women    Hair Mist        Glamorous  Floral   \n",
       "639    Carolina Herrera        Women    Hair Mist         Feminine  Floral   \n",
       "864        Paris Hilton        Women  Perfume Set        Glamorous  Floral   \n",
       "1063           Givenchy        Women  Perfume Set    Sophisticated  Floral   \n",
       "...                 ...          ...          ...              ...     ...   \n",
       "8917      Exuma Parfums        Women    Body Mist          Sensual  Floral   \n",
       "8946     Al Dakheel Oud       Unisex    Body Mist          Sensual  Floral   \n",
       "8954     Al Dakheel Oud       Unisex    Body Mist          Sensual  Floral   \n",
       "9184  Narciso Rodriguez        Women    Hair Mist        Glamorous  Floral   \n",
       "9476  Narciso Rodriguez        Women    Hair Mist        Glamorous  Floral   \n",
       "\n",
       "                                      Year  \\\n",
       "143              Rose, Iris, Powdery, Musk   \n",
       "435   Rose, Gardenia, Musk, Cedar, Vetiver   \n",
       "639                                   2017   \n",
       "864                                   2006   \n",
       "1063                                  2018   \n",
       "...                                    ...   \n",
       "8917                                  2018   \n",
       "8946                                   NaN   \n",
       "8954                    Tangerine, Jasmine   \n",
       "9184             Rose, Iris, Powdery, Musk   \n",
       "9476  Rose, Gardenia, Musk, Cedar, Vetiver   \n",
       "\n",
       "                                            Ingredients  \\\n",
       "143                                                Rose   \n",
       "435                                      Rose, Gardenia   \n",
       "639   Almond, Coffee, Jasmine Sambac, Tuberose, Tonk...   \n",
       "864   Passion Fruit, Orange, Juicy Peach, Mimosas An...   \n",
       "1063  Pear, Bergamot, Tuberose, Orange Blossom, Jasm...   \n",
       "...                                                 ...   \n",
       "8917                                                NaN   \n",
       "8946                                                NaN   \n",
       "8954                                     Oriental Roses   \n",
       "9184                                               Rose   \n",
       "9476                                     Rose, Gardenia   \n",
       "\n",
       "                                          Concentration  \\\n",
       "143                                       Iris, Powdery   \n",
       "435                                                Musk   \n",
       "639                                                 NaN   \n",
       "864   Passion Fruit, Orange, Juicy Peach, Mimosas An...   \n",
       "1063                                     Pear, Bergamot   \n",
       "...                                                 ...   \n",
       "8917                                                NaN   \n",
       "8946                                                NaN   \n",
       "8954                           Vanilla, Patchouli, Musk   \n",
       "9184                                      Iris, Powdery   \n",
       "9476                                               Musk   \n",
       "\n",
       "                                               Top_note  \\\n",
       "143                                                Musk   \n",
       "435                                      Cedar, Vetiver   \n",
       "639                                                 NaN   \n",
       "864   Star Jasmine, Tiare Lily, Delightfully Sweet Y...   \n",
       "1063           Tuberose, Orange Blossom, Jasmine Sambac   \n",
       "...                                                 ...   \n",
       "8917                                                NaN   \n",
       "8946                                                NaN   \n",
       "8954                                                NaN   \n",
       "9184                                               Musk   \n",
       "9476                                     Cedar, Vetiver   \n",
       "\n",
       "                                   Middle_note Base_note  \n",
       "143                                        NaN       NaN  \n",
       "435                                        NaN       NaN  \n",
       "639                                        NaN       NaN  \n",
       "864   Violet Leaf, Tahiti Tonka And Light Wood       NaN  \n",
       "1063               Patchouli, Vetiver, Vanilla       NaN  \n",
       "...                                        ...       ...  \n",
       "8917                                       NaN       NaN  \n",
       "8946                                       NaN       NaN  \n",
       "8954                                       NaN       NaN  \n",
       "9184                                       NaN       NaN  \n",
       "9476                                       NaN       NaN  \n",
       "\n",
       "[141 rows x 18 columns]"
      ]
     },
     "execution_count": 144,
     "metadata": {},
     "output_type": "execute_result"
    }
   ],
   "source": [
    "Perfumes_df[Perfumes_df.Size == \"Floral\"]"
   ]
  },
  {
   "cell_type": "code",
   "execution_count": 145,
   "metadata": {},
   "outputs": [],
   "source": [
    "# replacing Floral with the size Stored in Brand columns \n",
    "Perfumes_df['Size'] = np.where(Perfumes_df['Size'] == \"Floral\", Perfumes_df['Brand'], Perfumes_df['Size'])"
   ]
  },
  {
   "cell_type": "code",
   "execution_count": 146,
   "metadata": {},
   "outputs": [
    {
     "data": {
      "text/plain": [
       "100 ml                                            2156\n",
       "50 ml                                              883\n",
       "75 ml                                              319\n",
       "55 ml                                              149\n",
       "125 ml                                             148\n",
       "                                                  ... \n",
       "Sage and Saffron                                     1\n",
       "Peony Flower                                         1\n",
       "Flowers, Jasmine                                     1\n",
       "Apple, Cinnamon, Saffron, Sandalwood, Agarwood       1\n",
       "Black tea, clary sage, guaiac wood                   1\n",
       "Name: Size, Length: 240, dtype: int64"
      ]
     },
     "execution_count": 146,
     "metadata": {},
     "output_type": "execute_result"
    }
   ],
   "source": [
    "Perfumes_df.Size.value_counts()"
   ]
  },
  {
   "cell_type": "code",
   "execution_count": 150,
   "metadata": {},
   "outputs": [],
   "source": [
    "Perfumes_df[Perfumes_df.Size == \"Tunisian Neroli Oil,Bulgarian Rose, Turkish Rose,Indonesian Patchouli\"]\n",
    "if (Perfumes_df.Size == \"Tunisian Neroli Oil,Bulgarian Rose, Turkish Rose,Indonesian Patchouli\").any():\n",
    "    Perfumes_df.Fragrance_Family.replace(\"100 ml\", \"NaN\", inplace=True)\n",
    "    Perfumes_df.Size.replace(\"Tunisian Neroli Oil,Bulgarian Rose, Turkish Rose,Indonesian Patchouli\", \"100 ml\", inplace=True)\n",
    "    Perfumes_df.Year.replace(\"Eau de Toilette\", \"NaN\", inplace=True)\n",
    "    Perfumes_df.Ingredients.replace(\"Tunisian Neroli Oil\", \"Tunisian Neroli Oil,Bulgarian Rose, Turkish Rose,Indonesian Patchouli\", inplace=True)\n",
    "    Perfumes_df.Concentration.replace(\"Bulgarian Rose, Turkish Rose\", \"Eau de Toilette\", inplace=True)\n",
    "    Perfumes_df.Top_note.replace(\"Indonesian Patchouli\", \"Tunisian Neroli Oil\", inplace=True)\n",
    "    Perfumes_df.Middle_note.fillna(\"Bulgarian Rose, Turkish Rose\", inplace=True)\n",
    "    Perfumes_df.Base_note.fillna(\"Indonesian Patchouli\", inplace=True)"
   ]
  },
  {
   "cell_type": "code",
   "execution_count": 152,
   "metadata": {},
   "outputs": [
    {
     "data": {
      "text/plain": [
       "100 ml                                            2157\n",
       "50 ml                                              883\n",
       "75 ml                                              319\n",
       "55 ml                                              149\n",
       "125 ml                                             148\n",
       "                                                  ... \n",
       "Orange, Saffron, Caramel                             1\n",
       "Bergamot, Pear, Pink peppers, Maryam's incense       1\n",
       "Grapefruit ,Guava                                    1\n",
       "Sage and Saffron                                     1\n",
       "Black tea, clary sage, guaiac wood                   1\n",
       "Name: Size, Length: 239, dtype: int64"
      ]
     },
     "execution_count": 152,
     "metadata": {},
     "output_type": "execute_result"
    }
   ],
   "source": [
    "Perfumes_df.Size.value_counts()"
   ]
  },
  {
   "cell_type": "code",
   "execution_count": 155,
   "metadata": {},
   "outputs": [],
   "source": [
    "if (Perfumes_df.Size == \"Eau Fraiche\").any():\n",
    "    Perfumes_df.Brand.replace(\"Eau Fraiche\", \"Chanel\", inplace=True)\n",
    "    Perfumes_df.Gender.replace(\"Chanel\", \"Women\", inplace=True)\n",
    "    Perfumes_df.Product_Type.replace(\"Women\",\"Perfume Set\", inplace=True)\n",
    "    Perfumes_df.Character.replace(\"Perfume Set\", \"Sensual\", inplace=True)\n",
    "    Perfumes_df.Fragrance_Family.replace(\"Sensual\", \"Floral\", inplace=True)\n",
    "    Perfumes_df.Size.replace(\"Eau Fraiche\", \"NaN\", inplace=True)\n",
    "    Perfumes_df.Year.replace(\"Citron, jasmine, teak\", \"NaN\", inplace=True)\n",
    "    Perfumes_df.Ingredients.replace(\"-\", \"Citron, jasmine, teak\", inplace=True)\n",
    "    Perfumes_df.Concentration.replace(\"-\", \"NaN\", inplace=True)\n",
    "    Perfumes_df.Middle_note.replace(\"Bulgarian Rose, Turkish Rose\", \"NaN\", inplace=True)\n",
    "    Perfumes_df.Base_note.replace(\"Indonesian Patchouli\", \"NaN\", inplace=True)\n",
    "\n",
    "\n",
    "#Perfumes_df['Size'].replace(\"Eau Fraiche\", \"NaN\", inplace=True)"
   ]
  },
  {
   "cell_type": "code",
   "execution_count": 157,
   "metadata": {},
   "outputs": [],
   "source": [
    "if (Perfumes_df.Size == \"citron,teak wood, jasmine.\").any():\n",
    "    Perfumes_df.Size.replace(\"citron,teak wood, jasmine.\", \"35 ml\", inplace=True)\n",
    "    Perfumes_df.Year.replace(\"citron\", \"NaN\", inplace=True)\n",
    "    Perfumes_df.Ingredients.replace(\"teak wood\", \"citron,teak wood, jasmine\", inplace=True)\n",
    "    Perfumes_df.Top_note.replace(\"35 ml\", \"citron\", inplace=True)\n",
    "    Perfumes_df.Concentration.replace(\"jasmine\", \"NaN\", inplace=True)\n",
    "    Perfumes_df.Middle_note.fillna(\"teak wood\", inplace=True)\n",
    "    Perfumes_df.Base_note.fillna(\"jasmine\", inplace=True)\n"
   ]
  },
  {
   "cell_type": "code",
   "execution_count": 158,
   "metadata": {},
   "outputs": [
    {
     "data": {
      "text/plain": [
       "100 ml                                            2157\n",
       "50 ml                                              883\n",
       "75 ml                                              319\n",
       "55 ml                                              149\n",
       "125 ml                                             148\n",
       "                                                  ... \n",
       "Bergamot, Pear, Pink peppers, Maryam's incense       1\n",
       "Grapefruit ,Guava                                    1\n",
       "Sage and Saffron                                     1\n",
       "Peony Flower                                         1\n",
       "Black tea, clary sage, guaiac wood                   1\n",
       "Name: Size, Length: 238, dtype: int64"
      ]
     },
     "execution_count": 158,
     "metadata": {},
     "output_type": "execute_result"
    }
   ],
   "source": [
    "Perfumes_df.Size.value_counts()"
   ]
  },
  {
   "cell_type": "code",
   "execution_count": 160,
   "metadata": {},
   "outputs": [],
   "source": [
    "if (Perfumes_df.Size == \"grapefruit, quince, jasmine, white musk.\").any():\n",
    "    Perfumes_df.Size.replace(\"grapefruit, quince, jasmine, white musk.\", \"NaN\", inplace=True)\n",
    "    Perfumes_df.Year.replace(\"grapefruit\", \"NaN\", inplace=True)\n",
    "    Perfumes_df.Ingredients.replace(\"quince, jasmine\", \"grapefruit, quince, jasmine, white musk\", inplace=True)\n",
    "    Perfumes_df.Concentration.replace(\"white musk.\", \"NaN\", inplace=True)\n",
    "    Perfumes_df.Top_note.replace(\"citron\",\"grapefruit\", inplace=True)\n",
    "    Perfumes_df.Middle_note.fillna(\"quince, jasmine\", inplace=True)\n",
    "    Perfumes_df.Base_note.fillna(\"white musk\", inplace=True)\n",
    "    Perfumes_df.Concentration.replace(\"white musk.\", \"NaN\", inplace=True)"
   ]
  },
  {
   "cell_type": "code",
   "execution_count": 162,
   "metadata": {},
   "outputs": [],
   "source": [
    "if (Perfumes_df.Size == \"-\").any():\n",
    "    Perfumes_df.Size.replace(\"-\", \"35 ml\", inplace=True)\n",
    "    Perfumes_df.Year.replace(\"Vanilla, Honey, Lemon, Jasmine, Mandarin, Magnolia, Passionfruit, Bergamot, Amber, Sandalwood, Patchouli\", \"NaN\", inplace=True)\n",
    "    Perfumes_df.Ingredients.replace(\"Citron, jasmine, teak\", \"Vanilla, Honey, Lemon, Jasmine, Mandarin, Magnolia, Passionfruit, Bergamot, Amber, Sandalwood, Patchouli\", inplace=True)\n",
    "    Perfumes_df.Top_note.replace(\"-\", \"Vanilla, Honey, Lemon, Jasmine\", inplace=True)\n",
    "    Perfumes_df.Middle_note.replace(\"35 ml\", \"Mandarin, Magnolia, Passionfruit, Bergamot\", inplace=True)\n",
    "    Perfumes_df.Base_note.fillna(\"Amber, Sandalwood, Patchouli\", inplace=True)"
   ]
  },
  {
   "cell_type": "code",
   "execution_count": 165,
   "metadata": {},
   "outputs": [],
   "source": [
    "if (Perfumes_df.Size == \"Modern\").any():\n",
    "    Perfumes_df.Size.replace(\"Modern\", \"75 ml\", inplace=True)\n",
    "    Perfumes_df.Year.replace(\"Floral\", \"2013\", inplace=True)\n",
    "    Perfumes_df.Ingredients.replace(\"2013\", \"Black violets, saffron, honey, lavender, cedar\", inplace=True)\n",
    "    Perfumes_df.Gender.replace(\"Eau de Toilette\", \"Men\", inplace=True)\n",
    "    Perfumes_df.Brand.replace(\"75 ml\", \"Roberto Cavalli\", inplace=True)\n",
    "    Perfumes_df.Character.replace(\"Men\", \"Modern\", inplace=True)\n",
    "    Perfumes_df.Concentration.replace(\"Black violets, saffron, honey, lavender, cedar\", \"Eau de Toilette\", inplace=True)\n",
    "    Perfumes_df.Product_Type.replace(\"Roberto Cavalli\", \"Perfume Set\", inplace=True)\n",
    "    Perfumes_df.Fragrance_Family.replace(\"Perfume Set\", \"Floral\", inplace=True)"
   ]
  },
  {
   "cell_type": "code",
   "execution_count": 179,
   "metadata": {},
   "outputs": [],
   "source": [
    "if (Perfumes_df.Size == \"Ginger, Bergamot, Orange\").any():\n",
    "    Perfumes_df.Size.replace(\"Ginger, Bergamot, Orange\", \"100 ml\", inplace=True)\n",
    "    Perfumes_df.Year.replace(\"Gardenia, Orange blossom\", \"NaN\", inplace=True)\n",
    "    Perfumes_df.Gender.replace(\"Eau de Parfum\", \"Women\", inplace=True)\n",
    "    Perfumes_df.Brand.replace(\"100 ml\", \"Valentino\", inplace=True)\n",
    "    Perfumes_df.Character.replace(\"Women\", \"NaN\", inplace=True)\n",
    "    Perfumes_df.Product_Type.replace(\"Valentino\", \"NaN\", inplace=True)\n",
    "    Perfumes_df.Ingredients.fillna(\"Oakmoss, Sandalwood, Musk, Tonka Bean, Vanilla\", inplace=True)\n",
    "    Perfumes_df.Top_note.fillna(\"Ginger, Bergamot, Orange\", inplace=True)\n",
    "    Perfumes_df.Middle_note.fillna(\"Gardenia, Orange blossom\", inplace=True)\n",
    "    Perfumes_df.Base_note.fillna(\"Oakmoss, Sandalwood, Musk, Tonka Bean, Vanilla\", inplace=True)\n"
   ]
  },
  {
   "cell_type": "code",
   "execution_count": 182,
   "metadata": {},
   "outputs": [
    {
     "data": {
      "text/plain": [
       "100 ml                                                                                                                                                                                                                                                             2158\n",
       "50 ml                                                                                                                                                                                                                                                               883\n",
       "75 ml                                                                                                                                                                                                                                                               320\n",
       "55 ml                                                                                                                                                                                                                                                               149\n",
       "125 ml                                                                                                                                                                                                                                                              148\n",
       "                                                                                                                                                                                                                                                                   ... \n",
       "Peony Flower                                                                                                                                                                                                                                                          1\n",
       "Flowers, Jasmine                                                                                                                                                                                                                                                      1\n",
       "Cambodian Oud Oil                                                                                                                                                                                                                                                     1\n",
       "Alcohol, Propylene Glycol, Aqua (Water), Palmitic Acid, Stearic Acid, Ethylhexylglycerin, Parfum (Fragrance), Sodium Hydroxide, Hamamelis Virginiana (Witch Hazel) Water, Menthyl Lactate, Phenoxyethurate Extract, Salvia Office (SAGE) Leaf Extract, BHT, toc       1\n",
       "Black tea, clary sage, guaiac wood                                                                                                                                                                                                                                    1\n",
       "Name: Size, Length: 234, dtype: int64"
      ]
     },
     "execution_count": 182,
     "metadata": {},
     "output_type": "execute_result"
    }
   ],
   "source": [
    "Perfumes_df.Size.value_counts()"
   ]
  },
  {
   "cell_type": "code",
   "execution_count": 184,
   "metadata": {},
   "outputs": [],
   "source": [
    "if (Perfumes_df.Size == \"Peony Flower\").any():\n",
    "    Perfumes_df.Brand.replace(\"200 ml\", \"Al Majed For Oud\", inplace=True)\n",
    "    Perfumes_df.Gender.replace(\"Al Majed For Oud\", \"NaN\", inplace=True)\n",
    "    Perfumes_df.Size.replace(\"Peony Flower\", \"200 ml\", inplace=True)\n",
    "    Perfumes_df.Year.replace(\"Caramel\", \"NaN\", inplace=True)\n",
    "    Perfumes_df.Ingredients.replace(\"vanilla\", \"Caramel, Vanilla\", inplace=True)\n",
    "    Perfumes_df.Top_note.replace(\"Ginger, Bergamot, Orange\", \"NaN\", inplace=True)"
   ]
  },
  {
   "cell_type": "code",
   "execution_count": 193,
   "metadata": {},
   "outputs": [],
   "source": [
    "if (Perfumes_df.Product_Type == \"Room Spray\").any():\n",
    "    Perfumes_df.Size.fillna(\"200 ml\", inplace=True)"
   ]
  },
  {
   "cell_type": "code",
   "execution_count": 194,
   "metadata": {},
   "outputs": [],
   "source": [
    "if (Perfumes_df.Size == \"Flowers, Jasmine\").any():\n",
    "    Perfumes_df.Size.replace(\"Flowers, Jasmine\", \"200 ml\", inplace=True)\n",
    "    Perfumes_df.Year.replace(\"Citrus\", \"NaN\" , inplace=True)\n",
    "    Perfumes_df.Ingredients.replace(\"Musk\", \"Flowers, Jasmine, Citrus, Musk\", inplace=True)\n"
   ]
  },
  {
   "cell_type": "code",
   "execution_count": 198,
   "metadata": {},
   "outputs": [],
   "source": [
    "if (Perfumes_df.Size == \"Black tea, clary sage, guaiac wood\").any():\n",
    "    Perfumes_df.Brand.replace(\"300 ml\",\"Zenology\", inplace=True)\n",
    "    Perfumes_df.Gender.replace(\"Zenology\",\"NaN\", inplace=True)\n",
    "    Perfumes_df.Size.replace(\"Black tea, clary sage, guaiac wood\",\"300 ml\", inplace=True)\n",
    "    Perfumes_df.Ingredients.replace(\"Oakmoss, Sandalwood, Musk, Tonka Bean, Vanilla\",\"Black tea, clary sage, guaiac wood\", inplace=True)\n"
   ]
  },
  {
   "cell_type": "code",
   "execution_count": 200,
   "metadata": {},
   "outputs": [],
   "source": [
    "if (Perfumes_df.Size == \"Alcohol, Propylene Glycol, Aqua (Water), Palmitic Acid, Stearic Acid, Ethylhexylglycerin, Parfum (Fragrance), Sodium Hydroxide, Hamamelis Virginiana (Witch Hazel) Water, Menthyl Lactate, Phenoxyethurate Extract, Salvia Office (SAGE) Leaf Extract, BHT, toc\").any():\n",
    "    Perfumes_df.Brand.replace(\"Eau de Parfum\",\"Loewe\", inplace=True)\n",
    "    Perfumes_df.Gender.replace(\"Loewe\", \"Men\", inplace=True)\n",
    "    Perfumes_df.Product_Type.replace(\"Men\", \"Perfume Set\", inplace=True)\n",
    "    Perfumes_df.Size.replace(\"Alcohol, Propylene Glycol, Aqua (Water), Palmitic Acid, Stearic Acid, Ethylhexylglycerin, Parfum (Fragrance), Sodium Hydroxide, Hamamelis Virginiana (Witch Hazel) Water, Menthyl Lactate, Phenoxyethurate Extract, Salvia Office (SAGE) Leaf Extract, BHT, toc\", \"100 ml\", inplace=True)\n",
    "    Perfumes_df.Year.replace(\"Bergamot, Lemon, Tarragon\", \"NaN\", inplace=True)\n",
    "    Perfumes_df.Ingredients.replace(\"Lavender, Geranium, Nutmeg\", \"Alcohol, Propylene Glycol, Aqua (Water), Palmitic Acid, Stearic Acid, Ethylhexylglycerin, Parfum (Fragrance), Sodium Hydroxide, Hamamelis Virginiana (Witch Hazel) Water, Menthyl Lactate, Phenoxyethurate Extract, Salvia Office (SAGE) Leaf Extract, BHT, toc\", inplace=True)\n",
    "    Perfumes_df.Concentration.replace(\"Sandalwood, Amber, Musk, Vetiver\", \"NaN\", inplace=True)\n",
    "    Perfumes_df.Top_note.fillna(\"Bergamot, Lemon, Tarragon\", inplace=True)\n",
    "    Perfumes_df.Middle_note.fillna(\"Lavender, Geranium, Nutmeg\", inplace=True)\n",
    "    Perfumes_df.Base_note.fillna(\"Sandalwood, Amber, Musk, Vetiver\", inplace=True)\n",
    "\n"
   ]
  },
  {
   "cell_type": "code",
   "execution_count": 201,
   "metadata": {},
   "outputs": [
    {
     "data": {
      "text/plain": [
       "100 ml                                            2159\n",
       "200 ml                                            1301\n",
       "50 ml                                              883\n",
       "75 ml                                              320\n",
       "55 ml                                              149\n",
       "                                                  ... \n",
       "14 ml                                                1\n",
       "Ozone Notes, Passion Fruit, Agarwood, Amber          1\n",
       "Orange, Saffron, Caramel                             1\n",
       "Bergamot, Pear, Pink peppers, Maryam's incense       1\n",
       "Amber, geranium, precious spices, dark woods         1\n",
       "Name: Size, Length: 229, dtype: int64"
      ]
     },
     "execution_count": 201,
     "metadata": {},
     "output_type": "execute_result"
    }
   ],
   "source": [
    "Perfumes_df.Size.value_counts()"
   ]
  }
 ],
 "metadata": {
  "interpreter": {
   "hash": "2be5faf79681da6f2a61fdfdd5405d65d042280f7fba6178067603e3a2925119"
  },
  "kernelspec": {
   "display_name": "Python 3.10.2 64-bit",
   "language": "python",
   "name": "python3"
  },
  "language_info": {
   "codemirror_mode": {
    "name": "ipython",
    "version": 3
   },
   "file_extension": ".py",
   "mimetype": "text/x-python",
   "name": "python",
   "nbconvert_exporter": "python",
   "pygments_lexer": "ipython3",
   "version": "3.10.2"
  },
  "orig_nbformat": 4
 },
 "nbformat": 4,
 "nbformat_minor": 2
}

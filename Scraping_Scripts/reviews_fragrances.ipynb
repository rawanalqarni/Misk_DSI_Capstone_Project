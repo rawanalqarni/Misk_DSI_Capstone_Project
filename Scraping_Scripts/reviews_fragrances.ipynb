{
 "cells": [
  {
   "cell_type": "code",
   "execution_count": 38,
   "metadata": {},
   "outputs": [
    {
     "name": "stderr",
     "output_type": "stream",
     "text": [
      "C:\\Users\\hmq4\\AppData\\Local\\Temp\\ipykernel_3400\\48332469.py:9: DeprecationWarning: executable_path has been deprecated, please pass in a Service object\n",
      "  driver = webdriver.Chrome(path)\n"
     ]
    }
   ],
   "source": [
    "import selenium\n",
    "from selenium import webdriver \n",
    "from selenium.webdriver.common.by import By\n",
    "from selenium.webdriver.support.ui import WebDriverWait\n",
    "from selenium.webdriver.support import expected_conditions as EC\n",
    "\n",
    "\n",
    "path = \"C:/Users/hmq4/OneDrive/Desktop/Data Science- Misk/chrome/chromedriver.exe\"\n",
    "driver = webdriver.Chrome(path)\n",
    "driver.get(\"https://www.goldenscent.com/en/brands/versace.html?action=cat&id=108\")"
   ]
  },
  {
   "cell_type": "code",
   "execution_count": 39,
   "metadata": {},
   "outputs": [
    {
     "name": "stdout",
     "output_type": "stream",
     "text": [
      "48\n"
     ]
    }
   ],
   "source": [
    "from selenium.webdriver.common.by import By\n",
    "from selenium.webdriver.support.ui import WebDriverWait\n",
    "import time\n",
    "\n",
    "productlinks = driver.find_elements(By.CLASS_NAME, 'ais-InfiniteHits-item.col-xs-6.col-md-4.flex')\n",
    "links = []\n",
    "for i in productlinks:\n",
    "    url = i.find_element(By.CLASS_NAME ,'block.no-underline.product-link').get_property('href')\n",
    "    links.append(url)\n",
    "print(len(links))"
   ]
  },
  {
   "cell_type": "markdown",
   "metadata": {},
   "source": [
    "- Reviews "
   ]
  },
  {
   "cell_type": "code",
   "execution_count": 40,
   "metadata": {},
   "outputs": [
    {
     "name": "stderr",
     "output_type": "stream",
     "text": [
      "C:\\Users\\hmq4\\AppData\\Local\\Temp\\ipykernel_3400\\3189399159.py:3: DeprecationWarning: executable_path has been deprecated, please pass in a Service object\n",
      "  url = webdriver.Chrome(path)\n"
     ]
    }
   ],
   "source": [
    "review_detials = []\n",
    "for j in links:\n",
    "    url = webdriver.Chrome(path)\n",
    "    url.get(j)\n",
    "    try:                              \n",
    "        rate_count = url.find_element(By.XPATH ,'//*[@id=\"rating-wrapper\"]/div[1]/div/div[2]').text\n",
    "        rate_count = int(rate_count.split()[0]) \n",
    "        if rate_count >  0:\n",
    "            reviews = url.find_elements(By.XPATH, '//*[@id=\"section-reviews\"]/div/div/div[2]/div/div/div[3]/ul/li')\n",
    "            reviews_data = []\n",
    "            for x in reviews:\n",
    "                total = 0\n",
    "                name = url.find_element(By.XPATH , '//*[@id=\"pp-gallery-n-details-wrapper\"]/div/div/div[2]/div/div[1]/div/div[1]/h1').text\n",
    "                brand = url.find_element(By.XPATH , '//*[@id=\"pp-gallery-n-details-wrapper\"]/div/div/div[2]/div/div[1]/div/div[1]/h2').text\n",
    "                price = url.find_element(By.XPATH ,'//*[@id=\"pp-gallery-n-details-wrapper\"]/div/div/div[2]/div/div[2]/div/div/div[1]/div/div[1]/span[1]').text \n",
    "                fragrance_family = url.find_element(By.XPATH, '//*[@id=\"section-info\"]/div/div/div[2]/ul/li[5]/div[2]').text\n",
    "                rate = float(url.find_element(By.XPATH ,'//*[@id=\"pp-gallery-n-details-wrapper\"]/div/div/div[2]/div/div[1]/div/div[1]/div/span/span').text)\n",
    "                user = x.find_element(By.CSS_SELECTOR, '.nickname').text\n",
    "                title = x.find_element(By.CSS_SELECTOR, '.r-title').text\n",
    "                r = x.find_element(By.CSS_SELECTOR, '.r-review').text\n",
    "                date = x.find_element(By.CSS_SELECTOR, '.r-country-date').text\n",
    "                stars = x.find_elements(By.XPATH, 'div/div[2]/div/span/img')\n",
    "                for s in stars:\n",
    "                    s = s.get_attribute('src')\n",
    "                    if s ==  \"https://www.goldenscent.com/assets/stars-enabled.svg\":\n",
    "                        total = total + 1\n",
    "                reviews_data.append((name, brand, price,fragrance_family, rate , rate_count, user, total,title, r, date))\n",
    "            review_detials.append((name, brand, price, fragrance_family,rate , rate_count,reviews_data))\n",
    "    except:\n",
    "        rate_count=\"none\"\n",
    "            #reviewslist.append((name, brand, price, rate, rate_count, review_detials))\n",
    "\n",
    "import pandas as pd \n",
    "review_detials = pd.DataFrame(review_detials, columns=['name', 'brand', 'price','Fragrance_Family', 'Overall_rate','rate_count','Details'])\n",
    "explode_df = review_detials.explode('Details')\n",
    "split_df = pd.DataFrame(explode_df['Details'].tolist(), columns=['Name', \"Brand\", 'Price','Fragrance_Family', 'Overall_rating', 'rate_count', 'Username', 'User_rating', 'Title', 'Review', 'Date'])\n",
    "Reviews_Dataset = pd.DataFrame(split_df)\n",
    "Reviews_Dataset.to_csv('Reviews_versa.csv')\n"
   ]
  },
  {
   "cell_type": "code",
   "execution_count": null,
   "metadata": {},
   "outputs": [],
   "source": [
    "import pandas as pd \n",
    "review_detials = pd.DataFrame(review_detials, columns=['name', 'brand', 'price','Fragrance_Family', 'Overall_rate','rate_count','Details'])\n",
    "explode_df = review_detials.explode('Details')\n",
    "split_df = pd.DataFrame(explode_df['Details'].tolist(), columns=['Name', \"Brand\", 'Price','Fragrance_Family', 'Overall_rating', 'rate_count', 'Username', 'User_rating', 'Title', 'Review', 'Date'])\n",
    "Reviews_Dataset = pd.DataFrame(split_df)\n",
    "Reviews_Dataset.to_csv('Reviews_Prada.csv')"
   ]
  },
  {
   "cell_type": "code",
   "execution_count": null,
   "metadata": {},
   "outputs": [],
   "source": [
    "import pandas as pd \n",
    "review_detials = pd.DataFrame(review_detials, columns=['name', 'brand', 'price','Fragrance_Family', 'Overall_rate','rate_count','Details'])\n",
    "explode_df = review_detials.explode('Details')\n",
    "split_df = pd.DataFrame(explode_df['Details'].tolist(), columns=['Name', \"Brand\", 'Price','Fragrance_Family', 'Overall_rating', 'rate_count', 'Username', 'User_rating', 'Title', 'Review', 'Date'])\n",
    "Reviews_Dataset = pd.DataFrame(split_df)"
   ]
  },
  {
   "cell_type": "code",
   "execution_count": null,
   "metadata": {},
   "outputs": [],
   "source": [
    "import pandas as pd\n",
    "  \n",
    "# merging two csv files\n",
    "Reviews = pd.concat(\n",
    "    map(pd.read_csv, ['../chrome/Reviews_Dataset.csv', '../chrome/Reviews/Reviews_Boss.csv', '../chrome/Reviews/Reviews_Bur.csv','../chrome/Reviews/Reviews_BV.csv','../chrome/Reviews/Reviews_Cart.csv','../chrome/Reviews/Reviews_CH.csv','../chrome/Reviews/Reviews_Chanal.csv','../chrome/Reviews/Reviews_chloe.csv','../chrome/Reviews/Reviews_chopard.csv','../chrome/Reviews/Reviews_Couch.csv','../chrome/Reviews/Reviews_Creed.csv','../chrome/Reviews/Reviews_CV.csv']), ignore_index=True)\n",
    "Reviews.to_csv(\"Reviews_Dataset.csv\")\n"
   ]
  },
  {
   "cell_type": "code",
   "execution_count": 45,
   "metadata": {},
   "outputs": [],
   "source": [
    "Reviews = pd.concat(\n",
    "    map(pd.read_csv, ['../chrome/Reviews_Dataset.csv',  '../chrome/Reviews/Reviews_roberto.csv',  '../chrome/Reviews/Reviews_thierry.csv', '../chrome/Reviews/Reviews_Tomford.csv',  '../chrome/Reviews/Reviews_versa.csv', '../chrome/Reviews/Reviews_Tomford.csv',  '../chrome/Reviews/Reviews_mancera.csv',  '../chrome/Reviews/Reviews_lancome.csv',  '../chrome/Reviews/Reviews_jovan.csv',  '../chrome/Reviews/Reviews_ES.csv','../chrome/Reviews/Reviews_Gur.csv',  '../chrome/Reviews/Reviews_DG.csv',  '../chrome/Reviews/Reviews_Dior.csv','../chrome/Reviews/Reviews_Gucci.csv',  '../chrome/Reviews/Reviews_dul.csv',  '../chrome/Reviews/Reviews_Esaab.csv', '../chrome/Reviews/Reviews_Fendi.csv','../chrome/Reviews/Reviews_givenchy.csv','../chrome/Reviews/Reviews_Hermes.csv'           ]), ignore_index=True)\n",
    "Reviews.to_csv(\"Reviews_Dataset.csv\")"
   ]
  },
  {
   "cell_type": "code",
   "execution_count": 41,
   "metadata": {},
   "outputs": [],
   "source": [
    "Reviews = pd.concat(\n",
    "    map(pd.read_csv, ['../chrome/Reviews_Dataset.csv',  '../chrome/Reviews_versa.csv']), ignore_index=True)\n",
    "Reviews.to_csv(\"Reviews_Dataset.csv\")"
   ]
  },
  {
   "cell_type": "code",
   "execution_count": 43,
   "metadata": {},
   "outputs": [
    {
     "data": {
      "text/plain": [
       "(1989, 17)"
      ]
     },
     "execution_count": 43,
     "metadata": {},
     "output_type": "execute_result"
    }
   ],
   "source": [
    "Reviews.shape"
   ]
  },
  {
   "cell_type": "code",
   "execution_count": null,
   "metadata": {},
   "outputs": [],
   "source": [
    "Reviews.to_csv(\"Reviews_Dataset.csv\")"
   ]
  }
 ],
 "metadata": {
  "interpreter": {
   "hash": "2be5faf79681da6f2a61fdfdd5405d65d042280f7fba6178067603e3a2925119"
  },
  "kernelspec": {
   "display_name": "Python 3.10.2 64-bit",
   "language": "python",
   "name": "python3"
  },
  "language_info": {
   "codemirror_mode": {
    "name": "ipython",
    "version": 3
   },
   "file_extension": ".py",
   "mimetype": "text/x-python",
   "name": "python",
   "nbconvert_exporter": "python",
   "pygments_lexer": "ipython3",
   "version": "3.10.2"
  },
  "orig_nbformat": 4
 },
 "nbformat": 4,
 "nbformat_minor": 2
}

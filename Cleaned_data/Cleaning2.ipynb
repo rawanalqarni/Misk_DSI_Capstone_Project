{
 "cells": [
  {
   "cell_type": "code",
   "execution_count": 3,
   "metadata": {},
   "outputs": [],
   "source": [
    "import pandas as pd\n",
    "import numpy as np "
   ]
  },
  {
   "cell_type": "code",
   "execution_count": 4,
   "metadata": {},
   "outputs": [],
   "source": [
    "Perfume_df = pd.read_csv(\"../chrome/Misk_DSI_Capstone_Project/Cleaned_1.csv\")"
   ]
  },
  {
   "cell_type": "code",
   "execution_count": 5,
   "metadata": {},
   "outputs": [
    {
     "data": {
      "text/plain": [
       "(6565, 19)"
      ]
     },
     "execution_count": 5,
     "metadata": {},
     "output_type": "execute_result"
    }
   ],
   "source": [
    "Perfume_df.shape"
   ]
  },
  {
   "cell_type": "code",
   "execution_count": 6,
   "metadata": {},
   "outputs": [
    {
     "name": "stdout",
     "output_type": "stream",
     "text": [
      "<class 'pandas.core.frame.DataFrame'>\n",
      "RangeIndex: 6565 entries, 0 to 6564\n",
      "Data columns (total 19 columns):\n",
      " #   Column            Non-Null Count  Dtype  \n",
      "---  ------            --------------  -----  \n",
      " 0   Unnamed: 0        6565 non-null   int64  \n",
      " 1   Name              6565 non-null   object \n",
      " 2   Price             6559 non-null   float64\n",
      " 3   Description       6520 non-null   object \n",
      " 4   Rate              6565 non-null   object \n",
      " 5   Rating_count      6558 non-null   object \n",
      " 6   image             6565 non-null   object \n",
      " 7   Brand             6333 non-null   object \n",
      " 8   Gender            6330 non-null   object \n",
      " 9   Product_Type      6251 non-null   object \n",
      " 10  Character         5928 non-null   object \n",
      " 11  Fragrance_Family  5564 non-null   object \n",
      " 12  Size              6565 non-null   object \n",
      " 13  Year              4667 non-null   object \n",
      " 14  Ingredients       6565 non-null   object \n",
      " 15  Concentration     4480 non-null   object \n",
      " 16  Top_note          6565 non-null   object \n",
      " 17  Middle_note       6565 non-null   object \n",
      " 18  Base_note         6565 non-null   object \n",
      "dtypes: float64(1), int64(1), object(17)\n",
      "memory usage: 974.6+ KB\n"
     ]
    }
   ],
   "source": [
    "Perfume_df.info()"
   ]
  },
  {
   "cell_type": "code",
   "execution_count": 7,
   "metadata": {},
   "outputs": [],
   "source": [
    "Perfume_df = Perfume_df.drop(\"Unnamed: 0\", axis=1)"
   ]
  },
  {
   "cell_type": "code",
   "execution_count": 8,
   "metadata": {},
   "outputs": [
    {
     "data": {
      "text/plain": [
       "Women        4280\n",
       "Men          1001\n",
       "Home          633\n",
       "Mabkhara       40\n",
       "Bundles        38\n",
       "             ... \n",
       "Coach           2\n",
       "Xerjoff         2\n",
       "Valentino       2\n",
       "Lancome         2\n",
       "Miu Miu         2\n",
       "Name: Gender, Length: 62, dtype: int64"
      ]
     },
     "execution_count": 8,
     "metadata": {},
     "output_type": "execute_result"
    }
   ],
   "source": [
    "Perfume_df.Gender.value_counts()"
   ]
  },
  {
   "cell_type": "code",
   "execution_count": 9,
   "metadata": {},
   "outputs": [],
   "source": [
    "Perfume_df['Gender'].mask(Perfume_df['Name'].str.contains(\"Women\"),\"Women\", inplace=True)"
   ]
  },
  {
   "cell_type": "code",
   "execution_count": 10,
   "metadata": {},
   "outputs": [],
   "source": [
    "Perfume_df['Gender'].mask(Perfume_df['Name'].str.contains(\"Men\"),\"Men\", inplace=True)"
   ]
  },
  {
   "cell_type": "code",
   "execution_count": 11,
   "metadata": {},
   "outputs": [],
   "source": [
    "Perfume_df.loc[Perfume_df['Gender'] == 'Coach', 'Gender'] = 'Men' "
   ]
  },
  {
   "cell_type": "code",
   "execution_count": 12,
   "metadata": {},
   "outputs": [
    {
     "data": {
      "text/plain": [
       "Women                 4279\n",
       "Men                   1013\n",
       "Home                   633\n",
       "Mabkhara                40\n",
       "Bundles                 38\n",
       "                      ... \n",
       "Perfume                  2\n",
       "Miu Miu                  2\n",
       "Valentino                2\n",
       "Van Cleef & Arpels       2\n",
       "Lancome                  2\n",
       "Name: Gender, Length: 61, dtype: int64"
      ]
     },
     "execution_count": 12,
     "metadata": {},
     "output_type": "execute_result"
    }
   ],
   "source": [
    "Perfume_df.Gender.value_counts()"
   ]
  },
  {
   "cell_type": "code",
   "execution_count": 13,
   "metadata": {},
   "outputs": [],
   "source": [
    "Perfume_df['Gender'].mask(Perfume_df['Gender'] == \"Bundles\",\"Unisex\", inplace=True)"
   ]
  },
  {
   "cell_type": "code",
   "execution_count": 14,
   "metadata": {},
   "outputs": [],
   "source": [
    "Perfume_df['Gender'].mask(Perfume_df['Name'].str.contains(\"Oud\"),\"Unisex\", inplace=True)"
   ]
  },
  {
   "cell_type": "code",
   "execution_count": 15,
   "metadata": {},
   "outputs": [],
   "source": [
    "Perfume_df['Gender'].mask(Perfume_df['Gender'] == \"Kids\",\"Unisex\", inplace=True)"
   ]
  },
  {
   "cell_type": "code",
   "execution_count": 16,
   "metadata": {},
   "outputs": [],
   "source": [
    "Perfume_df['Gender'].mask(Perfume_df['Gender'] == \"Clothes Fragrance\",\"Unisex\", inplace=True)"
   ]
  },
  {
   "cell_type": "code",
   "execution_count": 17,
   "metadata": {},
   "outputs": [],
   "source": [
    "Perfume_df['Gender'].mask(Perfume_df['Gender'] == \"Junaid Perfumes\",\"Unisex\", inplace=True)"
   ]
  },
  {
   "cell_type": "code",
   "execution_count": 18,
   "metadata": {},
   "outputs": [],
   "source": [
    "Perfume_df['Gender'].mask(Perfume_df['Name'] == \"Carolina Herrera 212 VIP Black - 200 ml\",\"Men\", inplace=True)"
   ]
  },
  {
   "cell_type": "code",
   "execution_count": 19,
   "metadata": {},
   "outputs": [],
   "source": [
    "Perfume_df['Gender'].mask(Perfume_df['Gender'] == \"Carolina Herrera\",\"Women\", inplace=True)"
   ]
  },
  {
   "cell_type": "code",
   "execution_count": 20,
   "metadata": {},
   "outputs": [],
   "source": [
    "Perfume_df['Gender'].mask(Perfume_df['Gender'] == \"Perfume Co.\",\"Unisex\", inplace=True)"
   ]
  },
  {
   "cell_type": "code",
   "execution_count": 21,
   "metadata": {},
   "outputs": [],
   "source": [
    "Perfume_df['Gender'].mask(Perfume_df['Gender'] == \"Lancome\",\"Women\", inplace=True)"
   ]
  },
  {
   "cell_type": "code",
   "execution_count": 22,
   "metadata": {},
   "outputs": [],
   "source": [
    "Perfume_df['Gender'].mask(Perfume_df['Name'].str.contains(\"Pink\"),\"Women\", inplace=True)"
   ]
  },
  {
   "cell_type": "code",
   "execution_count": 23,
   "metadata": {},
   "outputs": [],
   "source": [
    "Perfume_df['Gender'].mask(Perfume_df['Name'].str.contains(\"Uomo\"),\"Men\", inplace=True)"
   ]
  },
  {
   "cell_type": "code",
   "execution_count": 24,
   "metadata": {},
   "outputs": [],
   "source": [
    "Perfume_df['Gender'].mask(Perfume_df['Name'].str.contains(\"Gentleman\"),\"Men\", inplace=True)"
   ]
  },
  {
   "cell_type": "code",
   "execution_count": 25,
   "metadata": {},
   "outputs": [],
   "source": [
    "Perfume_df['Gender'].mask(Perfume_df['Name'].str.contains(\"L'interdit\"),\"Women\", inplace=True)"
   ]
  },
  {
   "cell_type": "code",
   "execution_count": 26,
   "metadata": {},
   "outputs": [],
   "source": [
    "Perfume_df['Gender'].mask(Perfume_df['Name'].str.contains(\"L'Interdit\"),\"Women\", inplace=True)"
   ]
  },
  {
   "cell_type": "code",
   "execution_count": 27,
   "metadata": {},
   "outputs": [],
   "source": [
    "Perfume_df['Gender'].mask(Perfume_df['Name'] == \"Ti amo Set\",\"Women\", inplace=True)"
   ]
  },
  {
   "cell_type": "code",
   "execution_count": 28,
   "metadata": {},
   "outputs": [],
   "source": [
    "Perfume_df['Gender'].mask(Perfume_df['Name'].str.contains(\"Omnia\"),\"Women\", inplace=True)"
   ]
  },
  {
   "cell_type": "code",
   "execution_count": 29,
   "metadata": {},
   "outputs": [],
   "source": [
    "Perfume_df['Gender'].mask(Perfume_df['Name'].str.contains(\"Shave\"),\"Men\", inplace=True)"
   ]
  },
  {
   "cell_type": "code",
   "execution_count": 30,
   "metadata": {},
   "outputs": [],
   "source": [
    "Perfume_df['Gender'].mask(Perfume_df['Gender'] == \"Bvlgari\",\"Women\", inplace=True)"
   ]
  },
  {
   "cell_type": "code",
   "execution_count": 31,
   "metadata": {},
   "outputs": [],
   "source": [
    "Perfume_df['Gender'].mask(Perfume_df['Gender'] == \"Mont Blanc\",\"Men\", inplace=True)"
   ]
  },
  {
   "cell_type": "code",
   "execution_count": 32,
   "metadata": {},
   "outputs": [],
   "source": [
    "Perfume_df['Gender'].mask(Perfume_df['Gender'] == \"Lorenzo Villoresi Firenze\",\"Unisex\", inplace=True)"
   ]
  },
  {
   "cell_type": "code",
   "execution_count": 33,
   "metadata": {},
   "outputs": [],
   "source": [
    "Perfume_df['Gender'].mask(Perfume_df['Gender'] == \"Nicolai\",\"Unisex\", inplace=True)"
   ]
  },
  {
   "cell_type": "code",
   "execution_count": 34,
   "metadata": {},
   "outputs": [],
   "source": [
    "Perfume_df['Gender'].mask(Perfume_df['Gender'] == \"Home Fragrance Set\",\"Home\", inplace=True)"
   ]
  },
  {
   "cell_type": "code",
   "execution_count": 35,
   "metadata": {},
   "outputs": [],
   "source": [
    "Perfume_df['Gender'].mask(Perfume_df['Gender'] == \"Thierry Mugler\",\"Women\", inplace=True)"
   ]
  },
  {
   "cell_type": "code",
   "execution_count": 36,
   "metadata": {},
   "outputs": [],
   "source": [
    "Perfume_df['Gender'].mask(Perfume_df['Gender'] == \"Miu Miu\",\"Women\", inplace=True)"
   ]
  },
  {
   "cell_type": "code",
   "execution_count": 37,
   "metadata": {},
   "outputs": [],
   "source": [
    "Perfume_df['Gender'].mask(Perfume_df['Gender'] == \"Xerjoff\",\"Unisex\", inplace=True)"
   ]
  },
  {
   "cell_type": "code",
   "execution_count": 38,
   "metadata": {},
   "outputs": [],
   "source": [
    "Perfume_df['Gender'].mask(Perfume_df['Gender'] == \"Lacoste\",\"Women\", inplace=True)"
   ]
  },
  {
   "cell_type": "code",
   "execution_count": 39,
   "metadata": {},
   "outputs": [],
   "source": [
    "Perfume_df['Gender'].mask(Perfume_df['Gender'] == \"Ajwa Home\",\"Home\", inplace=True)"
   ]
  },
  {
   "cell_type": "code",
   "execution_count": 40,
   "metadata": {},
   "outputs": [],
   "source": [
    "Perfume_df['Gender'].mask(Perfume_df['Gender'] == \"Exuma Parfums\",\"Women\", inplace=True)"
   ]
  },
  {
   "cell_type": "code",
   "execution_count": 41,
   "metadata": {},
   "outputs": [],
   "source": [
    "Perfume_df['Gender'].mask(Perfume_df['Gender'] == \"Arabiyat\",\"Unisex\", inplace=True)"
   ]
  },
  {
   "cell_type": "code",
   "execution_count": 42,
   "metadata": {},
   "outputs": [],
   "source": [
    "Perfume_df['Gender'].mask(Perfume_df['Gender'] == \"Home Fragrance ,Linen Mist\",\"Home\", inplace=True)"
   ]
  },
  {
   "cell_type": "code",
   "execution_count": 43,
   "metadata": {},
   "outputs": [],
   "source": [
    "Perfume_df['Gender'].mask(Perfume_df['Gender'] == \"Goutal Paris\",\"Women\", inplace=True)"
   ]
  },
  {
   "cell_type": "code",
   "execution_count": 44,
   "metadata": {},
   "outputs": [],
   "source": [
    "Perfume_df['Gender'].mask(Perfume_df['Name'] == \"Burberry Mr Burberry EDT Travel Set - 2 x 30 ml\",\"Men\", inplace=True)"
   ]
  },
  {
   "cell_type": "code",
   "execution_count": 45,
   "metadata": {},
   "outputs": [],
   "source": [
    "Perfume_df['Gender'].mask(Perfume_df['Name'] == \"Burberry Mini Set - MR Indigo EDT 5 ml + MR Burberry EDP 5 ml + MR Burberry EDT 2 x 5 ml\",\"Men\", inplace=True)"
   ]
  },
  {
   "cell_type": "code",
   "execution_count": 46,
   "metadata": {},
   "outputs": [],
   "source": [
    "Perfume_df['Gender'].mask(Perfume_df['Gender'] == \"Burberry\",\"Women\", inplace=True)"
   ]
  },
  {
   "cell_type": "code",
   "execution_count": 47,
   "metadata": {},
   "outputs": [],
   "source": [
    "Perfume_df['Gender'].mask(Perfume_df['Name'].str.contains(\"Fahrenheit\"),\"Men\", inplace=True)"
   ]
  },
  {
   "cell_type": "code",
   "execution_count": 48,
   "metadata": {},
   "outputs": [],
   "source": [
    "Perfume_df['Gender'].mask(Perfume_df['Gender'] == \"Dior\",\"Women\", inplace=True)"
   ]
  },
  {
   "cell_type": "code",
   "execution_count": 49,
   "metadata": {},
   "outputs": [],
   "source": [
    "Perfume_df['Gender'].mask(Perfume_df['Gender'] == \"Bed Linen Spray\",\"Home\", inplace=True)"
   ]
  },
  {
   "cell_type": "code",
   "execution_count": 50,
   "metadata": {},
   "outputs": [],
   "source": [
    "Perfume_df['Gender'].mask(Perfume_df['Gender'] == \"Moschino\",\"Women\", inplace=True)"
   ]
  },
  {
   "cell_type": "code",
   "execution_count": 51,
   "metadata": {},
   "outputs": [],
   "source": [
    "Perfume_df['Gender'].mask(Perfume_df['Gender'] == \"Tiziana Terenzi\",\"Unisex\", inplace=True)"
   ]
  },
  {
   "cell_type": "code",
   "execution_count": 52,
   "metadata": {},
   "outputs": [],
   "source": [
    "Perfume_df['Gender'].mask(Perfume_df['Gender'] == \"Tous Les Jours\",\"Unisex\", inplace=True)"
   ]
  },
  {
   "cell_type": "code",
   "execution_count": 53,
   "metadata": {},
   "outputs": [],
   "source": [
    "Perfume_df['Gender'].mask(Perfume_df['Gender'] == \"Jul Et Mad\",\"Unisex\", inplace=True)"
   ]
  },
  {
   "cell_type": "code",
   "execution_count": 54,
   "metadata": {},
   "outputs": [],
   "source": [
    "Perfume_df['Gender'].mask(Perfume_df['Gender'] == \"Armaf\",\"Unisex\", inplace=True)"
   ]
  },
  {
   "cell_type": "code",
   "execution_count": 55,
   "metadata": {},
   "outputs": [],
   "source": [
    "Perfume_df['Gender'].mask(Perfume_df['Gender'] == \"Thameen Fragrance\",\"Unisex\", inplace=True)"
   ]
  },
  {
   "cell_type": "code",
   "execution_count": 56,
   "metadata": {},
   "outputs": [],
   "source": [
    "Perfume_df['Gender'].mask(Perfume_df['Gender'] == \"Givenchy\",\"Women\", inplace=True)"
   ]
  },
  {
   "cell_type": "code",
   "execution_count": 57,
   "metadata": {},
   "outputs": [],
   "source": [
    "Perfume_df['Gender'].mask(Perfume_df['Gender'] == \"Dize Home\",\"Home\", inplace=True)"
   ]
  },
  {
   "cell_type": "code",
   "execution_count": 58,
   "metadata": {},
   "outputs": [],
   "source": [
    "Perfume_df['Gender'].mask(Perfume_df['Gender'] == \"Natural Touch\",\"Unisex\", inplace=True)"
   ]
  },
  {
   "cell_type": "code",
   "execution_count": 59,
   "metadata": {},
   "outputs": [],
   "source": [
    "Perfume_df['Gender'].mask(Perfume_df['Gender'] == \"Jimmy Choo\",\"Women\", inplace=True)"
   ]
  },
  {
   "cell_type": "code",
   "execution_count": 60,
   "metadata": {},
   "outputs": [],
   "source": [
    "Perfume_df['Gender'].mask(Perfume_df['Name'].str.contains(\"Candle\"),\"Unisex\", inplace=True)"
   ]
  },
  {
   "cell_type": "code",
   "execution_count": 61,
   "metadata": {},
   "outputs": [],
   "source": [
    "Perfume_df['Gender'].mask(Perfume_df['Name'].str.contains(\"Father's Day\"),\"Men\", inplace=True)"
   ]
  },
  {
   "cell_type": "code",
   "execution_count": 62,
   "metadata": {},
   "outputs": [],
   "source": [
    "Perfume_df['Gender'].mask(Perfume_df['Gender'] == \"Acqua Di Parma\",\"Women\", inplace=True)"
   ]
  },
  {
   "cell_type": "code",
   "execution_count": 63,
   "metadata": {},
   "outputs": [],
   "source": [
    "Perfume_df['Gender'].mask(Perfume_df['Gender'] == \"The Different Company\",\"Home\", inplace=True)"
   ]
  },
  {
   "cell_type": "code",
   "execution_count": 64,
   "metadata": {},
   "outputs": [],
   "source": [
    "#if (Perfume_df.Name == \"Tom Ford Violet Blonde\").any():\n",
    " #   Perfume_df.Gender.replace(\"Perfume\", \"Women\", inplace=True)\n",
    "  #  Perfume_df.Character.replace(\"Soft Floral\", \"Feminine\", inplace=True)\n",
    "   # Perfume_df.Size.replace(\"2011\",\"100 ml\" ,inplace=True)\n",
    "   # Perfume_df.Year.replace(\"Iris Flowers, Jasmine & Iris Roots, Absolute Violet Leaves, Italian Mandarin and Rose Bay. Javanese, cedarwood, absolute vetiver, selkolid, fine suede.\", \"2011\", inplace=True)\n",
    "   # Perfume_df.Ingredients.replace(\"Eau de Parfum\", \"Iris Flowers, Jasmine & Iris Roots, Absolute Violet Leaves, Italian Mandarin and Rose Bay. Javanese, cedarwood, absolute vetiver, selkolid, fine suede\" ,inplace=True)\n",
    "   # Perfume_df.Concentration.replace(\"Iris Flowers, Jasmine & and Iris Roots.\", \"Eau de Parfum\", inplace=True)\n",
    "   # Perfume_df.Top_note.replace(\"Absolute Violet Leaves, Italian Mandarin and Rose Bay.\", \"Iris Flowers, Jasmine & and Iris Roots\", inplace=True)\n",
    "   # Perfume_df.Middle_note.replace(\"Javanese, cedarwood, absolute vetiver, selkolid, fine suede.\", \"Absolute Violet Leaves, Italian Mandarin and Rose Bay\", inplace=True)\n",
    "    #Perfume_df.Base_note.replace(\"Musk, Sandalwood\", \"Javanese, cedarwood, absolute vetiver, selkolid, fine suede\", inplace=True)"
   ]
  },
  {
   "cell_type": "code",
   "execution_count": 135,
   "metadata": {},
   "outputs": [
    {
     "data": {
      "text/html": [
       "<div>\n",
       "<style scoped>\n",
       "    .dataframe tbody tr th:only-of-type {\n",
       "        vertical-align: middle;\n",
       "    }\n",
       "\n",
       "    .dataframe tbody tr th {\n",
       "        vertical-align: top;\n",
       "    }\n",
       "\n",
       "    .dataframe thead th {\n",
       "        text-align: right;\n",
       "    }\n",
       "</style>\n",
       "<table border=\"1\" class=\"dataframe\">\n",
       "  <thead>\n",
       "    <tr style=\"text-align: right;\">\n",
       "      <th></th>\n",
       "      <th>Name</th>\n",
       "      <th>Price</th>\n",
       "      <th>Description</th>\n",
       "      <th>Rate</th>\n",
       "      <th>Rating_count</th>\n",
       "      <th>image</th>\n",
       "      <th>Brand</th>\n",
       "      <th>Gender</th>\n",
       "      <th>Product_Type</th>\n",
       "      <th>Character</th>\n",
       "      <th>Fragrance_Family</th>\n",
       "      <th>Size</th>\n",
       "      <th>Year</th>\n",
       "      <th>Ingredients</th>\n",
       "      <th>Concentration</th>\n",
       "      <th>Top_note</th>\n",
       "      <th>Middle_note</th>\n",
       "      <th>Base_note</th>\n",
       "    </tr>\n",
       "  </thead>\n",
       "  <tbody>\n",
       "  </tbody>\n",
       "</table>\n",
       "</div>"
      ],
      "text/plain": [
       "Empty DataFrame\n",
       "Columns: [Name, Price, Description, Rate, Rating_count, image, Brand, Gender, Product_Type, Character, Fragrance_Family, Size, Year, Ingredients, Concentration, Top_note, Middle_note, Base_note]\n",
       "Index: []"
      ]
     },
     "execution_count": 135,
     "metadata": {},
     "output_type": "execute_result"
    }
   ],
   "source": [
    "Perfume_df[Perfume_df.Gender == \"Dolce&Gabbana\"]"
   ]
  },
  {
   "cell_type": "code",
   "execution_count": 136,
   "metadata": {},
   "outputs": [
    {
     "data": {
      "text/plain": [
       "Women     3945\n",
       "Men       1103\n",
       "Unisex     910\n",
       "Home       395\n",
       "Name: Gender, dtype: int64"
      ]
     },
     "execution_count": 136,
     "metadata": {},
     "output_type": "execute_result"
    }
   ],
   "source": [
    "Perfume_df.Gender.value_counts()"
   ]
  },
  {
   "cell_type": "code",
   "execution_count": 138,
   "metadata": {},
   "outputs": [
    {
     "data": {
      "text/plain": [
       "(6548, 18)"
      ]
     },
     "execution_count": 138,
     "metadata": {},
     "output_type": "execute_result"
    }
   ],
   "source": [
    "Perfume_df.shape"
   ]
  },
  {
   "cell_type": "code",
   "execution_count": 137,
   "metadata": {},
   "outputs": [],
   "source": [
    "#Perfume_df.to_csv(\"cleaned_2.csv\")"
   ]
  },
  {
   "cell_type": "code",
   "execution_count": 67,
   "metadata": {},
   "outputs": [],
   "source": [
    "Perfume_df['Gender'].mask(Perfume_df['Gender'] == \"Mabkhara\",\"Home\", inplace=True)"
   ]
  },
  {
   "cell_type": "code",
   "execution_count": 68,
   "metadata": {},
   "outputs": [],
   "source": [
    "Perfume_df['Gender'].mask(Perfume_df['Gender'] == \"Aura Myst\",\"Home\", inplace=True)"
   ]
  },
  {
   "cell_type": "code",
   "execution_count": 71,
   "metadata": {},
   "outputs": [],
   "source": [
    "Perfume_df['Gender'].mask(Perfume_df['Gender'] == \"Perfume\",\"Women\", inplace=True)"
   ]
  },
  {
   "cell_type": "code",
   "execution_count": 74,
   "metadata": {},
   "outputs": [],
   "source": [
    "Perfume_df['Gender'].mask(Perfume_df['Name'].str.contains(\"In Love\"),\"Women\", inplace=True)"
   ]
  },
  {
   "cell_type": "code",
   "execution_count": 75,
   "metadata": {},
   "outputs": [],
   "source": [
    "Perfume_df['Gender'].mask(Perfume_df['Name'].str.contains(\"Si\"),\"Women\", inplace=True)"
   ]
  },
  {
   "cell_type": "code",
   "execution_count": 82,
   "metadata": {},
   "outputs": [],
   "source": [
    "Perfume_df['Gender'].mask(Perfume_df['Name'].str.contains(\"Code\"),\"Women\", inplace=True)"
   ]
  },
  {
   "cell_type": "code",
   "execution_count": 79,
   "metadata": {},
   "outputs": [],
   "source": [
    "Perfume_df['Gender'].mask(Perfume_df['Name'].str.contains(\"Because\"),\"Women\", inplace=True)"
   ]
  },
  {
   "cell_type": "code",
   "execution_count": 84,
   "metadata": {},
   "outputs": [],
   "source": [
    "Perfume_df['Gender'].mask(Perfume_df['Name'].str.contains(\"Eternity\"),\"Women\", inplace=True)"
   ]
  },
  {
   "cell_type": "code",
   "execution_count": 86,
   "metadata": {},
   "outputs": [],
   "source": [
    "Perfume_df['Gender'].mask(Perfume_df['Name'].str.contains(\"Deluxe\"),\"Unisex\", inplace=True)"
   ]
  },
  {
   "cell_type": "code",
   "execution_count": 89,
   "metadata": {},
   "outputs": [],
   "source": [
    "Perfume_df['Gender'].mask(Perfume_df['Name'].str.contains(\"Ckin2U\"),\"Women\", inplace=True)"
   ]
  },
  {
   "cell_type": "code",
   "execution_count": 90,
   "metadata": {},
   "outputs": [],
   "source": [
    "Perfume_df['Gender'].mask(Perfume_df['Name'].str.contains(\"Pcs\"),\"Women\", inplace=True)"
   ]
  },
  {
   "cell_type": "code",
   "execution_count": 92,
   "metadata": {},
   "outputs": [],
   "source": [
    "Perfume_df['Gender'].mask(Perfume_df['Name'].str.contains(\"Euphoria\"),\"Women\", inplace=True)"
   ]
  },
  {
   "cell_type": "code",
   "execution_count": 94,
   "metadata": {},
   "outputs": [],
   "source": [
    "Perfume_df['Gender'].mask(Perfume_df['Gender'] == \"Calvin Klein\",\"Men\", inplace=True)"
   ]
  },
  {
   "cell_type": "code",
   "execution_count": 96,
   "metadata": {},
   "outputs": [],
   "source": [
    "Perfume_df['Gender'].mask(Perfume_df['Gender'] == \"Layl\",\"Unisex\", inplace=True)"
   ]
  },
  {
   "cell_type": "code",
   "execution_count": 107,
   "metadata": {},
   "outputs": [],
   "source": [
    "Perfume_df['Gender'].mask(Perfume_df['Name'].str.contains(\"Mood\"),\"Unisex\", inplace=True)"
   ]
  },
  {
   "cell_type": "code",
   "execution_count": 108,
   "metadata": {},
   "outputs": [],
   "source": [
    "Perfume_df['Gender'].mask(Perfume_df['Name'].str.contains(\"Memories\"),\"Women\", inplace=True)"
   ]
  },
  {
   "cell_type": "code",
   "execution_count": 109,
   "metadata": {},
   "outputs": [],
   "source": [
    "Perfume_df['Gender'].mask(Perfume_df['Name'].str.contains(\"Ad\"),\"Men\", inplace=True)"
   ]
  },
  {
   "cell_type": "code",
   "execution_count": 112,
   "metadata": {},
   "outputs": [],
   "source": [
    "Perfume_df['Gender'].mask(Perfume_df['Name'].str.contains(\"Mon amour\"),\"Unisex\", inplace=True)"
   ]
  },
  {
   "cell_type": "code",
   "execution_count": 113,
   "metadata": {},
   "outputs": [],
   "source": [
    "Perfume_df['Gender'].mask(Perfume_df['Name'].str.contains(\"Blue\"),\"Men\", inplace=True)"
   ]
  },
  {
   "cell_type": "code",
   "execution_count": 115,
   "metadata": {},
   "outputs": [],
   "source": [
    "Perfume_df['Gender'].mask(Perfume_df['Name'].str.contains(\"Pour Homme\"),\"Men\", inplace=True)"
   ]
  },
  {
   "cell_type": "code",
   "execution_count": 116,
   "metadata": {},
   "outputs": [],
   "source": [
    "Perfume_df['Gender'].mask(Perfume_df['Gender'] == \"Versace\",\"Women\", inplace=True)"
   ]
  },
  {
   "cell_type": "code",
   "execution_count": 119,
   "metadata": {},
   "outputs": [],
   "source": [
    "Perfume_df['Gender'].mask(Perfume_df['Gender'] == \"Prada\",\"Women\", inplace=True)"
   ]
  },
  {
   "cell_type": "code",
   "execution_count": 122,
   "metadata": {},
   "outputs": [],
   "source": [
    "Perfume_df['Gender'].mask(Perfume_df['Gender'] == \"Lootah\",\"Home\", inplace=True)"
   ]
  },
  {
   "cell_type": "code",
   "execution_count": 125,
   "metadata": {},
   "outputs": [],
   "source": [
    "Perfume_df['Gender'].mask(Perfume_df['Gender'] == \"Narciso Rodriguez\",\"Women\", inplace=True)"
   ]
  },
  {
   "cell_type": "code",
   "execution_count": 131,
   "metadata": {},
   "outputs": [],
   "source": [
    "Perfume_df['Gender'].mask(Perfume_df['Gender'] == \"Reef Perfumes\",\"Home\", inplace=True)"
   ]
  },
  {
   "cell_type": "code",
   "execution_count": null,
   "metadata": {},
   "outputs": [],
   "source": [
    "Perfume_df['Gender'].mask(Perfume_df['Gender'] == \"Reef Perfumes\",\"Home\", inplace=True)"
   ]
  },
  {
   "cell_type": "code",
   "execution_count": 133,
   "metadata": {},
   "outputs": [],
   "source": [
    "Perfume_df['Gender'].mask(Perfume_df['Name'].str.contains(\"Mysterious\"),\"Men\", inplace=True)"
   ]
  },
  {
   "cell_type": "code",
   "execution_count": 134,
   "metadata": {},
   "outputs": [],
   "source": [
    "Perfume_df['Gender'].mask(Perfume_df['Gender'] == \"Dolce&Gabbana\",\"Women\", inplace=True)"
   ]
  },
  {
   "cell_type": "code",
   "execution_count": null,
   "metadata": {},
   "outputs": [],
   "source": []
  },
  {
   "cell_type": "code",
   "execution_count": 100,
   "metadata": {},
   "outputs": [],
   "source": [
    "Perfume_df.drop(Perfume_df[Perfume_df['Gender'] == \"Accessories\"].index ,axis=0, inplace=True) "
   ]
  },
  {
   "cell_type": "code",
   "execution_count": 104,
   "metadata": {},
   "outputs": [],
   "source": [
    "Perfume_df.drop(Perfume_df[Perfume_df['Gender'] == \"Coal\"].index ,axis=0, inplace=True) "
   ]
  }
 ],
 "metadata": {
  "interpreter": {
   "hash": "2be5faf79681da6f2a61fdfdd5405d65d042280f7fba6178067603e3a2925119"
  },
  "kernelspec": {
   "display_name": "Python 3.10.2 64-bit",
   "language": "python",
   "name": "python3"
  },
  "language_info": {
   "codemirror_mode": {
    "name": "ipython",
    "version": 3
   },
   "file_extension": ".py",
   "mimetype": "text/x-python",
   "name": "python",
   "nbconvert_exporter": "python",
   "pygments_lexer": "ipython3",
   "version": "3.10.2"
  },
  "orig_nbformat": 4
 },
 "nbformat": 4,
 "nbformat_minor": 2
}

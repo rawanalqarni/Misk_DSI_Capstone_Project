{
 "cells": [
  {
   "cell_type": "code",
   "execution_count": 56,
   "metadata": {},
   "outputs": [],
   "source": [
    "import pandas as pd\n",
    "import numpy as np "
   ]
  },
  {
   "cell_type": "code",
   "execution_count": 57,
   "metadata": {},
   "outputs": [],
   "source": [
    "Perfume_df = pd.read_csv(\"../chrome/cleaned_2.csv\")"
   ]
  },
  {
   "cell_type": "code",
   "execution_count": 58,
   "metadata": {},
   "outputs": [
    {
     "data": {
      "text/plain": [
       "(6548, 19)"
      ]
     },
     "execution_count": 58,
     "metadata": {},
     "output_type": "execute_result"
    }
   ],
   "source": [
    "Perfume_df.shape"
   ]
  },
  {
   "cell_type": "code",
   "execution_count": 59,
   "metadata": {},
   "outputs": [
    {
     "data": {
      "text/plain": [
       "Hermes                              310\n",
       "Guerlain                            233\n",
       "Tous Les Jours                      209\n",
       "Esteban                             121\n",
       "Valentino                           113\n",
       "Al Dakheel Oud                      110\n",
       "Tom Ford                             99\n",
       "Chanel                               98\n",
       "Banafa For Oud                       97\n",
       "Al Majed For Oud                     96\n",
       "Giorgio Armani                       96\n",
       "Bvlgari                              94\n",
       "Lootah                               88\n",
       "Yves Saint Laurent                   84\n",
       "Victoria's Secret                    82\n",
       "Mancera                              75\n",
       "Oud Lover                            74\n",
       "Givenchy                             73\n",
       "Calvin Klein                         72\n",
       "Xerjoff                              70\n",
       "Lacoste                              68\n",
       "Dolce&Gabbana                        68\n",
       "Dior                                 67\n",
       "Lancome                              66\n",
       "Creed                                61\n",
       "Gucci                                60\n",
       "Aura Myst                            58\n",
       "Lattafa                              56\n",
       "Hugo Boss                            53\n",
       "Roberto Cavalli                      53\n",
       "OJAR                                 49\n",
       "Jo Malone                            48\n",
       "Burberry                             47\n",
       "Van Cleef & Arpels                   43\n",
       "Trussardi                            41\n",
       "Chopard                              40\n",
       "Candy Addict                         40\n",
       "Thierry Mugler                       39\n",
       "Batalat                              39\n",
       "Dunhill                              38\n",
       "Teatro Fragranze Uniche              37\n",
       "Kenzo                                36\n",
       "Junaid Perfumes                      36\n",
       "Parfums de Marly                     35\n",
       "Ajwaak                               34\n",
       "Acqua Di Parma                       34\n",
       "Versace                              33\n",
       "Dr. Vranjes Firenze                  33\n",
       "Ralph Lauren                         32\n",
       "Boadicea                             31\n",
       "Prada                                30\n",
       "EstÃ©e Lauder                        29\n",
       "Elie Saab                            29\n",
       "Reef Perfumes                        28\n",
       "Jimmy Choo                           28\n",
       "Wadi Halfa                           28\n",
       "Bath & Body Works                    27\n",
       "Laboratorio Olfattivo                27\n",
       "50 ml                                27\n",
       "Goutal Paris                         27\n",
       "Exclusive Bundles                    26\n",
       "Cartier                              25\n",
       "Montale                              25\n",
       "Afnan                                24\n",
       "Al Khuraiji                          24\n",
       "Exuma Parfums                        24\n",
       "Lalique                              23\n",
       "Juicy Couture                        23\n",
       "Mont Blanc                           23\n",
       "Pierra Katra                         23\n",
       "Julia Robenson                       22\n",
       "Alsinan Perfumes                     22\n",
       "150 ml                               21\n",
       "Memo Paris                           20\n",
       "Carolina Herrera                     20\n",
       "Thameen Fragrance                    20\n",
       "Boucheron                            20\n",
       "30 ml                                20\n",
       "Dkhoun                               19\n",
       "Alexandre.J                          18\n",
       "Ideo Parfumeurs                      18\n",
       "Laurent Mazzone                      18\n",
       "Remal                                18\n",
       "ABAQ                                 18\n",
       "Narciso Rodriguez                    18\n",
       "Tiziana Terenzi                      18\n",
       "Elizabeth Arden                      18\n",
       "Amado                                17\n",
       "COZY                                 17\n",
       "S.T. Dupont                          17\n",
       "Hermetica                            17\n",
       "400 ml                               16\n",
       "Sawalef                              16\n",
       "Sisley                               16\n",
       "Moschino                             16\n",
       "Liquides Imaginaires                 16\n",
       "Salvatore Ferragamo                  15\n",
       "Ajmal                                15\n",
       "Chloe                                15\n",
       "Solinotes                            15\n",
       "Arabian Oud                          14\n",
       "Unique Luxury                        14\n",
       "Joyau Unique & Sensoriel Parfums     14\n",
       "Penhaligon's                         14\n",
       "Atelier Cologne                      14\n",
       "Joe Raad                             14\n",
       "Nicolai                              14\n",
       "Al Mas                               14\n",
       "Olibere                              14\n",
       "Kholasaat                            14\n",
       "Byredo                               13\n",
       "Roja                                 13\n",
       "Atkinsons                            13\n",
       "The Finest                           13\n",
       "Maqam                                13\n",
       "Zenology                             13\n",
       "Arabiyat                             13\n",
       "Keba Perfumes                        13\n",
       "Moresque                             12\n",
       "Fragrances Hubert Fattal             12\n",
       "Salvador Dali                        12\n",
       "Roze & Oud                           12\n",
       "250 g                                12\n",
       "Bon Parfumeur                        12\n",
       "Michael Kors                         12\n",
       "Vertus                               12\n",
       "Pure Pink                            12\n",
       "Mercedes-Benz                        12\n",
       "One Word                             12\n",
       "Rasasi                               11\n",
       "Parfums RP                           11\n",
       "The Harmonist                        11\n",
       "Seasons                              11\n",
       "Sedr Alkhaleej                       11\n",
       "Davidoff                             11\n",
       "Paco Rabanne                         11\n",
       "Shakespeare Perfume                  11\n",
       "Coach                                11\n",
       "Saint Hilaire                        11\n",
       "Les Eaux Primordiales                10\n",
       "L'Arc                                10\n",
       "Aigner                               10\n",
       "Brands Me                            10\n",
       "The Merchant of Venice               10\n",
       "Kun Safi                             10\n",
       "Nasomatto                            10\n",
       "RPL                                  10\n",
       "Lorenzo Villoresi Firenze            10\n",
       "Miu Miu                               9\n",
       "WAW                                   9\n",
       "Amouage                               9\n",
       "Ibraheem Al.Qurashi                   9\n",
       "IL Profvmo                            9\n",
       "Ghawali                               9\n",
       "Tooq Perfumes                         9\n",
       "Anfasic Dokhoon                       9\n",
       "Britney Spears                        9\n",
       "Mugler Les Exceptions                 9\n",
       "Lengling                              9\n",
       "50 g                                  8\n",
       "Stephane Humbert                      8\n",
       "Alraheeb                              8\n",
       "Micallef Studio                       8\n",
       "Kilian                                8\n",
       "Diptyque                              8\n",
       "Atyaab Al Noman                       8\n",
       "Valeriana Scent                       8\n",
       "Alsalman Group For Oud                8\n",
       "Paris Hilton                          8\n",
       "Maison Rebatchi                       8\n",
       "J. Del Pozo                           8\n",
       "Bentley                               8\n",
       "Caron                                 8\n",
       "Abreez                                8\n",
       "Dali Haute Parfumerie                 8\n",
       "Rekaz                                 7\n",
       "6 ml                                  7\n",
       "Deem Perfumes                         7\n",
       "CnR Create                            7\n",
       "Floris London                         7\n",
       "Musk Alemarat                         7\n",
       "Jean Paul Gaultier                    7\n",
       "Fan di Fendi                          7\n",
       "Issey Miyake                          7\n",
       "Alwaleef                              7\n",
       "Rochas                                7\n",
       "Ormonde Jayne                         7\n",
       "Jaguar                                7\n",
       "Tory Burch                            6\n",
       "Sokkat AlTeeb                         6\n",
       "Angel Schlesser                       6\n",
       "PH                                    6\n",
       "Ella K                                6\n",
       "Azzaro                                6\n",
       "B96                                   6\n",
       "V Canto                               6\n",
       "Roger & Gallet                        6\n",
       "15 ml                                 6\n",
       "Kajal Perfumes Paris                  6\n",
       "Franck Olivier                        6\n",
       "Ajwa Home                             6\n",
       "Welton London                         6\n",
       "Dize Home                             6\n",
       "Geparlys                              5\n",
       "Very Important Notes                  5\n",
       "K.Arthur                              5\n",
       "VieBelle                              5\n",
       "Arabian Souvenir                      5\n",
       "Maison Tahité                         5\n",
       "Robert Piguet                         5\n",
       "Jacques Bogart                        5\n",
       "Jovan                                 5\n",
       "Miris                                 5\n",
       "Korloff                               5\n",
       "Lanvin                                5\n",
       "Profumo di Pantelleria                5\n",
       "Bottega Veneta                        5\n",
       "Orto Parisi                           5\n",
       "Clive Christian                       5\n",
       "Ted Lapidus                           5\n",
       "Mikyajy                               5\n",
       "Eight & Bob                           5\n",
       "Maison Crivelli                       5\n",
       "Avon                                  5\n",
       "Sofia Vergara                         5\n",
       "Estée Lauder                          5\n",
       "Amouroud                              4\n",
       "Escada                                4\n",
       "Cristiano Ronaldo                     4\n",
       "Baldessarini                          4\n",
       "Escentric Molecules                   4\n",
       "Ferrari                               4\n",
       "Initio                                4\n",
       "Porsche                               4\n",
       "Clinique                              4\n",
       "Sainte Valere                         4\n",
       "Uniqo                                 4\n",
       "Kim Kardashian                        4\n",
       "Layl                                  4\n",
       "Guess                                 4\n",
       "Lucien Ferrero Maitre Parfumeur       4\n",
       "Abaq Alghaim                          4\n",
       "Two Mark                              4\n",
       "Eau de Cologne                        4\n",
       "Perfume Co.                           4\n",
       "Aradous Perfumes                      4\n",
       "Jean Antoine                          4\n",
       "Aroma Tierra                          4\n",
       "Masque Milano                         4\n",
       "Alqwdaa Oud                           4\n",
       "Giorgio Beverly Hills                 4\n",
       "Majda Bekkali                         4\n",
       "Who Am I                              4\n",
       "The Woods Collection By Natural       4\n",
       "Vince Camuto                          4\n",
       "Jul Et Mad                            4\n",
       "Bond No 9                             4\n",
       "The Different Company                 4\n",
       "Viktor & Rolf                         4\n",
       "Honors                                4\n",
       "Layl Almajles                         4\n",
       "Antonio Banderas                      4\n",
       "Banana Republic                       4\n",
       "Extrait de Parfum                     4\n",
       "Rihanna                               4\n",
       "Zadig & Voltaire                      4\n",
       "Mabkharat Alemarat                    4\n",
       "Dkny                                  4\n",
       "SAP                                   4\n",
       "Minis                                 3\n",
       "Atelier Des Ors                       3\n",
       "Tommy Hilfiger                        3\n",
       "Carner Barcelona                      3\n",
       "LPDO Perfume                          3\n",
       "Alrokon Alomani                       3\n",
       "Scent Zone                            3\n",
       "Tom Daxon                             3\n",
       "Glenn Perri                           3\n",
       "Swiss Arabian                         3\n",
       "Kenneth Cole                          3\n",
       "Marina De Bourbon                     3\n",
       "Karl Lagerfeld                        3\n",
       "Aether                                3\n",
       "Atelier Flou                          3\n",
       "Shiseido                              3\n",
       "Guru                                  3\n",
       "Braccialini                           3\n",
       "Orientica                             3\n",
       "Beyonce                               3\n",
       "Giorgio                               3\n",
       "D'Orsay                               3\n",
       "NÂ°4711                               3\n",
       "Santi Burgas                          3\n",
       "Arquiste                              3\n",
       "Scent Story                           3\n",
       "Tiffany & Co                          3\n",
       "Emanuel Ungaro                        3\n",
       "Roos & Roos                           3\n",
       "Yantami                               3\n",
       "La Perla                              3\n",
       "Mugler                                3\n",
       "Durr Aloud                            3\n",
       "Lolita Lempicka                       3\n",
       "Laura Biagiotti                       3\n",
       "Cacharel                              3\n",
       "Carven                                3\n",
       "Eisenberg                             2\n",
       "Bin Othman                            2\n",
       "Simone Andreoli                       2\n",
       "Areon                                 2\n",
       "A Lab on Fire                         2\n",
       "Alone                                 2\n",
       "Lola Mood                             2\n",
       "MiN NEW YORK                          2\n",
       "Ajmal Ayaam                           2\n",
       "Abyat Alotour                         2\n",
       "Flora                                 2\n",
       "Affinessence                          2\n",
       "Berdoues                              2\n",
       "Mendittorosa                          2\n",
       "Luxury Profumo                        2\n",
       "Tasnim                                2\n",
       "Volnay                                2\n",
       "90 ml                                 2\n",
       "40 ml                                 2\n",
       "Baug Sons                             2\n",
       "Gemina.B                              2\n",
       "Lava Moments                          2\n",
       "Sean John                             2\n",
       "Jil Sander                            2\n",
       "Maurer & Wirtz                        2\n",
       "Aramis                                2\n",
       "Gritti                                2\n",
       "Authentic                             2\n",
       "Diesel                                2\n",
       "Liz Claiborne                         2\n",
       "Palquis                               2\n",
       "Nasamat                               2\n",
       "Rue Broca                             2\n",
       "Shakira                               2\n",
       "Louis Vuitton                         2\n",
       "Widian                                2\n",
       "Joop                                  2\n",
       "Ramon Monegal                         2\n",
       "Missoni                               2\n",
       "La Martina                            2\n",
       "Abercrombie & Fitch                   2\n",
       "Marc Jacobs                           2\n",
       "Costume National                      2\n",
       "Donna Karan                           2\n",
       "Oscar De La Renta                     2\n",
       "Perry Ellis                           2\n",
       "Stella McCartney                      2\n",
       "Jennifer Lopez                        2\n",
       "Houbigant                             2\n",
       "Parfums GrÃ¨s                         2\n",
       "Woud                                  2\n",
       "Armand Basi                           2\n",
       "Sergio Tacchini                       2\n",
       "Ulric de Varens                       2\n",
       "Boulevard Paris                       2\n",
       "Victorinox Swiss Army                 2\n",
       "Reminiscence                          2\n",
       "Robert Graham                         2\n",
       "12 ml                                 2\n",
       "Mabkharah                             2\n",
       "David Kasab                           2\n",
       "Gilles Cantuel                        2\n",
       "Karen Low                             2\n",
       "Acqua Di Monaco                       2\n",
       "Eutopie                               2\n",
       "Orlov                                 2\n",
       "Hayari                                1\n",
       "One Direction                         1\n",
       "Dusita                                1\n",
       "Balmain                               1\n",
       "Juliette Has A Gun                    1\n",
       "Kemi Blending                         1\n",
       "Adrienne Vittadini                    1\n",
       "Christian Louboutin                   1\n",
       "Justin Bieber                         1\n",
       "AlaÃ¯a                                1\n",
       "Paloma Picasso                        1\n",
       "Mauboussin                            1\n",
       "Les Parfums De Rosine                 1\n",
       "Halloween                             1\n",
       "Guy Laroche                           1\n",
       "Attar Collection                      1\n",
       "Armaf                                 1\n",
       "Ard Al Khaleej                        1\n",
       "John B. Sensual                       1\n",
       "Faz                                   1\n",
       "Belles Ames                           1\n",
       "Mariah Carey                          1\n",
       "Serge Lutens                          1\n",
       "Nikos                                 1\n",
       "Chaugan                               1\n",
       "Vintage                               1\n",
       "Cerruti                               1\n",
       "Bdk                                   1\n",
       "Selena Gomez                          1\n",
       "Jean-Louis Scherrer                   1\n",
       "Ermanno Scervino                      1\n",
       "Vera Wang                             1\n",
       "Perris                                1\n",
       "D.S. & Durga                          1\n",
       "The Beautiful Mind Series             1\n",
       "Paradis Des Sens                      1\n",
       "Agent Provocateur                     1\n",
       "Gianfranco Ferre                      1\n",
       "Ramon Blazar                          1\n",
       "Coquillete                            1\n",
       "Junaid                                1\n",
       "Mark Buxton                           1\n",
       "Caesars World                         1\n",
       "Prudence Paris                        1\n",
       "Black Dust                            1\n",
       "BCBG Max Azria                        1\n",
       "Philly & Phill                        1\n",
       "Alyssa Ashley                         1\n",
       "Brioni                                1\n",
       "Jean Patou                            1\n",
       "Usher                                 1\n",
       "Mandarina Duck                        1\n",
       "125 ml                                1\n",
       "Acqua Di Sardegna                     1\n",
       "Kiton                                 1\n",
       "Mustang                               1\n",
       "Carrera Jeans                         1\n",
       "Other                                 1\n",
       "Ann Gerard                            1\n",
       "Au Pays de la Fleur d'Oranger         1\n",
       "Nina Ricci                            1\n",
       "60 ml                                 1\n",
       "Etat Libre d'Orange                   1\n",
       "Elizabeth Taylor                      1\n",
       "Comme Des Garcons                     1\n",
       "John Varvatos                         1\n",
       "Electimuss                            1\n",
       "Biehl                                 1\n",
       "Jadeed                                1\n",
       "Ruby Crown                            1\n",
       "Sospiro                               1\n",
       "Marbert                               1\n",
       "Fly Falcon                            1\n",
       "Halston                               1\n",
       "NOOR                                  1\n",
       "Faconnable                            1\n",
       "Parfums Grès                          1\n",
       "Name: Brand, dtype: int64"
      ]
     },
     "execution_count": 59,
     "metadata": {},
     "output_type": "execute_result"
    }
   ],
   "source": [
    "Perfume_df.Brand.value_counts()"
   ]
  },
  {
   "cell_type": "code",
   "execution_count": 60,
   "metadata": {},
   "outputs": [],
   "source": [
    "Perfume_df = Perfume_df.drop(\"Unnamed: 0\", axis=1)"
   ]
  },
  {
   "cell_type": "code",
   "execution_count": 61,
   "metadata": {},
   "outputs": [
    {
     "data": {
      "text/html": [
       "<div>\n",
       "<style scoped>\n",
       "    .dataframe tbody tr th:only-of-type {\n",
       "        vertical-align: middle;\n",
       "    }\n",
       "\n",
       "    .dataframe tbody tr th {\n",
       "        vertical-align: top;\n",
       "    }\n",
       "\n",
       "    .dataframe thead th {\n",
       "        text-align: right;\n",
       "    }\n",
       "</style>\n",
       "<table border=\"1\" class=\"dataframe\">\n",
       "  <thead>\n",
       "    <tr style=\"text-align: right;\">\n",
       "      <th></th>\n",
       "      <th>Name</th>\n",
       "      <th>Price</th>\n",
       "      <th>Description</th>\n",
       "      <th>Rate</th>\n",
       "      <th>Rating_count</th>\n",
       "      <th>image</th>\n",
       "      <th>Brand</th>\n",
       "      <th>Gender</th>\n",
       "      <th>Product_Type</th>\n",
       "      <th>Character</th>\n",
       "      <th>Fragrance_Family</th>\n",
       "      <th>Size</th>\n",
       "      <th>Year</th>\n",
       "      <th>Ingredients</th>\n",
       "      <th>Concentration</th>\n",
       "      <th>Top_note</th>\n",
       "      <th>Middle_note</th>\n",
       "      <th>Base_note</th>\n",
       "    </tr>\n",
       "  </thead>\n",
       "  <tbody>\n",
       "    <tr>\n",
       "      <th>0</th>\n",
       "      <td>Dolce &amp; Gabanna L'imperatrice 3 Pour Femme</td>\n",
       "      <td>199.0</td>\n",
       "      <td>Perfume for the energetic woman who is a hero ...</td>\n",
       "      <td>5</td>\n",
       "      <td>6 Rating</td>\n",
       "      <td>https://assets.goldenscent.com/catalog/product...</td>\n",
       "      <td>Dolce&amp;Gabbana</td>\n",
       "      <td>Women</td>\n",
       "      <td>Perfume</td>\n",
       "      <td>Romantic</td>\n",
       "      <td>Floral</td>\n",
       "      <td>300 ml</td>\n",
       "      <td>2009</td>\n",
       "      <td>Watermerlon, Kiwi, Pink Cyclamen, Musk, Pink P...</td>\n",
       "      <td>Eau de Perfum</td>\n",
       "      <td>Pink pepper, kiwi, rhubarb</td>\n",
       "      <td>jasmine, cyclamen, watermelon</td>\n",
       "      <td>musk, sandalwood, lemon trees.</td>\n",
       "    </tr>\n",
       "    <tr>\n",
       "      <th>1</th>\n",
       "      <td>Roberto Cavalli Paradiso</td>\n",
       "      <td>169.0</td>\n",
       "      <td>Woody floral fragrance, a subtle aroma that ma...</td>\n",
       "      <td>4.95</td>\n",
       "      <td>17 Rating</td>\n",
       "      <td>https://assets.goldenscent.com/catalog/product...</td>\n",
       "      <td>Roberto Cavalli</td>\n",
       "      <td>Women</td>\n",
       "      <td>Perfume</td>\n",
       "      <td>Romantic</td>\n",
       "      <td>Woody</td>\n",
       "      <td>50 ml</td>\n",
       "      <td>2015</td>\n",
       "      <td>Citrus, mandarin, bergamot, jasmine, pine, cyp...</td>\n",
       "      <td>Eau de Parfum</td>\n",
       "      <td>Citruses , Mandarin , Bergamot</td>\n",
       "      <td>Jasmine</td>\n",
       "      <td>Cypress, Parasol pine, Pink laurel</td>\n",
       "    </tr>\n",
       "    <tr>\n",
       "      <th>2</th>\n",
       "      <td>Yves Saint Laurent Libre</td>\n",
       "      <td>383.0</td>\n",
       "      <td>This perfume is a reflection of Freedom, speci...</td>\n",
       "      <td>5</td>\n",
       "      <td>3 Rating</td>\n",
       "      <td>https://assets.goldenscent.com/catalog/product...</td>\n",
       "      <td>Yves Saint Laurent</td>\n",
       "      <td>Women</td>\n",
       "      <td>Perfume</td>\n",
       "      <td>Romantic</td>\n",
       "      <td>Floral</td>\n",
       "      <td>90 ml</td>\n",
       "      <td>2019</td>\n",
       "      <td>Mandarin Orange, lavendar, black currant, peti...</td>\n",
       "      <td>Eau de Parfum</td>\n",
       "      <td>Mandarin Orange, Lavendar, Black Currant, Peti...</td>\n",
       "      <td>Jasmine, Orange Blossom</td>\n",
       "      <td>Vanilla, Cedar, Musk, Ambergris</td>\n",
       "    </tr>\n",
       "    <tr>\n",
       "      <th>3</th>\n",
       "      <td>Mancera Red Tobacco</td>\n",
       "      <td>499.0</td>\n",
       "      <td>Mancera Red Tobacco is the new oriental, woody...</td>\n",
       "      <td>4.38</td>\n",
       "      <td>8 Rating</td>\n",
       "      <td>https://assets.goldenscent.com/catalog/product...</td>\n",
       "      <td>Mancera</td>\n",
       "      <td>Women</td>\n",
       "      <td>Perfume</td>\n",
       "      <td>Romantic</td>\n",
       "      <td>Woody</td>\n",
       "      <td>120 ml</td>\n",
       "      <td>2017</td>\n",
       "      <td>Saffron, Cinnamon, Incense, Nutmeg, White Peac...</td>\n",
       "      <td>Eau de Parfum</td>\n",
       "      <td>Saffron, Cinnamon, Incense, Nutmeg, White peac...</td>\n",
       "      <td>Patchouli, Jasmine</td>\n",
       "      <td>Tobacco, Amber, Woody notes, Vetiver, Vanilla,...</td>\n",
       "    </tr>\n",
       "    <tr>\n",
       "      <th>4</th>\n",
       "      <td>Giorgio Armani Emporio Armani Stronger With Yo...</td>\n",
       "      <td>375.0</td>\n",
       "      <td>for every romantic gentle man, This strong fas...</td>\n",
       "      <td>5</td>\n",
       "      <td>3 Rating</td>\n",
       "      <td>https://assets.goldenscent.com/catalog/product...</td>\n",
       "      <td>Giorgio Armani</td>\n",
       "      <td>Men</td>\n",
       "      <td>Perfume</td>\n",
       "      <td>Romantic</td>\n",
       "      <td>Woody</td>\n",
       "      <td>300 ml</td>\n",
       "      <td>2019</td>\n",
       "      <td>Spices, Violet, Lavender, Sweet Toffee, Carame...</td>\n",
       "      <td>Eau de Parfum</td>\n",
       "      <td>Pink pepper, Juniper, Violet leaf</td>\n",
       "      <td>Lavender, Sage, Toffee, Cinnamon</td>\n",
       "      <td>Tonka bean, Suede, Amber, Vanilla</td>\n",
       "    </tr>\n",
       "  </tbody>\n",
       "</table>\n",
       "</div>"
      ],
      "text/plain": [
       "                                                Name  Price  \\\n",
       "0         Dolce & Gabanna L'imperatrice 3 Pour Femme  199.0   \n",
       "1                           Roberto Cavalli Paradiso  169.0   \n",
       "2                           Yves Saint Laurent Libre  383.0   \n",
       "3                                Mancera Red Tobacco  499.0   \n",
       "4  Giorgio Armani Emporio Armani Stronger With Yo...  375.0   \n",
       "\n",
       "                                         Description  Rate Rating_count  \\\n",
       "0  Perfume for the energetic woman who is a hero ...     5     6 Rating   \n",
       "1  Woody floral fragrance, a subtle aroma that ma...  4.95    17 Rating   \n",
       "2  This perfume is a reflection of Freedom, speci...     5     3 Rating   \n",
       "3  Mancera Red Tobacco is the new oriental, woody...  4.38     8 Rating   \n",
       "4  for every romantic gentle man, This strong fas...     5     3 Rating   \n",
       "\n",
       "                                               image               Brand  \\\n",
       "0  https://assets.goldenscent.com/catalog/product...       Dolce&Gabbana   \n",
       "1  https://assets.goldenscent.com/catalog/product...     Roberto Cavalli   \n",
       "2  https://assets.goldenscent.com/catalog/product...  Yves Saint Laurent   \n",
       "3  https://assets.goldenscent.com/catalog/product...             Mancera   \n",
       "4  https://assets.goldenscent.com/catalog/product...      Giorgio Armani   \n",
       "\n",
       "  Gender Product_Type Character Fragrance_Family    Size  Year  \\\n",
       "0  Women      Perfume  Romantic           Floral  300 ml  2009   \n",
       "1  Women      Perfume  Romantic            Woody   50 ml  2015   \n",
       "2  Women      Perfume  Romantic           Floral   90 ml  2019   \n",
       "3  Women      Perfume  Romantic            Woody  120 ml  2017   \n",
       "4    Men      Perfume  Romantic            Woody  300 ml  2019   \n",
       "\n",
       "                                         Ingredients  Concentration  \\\n",
       "0  Watermerlon, Kiwi, Pink Cyclamen, Musk, Pink P...  Eau de Perfum   \n",
       "1  Citrus, mandarin, bergamot, jasmine, pine, cyp...  Eau de Parfum   \n",
       "2  Mandarin Orange, lavendar, black currant, peti...  Eau de Parfum   \n",
       "3  Saffron, Cinnamon, Incense, Nutmeg, White Peac...  Eau de Parfum   \n",
       "4  Spices, Violet, Lavender, Sweet Toffee, Carame...  Eau de Parfum   \n",
       "\n",
       "                                            Top_note  \\\n",
       "0                         Pink pepper, kiwi, rhubarb   \n",
       "1                     Citruses , Mandarin , Bergamot   \n",
       "2  Mandarin Orange, Lavendar, Black Currant, Peti...   \n",
       "3  Saffron, Cinnamon, Incense, Nutmeg, White peac...   \n",
       "4                  Pink pepper, Juniper, Violet leaf   \n",
       "\n",
       "                        Middle_note  \\\n",
       "0     jasmine, cyclamen, watermelon   \n",
       "1                           Jasmine   \n",
       "2           Jasmine, Orange Blossom   \n",
       "3                Patchouli, Jasmine   \n",
       "4  Lavender, Sage, Toffee, Cinnamon   \n",
       "\n",
       "                                           Base_note  \n",
       "0                     musk, sandalwood, lemon trees.  \n",
       "1                 Cypress, Parasol pine, Pink laurel  \n",
       "2                    Vanilla, Cedar, Musk, Ambergris  \n",
       "3  Tobacco, Amber, Woody notes, Vetiver, Vanilla,...  \n",
       "4                  Tonka bean, Suede, Amber, Vanilla  "
      ]
     },
     "execution_count": 61,
     "metadata": {},
     "output_type": "execute_result"
    }
   ],
   "source": [
    "Perfume_df.head()"
   ]
  },
  {
   "cell_type": "code",
   "execution_count": 62,
   "metadata": {},
   "outputs": [],
   "source": [
    "Perfume_df['Brand'].mask(Perfume_df.Name.str.contains(\"Giorgio Armani\"),\"Giorgio Armani\", inplace=True)"
   ]
  },
  {
   "cell_type": "code",
   "execution_count": 63,
   "metadata": {},
   "outputs": [],
   "source": [
    "Perfume_df['Brand'].mask(Perfume_df.Name.str.contains(\"Mancera\"),\"Mancera\", inplace=True)"
   ]
  },
  {
   "cell_type": "code",
   "execution_count": 64,
   "metadata": {},
   "outputs": [],
   "source": [
    "Perfume_df['Brand'].mask(Perfume_df.Name.str.contains(\"Gucci\"),\"Gucci\", inplace=True)"
   ]
  },
  {
   "cell_type": "code",
   "execution_count": 65,
   "metadata": {},
   "outputs": [],
   "source": [
    "Perfume_df['Brand'].mask(Perfume_df.Name.str.contains(\"Carolina Herrera\"),\"Carolina Herrera\", inplace=True)"
   ]
  },
  {
   "cell_type": "code",
   "execution_count": 66,
   "metadata": {},
   "outputs": [],
   "source": [
    "Perfume_df['Brand'].mask(Perfume_df.Name.str.contains(\"Calvin Klein\"),\"Calvin Klein\", inplace=True)"
   ]
  },
  {
   "cell_type": "code",
   "execution_count": 67,
   "metadata": {},
   "outputs": [],
   "source": [
    "Perfume_df['Brand'].mask(Perfume_df.Name.str.contains(\"Aura Myst\"), \"Aura Myst\", inplace=True)"
   ]
  },
  {
   "cell_type": "code",
   "execution_count": 68,
   "metadata": {},
   "outputs": [],
   "source": [
    "Perfume_df['Brand'].mask(Perfume_df.Name.str.contains(\"Ajwa\"), \"Ajwa\", inplace=True)"
   ]
  },
  {
   "cell_type": "code",
   "execution_count": 69,
   "metadata": {},
   "outputs": [],
   "source": [
    "Perfume_df['Brand'].mask(Perfume_df.Name.str.contains(\"Layl\"), \"Layl\", inplace=True)"
   ]
  },
  {
   "cell_type": "code",
   "execution_count": 70,
   "metadata": {},
   "outputs": [],
   "source": [
    "Perfume_df['Brand'].mask(Perfume_df.Name.str.contains(\"Brands Me\"), \"Brands Me\", inplace=True)"
   ]
  },
  {
   "cell_type": "code",
   "execution_count": 71,
   "metadata": {},
   "outputs": [],
   "source": [
    "Perfume_df['Brand'].mask(Perfume_df.Name.str.contains(\"Candy Addict\"), \"Candy Addict\", inplace=True)"
   ]
  },
  {
   "cell_type": "code",
   "execution_count": 72,
   "metadata": {},
   "outputs": [],
   "source": [
    "Perfume_df['Brand'].mask(Perfume_df.Name.str.contains(\"Cartier\"), \"Cartier\", inplace=True)"
   ]
  },
  {
   "cell_type": "code",
   "execution_count": 73,
   "metadata": {},
   "outputs": [],
   "source": [
    "Perfume_df['Brand'].mask(Perfume_df.Name.str.contains(\"Burberry\"), \"Burberry\", inplace=True)"
   ]
  },
  {
   "cell_type": "code",
   "execution_count": 74,
   "metadata": {},
   "outputs": [],
   "source": [
    "Perfume_df['Brand'].mask(Perfume_df.Name.str.contains(\"Bvlgari\"), \"Bvlgari\", inplace=True)"
   ]
  },
  {
   "cell_type": "code",
   "execution_count": 114,
   "metadata": {},
   "outputs": [],
   "source": [
    "Perfume_df['Brand'].mask(Perfume_df.Name.str.contains(\"Chanel\"), \"Chanel\", inplace=True)"
   ]
  },
  {
   "cell_type": "code",
   "execution_count": 76,
   "metadata": {},
   "outputs": [],
   "source": [
    "Perfume_df['Brand'].mask(Perfume_df.Name.str.contains(\"Creed\"), \"Creed\", inplace=True)"
   ]
  },
  {
   "cell_type": "code",
   "execution_count": 77,
   "metadata": {},
   "outputs": [],
   "source": [
    "Perfume_df['Brand'].mask(Perfume_df.Name.str.contains(\"Chloe\"), \"Chloe\", inplace=True)"
   ]
  },
  {
   "cell_type": "code",
   "execution_count": 78,
   "metadata": {},
   "outputs": [],
   "source": [
    "Perfume_df['Brand'].mask(Perfume_df.Name.str.contains(\"Chopard\"), \"Chopard\", inplace=True)"
   ]
  },
  {
   "cell_type": "code",
   "execution_count": 79,
   "metadata": {},
   "outputs": [],
   "source": [
    "Perfume_df['Brand'].mask(Perfume_df.Name.str.contains(\"Coach\"), \"Coach\", inplace=True)"
   ]
  },
  {
   "cell_type": "code",
   "execution_count": 80,
   "metadata": {},
   "outputs": [],
   "source": [
    "Perfume_df['Brand'].mask(Perfume_df.Name.str.contains(\"Diesel\"), \"Diesel\", inplace=True)"
   ]
  },
  {
   "cell_type": "code",
   "execution_count": 81,
   "metadata": {},
   "outputs": [],
   "source": [
    "Perfume_df['Brand'].mask(Perfume_df.Name.str.contains(\"Deem Perfumes\"), \"Deem Perfumes\", inplace=True)"
   ]
  },
  {
   "cell_type": "code",
   "execution_count": 82,
   "metadata": {},
   "outputs": [],
   "source": [
    "Perfume_df['Brand'].mask(Perfume_df.Name.str.contains(\"Dkhoun\"), \"Dkhoun\", inplace=True)"
   ]
  },
  {
   "cell_type": "code",
   "execution_count": 83,
   "metadata": {},
   "outputs": [],
   "source": [
    "Perfume_df['Brand'].mask(Perfume_df.Name.str.contains(\"Dolce&Gabbana\"), \"Dolce&Gabbana\", inplace=True)"
   ]
  },
  {
   "cell_type": "code",
   "execution_count": 84,
   "metadata": {},
   "outputs": [],
   "source": [
    "Perfume_df['Brand'].mask(Perfume_df.Name.str.contains(\"Dunhill\"), \"Dunhill\", inplace=True)"
   ]
  },
  {
   "cell_type": "code",
   "execution_count": 85,
   "metadata": {},
   "outputs": [],
   "source": [
    "Perfume_df['Brand'].mask(Perfume_df['Brand'] == \"15 ml\",\"Aura Myst\", inplace=True)"
   ]
  },
  {
   "cell_type": "code",
   "execution_count": 86,
   "metadata": {},
   "outputs": [],
   "source": [
    "Perfume_df['Brand'].mask(Perfume_df['Name'].str.contains(\"Ajwa\"),\"Ajwa\", inplace=True)"
   ]
  },
  {
   "cell_type": "code",
   "execution_count": 87,
   "metadata": {},
   "outputs": [],
   "source": [
    "Perfume_df['Brand'].mask(Perfume_df['Name'].str.contains(\"Brands Me\"),\"Brands Me\", inplace=True)"
   ]
  },
  {
   "cell_type": "code",
   "execution_count": 88,
   "metadata": {},
   "outputs": [],
   "source": [
    "Perfume_df['Brand'].mask(Perfume_df['Name'].str.contains(\"Layl\"),\"Layl\", inplace=True)"
   ]
  },
  {
   "cell_type": "code",
   "execution_count": 90,
   "metadata": {},
   "outputs": [],
   "source": [
    "Perfume_df['Brand'].mask(Perfume_df['Name'].str.contains(\"Tous Les Jours\"),\"Tous Les Jours\", inplace=True)"
   ]
  },
  {
   "cell_type": "code",
   "execution_count": 91,
   "metadata": {},
   "outputs": [],
   "source": [
    "Perfume_df['Brand'].mask(Perfume_df['Name'].str.contains(\"Guerlain\"),\"Guerlain\", inplace=True)"
   ]
  },
  {
   "cell_type": "code",
   "execution_count": 92,
   "metadata": {},
   "outputs": [],
   "source": [
    "Perfume_df['Brand'].mask(Perfume_df['Name'].str.contains(\"Esteban\"),\"Esteban\", inplace=True)"
   ]
  },
  {
   "cell_type": "code",
   "execution_count": 93,
   "metadata": {},
   "outputs": [],
   "source": [
    "Perfume_df['Brand'].mask(Perfume_df['Name'].str.contains(\"Tom Ford\"),\"Tom Ford\", inplace=True)"
   ]
  },
  {
   "cell_type": "code",
   "execution_count": 95,
   "metadata": {},
   "outputs": [],
   "source": [
    "Perfume_df['Brand'].mask(Perfume_df['Name'].str.contains(\"Elie Saab\"),\"Elie Saab\", inplace=True)"
   ]
  },
  {
   "cell_type": "code",
   "execution_count": 96,
   "metadata": {},
   "outputs": [],
   "source": [
    "Perfume_df['Brand'].mask(Perfume_df['Name'].str.contains(\"Estée Lauder\"),\"Estée Lauder\", inplace=True)"
   ]
  },
  {
   "cell_type": "code",
   "execution_count": 98,
   "metadata": {},
   "outputs": [],
   "source": [
    "Perfume_df['Brand'].mask(Perfume_df['Name'].str.contains(\"Fendi\"),\"Fendi\", inplace=True)"
   ]
  },
  {
   "cell_type": "code",
   "execution_count": 97,
   "metadata": {},
   "outputs": [],
   "source": [
    "Perfume_df['Brand'].mask(Perfume_df['Name'].str.contains(\"Givenchy\"),\"Givenchy\", inplace=True)"
   ]
  },
  {
   "cell_type": "code",
   "execution_count": 99,
   "metadata": {},
   "outputs": [],
   "source": [
    "Perfume_df['Brand'].mask(Perfume_df['Name'].str.contains(\"Hugo Boss\"),\"Hugo Boss\", inplace=True)"
   ]
  },
  {
   "cell_type": "code",
   "execution_count": 100,
   "metadata": {},
   "outputs": [],
   "source": [
    "Perfume_df['Brand'].mask(Perfume_df['Name'].str.contains(\"Jimmy Choo\"),\"Jimmy Choo\", inplace=True)"
   ]
  },
  {
   "cell_type": "code",
   "execution_count": 101,
   "metadata": {},
   "outputs": [],
   "source": [
    "Perfume_df['Brand'].mask(Perfume_df['Name'].str.contains(\"Jo Malone\"),\"Jo Malone\", inplace=True)"
   ]
  },
  {
   "cell_type": "code",
   "execution_count": 102,
   "metadata": {},
   "outputs": [],
   "source": [
    "Perfume_df['Brand'].mask(Perfume_df['Name'].str.contains(\"Juicy Couture\"),\"Juicy Couture\", inplace=True)"
   ]
  },
  {
   "cell_type": "code",
   "execution_count": 103,
   "metadata": {},
   "outputs": [],
   "source": [
    "Perfume_df['Brand'].mask(Perfume_df['Name'].str.contains(\"Junaid Perfumes\"),\"Junaid Perfumes\", inplace=True)"
   ]
  },
  {
   "cell_type": "code",
   "execution_count": 104,
   "metadata": {},
   "outputs": [],
   "source": [
    "Perfume_df['Brand'].mask(Perfume_df['Name'].str.contains(\"Kenzo\"),\"Kenzo\", inplace=True)"
   ]
  },
  {
   "cell_type": "code",
   "execution_count": 105,
   "metadata": {},
   "outputs": [],
   "source": [
    "Perfume_df['Brand'].mask(Perfume_df['Name'].str.contains(\"Lacoste\"),\"Lacoste\", inplace=True)"
   ]
  },
  {
   "cell_type": "code",
   "execution_count": 106,
   "metadata": {},
   "outputs": [],
   "source": [
    "Perfume_df['Brand'].mask(Perfume_df['Name'].str.contains(\"Lancome\"),\"Lancome\", inplace=True)"
   ]
  },
  {
   "cell_type": "code",
   "execution_count": 107,
   "metadata": {},
   "outputs": [],
   "source": [
    "Perfume_df['Brand'].mask(Perfume_df['Name'].str.contains(\"Maqam\"),\"Maqam\", inplace=True)"
   ]
  },
  {
   "cell_type": "code",
   "execution_count": 108,
   "metadata": {},
   "outputs": [],
   "source": [
    "Perfume_df['Brand'].mask(Perfume_df['Name'].str.contains(\"Marc Jacobs\"),\"Marc Jacobs\", inplace=True)"
   ]
  },
  {
   "cell_type": "code",
   "execution_count": 109,
   "metadata": {},
   "outputs": [],
   "source": [
    "Perfume_df['Brand'].mask(Perfume_df['Name'].str.contains(\"Mercedes Benz\"),\"Mercedes Benz\", inplace=True)"
   ]
  },
  {
   "cell_type": "code",
   "execution_count": 110,
   "metadata": {},
   "outputs": [],
   "source": [
    "Perfume_df['Brand'].mask(Perfume_df['Name'].str.contains(\"Miu Miu\"),\"Miu Miu\", inplace=True)"
   ]
  },
  {
   "cell_type": "code",
   "execution_count": 111,
   "metadata": {},
   "outputs": [],
   "source": [
    "Perfume_df['Brand'].mask(Perfume_df['Name'].str.contains(\"Mont Blanc\"),\"Mont Blanc\", inplace=True)"
   ]
  },
  {
   "cell_type": "code",
   "execution_count": 121,
   "metadata": {},
   "outputs": [],
   "source": [
    "Perfume_df['Brand'].mask(Perfume_df['Name'].str.contains(\"Al Dakheel Oud\"),\"Al Dakheel Oud\", inplace=True)"
   ]
  },
  {
   "cell_type": "code",
   "execution_count": 123,
   "metadata": {},
   "outputs": [],
   "source": [
    "Perfume_df['Brand'].mask(Perfume_df['Name'].str.contains(\"Armand Basi\"),\"Armand Basi\", inplace=True)"
   ]
  },
  {
   "cell_type": "code",
   "execution_count": 126,
   "metadata": {},
   "outputs": [],
   "source": [
    "Perfume_df['Brand'].mask(Perfume_df['Name'].str.contains(\"Exuma Parfums\"),\"Exuma Parfums\", inplace=True)"
   ]
  },
  {
   "cell_type": "code",
   "execution_count": 128,
   "metadata": {},
   "outputs": [],
   "source": [
    "Perfume_df['Brand'].mask(Perfume_df['Name'].str.contains(\"Pascal Morabito\"),\"Pascal Morabito\", inplace=True)"
   ]
  },
  {
   "cell_type": "code",
   "execution_count": 130,
   "metadata": {},
   "outputs": [],
   "source": [
    "Perfume_df['Brand'].mask(Perfume_df['Name'].str.contains(\"Dior\"),\"Dior\", inplace=True)"
   ]
  },
  {
   "cell_type": "code",
   "execution_count": 132,
   "metadata": {},
   "outputs": [],
   "source": [
    "Perfume_df['Brand'].mask(Perfume_df['Name'].str.contains(\"Yves Saint Laurent\"),\"Yves Saint Laurent\", inplace=True)"
   ]
  },
  {
   "cell_type": "code",
   "execution_count": 133,
   "metadata": {},
   "outputs": [],
   "source": [
    "Perfume_df['Brand'].mask(Perfume_df['Name'].str.contains(\"Dolce & Gabbana\"),\"Dolce & Gabbana\", inplace=True)"
   ]
  },
  {
   "cell_type": "code",
   "execution_count": 135,
   "metadata": {},
   "outputs": [],
   "source": [
    "Perfume_df['Brand'].mask(Perfume_df['Name'].str.contains(\"Victoria's Secret\"),\"Victoria's Secret\", inplace=True)"
   ]
  },
  {
   "cell_type": "code",
   "execution_count": 136,
   "metadata": {},
   "outputs": [],
   "source": [
    "Perfume_df['Brand'].mask(Perfume_df['Name'].str.contains(\"Dr. Vranjes Firenze\"),\"Dr. Vranjes Firenze\", inplace=True)"
   ]
  },
  {
   "cell_type": "code",
   "execution_count": 138,
   "metadata": {},
   "outputs": [],
   "source": [
    "Perfume_df['Brand'].mask(Perfume_df['Name'].str.contains(\"Laurent Mazzone\"),\"Laurent Mazzone\", inplace=True)"
   ]
  },
  {
   "cell_type": "code",
   "execution_count": 139,
   "metadata": {},
   "outputs": [],
   "source": [
    "Perfume_df['Brand'].mask(Perfume_df['Name'].str.contains(\"Thameen Fragrance\"),\"Thameen Fragrance\", inplace=True)"
   ]
  },
  {
   "cell_type": "code",
   "execution_count": 142,
   "metadata": {},
   "outputs": [],
   "source": [
    "Perfume_df['Brand'].mask(Perfume_df['Name'].str.contains(\"Lorenzo Villoresi Firenze\"),\"Lorenzo Villoresi Firenze\", inplace=True)"
   ]
  },
  {
   "cell_type": "code",
   "execution_count": 143,
   "metadata": {},
   "outputs": [],
   "source": [
    "Perfume_df['Brand'].mask(Perfume_df['Name'].str.contains(\"Teatro Fragranze Uniche\"),\"Teatro Fragranze Uniche\", inplace=True)"
   ]
  },
  {
   "cell_type": "code",
   "execution_count": 153,
   "metadata": {},
   "outputs": [],
   "source": [
    "Perfume_df['Brand'].mask(Perfume_df['Name'].str.contains(\"Lancome\"),\"Lancome\", inplace=True)"
   ]
  },
  {
   "cell_type": "code",
   "execution_count": 147,
   "metadata": {},
   "outputs": [],
   "source": [
    "Perfume_df['Brand'].mask(Perfume_df['Name'].str.contains(\"Xerjoff\"),\"Xerjoff\", inplace=True)"
   ]
  },
  {
   "cell_type": "code",
   "execution_count": 148,
   "metadata": {},
   "outputs": [],
   "source": [
    "Perfume_df['Brand'].mask(Perfume_df['Name'].str.contains(\"Valentino\"),\"Valentino\", inplace=True)"
   ]
  },
  {
   "cell_type": "code",
   "execution_count": 149,
   "metadata": {},
   "outputs": [],
   "source": [
    "Perfume_df['Brand'].mask(Perfume_df['Name'].str.contains(\"Van Cleef & Arpels\"),\"Van Cleef & Arpels\", inplace=True)"
   ]
  },
  {
   "cell_type": "code",
   "execution_count": 150,
   "metadata": {},
   "outputs": [],
   "source": [
    "Perfume_df['Brand'].mask(Perfume_df['Name'].str.contains(\"Versace\"),\"Versace\", inplace=True)"
   ]
  },
  {
   "cell_type": "code",
   "execution_count": 151,
   "metadata": {},
   "outputs": [],
   "source": [
    "Perfume_df['Brand'].mask(Perfume_df['Name'].str.contains(\"Volnay\"),\"Volnay\", inplace=True)"
   ]
  },
  {
   "cell_type": "code",
   "execution_count": 157,
   "metadata": {},
   "outputs": [],
   "source": [
    "Perfume_df['Brand'].mask(Perfume_df['Name'].str.contains(\"Thierry Mugler\"),\"Thierry Mugler\", inplace=True)"
   ]
  },
  {
   "cell_type": "code",
   "execution_count": 156,
   "metadata": {},
   "outputs": [],
   "source": [
    "Perfume_df['Brand'].mask(Perfume_df['Name'].str.contains(\"Tory Burch\"),\"Tory Burch\", inplace=True)"
   ]
  },
  {
   "cell_type": "code",
   "execution_count": 155,
   "metadata": {},
   "outputs": [],
   "source": [
    "Perfume_df['Brand'].mask(Perfume_df['Name'].str.contains(\"Trussardi\"),\"Trussardi\", inplace=True)"
   ]
  },
  {
   "cell_type": "code",
   "execution_count": 158,
   "metadata": {},
   "outputs": [],
   "source": [
    "Perfume_df['Brand'].mask(Perfume_df['Name'].str.contains(\"Roberto Cavalli\"),\"Roberto Cavalli\", inplace=True)"
   ]
  },
  {
   "cell_type": "code",
   "execution_count": 161,
   "metadata": {},
   "outputs": [],
   "source": [
    "Perfume_df['Brand'].mask(Perfume_df['Name'].str.contains(\"Byredo\"),\"Byredo\", inplace=True)"
   ]
  },
  {
   "cell_type": "code",
   "execution_count": 163,
   "metadata": {},
   "outputs": [],
   "source": [
    "Perfume_df['Brand'].mask(Perfume_df['Name'].str.contains(\"Anfasic Dokhoon\"),\"Anfasic Dokhoon\", inplace=True)"
   ]
  },
  {
   "cell_type": "code",
   "execution_count": 166,
   "metadata": {},
   "outputs": [],
   "source": [
    "Perfume_df['Brand'].mask(Perfume_df['Name'].str.contains(\"Minis\"),\"Minis\", inplace=True)"
   ]
  },
  {
   "cell_type": "code",
   "execution_count": 167,
   "metadata": {},
   "outputs": [],
   "source": [
    "Perfume_df['Brand'].mask(Perfume_df['Name'].str.contains(\"Loewe\"),\"Loewe\", inplace=True)"
   ]
  },
  {
   "cell_type": "code",
   "execution_count": 169,
   "metadata": {},
   "outputs": [],
   "source": [
    "Perfume_df['Brand'].mask(Perfume_df['Name'].str.contains(\"Paris Hilton\"),\"Paris Hilton\", inplace=True)"
   ]
  },
  {
   "cell_type": "code",
   "execution_count": 170,
   "metadata": {},
   "outputs": [],
   "source": [
    "Perfume_df['Brand'].mask(Perfume_df['Name'] == \"Mon amour Set\",\"Versace\", inplace=True)"
   ]
  },
  {
   "cell_type": "code",
   "execution_count": 171,
   "metadata": {},
   "outputs": [],
   "source": [
    "Perfume_df['Brand'].mask(Perfume_df['Name'] == \"The Charm of Rose & Oud Set\",\"The Finest\", inplace=True)"
   ]
  },
  {
   "cell_type": "code",
   "execution_count": 172,
   "metadata": {},
   "outputs": [],
   "source": [
    "Perfume_df['Brand'].mask(Perfume_df['Name'].str.contains(\"Prada\"),\"Prada\", inplace=True)"
   ]
  },
  {
   "cell_type": "code",
   "execution_count": 174,
   "metadata": {},
   "outputs": [],
   "source": [
    "Perfume_df['Brand'].mask(Perfume_df['Name'].str.contains(\"Narciso Rodriguez\"),\"Narciso Rodriguez\", inplace=True)"
   ]
  },
  {
   "cell_type": "code",
   "execution_count": 176,
   "metadata": {},
   "outputs": [],
   "source": [
    "Perfume_df['Brand'].mask(Perfume_df['Name'].str.contains(\"Kilian\"),\"Kilian\", inplace=True)"
   ]
  },
  {
   "cell_type": "code",
   "execution_count": 178,
   "metadata": {},
   "outputs": [],
   "source": [
    "Perfume_df['Brand'].mask(Perfume_df['Name'].str.contains(\"Carrera Jeans\"),\"Carrera Jeans\", inplace=True)"
   ]
  },
  {
   "cell_type": "code",
   "execution_count": 179,
   "metadata": {},
   "outputs": [],
   "source": [
    "Perfume_df['Brand'].mask(Perfume_df['Name'].str.contains(\"Viktor & Rolf\"),\"Viktor & Rolf\", inplace=True)"
   ]
  },
  {
   "cell_type": "code",
   "execution_count": 181,
   "metadata": {},
   "outputs": [],
   "source": [
    "Perfume_df['Brand'].mask(Perfume_df['Name'].str.contains(\"Mauboussin\"),\"Mauboussin\", inplace=True)"
   ]
  },
  {
   "cell_type": "code",
   "execution_count": 182,
   "metadata": {},
   "outputs": [],
   "source": [
    "Perfume_df['Brand'].mask(Perfume_df['Name'].str.contains(\"Lootah\"),\"Lootah\", inplace=True)"
   ]
  },
  {
   "cell_type": "code",
   "execution_count": 183,
   "metadata": {},
   "outputs": [],
   "source": [
    "Perfume_df['Brand'].mask(Perfume_df['Name'].str.contains(\"Alwaleef\"),\"Alwaleef\", inplace=True)"
   ]
  },
  {
   "cell_type": "code",
   "execution_count": 184,
   "metadata": {},
   "outputs": [],
   "source": [
    "Perfume_df['Brand'].mask(Perfume_df['Name'].str.contains(\"Baug Sons\"),\"Baug Sons\", inplace=True)"
   ]
  },
  {
   "cell_type": "code",
   "execution_count": 185,
   "metadata": {},
   "outputs": [],
   "source": [
    "Perfume_df['Brand'].mask(Perfume_df['Name'].str.contains(\"New NB\"),\"New NB\", inplace=True)"
   ]
  },
  {
   "cell_type": "code",
   "execution_count": 188,
   "metadata": {},
   "outputs": [],
   "source": [
    "Perfume_df['Brand'].mask(Perfume_df['Name'].str.contains(\"Arabiyat\"),\"Arabiyat\", inplace=True)"
   ]
  },
  {
   "cell_type": "code",
   "execution_count": 189,
   "metadata": {},
   "outputs": [],
   "source": [
    "Perfume_df['Brand'].mask(Perfume_df['Name'].str.contains(\"Sarah's\"),\"Sarah's\", inplace=True)"
   ]
  },
  {
   "cell_type": "code",
   "execution_count": 190,
   "metadata": {},
   "outputs": [],
   "source": [
    "Perfume_df['Brand'].mask(Perfume_df['Name'].str.contains(\"Alsinan Perfumes\"),\"Alsinan Perfumes\", inplace=True)"
   ]
  },
  {
   "cell_type": "code",
   "execution_count": 191,
   "metadata": {},
   "outputs": [],
   "source": [
    "Perfume_df['Brand'].mask(Perfume_df['Name'].str.contains(\"Moschino\"),\"Moschino\", inplace=True)"
   ]
  },
  {
   "cell_type": "code",
   "execution_count": 192,
   "metadata": {},
   "outputs": [],
   "source": [
    "Perfume_df['Brand'].mask(Perfume_df['Name'].str.contains(\"Acqua Di Parma\"),\"Acqua Di Parma\", inplace=True)"
   ]
  },
  {
   "cell_type": "code",
   "execution_count": 193,
   "metadata": {},
   "outputs": [],
   "source": [
    "Perfume_df['Brand'].mask(Perfume_df['Name'].str.contains(\"Goutal Paris\"),\"Goutal Paris\", inplace=True)"
   ]
  },
  {
   "cell_type": "code",
   "execution_count": 194,
   "metadata": {},
   "outputs": [],
   "source": [
    "Perfume_df['Brand'].mask(Perfume_df['Name'].str.contains(\"Nicolai\"),\"Nicolai\", inplace=True)"
   ]
  },
  {
   "cell_type": "code",
   "execution_count": 195,
   "metadata": {},
   "outputs": [],
   "source": [
    "Perfume_df['Brand'].mask(Perfume_df['Name'].str.contains(\"The Different Company\"),\"The Different Company\", inplace=True)"
   ]
  },
  {
   "cell_type": "code",
   "execution_count": 196,
   "metadata": {},
   "outputs": [],
   "source": [
    "Perfume_df['Brand'].mask(Perfume_df['Name'].str.contains(\"Who Am I\"),\"The Different Company\", inplace=True)"
   ]
  },
  {
   "cell_type": "code",
   "execution_count": 197,
   "metadata": {},
   "outputs": [],
   "source": [
    "Perfume_df['Brand'].mask(Perfume_df['Name'].str.contains(\"Perfume Co.\"),\"Perfume Co.\", inplace=True)"
   ]
  },
  {
   "cell_type": "code",
   "execution_count": 205,
   "metadata": {},
   "outputs": [
    {
     "data": {
      "text/plain": [
       "array(['Dolce&Gabbana', 'Roberto Cavalli', 'Yves Saint Laurent',\n",
       "       'Mancera', 'Giorgio Armani', 'Versace', 'Xerjoff', 'Chopard',\n",
       "       'Remal', 'Memo Paris', 'Candy Addict', 'Uniqo', 'Boucheron',\n",
       "       'Mont Blanc', 'Parfums de Marly', 'Juicy Couture', 'Maqam',\n",
       "       'The Finest', 'Al Majed For Oud', 'Calvin Klein', \"Penhaligon's\",\n",
       "       'Very Important Notes', 'Dkhoun', 'Givenchy', 'Dolce & Gabbana',\n",
       "       'Ajwa', 'Nicolai', 'Al Mas', 'Orto Parisi', 'Gucci', 'Burberry',\n",
       "       'Lorenzo Villoresi Firenze', 'Exclusive Bundles', 'Guerlain',\n",
       "       'Lacoste', 'Deem Perfumes', 'Jaguar', 'Narciso Rodriguez',\n",
       "       'Chanel', 'Elie Saab', 'Rekaz', 'Tom Ford', 'Rasasi',\n",
       "       'EstÃ©e Lauder', 'Nasomatto', 'Esteban', 'Bvlgari', 'Coach',\n",
       "       'Bentley', 'Van Cleef & Arpels', 'Lancome', 'Lalique',\n",
       "       'Alexandre.J', 'Al Dakheel Oud', 'Atelier Des Ors',\n",
       "       'Dr. Vranjes Firenze', 'Chloe', 'Sedr Alkhaleej', 'Hugo Boss',\n",
       "       'Armand Basi', 'Byredo', 'Swiss Arabian', 'Dunhill', 'S.T. Dupont',\n",
       "       'Woud', 'Dior', 'Parfums GrÃ¨s', 'Houbigant', 'Mariah Carey',\n",
       "       'Alwaleef', 'Escada', 'Fendi', 'Initio', 'Hermes',\n",
       "       'Franck Olivier', 'Tous Les Jours', 'Davidoff', 'Caron',\n",
       "       'Thierry Mugler', 'Valentino', 'Anfasic Dokhoon',\n",
       "       'Atelier Cologne', 'Jennifer Lopez', 'Mabkharat Alemarat',\n",
       "       'Viktor & Rolf', 'Montale', 'Nikos', 'Tiziana Terenzi', 'Cartier',\n",
       "       'Lanvin', 'Giorgio Beverly Hills', 'Azzaro', 'Elizabeth Arden',\n",
       "       'Tommy Hilfiger', 'Stella McCartney', 'Minis', 'Kun Safi', 'COZY',\n",
       "       'Abreez', 'WAW', 'Guess', 'Vintage', 'Perfume Co.', 'One Word',\n",
       "       'The Different Company', 'John B. Sensual', '30 ml', 'Rochas',\n",
       "       'Cerruti', 'Cacharel', 'Clinique', 'Aigner', 'Trussardi',\n",
       "       'Carolina Herrera', 'La Perla', 'Jean Paul Gaultier', 'Ajmal',\n",
       "       'Kholasaat', 'Thameen Fragrance', 'Ibraheem Al.Qurashi', 'Prada',\n",
       "       'Paco Rabanne', 'IL Profvmo', 'Emanuel Ungaro', 'Rihanna',\n",
       "       'Selena Gomez', 'Vince Camuto', 'Jean-Louis Scherrer', 'Vera Wang',\n",
       "       'J. Del Pozo', 'Perris', 'Shiseido', 'Paris Hilton',\n",
       "       'Angel Schlesser', 'Kenzo', 'The Beautiful Mind Series',\n",
       "       'Sofia Vergara', 'Salvatore Ferragamo', 'Michael Kors',\n",
       "       'Marina De Bourbon', 'Ralph Lauren', 'Perry Ellis',\n",
       "       'Justin Bieber', 'Moschino', 'Oscar De La Renta', 'Carven',\n",
       "       'One Direction', 'Dkny', 'Britney Spears', 'Braccialini',\n",
       "       'Bottega Veneta', 'Beyonce', 'Hayari', 'Balmain',\n",
       "       'Adrienne Vittadini', 'NÂ°4711', \"L'Arc\", 'Loewe',\n",
       "       \"Victoria's Secret\", 'Ferrari', 'AlaÃ¯a', 'Amouage',\n",
       "       'Tiffany & Co', 'Paloma Picasso', 'Mauboussin', 'Lolita Lempicka',\n",
       "       'Mercedes Benz', 'Laura Biagiotti', 'Korloff', 'Kim Kardashian',\n",
       "       'Jimmy Choo', 'Halloween', 'Guy Laroche', 'Donna Karan',\n",
       "       'Diptyque', 'Gianfranco Ferre', 'Costume National', 'Marc Jacobs',\n",
       "       'Micallef Studio', 'Nina Ricci', 'Agent Provocateur',\n",
       "       'Abercrombie & Fitch', 'Elizabeth Taylor', 'Comme Des Garcons',\n",
       "       nan, 'La Martina', 'Fragrances Hubert Fattal', 'Missoni',\n",
       "       'Ramon Monegal', 'Joop', 'Floris London', 'Widian',\n",
       "       'Louis Vuitton', 'Solinotes', 'Sisley', 'Shakira', 'Salvador Dali',\n",
       "       'Rue Broca', 'Kenneth Cole', 'Atkinsons', 'Exuma Parfums',\n",
       "       'Ideo Parfumeurs', 'Bon Parfumeur', 'Banana Republic', 'Avon',\n",
       "       'Afnan', 'Karl Lagerfeld', 'Vertus', 'Ulric de Varens',\n",
       "       'Ted Lapidus', 'Stephane Humbert', 'Junaid Perfumes', 'Lootah',\n",
       "       'Moresque', 'Nasamat', 'Palquis', 'Orientica', 'Miris',\n",
       "       'Liz Claiborne', 'Kilian', 'Jo Malone', 'Jadeed', 'Issey Miyake',\n",
       "       'Giorgio', 'Gemina.B', 'Diesel', 'Carrera Jeans', 'OJAR',\n",
       "       'Caesars World', 'Bond No 9', 'Black Dust', 'BCBG Max Azria',\n",
       "       'Authentic', 'Arabian Souvenir', 'Antonio Banderas',\n",
       "       'Alyssa Ashley', 'Acqua Di Parma', 'Bath & Body Works',\n",
       "       'Zadig & Voltaire', 'V Canto', 'SAP', 'Roja', 'Roos & Roos',\n",
       "       'Joyau Unique & Sensoriel Parfums', 'Jean Antoine', 'Gritti',\n",
       "       'Glenn Perri', 'Geparlys', 'Creed', 'Kajal Perfumes Paris',\n",
       "       'Yantami', 'Musk Alemarat', 'Reef Perfumes', 'Cristiano Ronaldo',\n",
       "       'Escentric Molecules', 'Baldessarini', 'Jean Patou', 'Amouroud',\n",
       "       'Usher', 'Aramis', 'Mandarina Duck', 'Mercedes-Benz',\n",
       "       'Sainte Valere', 'Roger & Gallet', 'Maurer & Wirtz', 'Jil Sander',\n",
       "       'Jacques Bogart', 'Sergio Tacchini', 'Sean John', 'Saint Hilaire',\n",
       "       'Mustang', 'Kiton', 'Gilles Cantuel', 'Brioni',\n",
       "       'Victorinox Swiss Army', 'Robert Graham', 'Reminiscence',\n",
       "       'Faconnable', 'Halston', 'Fly Falcon', 'Eutopie', 'K.Arthur',\n",
       "       'Scent Zone', 'Shakespeare Perfume', 'Porsche', 'Parfums RP',\n",
       "       'Orlov', 'Marbert', 'Karen Low', 'John Varvatos', 'Tom Daxon',\n",
       "       \"Etat Libre d'Orange\", 'Carner Barcelona', 'Ramon Blazar',\n",
       "       'LPDO Perfume', 'Boulevard Paris', 'Pascal Morabito', 'Bdk',\n",
       "       'Attar Collection', 'Ard Al Khaleej', 'Chaugan', 'Acqua Di Monaco',\n",
       "       'David Kasab', 'Jul Et Mad', 'ABAQ', 'Joe Raad', 'Wadi Halfa',\n",
       "       'Aradous Perfumes', 'Brands Me', 'Dize Home', 'Keba Perfumes',\n",
       "       'Mabkharah', '50 ml', 'Banafa For Oud', 'Arabian Oud', 'Oud Lover',\n",
       "       'Batalat', 'NOOR', 'Layl', 'Al Khuraiji', 'Two Mark',\n",
       "       'Alsalman Group For Oud', 'Lava Moments', 'Durr Aloud', 'Seasons',\n",
       "       'Faz', 'Bin Othman', 'Arabiyat', 'Baug Sons', 'Alsinan Perfumes',\n",
       "       'Roze & Oud', 'Atyaab Al Noman', 'Zenology', 'Abyat Alotour',\n",
       "       'New NB', \"Sarah's\", 'Flora', 'Alqwdaa Oud', '250 g',\n",
       "       'Alrokon Alomani', 'Valeriana Scent', 'VieBelle', 'Ruby Crown',\n",
       "       'Tasnim', 'Pierra Katra', 'Pure Pink', 'Julia Robenson', 'Lattafa',\n",
       "       'Alraheeb', 'Alone', 'Honors', 'Other', 'Ajmal Ayaam',\n",
       "       'Tooq Perfumes', 'Abaq Alghaim', 'Sokkat AlTeeb', 'Sawalef',\n",
       "       'Armaf', 'Miu Miu', 'Jovan', 'Acqua Di Sardegna', 'Volnay',\n",
       "       'Tory Burch', 'Scent Story', 'Philly & Phill', 'Luxury Profumo',\n",
       "       'Santi Burgas', 'Prudence Paris', 'Laurent Mazzone', 'Mark Buxton',\n",
       "       'Mendittorosa', 'Coquillete', 'Robert Piguet', 'Berdoues',\n",
       "       'Ann Gerard', 'Majda Bekkali', 'Affinessence', 'Masque Milano',\n",
       "       'CnR Create', 'Atelier Flou', 'Boadicea', 'Amado', 'Lola Mood',\n",
       "       \"D'Orsay\", 'A Lab on Fire', 'Sospiro', 'Clive Christian',\n",
       "       'Hermetica', 'Biehl', \"Au Pays de la Fleur d'Oranger\",\n",
       "       'Electimuss', 'Aether', 'Liquides Imaginaires', 'Guru',\n",
       "       'Simone Andreoli', 'Goutal Paris', 'Eisenberg', 'Arquiste',\n",
       "       'Profumo di Pantelleria', 'The Harmonist', 'Ormonde Jayne',\n",
       "       'Maison Crivelli', 'Les Eaux Primordiales', 'B96',\n",
       "       'Les Parfums De Rosine', 'Teatro Fragranze Uniche',\n",
       "       'Maison Rebatchi', 'Kemi Blending', 'Christian Louboutin',\n",
       "       'Unique Luxury', 'Dali Haute Parfumerie', 'Juliette Has A Gun',\n",
       "       'MiN NEW YORK', 'Dusita', 'The Merchant of Venice', 'Olibere',\n",
       "       'Extrait de Parfum', 'Laboratorio Olfattivo', 'Paradis Des Sens',\n",
       "       'The Woods Collection By Natural', 'D.S. & Durga', 'PH',\n",
       "       'Lengling', 'Ermanno Scervino', 'Ella K', 'Maison Tahité',\n",
       "       'Lucien Ferrero Maitre Parfumeur', 'RPL', 'Ghawali',\n",
       "       'Welton London', 'Mikyajy', 'Serge Lutens', 'Aroma Tierra',\n",
       "       'Areon', 'Eight & Bob', 'Aura Myst', 'Belles Ames', 'Estée Lauder',\n",
       "       'Parfums Grès'], dtype=object)"
      ]
     },
     "execution_count": 205,
     "metadata": {},
     "output_type": "execute_result"
    }
   ],
   "source": [
    "Perfume_df.Brand.unique()"
   ]
  },
  {
   "cell_type": "code",
   "execution_count": 207,
   "metadata": {},
   "outputs": [],
   "source": [
    "Perfume_df.to_csv(\"cleaned_3.csv\")"
   ]
  }
 ],
 "metadata": {
  "interpreter": {
   "hash": "2be5faf79681da6f2a61fdfdd5405d65d042280f7fba6178067603e3a2925119"
  },
  "kernelspec": {
   "display_name": "Python 3.10.2 64-bit",
   "language": "python",
   "name": "python3"
  },
  "language_info": {
   "codemirror_mode": {
    "name": "ipython",
    "version": 3
   },
   "file_extension": ".py",
   "mimetype": "text/x-python",
   "name": "python",
   "nbconvert_exporter": "python",
   "pygments_lexer": "ipython3",
   "version": "3.10.2"
  },
  "orig_nbformat": 4
 },
 "nbformat": 4,
 "nbformat_minor": 2
}

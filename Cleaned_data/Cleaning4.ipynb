{
 "cells": [
  {
   "cell_type": "code",
   "execution_count": 2,
   "metadata": {},
   "outputs": [],
   "source": [
    "import numpy as np\n",
    "import pandas as pd"
   ]
  },
  {
   "cell_type": "code",
   "execution_count": 12,
   "metadata": {},
   "outputs": [],
   "source": [
    "Perfume_df = pd.read_csv(\"../chrome/cleaned_3.csv\")"
   ]
  },
  {
   "cell_type": "code",
   "execution_count": 4,
   "metadata": {},
   "outputs": [
    {
     "data": {
      "text/plain": [
       "(6548, 19)"
      ]
     },
     "execution_count": 4,
     "metadata": {},
     "output_type": "execute_result"
    }
   ],
   "source": [
    "Perfume_df.shape"
   ]
  },
  {
   "cell_type": "code",
   "execution_count": 13,
   "metadata": {},
   "outputs": [],
   "source": [
    "Perfume_df = Perfume_df.drop(\"Unnamed: 0\", axis=1)"
   ]
  },
  {
   "cell_type": "code",
   "execution_count": 14,
   "metadata": {},
   "outputs": [
    {
     "data": {
      "text/html": [
       "<div>\n",
       "<style scoped>\n",
       "    .dataframe tbody tr th:only-of-type {\n",
       "        vertical-align: middle;\n",
       "    }\n",
       "\n",
       "    .dataframe tbody tr th {\n",
       "        vertical-align: top;\n",
       "    }\n",
       "\n",
       "    .dataframe thead th {\n",
       "        text-align: right;\n",
       "    }\n",
       "</style>\n",
       "<table border=\"1\" class=\"dataframe\">\n",
       "  <thead>\n",
       "    <tr style=\"text-align: right;\">\n",
       "      <th></th>\n",
       "      <th>Name</th>\n",
       "      <th>Price</th>\n",
       "      <th>Description</th>\n",
       "      <th>Rate</th>\n",
       "      <th>Rating_count</th>\n",
       "      <th>image</th>\n",
       "      <th>Brand</th>\n",
       "      <th>Gender</th>\n",
       "      <th>Product_Type</th>\n",
       "      <th>Character</th>\n",
       "      <th>Fragrance_Family</th>\n",
       "      <th>Size</th>\n",
       "      <th>Year</th>\n",
       "      <th>Ingredients</th>\n",
       "      <th>Concentration</th>\n",
       "      <th>Top_note</th>\n",
       "      <th>Middle_note</th>\n",
       "      <th>Base_note</th>\n",
       "    </tr>\n",
       "  </thead>\n",
       "  <tbody>\n",
       "    <tr>\n",
       "      <th>0</th>\n",
       "      <td>Dolce &amp; Gabanna L'imperatrice 3 Pour Femme</td>\n",
       "      <td>199.0</td>\n",
       "      <td>Perfume for the energetic woman who is a hero ...</td>\n",
       "      <td>5</td>\n",
       "      <td>6 Rating</td>\n",
       "      <td>https://assets.goldenscent.com/catalog/product...</td>\n",
       "      <td>Dolce&amp;Gabbana</td>\n",
       "      <td>Women</td>\n",
       "      <td>Perfume</td>\n",
       "      <td>Romantic</td>\n",
       "      <td>Floral</td>\n",
       "      <td>300 ml</td>\n",
       "      <td>2009</td>\n",
       "      <td>Watermerlon, Kiwi, Pink Cyclamen, Musk, Pink P...</td>\n",
       "      <td>Eau de Perfum</td>\n",
       "      <td>Pink pepper, kiwi, rhubarb</td>\n",
       "      <td>jasmine, cyclamen, watermelon</td>\n",
       "      <td>musk, sandalwood, lemon trees.</td>\n",
       "    </tr>\n",
       "  </tbody>\n",
       "</table>\n",
       "</div>"
      ],
      "text/plain": [
       "                                         Name  Price  \\\n",
       "0  Dolce & Gabanna L'imperatrice 3 Pour Femme  199.0   \n",
       "\n",
       "                                         Description Rate Rating_count  \\\n",
       "0  Perfume for the energetic woman who is a hero ...    5     6 Rating   \n",
       "\n",
       "                                               image          Brand Gender  \\\n",
       "0  https://assets.goldenscent.com/catalog/product...  Dolce&Gabbana  Women   \n",
       "\n",
       "  Product_Type Character Fragrance_Family    Size  Year  \\\n",
       "0      Perfume  Romantic           Floral  300 ml  2009   \n",
       "\n",
       "                                         Ingredients  Concentration  \\\n",
       "0  Watermerlon, Kiwi, Pink Cyclamen, Musk, Pink P...  Eau de Perfum   \n",
       "\n",
       "                     Top_note                    Middle_note  \\\n",
       "0  Pink pepper, kiwi, rhubarb  jasmine, cyclamen, watermelon   \n",
       "\n",
       "                        Base_note  \n",
       "0  musk, sandalwood, lemon trees.  "
      ]
     },
     "execution_count": 14,
     "metadata": {},
     "output_type": "execute_result"
    }
   ],
   "source": [
    "Perfume_df.head(1)"
   ]
  },
  {
   "cell_type": "code",
   "execution_count": 282,
   "metadata": {},
   "outputs": [
    {
     "data": {
      "text/plain": [
       "Romantic                                                                             4221\n",
       "Feminine                                                                              327\n",
       "Dynamic                                                                               255\n",
       "Sophisticated                                                                         188\n",
       "Glamorous                                                                             176\n",
       "                                                                                     ... \n",
       "Indian oud                                                                              2\n",
       "Clementine oud                                                                          2\n",
       "Oud, Oriental oils                                                                      2\n",
       "Bergamot, Saffron, Rose, Geranium, Guaiac Wood, Cashmere, Oak, Amber, Dry Woods         2\n",
       "Jasmine, Saffron, Flower, Rose, Ylang-Ylang, Tonka Bean, Patchouli, Leather, Musk       2\n",
       "Name: Character, Length: 73, dtype: int64"
      ]
     },
     "execution_count": 282,
     "metadata": {},
     "output_type": "execute_result"
    }
   ],
   "source": [
    "Perfume_df.Character.value_counts()"
   ]
  },
  {
   "cell_type": "code",
   "execution_count": null,
   "metadata": {},
   "outputs": [],
   "source": [
    "Perfume_df['Character'].mask(Perfume_df['Character'] == \"80 ml\",\"NaN\", inplace=True)"
   ]
  },
  {
   "cell_type": "code",
   "execution_count": 17,
   "metadata": {},
   "outputs": [],
   "source": [
    "Perfume_df['Character'].mask(Perfume_df['Character'] == \"75 ml\",\"NaN\", inplace=True)"
   ]
  },
  {
   "cell_type": "code",
   "execution_count": 21,
   "metadata": {},
   "outputs": [],
   "source": [
    "Perfume_df['Character'].mask(Perfume_df['Character'] == \"Oud, Amber, Incense\",\"NaN\", inplace=True)"
   ]
  },
  {
   "cell_type": "code",
   "execution_count": 26,
   "metadata": {},
   "outputs": [],
   "source": [
    "Perfume_df['Character'].mask(Perfume_df['Character'] == \"Sea notes\",\"NaN\", inplace=True)"
   ]
  },
  {
   "cell_type": "code",
   "execution_count": 27,
   "metadata": {},
   "outputs": [],
   "source": [
    "Perfume_df['Character'].mask(Perfume_df['Character'] == \"Istanbulian rose\",\"NaN\", inplace=True)"
   ]
  },
  {
   "cell_type": "code",
   "execution_count": 28,
   "metadata": {},
   "outputs": [],
   "source": [
    "Perfume_df['Character'].mask(Perfume_df['Character'] == \"Jasmine, Cady\",\"NaN\", inplace=True)"
   ]
  },
  {
   "cell_type": "code",
   "execution_count": 29,
   "metadata": {},
   "outputs": [],
   "source": [
    "Perfume_df['Character'].mask(Perfume_df['Character'] == \"Natural Oud, Oriental mix, French mix\",\"NaN\", inplace=True)"
   ]
  },
  {
   "cell_type": "code",
   "execution_count": 30,
   "metadata": {},
   "outputs": [],
   "source": [
    "Perfume_df['Character'].mask(Perfume_df['Character'] == \"Oud, Oriental notes, French notes\",\"NaN\", inplace=True)"
   ]
  },
  {
   "cell_type": "code",
   "execution_count": 32,
   "metadata": {},
   "outputs": [],
   "source": [
    "Perfume_df['Character'].mask(Perfume_df['Character'] == \"750 ml\",\"NaN\", inplace=True)"
   ]
  },
  {
   "cell_type": "code",
   "execution_count": 33,
   "metadata": {},
   "outputs": [],
   "source": [
    "Perfume_df['Character'].mask(Perfume_df['Character'] == \"French notes\",\"NaN\", inplace=True)"
   ]
  },
  {
   "cell_type": "code",
   "execution_count": 34,
   "metadata": {},
   "outputs": [],
   "source": [
    "Perfume_df['Character'].mask(Perfume_df['Character'] == \"Oud, aromatic roses\",\"NaN\", inplace=True)"
   ]
  },
  {
   "cell_type": "code",
   "execution_count": 23,
   "metadata": {},
   "outputs": [],
   "source": [
    "Perfume_df['Character'].mask(Perfume_df['Character'] == \"Orange, grapefruit, rose, tobacco, coffee, tonka bean, sandalwood, vanilla, musk, black pepper.\",\"NaN\", inplace=True)"
   ]
  },
  {
   "cell_type": "code",
   "execution_count": 37,
   "metadata": {},
   "outputs": [],
   "source": [
    "Perfume_df['Character'].mask(Perfume_df['Character'] == \"Purity Musk\",\"NaN\", inplace=True)"
   ]
  },
  {
   "cell_type": "code",
   "execution_count": 38,
   "metadata": {},
   "outputs": [],
   "source": [
    "Perfume_df['Character'].mask(Perfume_df['Character'] == \"Amber, Natural Sandalwood, Incense\",\"NaN\", inplace=True)"
   ]
  },
  {
   "cell_type": "code",
   "execution_count": 39,
   "metadata": {},
   "outputs": [],
   "source": [
    "Perfume_df['Character'].mask(Perfume_df['Character'] == \"Moroki Oud\",\"NaN\", inplace=True)"
   ]
  },
  {
   "cell_type": "code",
   "execution_count": 40,
   "metadata": {},
   "outputs": [],
   "source": [
    "Perfume_df['Character'].mask(Perfume_df['Character'] == \"Patchouli, Bergamot, Turkey Rose, Vetiver, Sandalwood\",\"NaN\", inplace=True)"
   ]
  },
  {
   "cell_type": "code",
   "execution_count": 41,
   "metadata": {},
   "outputs": [],
   "source": [
    "Perfume_df['Character'].mask(Perfume_df['Character'] == \"Valerian, Saffron, Litchi, Rose, Peach, Raspberry, Labdanum, Vanilla, Agarwood, Teak Wood, Oud\",\"NaN\", inplace=True)"
   ]
  },
  {
   "cell_type": "code",
   "execution_count": 44,
   "metadata": {},
   "outputs": [],
   "source": [
    "Perfume_df['Character'].mask(Perfume_df['Character'] == \"Green\",\"NaN\", inplace=True)"
   ]
  },
  {
   "cell_type": "code",
   "execution_count": 45,
   "metadata": {},
   "outputs": [],
   "source": [
    "Perfume_df['Character'].mask(Perfume_df['Character'] == \"Taif rose\",\"NaN\", inplace=True)"
   ]
  },
  {
   "cell_type": "code",
   "execution_count": 46,
   "metadata": {},
   "outputs": [],
   "source": [
    "Perfume_df['Character'].mask(Perfume_df['Character'] == \"Citrus Aroma, Powder\",\"NaN\", inplace=True)"
   ]
  },
  {
   "cell_type": "code",
   "execution_count": 47,
   "metadata": {},
   "outputs": [],
   "source": [
    "Perfume_df['Character'].mask(Perfume_df['Character'] == \"Floral Scent, Powder\",\"NaN\", inplace=True)"
   ]
  },
  {
   "cell_type": "code",
   "execution_count": 49,
   "metadata": {},
   "outputs": [],
   "source": [
    "Perfume_df['Character'].mask(Perfume_df['Character'] == \"Oud, Amber, Oriental blend\",\"NaN\", inplace=True)"
   ]
  },
  {
   "cell_type": "code",
   "execution_count": 50,
   "metadata": {},
   "outputs": [],
   "source": [
    "Perfume_df['Character'].mask(Perfume_df['Character'] == \"Floral Scent\",\"NaN\", inplace=True)"
   ]
  },
  {
   "cell_type": "code",
   "execution_count": 51,
   "metadata": {},
   "outputs": [],
   "source": [
    "Perfume_df['Character'].mask(Perfume_df['Character'] == \"Mossy Woods\",\"NaN\", inplace=True)"
   ]
  },
  {
   "cell_type": "code",
   "execution_count": 54,
   "metadata": {},
   "outputs": [],
   "source": [
    "Perfume_df['Character'].mask(Perfume_df['Character'] == \"natural\",\"Natural\", inplace=True)"
   ]
  },
  {
   "cell_type": "code",
   "execution_count": 55,
   "metadata": {},
   "outputs": [],
   "source": [
    "Perfume_df['Character'].mask(Perfume_df['Character'] == \"Floral,Citrus\",\"NaN\", inplace=True)"
   ]
  },
  {
   "cell_type": "code",
   "execution_count": 56,
   "metadata": {},
   "outputs": [],
   "source": [
    "Perfume_df['Character'].mask(Perfume_df['Character'] == \"Oud, Rose, musk, Amber\",\"NaN\", inplace=True)"
   ]
  },
  {
   "cell_type": "code",
   "execution_count": 61,
   "metadata": {},
   "outputs": [],
   "source": [
    "Perfume_df['Character'].mask(Perfume_df['Character'] == \"Kids\",\"Romantic\", inplace=True)"
   ]
  },
  {
   "cell_type": "code",
   "execution_count": 62,
   "metadata": {},
   "outputs": [],
   "source": [
    "Perfume_df['Character'].mask(Perfume_df['Character'] == \"250 ml\",\"Sensual\", inplace=True)"
   ]
  },
  {
   "cell_type": "code",
   "execution_count": 63,
   "metadata": {},
   "outputs": [],
   "source": [
    "Perfume_df['Character'].mask(Perfume_df['Character'] == \"40 ml\",\"Feminine\", inplace=True)"
   ]
  },
  {
   "cell_type": "code",
   "execution_count": 66,
   "metadata": {},
   "outputs": [],
   "source": [
    "Perfume_df['Character'].mask(Perfume_df['Character'] == \"55 ml\",\"NaN\", inplace=True)"
   ]
  },
  {
   "cell_type": "code",
   "execution_count": 68,
   "metadata": {},
   "outputs": [],
   "source": [
    "Perfume_df['Character'].mask(Perfume_df['Character'] == \"25 ml\",\"NaN\", inplace=True)"
   ]
  },
  {
   "cell_type": "code",
   "execution_count": 83,
   "metadata": {},
   "outputs": [],
   "source": [
    "Perfume_df['Fragrance_Family'].mask(Perfume_df['Name'] == \"Ajwaak Rivan Freshener - 500 ml\",\"Fruity\", inplace=True)"
   ]
  },
  {
   "cell_type": "code",
   "execution_count": 84,
   "metadata": {},
   "outputs": [],
   "source": [
    "Perfume_df['Character'].mask(Perfume_df['Name'] == \"Ajwaak Rivan Freshener - 500 ml\",\"NaN\", inplace=True)"
   ]
  },
  {
   "cell_type": "code",
   "execution_count": 86,
   "metadata": {},
   "outputs": [],
   "source": [
    "Perfume_df['Ingredients'].mask(Perfume_df['Name'] == \"Ajwaak Rivan Freshener - 500 ml\",\"Red Berry And Orange Blossom\", inplace=True)"
   ]
  },
  {
   "cell_type": "code",
   "execution_count": 77,
   "metadata": {},
   "outputs": [],
   "source": [
    "Perfume_df['Character'].mask(Perfume_df['Character'] == \"White Jasmine\",\"NaN\", inplace=True)"
   ]
  },
  {
   "cell_type": "code",
   "execution_count": 70,
   "metadata": {},
   "outputs": [],
   "source": [
    "Perfume_df['Character'].mask(Perfume_df['Character'] == \"Tuberose, natural jasmine and Indian kiku plant\",\"NaN\", inplace=True)"
   ]
  },
  {
   "cell_type": "code",
   "execution_count": 91,
   "metadata": {},
   "outputs": [],
   "source": [
    "Perfume_df['Ingredients'].mask(Perfume_df['Character'] == \"Rose, Honey and Patchouli\",\"Red Berry And Orange Blossom\", inplace=True)"
   ]
  },
  {
   "cell_type": "code",
   "execution_count": 92,
   "metadata": {},
   "outputs": [],
   "source": [
    "Perfume_df['Fragrance_Family'].mask(Perfume_df['Character'] == \"Rose, Honey and Patchouli\",\"Floral\", inplace=True)"
   ]
  },
  {
   "cell_type": "code",
   "execution_count": 93,
   "metadata": {},
   "outputs": [],
   "source": [
    "Perfume_df['Character'].mask(Perfume_df['Character'] == \"Rose, Honey and Patchouli\",\"NaN\", inplace=True)"
   ]
  },
  {
   "cell_type": "code",
   "execution_count": 95,
   "metadata": {},
   "outputs": [],
   "source": [
    "Perfume_df['Fragrance_Family'].mask(Perfume_df['Character'] == \"Strawberry, golden cake, whipped cream\",\"Oriental\", inplace=True)"
   ]
  },
  {
   "cell_type": "code",
   "execution_count": 96,
   "metadata": {},
   "outputs": [],
   "source": [
    "Perfume_df['Ingredients'].mask(Perfume_df['Character'] == \"Strawberry, golden cake, whipped cream\",\"Strawberry, golden cake, whipped cream\", inplace=True)"
   ]
  },
  {
   "cell_type": "code",
   "execution_count": 97,
   "metadata": {},
   "outputs": [],
   "source": [
    "Perfume_df['Character'].mask(Perfume_df['Character'] == \"Strawberry, golden cake, whipped cream\",\"NaN\", inplace=True)"
   ]
  },
  {
   "cell_type": "code",
   "execution_count": 99,
   "metadata": {},
   "outputs": [],
   "source": [
    "Perfume_df['Fragrance_Family'].mask(Perfume_df['Character'] == \"Sweet strawberry puree, acai berries, lemon juice, sugar crystals, essential oils\",\"Friuty\", inplace=True)"
   ]
  },
  {
   "cell_type": "code",
   "execution_count": 101,
   "metadata": {},
   "outputs": [],
   "source": [
    "Perfume_df['Ingredients'].mask(Perfume_df['Character'] == \"Sweet strawberry puree, acai berries, lemon juice, sugar crystals, essential oils\",\"Sweet strawberry puree, acai berries, lemon juice, sugar crystals, essential oils\", inplace=True)"
   ]
  },
  {
   "cell_type": "code",
   "execution_count": 102,
   "metadata": {},
   "outputs": [],
   "source": [
    "Perfume_df['Character'].mask(Perfume_df['Character'] == \"Sweet strawberry puree, acai berries, lemon juice, sugar crystals, essential oils\",\"NaN\", inplace=True)"
   ]
  },
  {
   "cell_type": "code",
   "execution_count": 52,
   "metadata": {},
   "outputs": [],
   "source": [
    "Perfume_df['Character'].mask(Perfume_df['Character'] == \"AQUA (WATER)â€¢ CYCLOPENTASILOXANEâ€¢ ETHYLHEXYL METHOXYCINNAMATEâ€¢ GLYCERINâ€¢ PENTYLENE GLYCOLâ€¢ CETYL PEG/PPG-10/1 DIMETHICONEâ€¢ BUTYLENE GLYCOLâ€¢ SILICAâ€¢ PHENYL TRIMETHICONEâ€¢ TITANIUM DIOXIDE [NANO]â€¢ NYLON-12â€¢ PHENOXYETHANOLâ€¢ DISTEARDIMONIUM HECTORITEâ€¢ TOCOPHER\",\"NaN\", inplace=True)"
   ]
  },
  {
   "cell_type": "code",
   "execution_count": 104,
   "metadata": {},
   "outputs": [],
   "source": [
    "Perfume_df['Fragrance_Family'].mask(Perfume_df['Character'] == \"Citrus juice, spring water, sweet mango\",\"Citrus\", inplace=True)"
   ]
  },
  {
   "cell_type": "code",
   "execution_count": 105,
   "metadata": {},
   "outputs": [],
   "source": [
    "Perfume_df['Ingredients'].mask(Perfume_df['Character'] == \"Citrus juice, spring water, sweet mango\",\"Citrus juice, spring water, sweet mango\", inplace=True)"
   ]
  },
  {
   "cell_type": "code",
   "execution_count": 106,
   "metadata": {},
   "outputs": [],
   "source": [
    "Perfume_df['Character'].mask(Perfume_df['Character'] == \"Citrus juice, spring water, sweet mango\",\"NaN\", inplace=True)"
   ]
  },
  {
   "cell_type": "code",
   "execution_count": 111,
   "metadata": {},
   "outputs": [],
   "source": [
    "Perfume_df['Fragrance_Family'].mask(Perfume_df['Character'] == \"Sorrento lemon, sugar cane, lemon peel, essential oils\",\"Citrus\", inplace=True)\n",
    "Perfume_df['Ingredients'].mask(Perfume_df['Character'] == \"Sorrento lemon, sugar cane, lemon peel, essential oils\",\"Sorrento lemon, sugar cane, lemon peel, essential oils\", inplace=True)\n",
    "Perfume_df['Character'].mask(Perfume_df['Character'] == \"Sorrento lemon, sugar cane, lemon peel, essential oils\",\"NaN\", inplace=True)"
   ]
  },
  {
   "cell_type": "code",
   "execution_count": 113,
   "metadata": {},
   "outputs": [],
   "source": [
    "Perfume_df['Fragrance_Family'].mask(Perfume_df['Character'] == \"Creamy Coconut, Mahogany, English Lavender, Essential Oils\",\"Aromatic\", inplace=True)\n",
    "Perfume_df['Ingredients'].mask(Perfume_df['Character'] == \"Creamy Coconut, Mahogany, English Lavender, Essential Oils\",\"Creamy Coconut, Mahogany, English Lavender, Essential Oils\", inplace=True)\n",
    "Perfume_df['Character'].mask(Perfume_df['Character'] == \"Creamy Coconut, Mahogany, English Lavender, Essential Oils\",\"NaN\", inplace=True)"
   ]
  },
  {
   "cell_type": "code",
   "execution_count": 114,
   "metadata": {},
   "outputs": [],
   "source": [
    "Perfume_df['Fragrance_Family'].mask(Perfume_df['Character'] == \"Blue Freesia, White Plum, Fresh Clementine, Essential Oils\",\"Floral\", inplace=True)\n",
    "Perfume_df['Ingredients'].mask(Perfume_df['Character'] == \"Blue Freesia, White Plum, Fresh Clementine, Essential Oils\",\"Blue Freesia, White Plum, Fresh Clementine, Essential Oils\", inplace=True)\n",
    "Perfume_df['Character'].mask(Perfume_df['Character'] == \"Blue Freesia, White Plum, Fresh Clementine, Essential Oils\",\"NaN\", inplace=True)"
   ]
  },
  {
   "cell_type": "code",
   "execution_count": 116,
   "metadata": {},
   "outputs": [],
   "source": [
    "Perfume_df['Fragrance_Family'].mask(Perfume_df['Character'] == \"White gardenia, jasmine petals, mongolia flowers, pink nectarine, cotton musk\",\"Soft Floral\", inplace=True)\n",
    "Perfume_df['Ingredients'].mask(Perfume_df['Character'] == \"White gardenia, jasmine petals, mongolia flowers, pink nectarine, cotton musk\",\"White gardenia, jasmine petals, mongolia flowers, pink nectarine, cotton musk\", inplace=True)\n",
    "Perfume_df['Character'].mask(Perfume_df['Character'] == \"White gardenia, jasmine petals, mongolia flowers, pink nectarine, cotton musk\",\"NaN\", inplace=True)"
   ]
  },
  {
   "cell_type": "code",
   "execution_count": 118,
   "metadata": {},
   "outputs": [],
   "source": [
    "Perfume_df['Fragrance_Family'].mask(Perfume_df['Character'] == \"Vanilla, musk, cranberry, Rose and fruity Blossom\",\"Floral Oriental\", inplace=True)\n",
    "Perfume_df['Ingredients'].mask(Perfume_df['Character'] == \"Vanilla, musk, cranberry, Rose and fruity Blossom\",\"Vanilla, musk, cranberry, Rose and fruity Blossom\", inplace=True)\n",
    "Perfume_df['Character'].mask(Perfume_df['Character'] == \"Vanilla, musk, cranberry, Rose and fruity Blossom\",\"NaN\", inplace=True)"
   ]
  },
  {
   "cell_type": "code",
   "execution_count": 121,
   "metadata": {},
   "outputs": [],
   "source": [
    "Perfume_df['Fragrance_Family'].mask(Perfume_df['Character'] == \"Ocean Water\",\"Aquatic\", inplace=True)\n",
    "Perfume_df['Ingredients'].mask(Perfume_df['Character'] == \"Ocean Water\",\"Ocean Water\", inplace=True)\n",
    "Perfume_df['Character'].mask(Perfume_df['Character'] == \"Ocean Water\",\"NaN\", inplace=True)"
   ]
  },
  {
   "cell_type": "code",
   "execution_count": 123,
   "metadata": {},
   "outputs": [],
   "source": [
    "Perfume_df['Fragrance_Family'].mask(Perfume_df['Character'] == \"Black Pepper, Pink Pepper, Sage, Bergamot, Frangipani, Linden, White Flowers, Cedar, Patchouli, Amber\",\"Aromatic\", inplace=True)\n",
    "Perfume_df['Ingredients'].mask(Perfume_df['Character'] == \"Black Pepper, Pink Pepper, Sage, Bergamot, Frangipani, Linden, White Flowers, Cedar, Patchouli, Amber\",\"Black Pepper, Pink Pepper, Sage, Bergamot, Frangipani, Linden, White Flowers, Cedar, Patchouli, Amber\", inplace=True)\n",
    "Perfume_df['Size'].mask(Perfume_df['Character'] == \"Black Pepper, Pink Pepper, Sage, Bergamot, Frangipani, Linden, White Flowers, Cedar, Patchouli, Amber\",\"500 ml\", inplace=True)\n",
    "Perfume_df['Character'].mask(Perfume_df['Character'] == \"Black Pepper, Pink Pepper, Sage, Bergamot, Frangipani, Linden, White Flowers, Cedar, Patchouli, Amber\",\"NaN\", inplace=True)"
   ]
  },
  {
   "cell_type": "code",
   "execution_count": 125,
   "metadata": {},
   "outputs": [],
   "source": [
    "Perfume_df['Fragrance_Family'].mask(Perfume_df['Character'] == \"pear, Japanese cherry blossoms, sandalwood\",\"Fruity\", inplace=True)\n",
    "Perfume_df['Ingredients'].mask(Perfume_df['Character'] == \"pear, Japanese cherry blossoms, sandalwood\",\"pear, Japanese cherry blossoms, sandalwood\", inplace=True)\n",
    "Perfume_df['Character'].mask(Perfume_df['Character'] == \"pear, Japanese cherry blossoms, sandalwood\",\"NaN\", inplace=True)"
   ]
  },
  {
   "cell_type": "code",
   "execution_count": 127,
   "metadata": {},
   "outputs": [],
   "source": [
    "Perfume_df['Fragrance_Family'].mask(Perfume_df['Character'] == \"Pink hibiscus, guava juice, coconut, essential oils\",\"Aromatic\", inplace=True)\n",
    "Perfume_df['Ingredients'].mask(Perfume_df['Character'] == \"Pink hibiscus, guava juice, coconut, essential oils\",\"Pink hibiscus, guava juice, coconut, essential oils\", inplace=True)\n",
    "Perfume_df['Character'].mask(Perfume_df['Character'] == \"Pink hibiscus, guava juice, coconut, essential oilsr\",\"NaN\", inplace=True)"
   ]
  },
  {
   "cell_type": "code",
   "execution_count": 131,
   "metadata": {},
   "outputs": [],
   "source": [
    "Perfume_df['Fragrance_Family'].mask(Perfume_df['Character'] == \"Black Pepper, Pink Pepper, Bergamot, Rose, Apple, Lily Of The Valley, Musk, Cedar\",\"Woody\", inplace=True)\n",
    "Perfume_df['Ingredients'].mask(Perfume_df['Character'] == \"Black Pepper, Pink Pepper, Bergamot, Rose, Apple, Lily Of The Valley, Musk, Cedar\",\"Black Pepper, Pink Pepper, Bergamot, Rose, Apple, Lily Of The Valley, Musk, Cedar\", inplace=True)\n",
    "Perfume_df['Character'].mask(Perfume_df['Character'] == \"Black Pepper, Pink Pepper, Bergamot, Rose, Apple, Lily Of The Valley, Musk, Cedar\",\"NaN\", inplace=True)"
   ]
  },
  {
   "cell_type": "code",
   "execution_count": 133,
   "metadata": {},
   "outputs": [],
   "source": [
    "Perfume_df['Fragrance_Family'].mask(Perfume_df['Character'] == \"Apple, Berry, Melon, Lily, Tahitian Rose, Jasmine, Marine Notes, Coconut, Sandalwood, Rosewood, Amber\",\"Woody\", inplace=True)\n",
    "Perfume_df['Ingredients'].mask(Perfume_df['Character'] == \"Apple, Berry, Melon, Lily, Tahitian Rose, Jasmine, Marine Notes, Coconut, Sandalwood, Rosewood, Amber\",\"Apple, Berry, Melon, Lily, Tahitian Rose, Jasmine, Marine Notes, Coconut, Sandalwood, Rosewood, Amber\", inplace=True)\n",
    "Perfume_df['Character'].mask(Perfume_df['Character'] == \"Apple, Berry, Melon, Lily, Tahitian Rose, Jasmine, Marine Notes, Coconut, Sandalwood, Rosewood, Amber\",\"NaN\", inplace=True)"
   ]
  },
  {
   "cell_type": "code",
   "execution_count": 135,
   "metadata": {},
   "outputs": [],
   "source": [
    "Perfume_df['Fragrance_Family'].mask(Perfume_df['Character'] == \"Eucalyptus essential oil, peppermint essential oil\",\"Aromatic\", inplace=True)\n",
    "Perfume_df['Ingredients'].mask(Perfume_df['Character'] == \"Eucalyptus essential oil, peppermint essential oil\",\"Eucalyptus essential oil, peppermint essential oil\", inplace=True)\n",
    "Perfume_df['Character'].mask(Perfume_df['Character'] == \"Eucalyptus essential oil, peppermint essential oil\",\"NaN\", inplace=True)"
   ]
  },
  {
   "cell_type": "code",
   "execution_count": 139,
   "metadata": {},
   "outputs": [],
   "source": [
    "Perfume_df['Fragrance_Family'].mask(Perfume_df['Character'] == \"Oud, Amber, incense\",\"Oriental\", inplace=True)\n",
    "Perfume_df['Ingredients'].mask(Perfume_df['Character'] == \"Oud, Amber, incense\",\"Oud, Amber, incense\", inplace=True)\n",
    "Perfume_df['Character'].mask(Perfume_df['Character'] == \"Oud, Amber, incense\",\"NaN\", inplace=True)"
   ]
  },
  {
   "cell_type": "code",
   "execution_count": 140,
   "metadata": {},
   "outputs": [],
   "source": [
    "Perfume_df['Fragrance_Family'].mask(Perfume_df['Character'] == \"Black raspberry, burgundy rose, dark vanilla bean, plum musk, bergamot incense\",\"Fruity\", inplace=True)\n",
    "Perfume_df['Ingredients'].mask(Perfume_df['Character'] == \"Black raspberry, burgundy rose, dark vanilla bean, plum musk, bergamot incense\",\"Black raspberry, burgundy rose, dark vanilla bean, plum musk, bergamot incense\", inplace=True)\n",
    "Perfume_df['Character'].mask(Perfume_df['Character'] == \"Black raspberry, burgundy rose, dark vanilla bean, plum musk, bergamot incense\",\"NaN\", inplace=True)"
   ]
  },
  {
   "cell_type": "code",
   "execution_count": 369,
   "metadata": {},
   "outputs": [],
   "source": [
    "Perfume_df.drop(Perfume_df[Perfume_df['Character'] == \"Body Oil\"].index ,axis=0, inplace=True) \n",
    "Perfume_df.drop(Perfume_df[Perfume_df['Character'] == \"After Shave Balm\"].index ,axis=0, inplace=True) \n",
    "Perfume_df.drop(Perfume_df[Perfume_df['Name'].str.contains(\"Oud Coal\")].index ,axis=0, inplace=True) \n",
    "Perfume_df.drop(Perfume_df[Perfume_df['Name'] == \"Maison Rebatchi Cuir D' Iris Candle - 250 g\"].index ,axis=0, inplace=True)\n",
    "Perfume_df.drop(Perfume_df[Perfume_df['Character'] == \"Deodorant\"].index ,axis=0, inplace=True) \n",
    "Perfume_df.drop(Perfume_df[Perfume_df['Character'] == \"Body Lotion\"].index ,axis=0, inplace=True) \n",
    "Perfume_df.drop(Perfume_df[Perfume_df['Character'] == \"Shower Gel\"].index ,axis=0, inplace=True) \n"
   ]
  },
  {
   "cell_type": "code",
   "execution_count": 144,
   "metadata": {},
   "outputs": [],
   "source": [
    "Perfume_df['Fragrance_Family'].mask(Perfume_df['Character'] == \"Grapefruit, Black Currant, Grapes, Peaches, Red Fruits, Strawberry, Raspberry, Orange Blossom, Vanilla, Sweet Flavors, Smoked Woods\",\"Floral Oriental\", inplace=True)\n",
    "Perfume_df['Ingredients'].mask(Perfume_df['Character'] == \"Grapefruit, Black Currant, Grapes, Peaches, Red Fruits, Strawberry, Raspberry, Orange Blossom, Vanilla, Sweet Flavors, Smoked Woods\",\"Grapefruit, Black Currant, Grapes, Peaches, Red Fruits, Strawberry, Raspberry, Orange Blossom, Vanilla, Sweet Flavors, Smoked Woods\", inplace=True)\n",
    "Perfume_df['Character'].mask(Perfume_df['Character'] == \"Grapefruit, Black Currant, Grapes, Peaches, Red Fruits, Strawberry, Raspberry, Orange Blossom, Vanilla, Sweet Flavors, Smoked Woods\",\"NaN\", inplace=True)"
   ]
  },
  {
   "cell_type": "code",
   "execution_count": 147,
   "metadata": {},
   "outputs": [],
   "source": [
    "Perfume_df['Fragrance_Family'].mask(Perfume_df['Character'] == \"Pink hibiscus, guava juice, coconut, essential oils\",\"Aromatic\", inplace=True)\n",
    "Perfume_df['Ingredients'].mask(Perfume_df['Character'] == \"Pink hibiscus, guava juice, coconut, essential oils\",\"Pink hibiscus, guava juice, coconut, essential oils\", inplace=True)\n",
    "Perfume_df['Character'].mask(Perfume_df['Character'] == \"Pink hibiscus, guava juice, coconut, essential oils\",\"NaN\", inplace=True)"
   ]
  },
  {
   "cell_type": "code",
   "execution_count": 149,
   "metadata": {},
   "outputs": [],
   "source": [
    "Perfume_df['Fragrance_Family'].mask(Perfume_df['Character'] == \"Ylang-Ylang\",\"Oriental\", inplace=True)\n",
    "Perfume_df['Ingredients'].mask(Perfume_df['Character'] == \"Ylang-Ylang\",\"Ylang-Ylang\", inplace=True)\n",
    "Perfume_df['Character'].mask(Perfume_df['Character'] == \"Ylang-Ylang\",\"NaN\", inplace=True)"
   ]
  },
  {
   "cell_type": "code",
   "execution_count": 151,
   "metadata": {},
   "outputs": [],
   "source": [
    "Perfume_df['Fragrance_Family'].mask(Perfume_df['Character'] == \"Vanilla, Indian oud wood, soft almond candy, roses and saffron\",\"Oriental\", inplace=True)\n",
    "Perfume_df['Ingredients'].mask(Perfume_df['Character'] == \"Vanilla, Indian oud wood, soft almond candy, roses and saffron\",\"Vanilla, Indian oud wood, soft almond candy, roses and saffron\", inplace=True)\n",
    "Perfume_df['Character'].mask(Perfume_df['Character'] == \"Vanilla, Indian oud wood, soft almond candy, roses and saffron\",\"NaN\", inplace=True)"
   ]
  },
  {
   "cell_type": "code",
   "execution_count": 153,
   "metadata": {},
   "outputs": [],
   "source": [
    "Perfume_df['Fragrance_Family'].mask(Perfume_df['Character'] == \"Woody,Woody\",\"Woody\", inplace=True)\n",
    "Perfume_df['Ingredients'].mask(Perfume_df['Character'] == \"Woody,Woody\",\"Orange Oil, Rose, Kashmiri Wood\", inplace=True)\n",
    "Perfume_df['Character'].mask(Perfume_df['Character'] == \"Woody,Woody\",\"NaN\", inplace=True)"
   ]
  },
  {
   "cell_type": "code",
   "execution_count": 155,
   "metadata": {},
   "outputs": [],
   "source": [
    "Perfume_df['Fragrance_Family'].mask(Perfume_df['Character'] == \"Eau de Parfum\",\"NaN\", inplace=True)\n",
    "Perfume_df['Ingredients'].mask(Perfume_df['Character'] == \"Eau de Parfum\",\"NaN\", inplace=True)\n",
    "Perfume_df['Character'].mask(Perfume_df['Character'] == \"Eau de Parfum\",\"NaN\", inplace=True)"
   ]
  },
  {
   "cell_type": "code",
   "execution_count": 158,
   "metadata": {},
   "outputs": [],
   "source": [
    "Perfume_df['Fragrance_Family'].mask(Perfume_df['Character'] == \"Oud, Rose\",\"Oud\", inplace=True)\n",
    "Perfume_df['Ingredients'].mask(Perfume_df['Character'] == \"Oud, Rose\",\"Oud, Rose\", inplace=True)\n",
    "Perfume_df['Character'].mask(Perfume_df['Character'] == \"Oud, Rose\",\"NaN\", inplace=True)"
   ]
  },
  {
   "cell_type": "code",
   "execution_count": 160,
   "metadata": {},
   "outputs": [],
   "source": [
    "Perfume_df['Fragrance_Family'].mask(Perfume_df['Character'] == \"Dark Cocoa, Patchouli, Oud\",\"Oriental\", inplace=True)\n",
    "Perfume_df['Ingredients'].mask(Perfume_df['Character'] == \"Dark Cocoa, Patchouli, Oud\",\"Dark Cocoa, Patchouli, Oud\", inplace=True)\n",
    "Perfume_df['Character'].mask(Perfume_df['Character'] == \"Dark Cocoa, Patchouli, Oud\",\"NaN\", inplace=True)"
   ]
  },
  {
   "cell_type": "code",
   "execution_count": 162,
   "metadata": {},
   "outputs": [],
   "source": [
    "Perfume_df['Fragrance_Family'].mask(Perfume_df['Character'] == \"Apples, violet leaves, Cardamom, oud, leather, patchouli\",\"Oriental\", inplace=True)\n",
    "Perfume_df['Ingredients'].mask(Perfume_df['Character'] == \"Apples, violet leaves, Cardamom, oud, leather, patchouli\",\"Apples, violet leaves, Cardamom, oud, leather, patchouli\", inplace=True)\n",
    "Perfume_df['Character'].mask(Perfume_df['Character'] == \"Apples, violet leaves, Cardamom, oud, leather, patchouli\",\"NaN\", inplace=True)"
   ]
  },
  {
   "cell_type": "code",
   "execution_count": 164,
   "metadata": {},
   "outputs": [],
   "source": [
    "Perfume_df['Fragrance_Family'].mask(Perfume_df['Character'] == \"Orange, Caramel, Ylang-ylang, Oud, Amber\",\"Woody\", inplace=True)\n",
    "Perfume_df['Ingredients'].mask(Perfume_df['Character'] == \"Orange, Caramel, Ylang-ylang, Oud, Amber\",\"Orange, Caramel, Ylang-ylang, Oud, Amber\", inplace=True)\n",
    "Perfume_df['Character'].mask(Perfume_df['Character'] == \"Orange, Caramel, Ylang-ylang, Oud, Amber\",\"NaN\", inplace=True)"
   ]
  },
  {
   "cell_type": "code",
   "execution_count": 166,
   "metadata": {},
   "outputs": [],
   "source": [
    "Perfume_df['Fragrance_Family'].mask(Perfume_df['Character'] == \"Dehn Oud, Moroccan Oud\",\"Oud\", inplace=True)\n",
    "Perfume_df['Ingredients'].mask(Perfume_df['Character'] == \"Dehn Oud, Moroccan Oud\",\"Dehn Oud, Moroccan Oud\", inplace=True)\n",
    "Perfume_df['Character'].mask(Perfume_df['Character'] == \"Dehn Oud, Moroccan Oud\",\"NaN\", inplace=True)"
   ]
  },
  {
   "cell_type": "code",
   "execution_count": 175,
   "metadata": {},
   "outputs": [],
   "source": [
    "Perfume_df['Fragrance_Family'].mask(Perfume_df['Character'] == \"Oud, woods, wild roses\",\"Oriental\", inplace=True)\n",
    "Perfume_df['Ingredients'].mask(Perfume_df['Character'] == \"Oud, woods, wild roses\",\"Oud, woods, wild roses\", inplace=True)\n",
    "Perfume_df['Character'].mask(Perfume_df['Character'] == \"Oud, woods, wild roses\",\"NaN\", inplace=True)"
   ]
  },
  {
   "cell_type": "code",
   "execution_count": 177,
   "metadata": {},
   "outputs": [],
   "source": [
    "Perfume_df['Fragrance_Family'].mask(Perfume_df['Character'] == \"Soft Oriental\",\"Soft Oriental\", inplace=True)\n",
    "Perfume_df['Ingredients'].mask(Perfume_df['Character'] == \"Soft Oriental\",\"Pepper, Vanille, Lavender, , Anise\", inplace=True)\n",
    "Perfume_df['Character'].mask(Perfume_df['Character'] == \"Soft Oriental\",\"NaN\", inplace=True)"
   ]
  },
  {
   "cell_type": "code",
   "execution_count": 180,
   "metadata": {},
   "outputs": [],
   "source": [
    "Perfume_df['Fragrance_Family'].mask(Perfume_df['Character'] == \"Citrus, Oud\",\"Citrus\", inplace=True)\n",
    "Perfume_df['Ingredients'].mask(Perfume_df['Character'] == \"Citrus, Oud\",\"Citrus, Oud\", inplace=True)\n",
    "Perfume_df['Character'].mask(Perfume_df['Character'] == \"Citrus, Oud\",\"NaN\", inplace=True)"
   ]
  },
  {
   "cell_type": "code",
   "execution_count": 183,
   "metadata": {},
   "outputs": [],
   "source": [
    "Perfume_df['Fragrance_Family'].mask(Perfume_df['Character'] == \"Cedar, Rose, Violet, Milk Notes, Vanilla, Sandalwood, White Musk\",\"Woody Oriental\", inplace=True)\n",
    "Perfume_df['Ingredients'].mask(Perfume_df['Character'] == \"Cedar, Rose, Violet, Milk Notes, Vanilla, Sandalwood, White Musk\",\"Cedar, Rose, Violet, Milk Notes, Vanilla, Sandalwood, White Musk\", inplace=True)\n",
    "Perfume_df['Character'].mask(Perfume_df['Character'] == \"Cedar, Rose, Violet, Milk Notes, Vanilla, Sandalwood, White Musk\",\"NaN\", inplace=True)"
   ]
  },
  {
   "cell_type": "code",
   "execution_count": 186,
   "metadata": {},
   "outputs": [],
   "source": [
    "Perfume_df['Fragrance_Family'].mask(Perfume_df['Character'] == \"Oud, Oriental notes\",\"Oriental\", inplace=True)\n",
    "Perfume_df['Ingredients'].mask(Perfume_df['Character'] == \"Oud, Oriental notes\",\"Oud, Oriental notes\", inplace=True)\n",
    "Perfume_df['Character'].mask(Perfume_df['Character'] == \"Oud, Oriental notes\",\"NaN\", inplace=True)"
   ]
  },
  {
   "cell_type": "code",
   "execution_count": 189,
   "metadata": {},
   "outputs": [],
   "source": [
    "Perfume_df['Fragrance_Family'].mask(Perfume_df['Character'] == \"Pomegranate, Pineapple, Lychee, Passion Fruit, Cranberry, Blackcurrant, Violet Sugar\",\"Fruity\", inplace=True)\n",
    "Perfume_df['Ingredients'].mask(Perfume_df['Character'] == \"Pomegranate, Pineapple, Lychee, Passion Fruit, Cranberry, Blackcurrant, Violet Sugar\",\"Pomegranate, Pineapple, Lychee, Passion Fruit, Cranberry, Blackcurrant, Violet Sugar\", inplace=True)\n",
    "Perfume_df['Character'].mask(Perfume_df['Character'] == \"Pomegranate, Pineapple, Lychee, Passion Fruit, Cranberry, Blackcurrant, Violet Sugar\",\"NaN\", inplace=True)"
   ]
  },
  {
   "cell_type": "code",
   "execution_count": 191,
   "metadata": {},
   "outputs": [],
   "source": [
    "Perfume_df['Fragrance_Family'].mask(Perfume_df['Character'] == \"Aromatic,Woody\",\"Woody\", inplace=True)\n",
    "Perfume_df['Ingredients'].mask(Perfume_df['Character'] == \"Aromatic,Woody\",\"Citruses, Rhubarb, Juniper Berries, Spices, Cardamom, Water Notes, Patchouli , Woodsy Notes, Tonka Bean, Ambroxan\", inplace=True)\n",
    "Perfume_df['Year'].mask(Perfume_df['Character'] == \"Aromatic,Woody\",\"NaN\", inplace=True)\n",
    "Perfume_df['Character'].mask(Perfume_df['Character'] == \"Aromatic,Woody\",\"NaN\", inplace=True)"
   ]
  },
  {
   "cell_type": "code",
   "execution_count": null,
   "metadata": {},
   "outputs": [],
   "source": [
    "Perfume_df['Fragrance_Family'].mask(Perfume_df['Character'] == \"Aromatic,Woody\",\"Woody\", inplace=True)\n",
    "Perfume_df['Ingredients'].mask(Perfume_df['Character'] == \"Aromatic,Woody\",\"Citruses, Rhubarb, Juniper Berries, Spices, Cardamom, Water Notes, Patchouli , Woodsy Notes, Tonka Bean, Ambroxan\", inplace=True)\n",
    "Perfume_df['Year'].mask(Perfume_df['Character'] == \"Aromatic,Woody\",\"NaN\", inplace=True)\n",
    "Perfume_df['Character'].mask(Perfume_df['Character'] == \"Aromatic,Woody\",\"NaN\", inplace=True)"
   ]
  },
  {
   "cell_type": "code",
   "execution_count": 194,
   "metadata": {},
   "outputs": [],
   "source": [
    "Perfume_df['Fragrance_Family'].mask(Perfume_df['Character'] == \"Peach Tea\",\"Fruity\", inplace=True)\n",
    "Perfume_df['Ingredients'].mask(Perfume_df['Character'] == \"Peach Teay\",\"Peach Tea\", inplace=True)\n",
    "Perfume_df['Character'].mask(Perfume_df['Character'] == \"Peach Tea\",\"NaN\", inplace=True)"
   ]
  },
  {
   "cell_type": "code",
   "execution_count": 196,
   "metadata": {},
   "outputs": [],
   "source": [
    "Perfume_df['Fragrance_Family'].mask(Perfume_df['Character'] == \"Sweet notes\",\"Floral Oriental\", inplace=True)\n",
    "Perfume_df['Ingredients'].mask(Perfume_df['Character'] == \"Sweet notes\",\"Sweet notes\", inplace=True)\n",
    "Perfume_df['Character'].mask(Perfume_df['Character'] == \"Sweet notes\",\"NaN\", inplace=True)"
   ]
  },
  {
   "cell_type": "code",
   "execution_count": 169,
   "metadata": {},
   "outputs": [],
   "source": [
    "Perfume_df['Ingredients'].mask(Perfume_df['Character'] == \"Oud, Vanilla,\",\"Oud, Vanilla\", inplace=True)\n",
    "Perfume_df['Character'].mask(Perfume_df['Character'] == \"Oud, Vanilla,\",\"NaN\", inplace=True)"
   ]
  },
  {
   "cell_type": "code",
   "execution_count": 171,
   "metadata": {},
   "outputs": [],
   "source": [
    "Perfume_df['Character'].mask(Perfume_df['Character'] == \"1619\",\"NaN\", inplace=True)"
   ]
  },
  {
   "cell_type": "code",
   "execution_count": 454,
   "metadata": {},
   "outputs": [
    {
     "data": {
      "text/plain": [
       "Romantic         3632\n",
       "Charismatic      1060\n",
       "Feminine          310\n",
       "Dynamic           228\n",
       "NaN               184\n",
       "Sophisticated     162\n",
       "Glamorous         133\n",
       "Classical         114\n",
       "Masculine          57\n",
       "Sensual            49\n",
       "Extravagant        44\n",
       "Natural            35\n",
       "Fresh              18\n",
       "Name: Character, dtype: int64"
      ]
     },
     "execution_count": 454,
     "metadata": {},
     "output_type": "execute_result"
    }
   ],
   "source": [
    "Perfume_df.Character.value_counts()"
   ]
  },
  {
   "cell_type": "code",
   "execution_count": 455,
   "metadata": {},
   "outputs": [
    {
     "data": {
      "text/plain": [
       "(6522, 18)"
      ]
     },
     "execution_count": 455,
     "metadata": {},
     "output_type": "execute_result"
    }
   ],
   "source": [
    "Perfume_df.shape"
   ]
  },
  {
   "cell_type": "code",
   "execution_count": 456,
   "metadata": {},
   "outputs": [],
   "source": [
    "Perfume_df.to_csv(\"cleaned_4.csv\")"
   ]
  },
  {
   "cell_type": "code",
   "execution_count": 453,
   "metadata": {},
   "outputs": [
    {
     "data": {
      "text/html": [
       "<div>\n",
       "<style scoped>\n",
       "    .dataframe tbody tr th:only-of-type {\n",
       "        vertical-align: middle;\n",
       "    }\n",
       "\n",
       "    .dataframe tbody tr th {\n",
       "        vertical-align: top;\n",
       "    }\n",
       "\n",
       "    .dataframe thead th {\n",
       "        text-align: right;\n",
       "    }\n",
       "</style>\n",
       "<table border=\"1\" class=\"dataframe\">\n",
       "  <thead>\n",
       "    <tr style=\"text-align: right;\">\n",
       "      <th></th>\n",
       "      <th>Name</th>\n",
       "      <th>Price</th>\n",
       "      <th>Description</th>\n",
       "      <th>Rate</th>\n",
       "      <th>Rating_count</th>\n",
       "      <th>image</th>\n",
       "      <th>Brand</th>\n",
       "      <th>Gender</th>\n",
       "      <th>Product_Type</th>\n",
       "      <th>Character</th>\n",
       "      <th>Fragrance_Family</th>\n",
       "      <th>Size</th>\n",
       "      <th>Year</th>\n",
       "      <th>Ingredients</th>\n",
       "      <th>Concentration</th>\n",
       "      <th>Top_note</th>\n",
       "      <th>Middle_note</th>\n",
       "      <th>Base_note</th>\n",
       "    </tr>\n",
       "  </thead>\n",
       "  <tbody>\n",
       "  </tbody>\n",
       "</table>\n",
       "</div>"
      ],
      "text/plain": [
       "Empty DataFrame\n",
       "Columns: [Name, Price, Description, Rate, Rating_count, image, Brand, Gender, Product_Type, Character, Fragrance_Family, Size, Year, Ingredients, Concentration, Top_note, Middle_note, Base_note]\n",
       "Index: []"
      ]
     },
     "execution_count": 453,
     "metadata": {},
     "output_type": "execute_result"
    }
   ],
   "source": [
    "Perfume_df[Perfume_df['Character'] == \"Aquatic\"]  "
   ]
  },
  {
   "cell_type": "code",
   "execution_count": 452,
   "metadata": {},
   "outputs": [],
   "source": [
    "Perfume_df['Character'].mask(Perfume_df['Name'] == \"Rasasi Zeenat Al Farsh Perfume Aqua - 375 ml\",\"Fresh\", inplace=True)\n",
    "Perfume_df['Fragrance_Family'].mask(Perfume_df['Name'] == \"Rasasi Zeenat Al Farsh Perfume Aqua - 375 ml\",\"Aquatic\", inplace=True)\n",
    "Perfume_df['Ingredients'].mask(Perfume_df['Name'] == \"Rasasi Zeenat Al Farsh Perfume Aqua - 375 ml\",\"Aqua, essential oil, antibacterial ingredients\", inplace=True)\n",
    "Perfume_df['Top_note'].mask(Perfume_df['Name'] == \"Rasasi Zeenat Al Farsh Perfume Aqua - 375 ml\",\"Aqua\", inplace=True)\n",
    "Perfume_df['Middle_note'].mask(Perfume_df['Name'] == \"Rasasi Zeenat Al Farsh Perfume Aqua - 375 ml\",\"essential oil\", inplace=True)\n",
    "Perfume_df['Base_note'].mask(Perfume_df['Name'] == \"Rasasi Zeenat Al Farsh Perfume Aqua - 375 ml\",\"antibacterial ingredients\", inplace=True)\n",
    "\n",
    "Perfume_df['Character'].mask(Perfume_df['Name'] == \"Rasasi Kauser Perfume Aqua - 375 ml\",\"Fresh\", inplace=True)\n",
    "Perfume_df['Fragrance_Family'].mask(Perfume_df['Name'] == \"Rasasi Kauser Perfume Aqua - 375 ml\",\"Aquatic\", inplace=True)\n",
    "Perfume_df['Ingredients'].mask(Perfume_df['Name'] == \"Rasasi Kauser Perfume Aqua - 375 ml\",\"Aqua, essential oil, antibacterial ingredients\", inplace=True)\n",
    "Perfume_df['Top_note'].mask(Perfume_df['Name'] == \"Rasasi Kauser Perfume Aqua - 375 ml\",\"Aqua\", inplace=True)\n",
    "Perfume_df['Middle_note'].mask(Perfume_df['Name'] == \"Rasasi Kauser Perfume Aqua - 375 ml\",\"essential oil\", inplace=True)\n",
    "Perfume_df['Base_note'].mask(Perfume_df['Name'] == \"Rasasi Kauser Perfume Aqua - 375 ml\",\"antibacterial ingredients\", inplace=True)\n",
    "\n",
    "Perfume_df['Character'].mask(Perfume_df['Name'] == \"Aura Myst Room Spray Ocean - 100 ml\",\"NaN\", inplace=True)\n",
    "Perfume_df['Fragrance_Family'].mask(Perfume_df['Name'] == \"Aura Myst Room Spray Ocean - 100 ml\",\"Aquatic\", inplace=True)\n",
    "Perfume_df['Ingredients'].mask(Perfume_df['Name'] == \"Aura Myst Room Spray Ocean - 100 ml\",\"Ocean water, citruses, musk, flowers\", inplace=True)\n",
    "Perfume_df['Size'].mask(Perfume_df['Name'] == \"Aura Myst Room Spray Ocean - 100 ml\",\"100 ml\", inplace=True)\n",
    "Perfume_df['Top_note'].mask(Perfume_df['Name'] == \"Aura Myst Room Spray Ocean - 100 ml\",\"Ocean water\", inplace=True)\n",
    "Perfume_df['Middle_note'].mask(Perfume_df['Name'] == \"Aura Myst Room Spray Ocean - 100 ml\",\"Citruses, Musk\", inplace=True)\n",
    "Perfume_df['Base_note'].mask(Perfume_df['Name'] == \"Aura Myst Room Spray Ocean - 100 ml\",\"flowers\", inplace=True)"
   ]
  },
  {
   "cell_type": "code",
   "execution_count": 444,
   "metadata": {},
   "outputs": [],
   "source": [
    "Perfume_df['Character'].mask(Perfume_df['Character'] == \"Oud\",\"NaN\", inplace=True)\n"
   ]
  },
  {
   "cell_type": "code",
   "execution_count": 441,
   "metadata": {},
   "outputs": [],
   "source": [
    "# fruity , Oriental , \n",
    "\n",
    "Perfume_df['Character'].mask(Perfume_df['Name'] == \"Laboratorio Olfattivo Biancothe Fragrance Diffuser - 200 ml\",\"Glamorous\", inplace=True)\n",
    "Perfume_df['Fragrance_Family'].mask(Perfume_df['Name'] == \"Laboratorio Olfattivo Biancothe Fragrance Diffuser - 200 ml\",\"Woody\", inplace=True)\n",
    "Perfume_df['Ingredients'].mask(Perfume_df['Name'] == \"Laboratorio Olfattivo Biancothe Fragrance Diffuser - 200 ml\",\"Black Pepper, Pink Pepper, Bergamot, Rose, Apple, Lily Of The Valley, Musk, Cedar\", inplace=True)\n",
    "Perfume_df['Size'].mask(Perfume_df['Name'] == \"Laboratorio Olfattivo Biancothe Fragrance Diffuser - 200 ml\",\"200 ml\", inplace=True)\n",
    "\n",
    "\n",
    "Perfume_df['Character'].mask(Perfume_df['Name'] == \"Aura Myst Essential Oil Cedarwood & Cinnamon - 15 ml\",\"NaN\", inplace=True)\n",
    "Perfume_df['Fragrance_Family'].mask(Perfume_df['Name'] == \"Aura Myst Essential Oil Cedarwood & Cinnamon - 15 ml\",\"Woody\", inplace=True)\n",
    "Perfume_df['Ingredients'].mask(Perfume_df['Name'] == \"Aura Myst Essential Oil Cedarwood & Cinnamon - 15 ml\",\"Cedarwood, Cinnamon\", inplace=True)\n",
    "Perfume_df['Size'].mask(Perfume_df['Name'] == \"Aura Myst Essential Oil Cedarwood & Cinnamon - 15 ml\",\"15 ml\", inplace=True)\n",
    "\n"
   ]
  },
  {
   "cell_type": "code",
   "execution_count": 435,
   "metadata": {},
   "outputs": [],
   "source": [
    "Perfume_df['Character'].mask(Perfume_df['Character'] == \"180 ml\",\"NaN\", inplace=True)\n",
    "Perfume_df['Ingredients'].mask(Perfume_df['Character'] == \"180 ml\",\"NaN\", inplace=True)\n",
    "Perfume_df['Top_note'].mask(Perfume_df['Character'] == \"180 ml\",\"NaN\", inplace=True)\n",
    "Perfume_df['Base_note'].mask(Perfume_df['Character'] == \"180 ml\",\"NaN\", inplace=True)\n",
    "Perfume_df['Middle_note'].mask(Perfume_df['Character'] == \"180 ml\",\"NaN\", inplace=True)\n"
   ]
  },
  {
   "cell_type": "code",
   "execution_count": 433,
   "metadata": {},
   "outputs": [],
   "source": [
    "Perfume_df['Character'].mask(Perfume_df['Character'] == \"Lemongrass\",\"Fresh\", inplace=True)\n",
    "Perfume_df['Ingredients'].mask(Perfume_df['Character'] == \"Lemongrass\",\"Lemongrass\", inplace=True)\n",
    "Perfume_df['Fragrance_Family'].mask(Perfume_df['Character'] == \"Lemongrass\",\"Citrus\", inplace=True)\n",
    "Perfume_df['Top_note'].mask(Perfume_df['Character'] == \"Lemongrass\",\"NaN\", inplace=True)\n",
    "Perfume_df['Base_note'].mask(Perfume_df['Character'] == \"Lemongrass\",\"NaN\", inplace=True)\n",
    "Perfume_df['Middle_note'].mask(Perfume_df['Character'] == \"Lemongrass\",\"NaN\", inplace=True)\n"
   ]
  },
  {
   "cell_type": "code",
   "execution_count": 430,
   "metadata": {},
   "outputs": [],
   "source": [
    "Perfume_df['Character'].mask(Perfume_df['Name'].str.contains(\"Candy Addict\"),\"NaN\", inplace=True)\n",
    "Perfume_df['Gender'].mask(Perfume_df['Name'].str.contains(\"Candy Addict\"),\"Women\", inplace=True)\n",
    "Perfume_df['Fragrance_Family'].mask(Perfume_df['Name'].str.contains(\"Candy Addict\"),\"NaN\", inplace=True)\n",
    "Perfume_df['Ingredients'].mask(Perfume_df['Name'].str.contains(\"Candy Addict\"),\"NaN\", inplace=True)\n",
    "Perfume_df['Size'].mask(Perfume_df['Name'].str.contains(\"Candy Addict\"),\"30 ml\", inplace=True)\n",
    "Perfume_df['Year'].mask(Perfume_df['Name'].str.contains(\"Candy Addict\"),\"2021\", inplace=True)\n",
    "Perfume_df['Top_note'].mask(Perfume_df['Name'].str.contains(\"Candy Addict\"),\"NaN\", inplace=True)\n",
    "Perfume_df['Base_note'].mask(Perfume_df['Name'].str.contains(\"Candy Addict\"),\"NaN\", inplace=True)\n",
    "Perfume_df['Middle_note'].mask(Perfume_df['Name'].str.contains(\"Candy Addict\"),\"NaN\", inplace=True)\n"
   ]
  },
  {
   "cell_type": "code",
   "execution_count": 425,
   "metadata": {},
   "outputs": [],
   "source": [
    "Perfume_df['Character'].mask(Perfume_df['Name'] == \"Nicolai The Narghile Diffusers - 250 ml\",\"NaN\", inplace=True)\n",
    "Perfume_df['Fragrance_Family'].mask(Perfume_df['Name'] == \"Nicolai The Narghile Diffusers - 250 ml\",\"Woody\", inplace=True)\n",
    "Perfume_df['Ingredients'].mask(Perfume_df['Name'] == \"Nicolai The Narghile Diffusers - 250 ml\",\"fellow guaiac lemon\", inplace=True)\n",
    "\n",
    "Perfume_df['Character'].mask(Perfume_df['Name'] == \"Laboratorio Olfattivo Biancothe Fragrance Diffuser - 1 litre\",\"Glamorous\", inplace=True)\n",
    "Perfume_df['Fragrance_Family'].mask(Perfume_df['Name'] == \"Laboratorio Olfattivo Biancothe Fragrance Diffuser - 1 litre\",\"Black Pepper, Pink Pepper, Bergamot, Rose, Apple, Lily Of The Valley, Musk, Cedar\", inplace=True)\n",
    "\n",
    "Perfume_df['Character'].mask(Perfume_df['Name'] == \"Tiziana Terenzi Wirtanen Scented Candle - 250 gm\",\"NaN\", inplace=True)\n",
    "Perfume_df['Fragrance_Family'].mask(Perfume_df['Name'] == \"Tiziana Terenzi Wirtanen Scented Candle - 250 gm\",\"Woody\", inplace=True)\n",
    "\n",
    "Perfume_df['Character'].mask(Perfume_df['Name'] == \"Tiziana Terenzi Hale Bopp Scented Candle - 250 gm\",\"NaN\", inplace=True)\n",
    "Perfume_df['Fragrance_Family'].mask(Perfume_df['Name'] == \"Tiziana Terenzi Hale Bopp Scented Candle - 250 gm\",\"Woody\", inplace=True)\n",
    "\n",
    "Perfume_df['Character'].mask(Perfume_df['Name'] == \"Aura Myst Room Spray Fresh Cotton - 100 ml\",\"Fresh\", inplace=True)\n",
    "Perfume_df['Fragrance_Family'].mask(Perfume_df['Name'] == \"Aura Myst Room Spray Fresh Cotton - 100 ml\",\"Woody\", inplace=True)\n",
    "Perfume_df['Ingredients'].mask(Perfume_df['Name'] == \"Aura Myst Room Spray Fresh Cotton - 100 ml\",\"Cotton\", inplace=True)\n",
    "\n",
    "\n",
    "Perfume_df['Character'].mask(Perfume_df['Name'] == \"Versace Eros Pour Homme - 30 ml\",\"Extravagant\", inplace=True)\n",
    "Perfume_df['Fragrance_Family'].mask(Perfume_df['Name'] == \"Versace Eros Pour Homme - 30 ml\",\"Aromatic\", inplace=True)\n",
    "\n",
    "Perfume_df['Character'].mask(Perfume_df['Name'] == \"Aura Myst Essential Oil Cedarwood & Cinnamon\",\"NaN\", inplace=True)\n",
    "Perfume_df['Fragrance_Family'].mask(Perfume_df['Name'] == \"Aura Myst Essential Oil Cedarwood & Cinnamon\",\"Woody\", inplace=True)\n",
    "Perfume_df['Ingredients'].mask(Perfume_df['Name'] == \"Aura Myst Essential Oil Cedarwood & Cinnamon\",\"Cedarwood, Cinnamon\", inplace=True)\n",
    "\n"
   ]
  },
  {
   "cell_type": "code",
   "execution_count": 423,
   "metadata": {},
   "outputs": [],
   "source": [
    "Perfume_df['Character'].mask(Perfume_df['Character'] == \"Arabian\",\"Natural\", inplace=True)\n",
    "Perfume_df['Fragrance_Family'].mask(Perfume_df['Character'] == \"Arabian\",\"Arabian\", inplace=True)"
   ]
  },
  {
   "cell_type": "code",
   "execution_count": 420,
   "metadata": {},
   "outputs": [],
   "source": [
    "Perfume_df['Character'].mask(Perfume_df['Character'] == \"30 g\",\"NaN\", inplace=True)"
   ]
  },
  {
   "cell_type": "code",
   "execution_count": null,
   "metadata": {},
   "outputs": [],
   "source": [
    "Perfume_df['Character'].mask(Perfume_df['Name'] == \"Givenchy Exclusive Gift Set (L'interdit Hair Mist 35 ml + L'interdit Edition Couture EDP 50 ml)\",\"Charismatic\", inplace=True)"
   ]
  },
  {
   "cell_type": "code",
   "execution_count": 417,
   "metadata": {},
   "outputs": [],
   "source": [
    "Perfume_df['Character'].mask(Perfume_df['Character'] == \"Floral Oriental\",\"NaN\", inplace=True)\n",
    "Perfume_df['Fragrance_Family'].mask(Perfume_df['Character'] == \"Floral Oriental\",\"Floral Oriental\", inplace=True)\n"
   ]
  },
  {
   "cell_type": "code",
   "execution_count": 414,
   "metadata": {},
   "outputs": [],
   "source": [
    "# Extravagant     \n",
    "Perfume_df['Character'].mask(Perfume_df['Name'] == \"The Different Company De Bachmakov Refill - 100 ml\",\"Extravagant\", inplace=True)\n",
    "Perfume_df['Fragrance_Family'].mask(Perfume_df['Name'] == \"The Different Company De Bachmakov Refill - 100 ml\",\"Aromatic\", inplace=True)  \n",
    "\n",
    "Perfume_df['Character'].mask(Perfume_df['Name'] == \"Lacoste Pour Femme - 30 ml\",\"Romantic\", inplace=True)\n",
    "Perfume_df['Fragrance_Family'].mask(Perfume_df['Name'] == \"Lacoste Pour Femme - 30 ml\",\"Woody\", inplace=True)  \n"
   ]
  },
  {
   "cell_type": "code",
   "execution_count": 412,
   "metadata": {},
   "outputs": [],
   "source": [
    "\n",
    "\n",
    "Perfume_df['Character'].mask(Perfume_df['Name'] == \"The Different Company Oriental Lounge Refill - 100 ml\",\"Charismatic\", inplace=True)\n",
    "Perfume_df['Fragrance_Family'].mask(Perfume_df['Name'] == \"The Different Company Oriental Lounge Refill - 100 ml\",\"Oriental\", inplace=True)\n",
    "\n",
    "Perfume_df['Character'].mask(Perfume_df['Name'] == \"The Different Company Sublime Balkiss Refill - 100 ml\",\"Sensual\", inplace=True)\n",
    "Perfume_df['Fragrance_Family'].mask(Perfume_df['Name'] == \"The Different Company Sublime Balkiss Refill - 100 ml\",\"Floral\", inplace=True)\n",
    "\n",
    "Perfume_df['Character'].mask(Perfume_df['Name'] == \"The Different Company Une Nuit Magnetique Refill - 100 ml\",\"Sensual\", inplace=True)\n",
    "Perfume_df['Fragrance_Family'].mask(Perfume_df['Name'] == \"The Different Company Une Nuit Magnetique Refill - 100 ml\",\"Floral\", inplace=True)\n",
    "\n",
    "Perfume_df['Character'].mask(Perfume_df['Name'] == \"The Different Company After Midnight Refill - 100 ml\",\"Extravagant\", inplace=True)\n",
    "Perfume_df['Fragrance_Family'].mask(Perfume_df['Name'] == \"The Different Company After Midnight Refill - 100 ml\",\"Aromatic\", inplace=True)\n",
    "\n",
    "Perfume_df['Character'].mask(Perfume_df['Name'] == \"Thierry Mugler Angel Perfume Set - 4 Pcs\",\"Sophisticated\", inplace=True)\n",
    "Perfume_df['Fragrance_Family'].mask(Perfume_df['Name'] == \"Thierry Mugler Angel Perfume Set - 4 Pcs\",\"Woody Oriental\", inplace=True)\n",
    "\n",
    "Perfume_df['Character'].mask(Perfume_df['Name'] == \"Calvin Klein Ckin2U - 100 ml\",\"NaN\", inplace=True)\n",
    "Perfume_df['Fragrance_Family'].mask(Perfume_df['Name'] == \"Calvin Klein Ckin2U - 100 ml\",\"Floral\", inplace=True)\n",
    "\n",
    "\n",
    "Perfume_df['Character'].mask(Perfume_df['Name'] == \"Carolina Herrera 212 VIP Black - 200 ml\",\"Extravagant\", inplace=True)\n",
    "Perfume_df['Fragrance_Family'].mask(Perfume_df['Name'] == \"Carolina Herrera 212 VIP Black - 200 ml\",\"Aromatic\", inplace=True)\n",
    "\n",
    "\n",
    "Perfume_df['Character'].mask(Perfume_df['Name'] == \"Versace Eros Pour Homme - 30 ml\",\"Extravagant\", inplace=True)\n",
    "Perfume_df['Fragrance_Family'].mask(Perfume_df['Name'] == \"Versace Eros Pour Homme - 30 ml\",\"Aromatic\", inplace=True)\n",
    "\n",
    "Perfume_df['Character'].mask(Perfume_df['Name'] == \"Burberry My Burberry Black Elixir - 30 ml\",\"Extravagant\", inplace=True)\n",
    "Perfume_df['Fragrance_Family'].mask(Perfume_df['Name'] == \"Burberry My Burberry Black Elixir - 30 ml\",\"Floral\", inplace=True)\n",
    "\n",
    "Perfume_df['Character'].mask(Perfume_df['Name'] == \"Valentino Valentina Pink - 50 ml\",\"Feminine\", inplace=True)\n",
    "Perfume_df['Fragrance_Family'].mask(Perfume_df['Name'] == \"Valentino Valentina Pink - 50 ml\",\"Floral\", inplace=True)\n",
    "\n"
   ]
  },
  {
   "cell_type": "code",
   "execution_count": 403,
   "metadata": {},
   "outputs": [],
   "source": [
    "Perfume_df['Character'].mask(Perfume_df['Character'] == \"Woods, Oriental Oils, Saffron, Sandalwood\",\"Classical\", inplace=True)\n",
    "Perfume_df['Fragrance_Family'].mask(Perfume_df['Character'] == \"Woods, Oriental Oils, Saffron, Sandalwood\",\"Oud\", inplace=True)\n",
    "Perfume_df['Ingredients'].mask(Perfume_df['Character'] == \"Woods, Oriental Oils, Saffron, Sandalwood\",\"Woods, Oriental Oils, Saffron, Sandalwood\", inplace=True)"
   ]
  },
  {
   "cell_type": "code",
   "execution_count": 408,
   "metadata": {},
   "outputs": [],
   "source": [
    "Perfume_df['Character'].mask(Perfume_df['Character'] == \"Jasmine\",\"NaN\", inplace=True)\n",
    "Perfume_df['Fragrance_Family'].mask(Perfume_df['Character'] == \"Jasmine\",\"Floral\", inplace=True)\n",
    "Perfume_df['Ingredients'].mask(Perfume_df['Character'] == \"Jasmine\",\"Jasmine\", inplace=True)"
   ]
  },
  {
   "cell_type": "code",
   "execution_count": 406,
   "metadata": {},
   "outputs": [],
   "source": [
    "Perfume_df['Character'].mask(Perfume_df['Name'] == \"Tiziana Terenzi Extreme Sense Scented Candle - 170 gm\",\"NaN\", inplace=True)\n",
    "Perfume_df['Fragrance_Family'].mask(Perfume_df['Name'] == \"Tiziana Terenzi Extreme Sense Scented Candle - 170 gm\",\"Floral\", inplace=True)\n",
    "Perfume_df['Size'].mask(Perfume_df['Name'] == \"Tiziana Terenzi Extreme Sense Scented Candle - 170 gm\",\"170 gm\", inplace=True)\n",
    "\n",
    "\n",
    "Perfume_df['Character'].mask(Perfume_df['Name'] == \"Tiziana Terenzi Luna Collection Draco Scented Candle - 170 gm\",\"NaN\", inplace=True)\n",
    "Perfume_df['Fragrance_Family'].mask(Perfume_df['Name'] == \"Tiziana Terenzi Extreme Sense Scented Candle - 170 gm\",\"Floral\", inplace=True)\n",
    "Perfume_df['Size'].mask(Perfume_df['Name'] == \"Tiziana Terenzi Extreme Sense Scented Candle - 170 gm\",\"170 gm\", inplace=True)\n",
    "\n",
    "Perfume_df['Character'].mask(Perfume_df['Name'] == \"Tiziana Terenzi Capri Fig Scented Candle - 170 gm\",\"NaN\", inplace=True)\n",
    "Perfume_df['Fragrance_Family'].mask(Perfume_df['Name'] == \"Tiziana Terenzi Capri Fig Scented Candle - 170 gm\",\"Fruity\", inplace=True)\n",
    "Perfume_df['Size'].mask(Perfume_df['Name'] == \"Tiziana Terenzi Capri Fig Scented Candle - 170 gm\",\"170 gm\", inplace=True)\n",
    "\n",
    "Perfume_df['Character'].mask(Perfume_df['Name'] == \"Tiziana Terenzi Almond Vanilla Scented Candle - 170 gm\",\"NaN\", inplace=True)\n",
    "Perfume_df['Fragrance_Family'].mask(Perfume_df['Name'] == \"Tiziana Terenzi Almond Vanilla Scented Candle - 170 gm\",\"Oriental\", inplace=True)\n",
    "Perfume_df['Size'].mask(Perfume_df['Name'] == \"Tiziana Terenzi Almond Vanilla Scented Candle - 170 gm\",\"170 gm\", inplace=True)"
   ]
  },
  {
   "cell_type": "code",
   "execution_count": 401,
   "metadata": {},
   "outputs": [],
   "source": [
    "Perfume_df['Character'].mask(Perfume_df['Character'] == \"Vanilla Seeds\",\"Fresh\", inplace=True)\n",
    "Perfume_df['Fragrance_Family'].mask(Perfume_df['Character'] == \"Vanilla Seeds\",\"Oriental\", inplace=True)\n",
    "Perfume_df['Ingredients'].mask(Perfume_df['Character'] == \"Vanilla Seeds\",\"Vanilla Seeds\", inplace=True)"
   ]
  },
  {
   "cell_type": "code",
   "execution_count": 397,
   "metadata": {},
   "outputs": [],
   "source": [
    "Perfume_df['Character'].mask(Perfume_df['Character'] == \"2020\",\"NaN\", inplace=True)"
   ]
  },
  {
   "cell_type": "code",
   "execution_count": 396,
   "metadata": {},
   "outputs": [],
   "source": [
    "Perfume_df['Character'].mask(Perfume_df['Character'] == \"Lavender\",\"NaN\", inplace=True)\n",
    "Perfume_df['Fragrance_Family'].mask(Perfume_df['Character'] == \"Lavender\",\"Floral\", inplace=True)\n",
    "Perfume_df['Ingredients'].mask(Perfume_df['Character'] == \"Lavender\",\"Lavender\", inplace=True)"
   ]
  },
  {
   "cell_type": "code",
   "execution_count": 391,
   "metadata": {},
   "outputs": [],
   "source": [
    "Perfume_df['Character'].mask(Perfume_df['Character'] == \"Room Spray\",\"Glamorous\", inplace=True)"
   ]
  },
  {
   "cell_type": "code",
   "execution_count": 388,
   "metadata": {},
   "outputs": [],
   "source": [
    "Perfume_df['Character'].mask(Perfume_df['Character'] == \"Cotton\",\"Classical\", inplace=True)\n",
    "Perfume_df['Fragrance_Family'].mask(Perfume_df['Character'] == \"Cotton\",\"Woody\", inplace=True)"
   ]
  },
  {
   "cell_type": "code",
   "execution_count": 386,
   "metadata": {},
   "outputs": [],
   "source": [
    "Perfume_df['Character'].mask(Perfume_df['Character'] == \"Charismatic,Modern\",\"Charismatic\", inplace=True)"
   ]
  },
  {
   "cell_type": "code",
   "execution_count": 384,
   "metadata": {},
   "outputs": [],
   "source": [
    "Perfume_df['Character'].mask(Perfume_df['Character'] == \"Ocean water, citruses, musk, flowers\",\"Fresh\", inplace=True)\n",
    "Perfume_df['Fragrance_Family'].mask(Perfume_df['Character'] == \"Ocean water, citruses, musk, flowers\",\"Aquatic\", inplace=True)\n",
    "Perfume_df['Ingredients'].mask(Perfume_df['Character'] == \"Ocean water, citruses, musk, flowers\",\"Ocean water, citruses, musk, flowers\", inplace=True)"
   ]
  },
  {
   "cell_type": "code",
   "execution_count": 382,
   "metadata": {},
   "outputs": [],
   "source": [
    "Perfume_df['Character'].mask(Perfume_df['Character'] == \"30 ml\",\"Sensual\", inplace=True)\n",
    "Perfume_df['Fragrance_Family'].mask(Perfume_df['Character'] == \"30 ml\",\"Oriental\", inplace=True)"
   ]
  },
  {
   "cell_type": "code",
   "execution_count": 379,
   "metadata": {},
   "outputs": [],
   "source": [
    "Perfume_df['Character'].mask(Perfume_df['Character'] == \"1500 ml\",\"Glamorous\", inplace=True)\n",
    "Perfume_df['Fragrance_Family'].mask(Perfume_df['Character'] == \"1500 ml\",\"Oriental\", inplace=True)"
   ]
  },
  {
   "cell_type": "code",
   "execution_count": 376,
   "metadata": {},
   "outputs": [],
   "source": [
    "Perfume_df['Character'].mask(Perfume_df['Character'] == \"100 ml\",\"NaN\", inplace=True)"
   ]
  },
  {
   "cell_type": "code",
   "execution_count": 351,
   "metadata": {},
   "outputs": [],
   "source": [
    "Perfume_df['Character'].mask(Perfume_df['Name'].str.contains(\"Victoria's Secret Pink\"),\"Extravagant\", inplace=True)"
   ]
  },
  {
   "cell_type": "code",
   "execution_count": 372,
   "metadata": {},
   "outputs": [],
   "source": [
    "Perfume_df['Character'].mask(Perfume_df['Character'] == \"Fruity\",\"Natural\", inplace=True)\n",
    "Perfume_df['Fragrance_Family'].mask(Perfume_df['Character'] == \"Fruity\",\"Fruity\", inplace=True)\n"
   ]
  },
  {
   "cell_type": "code",
   "execution_count": 368,
   "metadata": {},
   "outputs": [],
   "source": [
    "Perfume_df['Character'].mask(Perfume_df['Name'].str.contains(\"Layl\"),\"Charismatic\", inplace=True)"
   ]
  },
  {
   "cell_type": "code",
   "execution_count": 356,
   "metadata": {},
   "outputs": [],
   "source": [
    "Perfume_df['Character'].mask(Perfume_df['Name'].str.contains(\"Victoria's Secret\"),\"Romantic\", inplace=True)"
   ]
  },
  {
   "cell_type": "code",
   "execution_count": 361,
   "metadata": {},
   "outputs": [],
   "source": [
    "Perfume_df['Character'].mask(Perfume_df['Name'].str.contains(\"Exuma Parfums\"),\"Sensual\", inplace=True)"
   ]
  },
  {
   "cell_type": "code",
   "execution_count": 366,
   "metadata": {},
   "outputs": [],
   "source": [
    "Perfume_df['Character'].mask(Perfume_df['Name'].str.contains(\"Armaf\"),\"Sensual\", inplace=True)"
   ]
  },
  {
   "cell_type": "code",
   "execution_count": 358,
   "metadata": {},
   "outputs": [],
   "source": [
    "Perfume_df['Character'].mask(Perfume_df['Name'].str.contains(\"Oud\"),\"Charismatic\", inplace=True)"
   ]
  },
  {
   "cell_type": "code",
   "execution_count": 363,
   "metadata": {},
   "outputs": [],
   "source": [
    "Perfume_df['Character'].mask(Perfume_df['Name'].str.contains(\"Chanel\"),\"Charismatic\", inplace=True)"
   ]
  },
  {
   "cell_type": "code",
   "execution_count": 360,
   "metadata": {},
   "outputs": [],
   "source": [
    "Perfume_df['Character'].mask(Perfume_df['Name'].str.contains(\"Night\"),\"Extravagant\", inplace=True)"
   ]
  },
  {
   "cell_type": "code",
   "execution_count": 354,
   "metadata": {},
   "outputs": [],
   "source": [
    "Perfume_df['Character'].mask(Perfume_df['Name'].str.contains(\"Tom\"),\"Charismatic\", inplace=True)"
   ]
  },
  {
   "cell_type": "code",
   "execution_count": 346,
   "metadata": {},
   "outputs": [],
   "source": [
    "Perfume_df['Brand'].mask(Perfume_df['Name'] == \"Banafa For Oud Maamoul Alriyadh - 250 gm\",\"Banafa For Oud\", inplace=True)"
   ]
  },
  {
   "cell_type": "code",
   "execution_count": 345,
   "metadata": {},
   "outputs": [],
   "source": [
    "Perfume_df['Character'].mask(Perfume_df['Character'] == \"Oriental notes\",\"NaN\", inplace=True)\n",
    "Perfume_df['Fragrance_Family'].mask(Perfume_df['Character'] == \"Oriental notes\",\"Oriental\", inplace=True)"
   ]
  },
  {
   "cell_type": "code",
   "execution_count": 343,
   "metadata": {},
   "outputs": [],
   "source": [
    "Perfume_df['Character'].mask(Perfume_df['Character'] == \"Body Cream\",\"Glamorous\", inplace=True)"
   ]
  },
  {
   "cell_type": "code",
   "execution_count": 341,
   "metadata": {},
   "outputs": [],
   "source": [
    "Perfume_df['Character'].mask(Perfume_df['Character'] == \"Oud, Oriental oils,\",\"NaN\", inplace=True)\n",
    "Perfume_df['Fragrance_Family'].mask(Perfume_df['Character'] == \"Oud, Oriental oils,\",\"Oud\", inplace=True)\n",
    "Perfume_df['Ingredients'].mask(Perfume_df['Character'] == \"Oud, Oriental oils,\",\"Oud, Oriental oils\", inplace=True)"
   ]
  },
  {
   "cell_type": "code",
   "execution_count": 334,
   "metadata": {},
   "outputs": [],
   "source": [
    "Perfume_df['Character'].mask(Perfume_df['Character'] == \"Soft Floral\",\"Feminine\", inplace=True)"
   ]
  },
  {
   "cell_type": "code",
   "execution_count": 337,
   "metadata": {},
   "outputs": [],
   "source": [
    "Perfume_df['Character'].mask(Perfume_df['Character'] == \"Woody Oriental\",\"Sophisticated\", inplace=True)\n",
    "Perfume_df['Fragrance_Family'].mask(Perfume_df['Character'] == \"Woody Oriental\",\"Woody Oriental\", inplace=True)"
   ]
  },
  {
   "cell_type": "code",
   "execution_count": 323,
   "metadata": {},
   "outputs": [],
   "source": [
    "Perfume_df['Character'].mask(Perfume_df['Character'] == \"Indian oud\",\"Glamorous\", inplace=True)\n",
    "Perfume_df['Fragrance_Family'].mask(Perfume_df['Character'] == \"Indian oud\",\"Oud\", inplace=True)\n",
    "Perfume_df['Ingredients'].mask(Perfume_df['Character'] == \"Indian oud\",\"Indian oud\", inplace=True)"
   ]
  },
  {
   "cell_type": "code",
   "execution_count": 329,
   "metadata": {},
   "outputs": [],
   "source": [
    "Perfume_df['Character'].mask(Perfume_df['Character'] == \"Cambodian Oud Oil\",\"NaN\", inplace=True)\n",
    "Perfume_df['Fragrance_Family'].mask(Perfume_df['Character'] == \"Cambodian Oud Oil\",\"Oud\", inplace=True)\n",
    "Perfume_df['Ingredients'].mask(Perfume_df['Character'] == \"Cambodian Oud Oil\",\"Cambodian Oud Oil\", inplace=True)"
   ]
  },
  {
   "cell_type": "code",
   "execution_count": 332,
   "metadata": {},
   "outputs": [],
   "source": [
    "Perfume_df['Character'].mask(Perfume_df['Character'] == \"Oud Clementine\",\"NaN\", inplace=True)\n",
    "Perfume_df['Fragrance_Family'].mask(Perfume_df['Character'] == \"Oud Clementine\",\"Oud\", inplace=True)\n",
    "Perfume_df['Ingredients'].mask(Perfume_df['Character'] == \"Oud Clementine\",\"Oud Clementine\", inplace=True)"
   ]
  },
  {
   "cell_type": "code",
   "execution_count": null,
   "metadata": {},
   "outputs": [],
   "source": []
  },
  {
   "cell_type": "code",
   "execution_count": null,
   "metadata": {},
   "outputs": [],
   "source": []
  },
  {
   "cell_type": "code",
   "execution_count": 320,
   "metadata": {},
   "outputs": [],
   "source": [
    "Perfume_df['Character'].mask(Perfume_df['Character'] == \"Cinnamon, Apple\",\"NaN\", inplace=True)\n",
    "Perfume_df['Fragrance_Family'].mask(Perfume_df['Character'] == \"Cinnamon, Apple\",\"Oriental\", inplace=True)\n",
    "Perfume_df['Ingredients'].mask(Perfume_df['Character'] == \"Cinnamon, Apple\",\"Cinnamon, Apple\", inplace=True)"
   ]
  },
  {
   "cell_type": "code",
   "execution_count": 318,
   "metadata": {},
   "outputs": [],
   "source": [
    "Perfume_df['Fragrance_Family'].mask(Perfume_df['Character'] == \"Arian oud\",\"Oud\", inplace=True)\n",
    "Perfume_df['Ingredients'].mask(Perfume_df['Character'] == \"Arian oud\",\"Arian oud\", inplace=True)\n",
    "Perfume_df['Character'].mask(Perfume_df['Character'] == \"Arian oud\",\"NaN\", inplace=True)"
   ]
  },
  {
   "cell_type": "code",
   "execution_count": 316,
   "metadata": {},
   "outputs": [],
   "source": [
    "Perfume_df['Fragrance_Family'].mask(Perfume_df['Character'] == \"Leather\",\"Leather\", inplace=True)\n",
    "Perfume_df['Year'].mask(Perfume_df['Character'] == \"Leather\",\"NaN\", inplace=True)\n",
    "Perfume_df['Concentration'].mask(Perfume_df['Character'] == \"Leather\",\"Eau de Toilette\", inplace=True)\n",
    "Perfume_df['Ingredients'].mask(Perfume_df['Character'] == \"Leather\",\"Basil, Cardamom, Leather, Patchouli, Cedar, Tonka Bean\", inplace=True)\n",
    "Perfume_df['Character'].mask(Perfume_df['Character'] == \"Leather\",\"NaN\", inplace=True)\n"
   ]
  },
  {
   "cell_type": "code",
   "execution_count": 304,
   "metadata": {},
   "outputs": [],
   "source": [
    "Perfume_df['Character'].mask(Perfume_df['Character'] == \"White peach, sparkling brisco, sweet orange\",\"NaN\", inplace=True)\n",
    "Perfume_df['Fragrance_Family'].mask(Perfume_df['Character'] == \"White peach, sparkling brisco, sweet orange\",\"Fruity\", inplace=True)\n",
    "Perfume_df['Ingredients'].mask(Perfume_df['Character'] == \"White peach, sparkling brisco, sweet orange\",\"White peach, sparkling brisco, sweet orange\", inplace=True)"
   ]
  },
  {
   "cell_type": "code",
   "execution_count": 306,
   "metadata": {},
   "outputs": [],
   "source": [
    "Perfume_df['Character'].mask(Perfume_df['Character'] == \"French scents\",\"NaN\", inplace=True)\n",
    "Perfume_df['Fragrance_Family'].mask(Perfume_df['Character'] == \"French scents\",\"Oriental\", inplace=True)\n",
    "Perfume_df['Ingredients'].mask(Perfume_df['Character'] == \"French scents\",\"French scents\", inplace=True)"
   ]
  },
  {
   "cell_type": "code",
   "execution_count": 312,
   "metadata": {},
   "outputs": [],
   "source": [
    "Perfume_df['Character'].mask(Perfume_df['Character'] == \"Oud, rose\",\"NaN\", inplace=True)\n",
    "Perfume_df['Fragrance_Family'].mask(Perfume_df['Character'] == \"Oud, rose\",\"Oud\", inplace=True)\n",
    "Perfume_df['Ingredients'].mask(Perfume_df['Character'] == \"Oud, rose\",\"Oud, rose\", inplace=True)"
   ]
  },
  {
   "cell_type": "code",
   "execution_count": 302,
   "metadata": {},
   "outputs": [],
   "source": [
    "Perfume_df['Character'].mask(Perfume_df['Character'] == \"Incense\",\"NaN\", inplace=True)\n",
    "Perfume_df['Fragrance_Family'].mask(Perfume_df['Character'] == \"Incense\",\"Oud\", inplace=True)\n",
    "Perfume_df['Ingredients'].mask(Perfume_df['Character'] == \"Incense\",\"Incense\", inplace=True)"
   ]
  },
  {
   "cell_type": "code",
   "execution_count": 300,
   "metadata": {},
   "outputs": [],
   "source": [
    "Perfume_df['Character'].mask(Perfume_df['Character'] == \"Oud, Oriental mix\",\"NaN\", inplace=True)\n",
    "Perfume_df['Fragrance_Family'].mask(Perfume_df['Character'] == \"Oud, Oriental mix\",\"Oud\", inplace=True)\n",
    "Perfume_df['Ingredients'].mask(Perfume_df['Character'] == \"Oud, Oriental mix\",\"Oud, Oriental mix\", inplace=True)"
   ]
  },
  {
   "cell_type": "code",
   "execution_count": 298,
   "metadata": {},
   "outputs": [],
   "source": [
    "Perfume_df['Character'].mask(Perfume_df['Character'] == \"Cambodian Dehn oud\",\"NaN\", inplace=True)\n",
    "Perfume_df['Fragrance_Family'].mask(Perfume_df['Character'] == \"Cambodian Dehn oud\",\"Oud\", inplace=True)\n",
    "Perfume_df['Ingredients'].mask(Perfume_df['Character'] == \"Cambodian Dehn oud\",\"Cambodian Dehn oud\", inplace=True)"
   ]
  },
  {
   "cell_type": "code",
   "execution_count": 295,
   "metadata": {},
   "outputs": [],
   "source": [
    "Perfume_df['Character'].mask(Perfume_df['Character'] == \"Musk, amber, agarwood and rose\",\"NaN\", inplace=True)\n",
    "Perfume_df['Fragrance_Family'].mask(Perfume_df['Character'] == \"Musk, amber, agarwood and rose\",\"Oud\", inplace=True)\n",
    "Perfume_df['Ingredients'].mask(Perfume_df['Character'] == \"Musk, amber, agarwood and rose\",\"Musk, amber, agarwood and rose\t\", inplace=True)"
   ]
  },
  {
   "cell_type": "code",
   "execution_count": 292,
   "metadata": {},
   "outputs": [],
   "source": [
    "Perfume_df['Character'].mask(Perfume_df['Character'] == \"Clementine oud\",\"NaN\", inplace=True)\n",
    "Perfume_df['Fragrance_Family'].mask(Perfume_df['Character'] == \"Clementine oud\",\"Oud\", inplace=True)\n",
    "Perfume_df['Ingredients'].mask(Perfume_df['Character'] == \"Clementine oud\",\"Clementine oud\", inplace=True)"
   ]
  },
  {
   "cell_type": "code",
   "execution_count": 290,
   "metadata": {},
   "outputs": [],
   "source": [
    "Perfume_df['Character'].mask(Perfume_df['Character'] == \"Oud, Oriental oils\",\"NaN\", inplace=True)\n",
    "Perfume_df['Fragrance_Family'].mask(Perfume_df['Character'] == \"Oud, Oriental oils\",\"Oud\", inplace=True)\n",
    "Perfume_df['Ingredients'].mask(Perfume_df['Character'] == \"Oud, Oriental oils\",\"Oud, Oriental oils\", inplace=True)"
   ]
  },
  {
   "cell_type": "code",
   "execution_count": 284,
   "metadata": {},
   "outputs": [],
   "source": [
    "Perfume_df['Character'].mask(Perfume_df['Character'] == \"Jasmine, Saffron, Flower, Rose, Ylang-Ylang, Tonka Bean, Patchouli, Leather, Musk\",\"NaN\", inplace=True)\n",
    "Perfume_df['Fragrance_Family'].mask(Perfume_df['Character'] == \"Jasmine, Saffron, Flower, Rose, Ylang-Ylang, Tonka Bean, Patchouli, Leather, Musk\",\"Oriental\", inplace=True)\n",
    "Perfume_df['Ingredients'].mask(Perfume_df['Character'] == \"Jasmine, Saffron, Flower, Rose, Ylang-Ylang, Tonka Bean, Patchouli, Leather, Musk\",\"Jasmine, Saffron, Flower, Rose, Ylang-Ylang, Tonka Bean, Patchouli, Leather, Musk\", inplace=True)"
   ]
  },
  {
   "cell_type": "code",
   "execution_count": 265,
   "metadata": {},
   "outputs": [],
   "source": [
    "\n",
    "Perfume_df['Character'].mask(Perfume_df['Character'] == \"Intense Oud\",\"NaN\", inplace=True)\n",
    "Perfume_df['Fragrance_Family'].mask(Perfume_df['Character'] == \"Intense Oud\",\"Oriental\", inplace=True)\n",
    "Perfume_df['Ingredients'].mask(Perfume_df['Character'] == \"Intense Oud\",\"Intense Oud\", inplace=True)"
   ]
  },
  {
   "cell_type": "code",
   "execution_count": 263,
   "metadata": {},
   "outputs": [],
   "source": [
    "Perfume_df['Character'].mask(Perfume_df['Character'] == \"Natural Moroccan Oud\",\"NaN\", inplace=True)\n",
    "Perfume_df['Fragrance_Family'].mask(Perfume_df['Character'] == \"Natural Moroccan Oud\",\"Oriental\", inplace=True)\n",
    "Perfume_df['Ingredients'].mask(Perfume_df['Character'] == \"Natural Moroccan Oud\",\"Moroccan Oud\", inplace=True)"
   ]
  },
  {
   "cell_type": "code",
   "execution_count": 261,
   "metadata": {},
   "outputs": [],
   "source": [
    "Perfume_df['Character'].mask(Perfume_df['Character'] == \"Moroccan Oud\",\"NaN\", inplace=True)\n",
    "Perfume_df['Fragrance_Family'].mask(Perfume_df['Character'] == \"Moroccan Oud\",\"Oriental\", inplace=True)\n",
    "Perfume_df['Ingredients'].mask(Perfume_df['Character'] == \"Moroccan Oud\",\"Moroccan Oud\", inplace=True)"
   ]
  },
  {
   "cell_type": "code",
   "execution_count": 257,
   "metadata": {},
   "outputs": [],
   "source": [
    "Perfume_df['Character'].mask(Perfume_df['Character'] == \"Natural roses\",\"Natural\", inplace=True)\n",
    "Perfume_df['Fragrance_Family'].mask(Perfume_df['Character'] == \"Natural roses\",\"Floral\", inplace=True)\n",
    "Perfume_df['Ingredients'].mask(Perfume_df['Character'] == \"Natural roses\",\"Natural roses\", inplace=True)"
   ]
  },
  {
   "cell_type": "code",
   "execution_count": 251,
   "metadata": {},
   "outputs": [],
   "source": [
    "Perfume_df['Character'].mask(Perfume_df['Name'] == \"Bvlgari Man In Black\",\"NaN\", inplace=True)\n",
    "Perfume_df['Fragrance_Family'].mask(Perfume_df['Name'] == \"Bvlgari Man In Black\",\"NaN\", inplace=True)\n",
    "Perfume_df['Concentration'].mask(Perfume_df['Name'] == \"Bvlgari Man In Black\",\"Eau de Parfum\", inplace=True)\n",
    "Perfume_df['Size'].mask(Perfume_df['Name'] == \"Bvlgari Man In Black\",\"60 ml\", inplace=True)\n",
    "Perfume_df['Ingredients'].mask(Perfume_df['Name'] == \"Bvlgari Man In Black\",\"Diabetic rum, spices, tobacco, iris, tuberose, leather, tonka beans, benzene, guaiac wood\", inplace=True)"
   ]
  },
  {
   "cell_type": "code",
   "execution_count": 252,
   "metadata": {},
   "outputs": [],
   "source": [
    "Perfume_df['Character'].mask(Perfume_df['Name'] == \"Jimmy Choo Flash\",\"NaN\", inplace=True)\n",
    "Perfume_df['Fragrance_Family'].mask(Perfume_df['Name'] == \"Jimmy Choo Flash\",\"NaN\", inplace=True)\n",
    "Perfume_df['Concentration'].mask(Perfume_df['Name'] == \"Jimmy Choo Flash\",\"Eau de Parfum\", inplace=True)\n",
    "Perfume_df['Size'].mask(Perfume_df['Name'] == \"Jimmy Choo Flash\",\"60 ml\", inplace=True)\n",
    "Perfume_df['Ingredients'].mask(Perfume_df['Name'] == \"Jimmy Choo Flash\",\"Strawberry, Pink Pepper, Tangerine, Jasmine, Lily, Wood\", inplace=True)"
   ]
  },
  {
   "cell_type": "code",
   "execution_count": 226,
   "metadata": {},
   "outputs": [],
   "source": [
    "Perfume_df['Character'].mask(Perfume_df['Character'] == \"sensual\",\"Sensual\", inplace=True)"
   ]
  },
  {
   "cell_type": "code",
   "execution_count": 212,
   "metadata": {},
   "outputs": [],
   "source": [
    "Perfume_df['Character'].mask(Perfume_df['Character'] == \"Masculine,Dynamic,Charismatic\",\"Charismatic\", inplace=True)\n",
    "Perfume_df['Character'].mask(Perfume_df['Character'] == \"Carismatic\",\"Charismatic\", inplace=True)\n"
   ]
  },
  {
   "cell_type": "code",
   "execution_count": 199,
   "metadata": {},
   "outputs": [],
   "source": [
    "Perfume_df['Fragrance_Family'].mask(Perfume_df['Character'] == \"Floral,Woody\",\"Floral,Woody\", inplace=True)\n",
    "Perfume_df['Ingredients'].mask(Perfume_df['Character'] == \"Floral,Woody\",\"Jasmine, Wood, Musk\", inplace=True)\n",
    "Perfume_df['Year'].mask(Perfume_df['Character'] == \"Floral,Woody\",\"NaN\", inplace=True)\n",
    "Perfume_df['Character'].mask(Perfume_df['Character'] == \"Floral,Woody\",\"NaN\", inplace=True)"
   ]
  },
  {
   "cell_type": "code",
   "execution_count": 202,
   "metadata": {},
   "outputs": [],
   "source": [
    "Perfume_df['Fragrance_Family'].mask(Perfume_df['Character'] == \"Soft Rose\",\"Floral\", inplace=True)\n",
    "Perfume_df['Ingredients'].mask(Perfume_df['Character'] == \"Soft Rose\",\"Soft Rose\", inplace=True)\n",
    "Perfume_df['Character'].mask(Perfume_df['Character'] == \"Soft Rose\",\"NaN\", inplace=True)"
   ]
  },
  {
   "cell_type": "code",
   "execution_count": 207,
   "metadata": {},
   "outputs": [],
   "source": [
    "Perfume_df['Fragrance_Family'].mask(Perfume_df['Character'] == \"Soft roses\",\"Floral\", inplace=True)\n",
    "Perfume_df['Ingredients'].mask(Perfume_df['Character'] == \"Soft roses\",\"Soft roses\", inplace=True)\n",
    "Perfume_df['Character'].mask(Perfume_df['Character'] == \"Soft roses\",\"NaN\", inplace=True)"
   ]
  },
  {
   "cell_type": "code",
   "execution_count": 205,
   "metadata": {},
   "outputs": [],
   "source": [
    "Perfume_df['Fragrance_Family'].mask(Perfume_df['Character'] == \"Musk\",\"Oriental\", inplace=True)\n",
    "Perfume_df['Ingredients'].mask(Perfume_df['Character'] == \"Musk\",\"Musk\", inplace=True)\n",
    "Perfume_df['Character'].mask(Perfume_df['Character'] == \"Musk\",\"NaN\", inplace=True)"
   ]
  },
  {
   "cell_type": "code",
   "execution_count": 210,
   "metadata": {},
   "outputs": [],
   "source": [
    "Perfume_df['Fragrance_Family'].mask(Perfume_df['Character'] == \"Cedarwood, Cinnamon\",\"Oriental\", inplace=True)\n",
    "Perfume_df['Ingredients'].mask(Perfume_df['Character'] == \"Cedarwood, Cinnamon\",\"Cedarwood, Cinnamon\", inplace=True)\n",
    "Perfume_df['Character'].mask(Perfume_df['Character'] == \"Cedarwood, Cinnamon\",\"NaN\", inplace=True)"
   ]
  },
  {
   "cell_type": "code",
   "execution_count": 214,
   "metadata": {},
   "outputs": [],
   "source": [
    "Perfume_df['Fragrance_Family'].mask(Perfume_df['Character'] == \"Woods, Cloves\",\"Woody\", inplace=True)\n",
    "Perfume_df['Ingredients'].mask(Perfume_df['Character'] == \"Woods, Cloves\",\"Woods, Cloves\", inplace=True)\n",
    "Perfume_df['Character'].mask(Perfume_df['Character'] == \"Woods, Cloves\",\"NaN\", inplace=True)"
   ]
  },
  {
   "cell_type": "code",
   "execution_count": 217,
   "metadata": {},
   "outputs": [],
   "source": [
    "Perfume_df['Fragrance_Family'].mask(Perfume_df['Character'] == \"Verbana\",\"Oriental\", inplace=True)\n",
    "Perfume_df['Ingredients'].mask(Perfume_df['Character'] == \"Verbana\",\"Verbana\", inplace=True)\n",
    "Perfume_df['Character'].mask(Perfume_df['Character'] == \"Verbana\",\"NaN\", inplace=True)"
   ]
  },
  {
   "cell_type": "code",
   "execution_count": 219,
   "metadata": {},
   "outputs": [],
   "source": [
    "Perfume_df['Fragrance_Family'].mask(Perfume_df['Character'] == \"Fig, Herbs\",\"Oriental\", inplace=True)\n",
    "Perfume_df['Ingredients'].mask(Perfume_df['Character'] == \"Fig, Herbs\",\"Fig, Herbs\", inplace=True)\n",
    "Perfume_df['Character'].mask(Perfume_df['Character'] == \"Fig, Herbs\",\"NaN\", inplace=True)"
   ]
  },
  {
   "cell_type": "code",
   "execution_count": 221,
   "metadata": {},
   "outputs": [],
   "source": [
    "Perfume_df['Fragrance_Family'].mask(Perfume_df['Character'] == \"Flax\",\"Oriental\", inplace=True)\n",
    "Perfume_df['Ingredients'].mask(Perfume_df['Character'] == \"Flax\",\"Flax\", inplace=True)\n",
    "Perfume_df['Character'].mask(Perfume_df['Character'] == \"Flax\",\"NaN\", inplace=True)"
   ]
  },
  {
   "cell_type": "code",
   "execution_count": 223,
   "metadata": {},
   "outputs": [],
   "source": [
    "Perfume_df['Fragrance_Family'].mask(Perfume_df['Character'] == \"Frangipani\",\"Floral\", inplace=True)\n",
    "Perfume_df['Ingredients'].mask(Perfume_df['Character'] == \"Frangipani\",\"Frangipani\", inplace=True)\n",
    "Perfume_df['Character'].mask(Perfume_df['Character'] == \"Frangipani\",\"NaN\", inplace=True)"
   ]
  },
  {
   "cell_type": "code",
   "execution_count": 228,
   "metadata": {},
   "outputs": [],
   "source": [
    "Perfume_df['Fragrance_Family'].mask(Perfume_df['Character'] == \"Kiwi, Pear\",\"Fruity\", inplace=True)\n",
    "Perfume_df['Ingredients'].mask(Perfume_df['Character'] == \"Kiwi, Pear\",\"Kiwi, Pear\", inplace=True)\n",
    "Perfume_df['Character'].mask(Perfume_df['Character'] == \"Kiwi, Pear\",\"NaN\", inplace=True)"
   ]
  },
  {
   "cell_type": "code",
   "execution_count": 231,
   "metadata": {},
   "outputs": [],
   "source": [
    "Perfume_df['Fragrance_Family'].mask(Perfume_df['Character'] == \"Ginger, Amber\",\"Oriental\", inplace=True)\n",
    "Perfume_df['Ingredients'].mask(Perfume_df['Character'] == \"Ginger, Amber\",\"Ginger, Amber\", inplace=True)\n",
    "Perfume_df['Character'].mask(Perfume_df['Character'] == \"Ginger, Amber\",\"NaN\", inplace=True)"
   ]
  },
  {
   "cell_type": "code",
   "execution_count": 233,
   "metadata": {},
   "outputs": [],
   "source": [
    "Perfume_df['Fragrance_Family'].mask(Perfume_df['Character'] == \"Water, Neroli\",\"Aquatic\", inplace=True)\n",
    "Perfume_df['Ingredients'].mask(Perfume_df['Character'] == \"Water, Neroli\",\"Water, Neroli\", inplace=True)\n",
    "Perfume_df['Character'].mask(Perfume_df['Character'] == \"Water, Neroli\",\"NaN\", inplace=True)"
   ]
  },
  {
   "cell_type": "code",
   "execution_count": 235,
   "metadata": {},
   "outputs": [],
   "source": [
    "Perfume_df['Fragrance_Family'].mask(Perfume_df['Character'] == \"Tropical Fruits\",\"Fruity\", inplace=True)\n",
    "Perfume_df['Ingredients'].mask(Perfume_df['Character'] == \"Tropical Fruits\",\"Tropical Fruits\", inplace=True)\n",
    "Perfume_df['Character'].mask(Perfume_df['Character'] == \"Tropical Fruits\",\"NaN\", inplace=True)"
   ]
  },
  {
   "cell_type": "code",
   "execution_count": 237,
   "metadata": {},
   "outputs": [],
   "source": [
    "Perfume_df['Fragrance_Family'].mask(Perfume_df['Character'] == \"Rose\",\"Floral\", inplace=True)\n",
    "Perfume_df['Ingredients'].mask(Perfume_df['Character'] == \"Rose\",\"Rose\", inplace=True)\n",
    "Perfume_df['Character'].mask(Perfume_df['Character'] == \"Rose\",\"NaN\", inplace=True)"
   ]
  },
  {
   "cell_type": "code",
   "execution_count": 240,
   "metadata": {},
   "outputs": [],
   "source": [
    "Perfume_df['Fragrance_Family'].mask(Perfume_df['Character'] == \"Eucalyptus\",\"Oriental\", inplace=True)\n",
    "Perfume_df['Ingredients'].mask(Perfume_df['Character'] == \"Eucalyptus\",\"Eucalyptus\", inplace=True)\n",
    "Perfume_df['Character'].mask(Perfume_df['Character'] == \"Eucalyptus\",\"NaN\", inplace=True)"
   ]
  },
  {
   "cell_type": "code",
   "execution_count": 244,
   "metadata": {},
   "outputs": [],
   "source": [
    "Perfume_df['Fragrance_Family'].mask(Perfume_df['Character'] == \"Roses\",\"Floral\", inplace=True)\n",
    "Perfume_df['Ingredients'].mask(Perfume_df['Character'] == \"Roses\",\"Roses\", inplace=True)\n",
    "Perfume_df['Character'].mask(Perfume_df['Character'] == \"Roses\",\"NaN\", inplace=True)"
   ]
  },
  {
   "cell_type": "code",
   "execution_count": 246,
   "metadata": {},
   "outputs": [],
   "source": [
    "Perfume_df['Fragrance_Family'].mask(Perfume_df['Character'] == \"Oud, French notes\",\"Woody Oriental\", inplace=True)\n",
    "Perfume_df['Ingredients'].mask(Perfume_df['Character'] == \"Oud, French notes\",\"Oud, French notes\", inplace=True)\n",
    "Perfume_df['Character'].mask(Perfume_df['Character'] == \"Oud, French notes\",\"NaN\", inplace=True)"
   ]
  },
  {
   "cell_type": "code",
   "execution_count": 248,
   "metadata": {},
   "outputs": [],
   "source": [
    "Perfume_df['Fragrance_Family'].mask(Perfume_df['Character'] == \"Oud, natural floral notes\",\"Floral Oriental\", inplace=True)\n",
    "Perfume_df['Ingredients'].mask(Perfume_df['Character'] == \"Oud, natural floral notes\",\"Oud, natural floral notes\", inplace=True)\n",
    "Perfume_df['Character'].mask(Perfume_df['Character'] == \"Oud, natural floral notes\",\"NaN\", inplace=True)"
   ]
  },
  {
   "cell_type": "code",
   "execution_count": 242,
   "metadata": {},
   "outputs": [],
   "source": [
    "Perfume_df['Character'].mask(Perfume_df['Character'] == \"Natural Agarwood\",\"Natural\", inplace=True)"
   ]
  },
  {
   "cell_type": "code",
   "execution_count": 211,
   "metadata": {},
   "outputs": [
    {
     "data": {
      "text/html": [
       "<div>\n",
       "<style scoped>\n",
       "    .dataframe tbody tr th:only-of-type {\n",
       "        vertical-align: middle;\n",
       "    }\n",
       "\n",
       "    .dataframe tbody tr th {\n",
       "        vertical-align: top;\n",
       "    }\n",
       "\n",
       "    .dataframe thead th {\n",
       "        text-align: right;\n",
       "    }\n",
       "</style>\n",
       "<table border=\"1\" class=\"dataframe\">\n",
       "  <thead>\n",
       "    <tr style=\"text-align: right;\">\n",
       "      <th></th>\n",
       "      <th>Name</th>\n",
       "      <th>Price</th>\n",
       "      <th>Description</th>\n",
       "      <th>Rate</th>\n",
       "      <th>Rating_count</th>\n",
       "      <th>image</th>\n",
       "      <th>Brand</th>\n",
       "      <th>Gender</th>\n",
       "      <th>Product_Type</th>\n",
       "      <th>Character</th>\n",
       "      <th>Fragrance_Family</th>\n",
       "      <th>Size</th>\n",
       "      <th>Year</th>\n",
       "      <th>Ingredients</th>\n",
       "      <th>Concentration</th>\n",
       "      <th>Top_note</th>\n",
       "      <th>Middle_note</th>\n",
       "      <th>Base_note</th>\n",
       "    </tr>\n",
       "  </thead>\n",
       "  <tbody>\n",
       "    <tr>\n",
       "      <th>6182</th>\n",
       "      <td>Aura Myst Hammered Copper Candles with Lid Woo...</td>\n",
       "      <td>52.0</td>\n",
       "      <td>A soft and warm woody touch blended with glowi...</td>\n",
       "      <td>none</td>\n",
       "      <td>none</td>\n",
       "      <td>none</td>\n",
       "      <td>Aura Myst</td>\n",
       "      <td>Unisex</td>\n",
       "      <td>Candle</td>\n",
       "      <td>Woods, Cloves</td>\n",
       "      <td>NaN</td>\n",
       "      <td>300 ml</td>\n",
       "      <td>NaN</td>\n",
       "      <td>Tuberose, Iris, Jasmine, Aromatic Ingredients</td>\n",
       "      <td>NaN</td>\n",
       "      <td>Incense</td>\n",
       "      <td>Flowers</td>\n",
       "      <td>Jasmine, Aromatic Ingredients</td>\n",
       "    </tr>\n",
       "  </tbody>\n",
       "</table>\n",
       "</div>"
      ],
      "text/plain": [
       "                                                   Name  Price  \\\n",
       "6182  Aura Myst Hammered Copper Candles with Lid Woo...   52.0   \n",
       "\n",
       "                                            Description  Rate Rating_count  \\\n",
       "6182  A soft and warm woody touch blended with glowi...  none         none   \n",
       "\n",
       "     image      Brand  Gender Product_Type      Character Fragrance_Family  \\\n",
       "6182  none  Aura Myst  Unisex       Candle  Woods, Cloves              NaN   \n",
       "\n",
       "        Size Year                                    Ingredients  \\\n",
       "6182  300 ml  NaN  Tuberose, Iris, Jasmine, Aromatic Ingredients   \n",
       "\n",
       "     Concentration Top_note Middle_note                      Base_note  \n",
       "6182           NaN  Incense     Flowers  Jasmine, Aromatic Ingredients  "
      ]
     },
     "execution_count": 211,
     "metadata": {},
     "output_type": "execute_result"
    }
   ],
   "source": [
    "Perfume_df[Perfume_df.Character == \"Woods, Cloves\"]"
   ]
  },
  {
   "cell_type": "code",
   "execution_count": 19,
   "metadata": {},
   "outputs": [],
   "source": [
    "Perfume_df['Character'].mask(Perfume_df['Character'] == \"Powder\",\"NaN\", inplace=True)"
   ]
  }
 ],
 "metadata": {
  "interpreter": {
   "hash": "2be5faf79681da6f2a61fdfdd5405d65d042280f7fba6178067603e3a2925119"
  },
  "kernelspec": {
   "display_name": "Python 3.10.2 64-bit",
   "language": "python",
   "name": "python3"
  },
  "language_info": {
   "codemirror_mode": {
    "name": "ipython",
    "version": 3
   },
   "file_extension": ".py",
   "mimetype": "text/x-python",
   "name": "python",
   "nbconvert_exporter": "python",
   "pygments_lexer": "ipython3",
   "version": "3.10.2"
  },
  "orig_nbformat": 4
 },
 "nbformat": 4,
 "nbformat_minor": 2
}

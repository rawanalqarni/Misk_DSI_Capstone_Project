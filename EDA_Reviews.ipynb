{
 "cells": [
  {
   "cell_type": "markdown",
   "metadata": {},
   "source": [
    "### Capstone Project -  Perfumes Recommendation System \n",
    "#### EDA - Reviews Dataset"
   ]
  },
  {
   "cell_type": "markdown",
   "metadata": {},
   "source": [
    "#### Import packages"
   ]
  },
  {
   "cell_type": "code",
   "execution_count": 1,
   "metadata": {},
   "outputs": [],
   "source": [
    "import pandas as pd \n",
    "import numpy as np\n",
    "import matplotlib.pyplot as plt "
   ]
  },
  {
   "cell_type": "markdown",
   "metadata": {},
   "source": [
    "- Reviewa Dataset: \n",
    "This dataset contain User nickname, Perfume_name, Brand, Fragrance_Family, Overall_rating, User_rating, Revirews, Date."
   ]
  },
  {
   "cell_type": "code",
   "execution_count": 2,
   "metadata": {},
   "outputs": [],
   "source": [
    "Reviews_df = pd.read_csv(\"C:/Users/hmq4/OneDrive/Desktop/Data Science- Misk/chrome/Misk_DSI_Capstone_Project/Dataset/Datasets/Reviews_Dataset.csv\")"
   ]
  },
  {
   "cell_type": "markdown",
   "metadata": {},
   "source": [
    "Data Dictionary:\n",
    "1. Name of the perfume\n",
    "2. Brand\n",
    "3. price \n",
    "4. Fragrance_family\n",
    "5. Overall_rating : average rating on a scale 0-5\n",
    "6. rate_count : this represent the number of users who rated this perfumes \n",
    "7. Username : user nickname \n",
    "8. User_rating : user personal rating that comes along with the review \n",
    "9. Title: each review have a title given by the user that summurize the overall exprection \n",
    "10. Review: user comment about the perfume\n",
    "11. Date"
   ]
  },
  {
   "cell_type": "markdown",
   "metadata": {},
   "source": [
    "#### 1. EDA"
   ]
  },
  {
   "cell_type": "code",
   "execution_count": 3,
   "metadata": {},
   "outputs": [
    {
     "data": {
      "text/html": [
       "<div>\n",
       "<style scoped>\n",
       "    .dataframe tbody tr th:only-of-type {\n",
       "        vertical-align: middle;\n",
       "    }\n",
       "\n",
       "    .dataframe tbody tr th {\n",
       "        vertical-align: top;\n",
       "    }\n",
       "\n",
       "    .dataframe thead th {\n",
       "        text-align: right;\n",
       "    }\n",
       "</style>\n",
       "<table border=\"1\" class=\"dataframe\">\n",
       "  <thead>\n",
       "    <tr style=\"text-align: right;\">\n",
       "      <th></th>\n",
       "      <th>Unnamed: 0.7</th>\n",
       "      <th>Unnamed: 0.6</th>\n",
       "      <th>Unnamed: 0.5</th>\n",
       "      <th>Unnamed: 0.4</th>\n",
       "      <th>Unnamed: 0.3</th>\n",
       "      <th>Unnamed: 0.2</th>\n",
       "      <th>Unnamed: 0.1</th>\n",
       "      <th>Unnamed: 0</th>\n",
       "      <th>Name</th>\n",
       "      <th>Brand</th>\n",
       "      <th>Price</th>\n",
       "      <th>Fragrance_Family</th>\n",
       "      <th>Overall_rating</th>\n",
       "      <th>rate_count</th>\n",
       "      <th>Username</th>\n",
       "      <th>User_rating</th>\n",
       "      <th>Title</th>\n",
       "      <th>Review</th>\n",
       "      <th>Date</th>\n",
       "    </tr>\n",
       "  </thead>\n",
       "  <tbody>\n",
       "    <tr>\n",
       "      <th>0</th>\n",
       "      <td>0</td>\n",
       "      <td>0.0</td>\n",
       "      <td>0.0</td>\n",
       "      <td>0.0</td>\n",
       "      <td>0.0</td>\n",
       "      <td>0.0</td>\n",
       "      <td>0.0</td>\n",
       "      <td>0</td>\n",
       "      <td>Maqam Al Shoyoukh EDP - 120 ml</td>\n",
       "      <td>Maqam - Perfume</td>\n",
       "      <td>700 SAR</td>\n",
       "      <td>Floral Oriental</td>\n",
       "      <td>5.0</td>\n",
       "      <td>1</td>\n",
       "      <td>Aya</td>\n",
       "      <td>5</td>\n",
       "      <td>A Must Have!</td>\n",
       "      <td>This fragrance is breathtaking... Aside from t...</td>\n",
       "      <td>2021-12-28</td>\n",
       "    </tr>\n",
       "    <tr>\n",
       "      <th>1</th>\n",
       "      <td>1</td>\n",
       "      <td>1.0</td>\n",
       "      <td>1.0</td>\n",
       "      <td>1.0</td>\n",
       "      <td>1.0</td>\n",
       "      <td>1.0</td>\n",
       "      <td>1.0</td>\n",
       "      <td>1</td>\n",
       "      <td>Ajmal Raindrops</td>\n",
       "      <td>Ajmal - Perfume</td>\n",
       "      <td>46 SAR</td>\n",
       "      <td>Floral</td>\n",
       "      <td>5.0</td>\n",
       "      <td>3</td>\n",
       "      <td>Shamma Almarzouqi</td>\n",
       "      <td>5</td>\n",
       "      <td>SM</td>\n",
       "      <td>Smell amazing???</td>\n",
       "      <td>2021-11-02</td>\n",
       "    </tr>\n",
       "    <tr>\n",
       "      <th>2</th>\n",
       "      <td>2</td>\n",
       "      <td>2.0</td>\n",
       "      <td>2.0</td>\n",
       "      <td>2.0</td>\n",
       "      <td>2.0</td>\n",
       "      <td>2.0</td>\n",
       "      <td>2.0</td>\n",
       "      <td>2</td>\n",
       "      <td>Ajmal Raindrops</td>\n",
       "      <td>Ajmal - Perfume</td>\n",
       "      <td>46 SAR</td>\n",
       "      <td>Floral</td>\n",
       "      <td>5.0</td>\n",
       "      <td>3</td>\n",
       "      <td>Reema</td>\n",
       "      <td>5</td>\n",
       "      <td>روعه</td>\n",
       "      <td>روعه لا يفوتكم</td>\n",
       "      <td>2020-12-28</td>\n",
       "    </tr>\n",
       "    <tr>\n",
       "      <th>3</th>\n",
       "      <td>3</td>\n",
       "      <td>3.0</td>\n",
       "      <td>3.0</td>\n",
       "      <td>3.0</td>\n",
       "      <td>3.0</td>\n",
       "      <td>3.0</td>\n",
       "      <td>3.0</td>\n",
       "      <td>3</td>\n",
       "      <td>Ajmal Raindrops</td>\n",
       "      <td>Ajmal - Perfume</td>\n",
       "      <td>46 SAR</td>\n",
       "      <td>Floral</td>\n",
       "      <td>5.0</td>\n",
       "      <td>3</td>\n",
       "      <td>Nataliia</td>\n",
       "      <td>5</td>\n",
       "      <td>Long Lasting</td>\n",
       "      <td>long lasting and valuable price</td>\n",
       "      <td>2020-10-06</td>\n",
       "    </tr>\n",
       "    <tr>\n",
       "      <th>4</th>\n",
       "      <td>4</td>\n",
       "      <td>4.0</td>\n",
       "      <td>4.0</td>\n",
       "      <td>4.0</td>\n",
       "      <td>4.0</td>\n",
       "      <td>4.0</td>\n",
       "      <td>4.0</td>\n",
       "      <td>4</td>\n",
       "      <td>Calvin Klein Euphoria Men Intense</td>\n",
       "      <td>Calvin Klein - Perfume</td>\n",
       "      <td>145 SAR</td>\n",
       "      <td>Romantic</td>\n",
       "      <td>4.0</td>\n",
       "      <td>3</td>\n",
       "      <td>Sara</td>\n",
       "      <td>5</td>\n",
       "      <td>جذابة و ثابتة</td>\n",
       "      <td>ليس غريبا ان تكون من الافضل مبيعا فهي ثابتة و ...</td>\n",
       "      <td>2020-11-01</td>\n",
       "    </tr>\n",
       "  </tbody>\n",
       "</table>\n",
       "</div>"
      ],
      "text/plain": [
       "   Unnamed: 0.7  Unnamed: 0.6  Unnamed: 0.5  Unnamed: 0.4  Unnamed: 0.3  \\\n",
       "0             0           0.0           0.0           0.0           0.0   \n",
       "1             1           1.0           1.0           1.0           1.0   \n",
       "2             2           2.0           2.0           2.0           2.0   \n",
       "3             3           3.0           3.0           3.0           3.0   \n",
       "4             4           4.0           4.0           4.0           4.0   \n",
       "\n",
       "   Unnamed: 0.2  Unnamed: 0.1  Unnamed: 0                               Name  \\\n",
       "0           0.0           0.0           0     Maqam Al Shoyoukh EDP - 120 ml   \n",
       "1           1.0           1.0           1                    Ajmal Raindrops   \n",
       "2           2.0           2.0           2                    Ajmal Raindrops   \n",
       "3           3.0           3.0           3                    Ajmal Raindrops   \n",
       "4           4.0           4.0           4  Calvin Klein Euphoria Men Intense   \n",
       "\n",
       "                    Brand    Price Fragrance_Family  Overall_rating  \\\n",
       "0         Maqam - Perfume  700 SAR  Floral Oriental             5.0   \n",
       "1         Ajmal - Perfume   46 SAR           Floral             5.0   \n",
       "2         Ajmal - Perfume   46 SAR           Floral             5.0   \n",
       "3         Ajmal - Perfume   46 SAR           Floral             5.0   \n",
       "4  Calvin Klein - Perfume  145 SAR         Romantic             4.0   \n",
       "\n",
       "   rate_count           Username  User_rating          Title  \\\n",
       "0           1                Aya            5   A Must Have!   \n",
       "1           3  Shamma Almarzouqi            5             SM   \n",
       "2           3              Reema            5           روعه   \n",
       "3           3           Nataliia            5   Long Lasting   \n",
       "4           3               Sara            5  جذابة و ثابتة   \n",
       "\n",
       "                                              Review        Date  \n",
       "0  This fragrance is breathtaking... Aside from t...  2021-12-28  \n",
       "1                                   Smell amazing???  2021-11-02  \n",
       "2                                     روعه لا يفوتكم  2020-12-28  \n",
       "3                    long lasting and valuable price  2020-10-06  \n",
       "4  ليس غريبا ان تكون من الافضل مبيعا فهي ثابتة و ...  2020-11-01  "
      ]
     },
     "execution_count": 3,
     "metadata": {},
     "output_type": "execute_result"
    }
   ],
   "source": [
    "Reviews_df.head()"
   ]
  },
  {
   "cell_type": "code",
   "execution_count": 4,
   "metadata": {},
   "outputs": [],
   "source": [
    "# Drop first 8 columns \n",
    "Reviews_df.drop(['Unnamed: 0.7',\"Unnamed: 0.6\",\"Unnamed: 0.5\",\"Unnamed: 0.4\", \"Unnamed: 0.3\", \"Unnamed: 0.2\", \"Unnamed: 0.1\", \"Unnamed: 0\"], axis='columns', inplace=True)"
   ]
  },
  {
   "cell_type": "code",
   "execution_count": 5,
   "metadata": {},
   "outputs": [],
   "source": [
    "# Split brand column so it only brand name\n",
    "Reviews_df['Brand'] = Reviews_df.Brand.str.split('-').str[0]"
   ]
  },
  {
   "cell_type": "code",
   "execution_count": 6,
   "metadata": {},
   "outputs": [
    {
     "data": {
      "text/plain": [
       "108"
      ]
     },
     "execution_count": 6,
     "metadata": {},
     "output_type": "execute_result"
    }
   ],
   "source": [
    "Reviews_df.Brand.nunique()"
   ]
  },
  {
   "cell_type": "code",
   "execution_count": 7,
   "metadata": {},
   "outputs": [
    {
     "name": "stdout",
     "output_type": "stream",
     "text": [
      "<class 'pandas.core.frame.DataFrame'>\n",
      "RangeIndex: 2271 entries, 0 to 2270\n",
      "Data columns (total 11 columns):\n",
      " #   Column            Non-Null Count  Dtype  \n",
      "---  ------            --------------  -----  \n",
      " 0   Name              2271 non-null   object \n",
      " 1   Brand             2271 non-null   object \n",
      " 2   Price             2271 non-null   object \n",
      " 3   Fragrance_Family  2107 non-null   object \n",
      " 4   Overall_rating    2271 non-null   float64\n",
      " 5   rate_count        2271 non-null   int64  \n",
      " 6   Username          2104 non-null   object \n",
      " 7   User_rating       2271 non-null   int64  \n",
      " 8   Title             2094 non-null   object \n",
      " 9   Review            2073 non-null   object \n",
      " 10  Date              2090 non-null   object \n",
      "dtypes: float64(1), int64(2), object(8)\n",
      "memory usage: 195.3+ KB\n"
     ]
    }
   ],
   "source": [
    "Reviews_df.info()"
   ]
  },
  {
   "cell_type": "code",
   "execution_count": 8,
   "metadata": {},
   "outputs": [
    {
     "data": {
      "text/plain": [
       "(2271, 11)"
      ]
     },
     "execution_count": 8,
     "metadata": {},
     "output_type": "execute_result"
    }
   ],
   "source": [
    "Reviews_df.shape"
   ]
  },
  {
   "cell_type": "code",
   "execution_count": 9,
   "metadata": {},
   "outputs": [
    {
     "name": "stdout",
     "output_type": "stream",
     "text": [
      " This dataset have 2104 users\n",
      " This dataset have 2271 Perfume reviews\n"
     ]
    }
   ],
   "source": [
    "# How many user I have and how many perfume been reviewed by users?\n",
    "print(f\" This dataset have {Reviews_df.Username.value_counts().sum()} users\")\n",
    "print(f\" This dataset have {Reviews_df.Name.value_counts().sum()} Perfume reviews\")\n"
   ]
  },
  {
   "cell_type": "code",
   "execution_count": 10,
   "metadata": {},
   "outputs": [
    {
     "data": {
      "text/plain": [
       "Ali            80\n",
       "Sara           59\n",
       "Testaccount    52\n",
       "Mohammed       48\n",
       "Abdullah       46\n",
       "               ..\n",
       "Suha            1\n",
       "Haya Algh       1\n",
       "Khaled Adel     1\n",
       "Hamid           1\n",
       "Tom             1\n",
       "Name: Username, Length: 372, dtype: int64"
      ]
     },
     "execution_count": 10,
     "metadata": {},
     "output_type": "execute_result"
    }
   ],
   "source": [
    "Reviews_df.Username.value_counts()"
   ]
  },
  {
   "cell_type": "markdown",
   "metadata": {},
   "source": [
    "Since users don't have an ID that is unique I can't predict users prefrences"
   ]
  },
  {
   "cell_type": "code",
   "execution_count": 11,
   "metadata": {},
   "outputs": [
    {
     "data": {
      "text/html": [
       "<div>\n",
       "<style scoped>\n",
       "    .dataframe tbody tr th:only-of-type {\n",
       "        vertical-align: middle;\n",
       "    }\n",
       "\n",
       "    .dataframe tbody tr th {\n",
       "        vertical-align: top;\n",
       "    }\n",
       "\n",
       "    .dataframe thead th {\n",
       "        text-align: right;\n",
       "    }\n",
       "</style>\n",
       "<table border=\"1\" class=\"dataframe\">\n",
       "  <thead>\n",
       "    <tr style=\"text-align: right;\">\n",
       "      <th></th>\n",
       "      <th>Name</th>\n",
       "      <th>Brand</th>\n",
       "      <th>Price</th>\n",
       "      <th>Fragrance_Family</th>\n",
       "      <th>Overall_rating</th>\n",
       "      <th>rate_count</th>\n",
       "      <th>Username</th>\n",
       "      <th>User_rating</th>\n",
       "      <th>Title</th>\n",
       "      <th>Review</th>\n",
       "      <th>Date</th>\n",
       "    </tr>\n",
       "  </thead>\n",
       "  <tbody>\n",
       "    <tr>\n",
       "      <th>0</th>\n",
       "      <td>Maqam Al Shoyoukh EDP - 120 ml</td>\n",
       "      <td>Maqam</td>\n",
       "      <td>700 SAR</td>\n",
       "      <td>Floral Oriental</td>\n",
       "      <td>5.0</td>\n",
       "      <td>1</td>\n",
       "      <td>Aya</td>\n",
       "      <td>5</td>\n",
       "      <td>A Must Have!</td>\n",
       "      <td>This fragrance is breathtaking... Aside from t...</td>\n",
       "      <td>2021-12-28</td>\n",
       "    </tr>\n",
       "    <tr>\n",
       "      <th>1</th>\n",
       "      <td>Ajmal Raindrops</td>\n",
       "      <td>Ajmal</td>\n",
       "      <td>46 SAR</td>\n",
       "      <td>Floral</td>\n",
       "      <td>5.0</td>\n",
       "      <td>3</td>\n",
       "      <td>Shamma Almarzouqi</td>\n",
       "      <td>5</td>\n",
       "      <td>SM</td>\n",
       "      <td>Smell amazing???</td>\n",
       "      <td>2021-11-02</td>\n",
       "    </tr>\n",
       "    <tr>\n",
       "      <th>2</th>\n",
       "      <td>Ajmal Raindrops</td>\n",
       "      <td>Ajmal</td>\n",
       "      <td>46 SAR</td>\n",
       "      <td>Floral</td>\n",
       "      <td>5.0</td>\n",
       "      <td>3</td>\n",
       "      <td>Reema</td>\n",
       "      <td>5</td>\n",
       "      <td>روعه</td>\n",
       "      <td>روعه لا يفوتكم</td>\n",
       "      <td>2020-12-28</td>\n",
       "    </tr>\n",
       "    <tr>\n",
       "      <th>3</th>\n",
       "      <td>Ajmal Raindrops</td>\n",
       "      <td>Ajmal</td>\n",
       "      <td>46 SAR</td>\n",
       "      <td>Floral</td>\n",
       "      <td>5.0</td>\n",
       "      <td>3</td>\n",
       "      <td>Nataliia</td>\n",
       "      <td>5</td>\n",
       "      <td>Long Lasting</td>\n",
       "      <td>long lasting and valuable price</td>\n",
       "      <td>2020-10-06</td>\n",
       "    </tr>\n",
       "    <tr>\n",
       "      <th>13</th>\n",
       "      <td>Roberto Cavalli \"Roberto Cavalli\"</td>\n",
       "      <td>Roberto Cavalli</td>\n",
       "      <td>129 SAR</td>\n",
       "      <td>Floral Oriental</td>\n",
       "      <td>5.0</td>\n",
       "      <td>7</td>\n",
       "      <td>Zeba</td>\n",
       "      <td>5</td>\n",
       "      <td>Long Lasting</td>\n",
       "      <td>Elegant smell and super long lasting fragrance...</td>\n",
       "      <td>2021-08-02</td>\n",
       "    </tr>\n",
       "    <tr>\n",
       "      <th>...</th>\n",
       "      <td>...</td>\n",
       "      <td>...</td>\n",
       "      <td>...</td>\n",
       "      <td>...</td>\n",
       "      <td>...</td>\n",
       "      <td>...</td>\n",
       "      <td>...</td>\n",
       "      <td>...</td>\n",
       "      <td>...</td>\n",
       "      <td>...</td>\n",
       "      <td>...</td>\n",
       "    </tr>\n",
       "    <tr>\n",
       "      <th>2266</th>\n",
       "      <td>Hermes Terre D'Hermes Pure Perfume</td>\n",
       "      <td>Hermes</td>\n",
       "      <td>552 SAR</td>\n",
       "      <td>Woody Oriental</td>\n",
       "      <td>5.0</td>\n",
       "      <td>1</td>\n",
       "      <td>Fahad</td>\n",
       "      <td>5</td>\n",
       "      <td>عطر جميل جدا، ولكن..</td>\n",
       "      <td>عطر جميل جدا و مميز، ليس للكل و موجهه للاشخاص ...</td>\n",
       "      <td>2020-09-23</td>\n",
       "    </tr>\n",
       "    <tr>\n",
       "      <th>2267</th>\n",
       "      <td>Hermes Twilly D'Hermes</td>\n",
       "      <td>Hermes</td>\n",
       "      <td>334 SAR</td>\n",
       "      <td>Chypre</td>\n",
       "      <td>5.0</td>\n",
       "      <td>1</td>\n",
       "      <td>Retaj</td>\n",
       "      <td>5</td>\n",
       "      <td>Amazing</td>\n",
       "      <td>Wowing</td>\n",
       "      <td>2021-08-04</td>\n",
       "    </tr>\n",
       "    <tr>\n",
       "      <th>2268</th>\n",
       "      <td>Hermes L’Ambre Des Merveilles</td>\n",
       "      <td>Hermes</td>\n",
       "      <td>539 SAR</td>\n",
       "      <td>Charismatic</td>\n",
       "      <td>5.0</td>\n",
       "      <td>1</td>\n",
       "      <td>Wrida Zaidi</td>\n",
       "      <td>5</td>\n",
       "      <td>عنبر هرمس</td>\n",
       "      <td>عطر اخاذ يعجبني من اول استعمال و انا وفية لهذا...</td>\n",
       "      <td>2021-12-24</td>\n",
       "    </tr>\n",
       "    <tr>\n",
       "      <th>2269</th>\n",
       "      <td>Hermes 24 Faubourg</td>\n",
       "      <td>Hermes</td>\n",
       "      <td>541 SAR</td>\n",
       "      <td>Feminine</td>\n",
       "      <td>5.0</td>\n",
       "      <td>1</td>\n",
       "      <td>Somaya</td>\n",
       "      <td>5</td>\n",
       "      <td>Amazing Perfume I Love It</td>\n",
       "      <td>love</td>\n",
       "      <td>2020-05-13</td>\n",
       "    </tr>\n",
       "    <tr>\n",
       "      <th>2270</th>\n",
       "      <td>Hermes 24 Faubourg</td>\n",
       "      <td>Hermes</td>\n",
       "      <td>456 SAR</td>\n",
       "      <td>Floral Oriental</td>\n",
       "      <td>5.0</td>\n",
       "      <td>1</td>\n",
       "      <td>Mahra Suhail</td>\n",
       "      <td>5</td>\n",
       "      <td>يجنننن</td>\n",
       "      <td>ريحته راقيه وأنثويه</td>\n",
       "      <td>2021-09-22</td>\n",
       "    </tr>\n",
       "  </tbody>\n",
       "</table>\n",
       "<p>1197 rows × 11 columns</p>\n",
       "</div>"
      ],
      "text/plain": [
       "                                    Name             Brand    Price  \\\n",
       "0         Maqam Al Shoyoukh EDP - 120 ml            Maqam   700 SAR   \n",
       "1                        Ajmal Raindrops            Ajmal    46 SAR   \n",
       "2                        Ajmal Raindrops            Ajmal    46 SAR   \n",
       "3                        Ajmal Raindrops            Ajmal    46 SAR   \n",
       "13     Roberto Cavalli \"Roberto Cavalli\"  Roberto Cavalli   129 SAR   \n",
       "...                                  ...               ...      ...   \n",
       "2266  Hermes Terre D'Hermes Pure Perfume           Hermes   552 SAR   \n",
       "2267              Hermes Twilly D'Hermes           Hermes   334 SAR   \n",
       "2268       Hermes L’Ambre Des Merveilles           Hermes   539 SAR   \n",
       "2269                  Hermes 24 Faubourg           Hermes   541 SAR   \n",
       "2270                  Hermes 24 Faubourg           Hermes   456 SAR   \n",
       "\n",
       "     Fragrance_Family  Overall_rating  rate_count           Username  \\\n",
       "0     Floral Oriental             5.0           1                Aya   \n",
       "1              Floral             5.0           3  Shamma Almarzouqi   \n",
       "2              Floral             5.0           3              Reema   \n",
       "3              Floral             5.0           3           Nataliia   \n",
       "13    Floral Oriental             5.0           7               Zeba   \n",
       "...               ...             ...         ...                ...   \n",
       "2266   Woody Oriental             5.0           1              Fahad   \n",
       "2267           Chypre             5.0           1              Retaj   \n",
       "2268      Charismatic             5.0           1        Wrida Zaidi   \n",
       "2269         Feminine             5.0           1             Somaya   \n",
       "2270  Floral Oriental             5.0           1       Mahra Suhail   \n",
       "\n",
       "      User_rating                      Title  \\\n",
       "0               5               A Must Have!   \n",
       "1               5                         SM   \n",
       "2               5                       روعه   \n",
       "3               5               Long Lasting   \n",
       "13              5               Long Lasting   \n",
       "...           ...                        ...   \n",
       "2266            5       عطر جميل جدا، ولكن..   \n",
       "2267            5                    Amazing   \n",
       "2268            5                  عنبر هرمس   \n",
       "2269            5  Amazing Perfume I Love It   \n",
       "2270            5                     يجنننن   \n",
       "\n",
       "                                                 Review        Date  \n",
       "0     This fragrance is breathtaking... Aside from t...  2021-12-28  \n",
       "1                                      Smell amazing???  2021-11-02  \n",
       "2                                        روعه لا يفوتكم  2020-12-28  \n",
       "3                       long lasting and valuable price  2020-10-06  \n",
       "13    Elegant smell and super long lasting fragrance...  2021-08-02  \n",
       "...                                                 ...         ...  \n",
       "2266  عطر جميل جدا و مميز، ليس للكل و موجهه للاشخاص ...  2020-09-23  \n",
       "2267                                             Wowing  2021-08-04  \n",
       "2268  عطر اخاذ يعجبني من اول استعمال و انا وفية لهذا...  2021-12-24  \n",
       "2269                                               love  2020-05-13  \n",
       "2270                                ريحته راقيه وأنثويه  2021-09-22  \n",
       "\n",
       "[1197 rows x 11 columns]"
      ]
     },
     "execution_count": 11,
     "metadata": {},
     "output_type": "execute_result"
    }
   ],
   "source": [
    "# How many perfume with hight rate 5.0?\n",
    "Reviews_df[Reviews_df['Overall_rating'] == 5.0] # >> 1197"
   ]
  },
  {
   "cell_type": "code",
   "execution_count": 12,
   "metadata": {},
   "outputs": [
    {
     "data": {
      "text/plain": [
       "1     520\n",
       "2     376\n",
       "3     327\n",
       "4     228\n",
       "5     130\n",
       "8     120\n",
       "6     108\n",
       "18    108\n",
       "7     105\n",
       "13    104\n",
       "17     85\n",
       "12     60\n",
       "Name: rate_count, dtype: int64"
      ]
     },
     "execution_count": 12,
     "metadata": {},
     "output_type": "execute_result"
    }
   ],
   "source": [
    "#How many users have rated perfumes in the dataset?\n",
    "Reviews_df.rate_count.value_counts()"
   ]
  },
  {
   "cell_type": "code",
   "execution_count": 14,
   "metadata": {},
   "outputs": [
    {
     "data": {
      "image/png": "[encoded data removed]",
      "text/plain": [
       "<Figure size 720x360 with 1 Axes>"
      ]
     },
     "metadata": {
      "needs_background": "light"
     },
     "output_type": "display_data"
    }
   ],
   "source": [
    "import matplotlib.pyplot as plt\n",
    "import seaborn as sns \n",
    "fig = plt.figure(figsize = (10, 5))\n",
    "sns.cubehelix_palette(start=.5, rot=-.5, as_cmap=True)\n",
    "# creating the bar plot\n",
    "plt.scatter(Reviews_df.Overall_rating,Reviews_df.rate_count, color ='#AF7AC5')\n",
    " \n",
    "plt.xlabel(\"Rates\")\n",
    "plt.ylabel(\"No. of Users\")\n",
    "plt.title(\"Rate Ranges\")\n",
    "plt.xticks(rotation=45)\n",
    "plt.show()"
   ]
  },
  {
   "cell_type": "code",
   "execution_count": 15,
   "metadata": {},
   "outputs": [
    {
     "data": {
      "text/html": [
       "<div>\n",
       "<style scoped>\n",
       "    .dataframe tbody tr th:only-of-type {\n",
       "        vertical-align: middle;\n",
       "    }\n",
       "\n",
       "    .dataframe tbody tr th {\n",
       "        vertical-align: top;\n",
       "    }\n",
       "\n",
       "    .dataframe thead th {\n",
       "        text-align: right;\n",
       "    }\n",
       "</style>\n",
       "<table border=\"1\" class=\"dataframe\">\n",
       "  <thead>\n",
       "    <tr style=\"text-align: right;\">\n",
       "      <th></th>\n",
       "      <th>Overall_rating</th>\n",
       "      <th>rate_count</th>\n",
       "    </tr>\n",
       "    <tr>\n",
       "      <th>Brand</th>\n",
       "      <th></th>\n",
       "      <th></th>\n",
       "    </tr>\n",
       "  </thead>\n",
       "  <tbody>\n",
       "    <tr>\n",
       "      <th>Mancera</th>\n",
       "      <td>5.0</td>\n",
       "      <td>18</td>\n",
       "    </tr>\n",
       "    <tr>\n",
       "      <th>Roberto Cavalli</th>\n",
       "      <td>5.0</td>\n",
       "      <td>17</td>\n",
       "    </tr>\n",
       "    <tr>\n",
       "      <th>Mont Blanc</th>\n",
       "      <td>5.0</td>\n",
       "      <td>13</td>\n",
       "    </tr>\n",
       "    <tr>\n",
       "      <th>Versace</th>\n",
       "      <td>5.0</td>\n",
       "      <td>13</td>\n",
       "    </tr>\n",
       "    <tr>\n",
       "      <th>Guerlain</th>\n",
       "      <td>5.0</td>\n",
       "      <td>8</td>\n",
       "    </tr>\n",
       "    <tr>\n",
       "      <th>Calvin Klein</th>\n",
       "      <td>5.0</td>\n",
       "      <td>8</td>\n",
       "    </tr>\n",
       "    <tr>\n",
       "      <th>Candy Addict</th>\n",
       "      <td>5.0</td>\n",
       "      <td>7</td>\n",
       "    </tr>\n",
       "    <tr>\n",
       "      <th>Who Am I</th>\n",
       "      <td>5.0</td>\n",
       "      <td>7</td>\n",
       "    </tr>\n",
       "    <tr>\n",
       "      <th>Lancome</th>\n",
       "      <td>5.0</td>\n",
       "      <td>6</td>\n",
       "    </tr>\n",
       "    <tr>\n",
       "      <th>Juicy Couture</th>\n",
       "      <td>5.0</td>\n",
       "      <td>6</td>\n",
       "    </tr>\n",
       "  </tbody>\n",
       "</table>\n",
       "</div>"
      ],
      "text/plain": [
       "                  Overall_rating  rate_count\n",
       "Brand                                       \n",
       "Mancera                      5.0          18\n",
       "Roberto Cavalli              5.0          17\n",
       "Mont Blanc                   5.0          13\n",
       "Versace                      5.0          13\n",
       "Guerlain                     5.0           8\n",
       "Calvin Klein                 5.0           8\n",
       "Candy Addict                 5.0           7\n",
       "Who Am I                     5.0           7\n",
       "Lancome                      5.0           6\n",
       "Juicy Couture                5.0           6"
      ]
     },
     "execution_count": 15,
     "metadata": {},
     "output_type": "execute_result"
    }
   ],
   "source": [
    "# Top 10 high rating brands we have \n",
    "Top_10 = Reviews_df.groupby('Brand').agg({'Overall_rating': \"max\", 'rate_count':'max'}).sort_values(by=['rate_count'], ascending=False)\n",
    "Top_10.head(10)"
   ]
  },
  {
   "cell_type": "code",
   "execution_count": 18,
   "metadata": {},
   "outputs": [
    {
     "data": {
      "image/png": "[encoded data removed]",
      "text/plain": [
       "<Figure size 1080x576 with 4 Axes>"
      ]
     },
     "metadata": {
      "needs_background": "light"
     },
     "output_type": "display_data"
    }
   ],
   "source": [
    "Reviews_df.hist(figsize = (15,8))\n",
    "plt.show()"
   ]
  },
  {
   "cell_type": "markdown",
   "metadata": {},
   "source": [
    "### Conclousion \n",
    "After the EDA stage I decided to build a content based recommendation system, because I don't have enough rating data majority of Perfumes don't have any rating avaliable in GoldenScent website. \n",
    "Therefore, I will fouses on perfume features such as Fragrance_Family, Ingredients,.. to build a content-based similarity model based on Cosine similarity."
   ]
  }
 ],
 "metadata": {
  "interpreter": {
   "hash": "2be5faf79681da6f2a61fdfdd5405d65d042280f7fba6178067603e3a2925119"
  },
  "kernelspec": {
   "display_name": "Python 3.10.2 64-bit",
   "language": "python",
   "name": "python3"
  },
  "language_info": {
   "codemirror_mode": {
    "name": "ipython",
    "version": 3
   },
   "file_extension": ".py",
   "mimetype": "text/x-python",
   "name": "python",
   "nbconvert_exporter": "python",
   "pygments_lexer": "ipython3",
   "version": "3.10.2"
  },
  "orig_nbformat": 4
 },
 "nbformat": 4,
 "nbformat_minor": 2
}

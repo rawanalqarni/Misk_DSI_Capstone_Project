{
 "cells": [
  {
   "cell_type": "code",
   "execution_count": 22,
   "metadata": {},
   "outputs": [
    {
     "name": "stderr",
     "output_type": "stream",
     "text": [
      "C:\\Users\\hmq4\\AppData\\Local\\Temp\\ipykernel_2980\\48332469.py:9: DeprecationWarning: executable_path has been deprecated, please pass in a Service object\n",
      "  driver = webdriver.Chrome(path)\n"
     ]
    }
   ],
   "source": [
    "import selenium\n",
    "from selenium import webdriver \n",
    "from selenium.webdriver.common.by import By\n",
    "from selenium.webdriver.support.ui import WebDriverWait\n",
    "from selenium.webdriver.support import expected_conditions as EC\n",
    "\n",
    "\n",
    "path = \"C:/Users/hmq4/OneDrive/Desktop/Data Science- Misk/chrome/chromedriver.exe\"\n",
    "driver = webdriver.Chrome(path)\n",
    "driver.get(\"https://www.goldenscent.com/en/brands/versace.html?action=cat&id=108\")"
   ]
  },
  {
   "cell_type": "code",
   "execution_count": 23,
   "metadata": {},
   "outputs": [
    {
     "name": "stdout",
     "output_type": "stream",
     "text": [
      "48\n"
     ]
    }
   ],
   "source": [
    "from selenium.webdriver.common.by import By\n",
    "from selenium.webdriver.support.ui import WebDriverWait\n",
    "import time\n",
    "\n",
    "productlinks = driver.find_elements(By.CLASS_NAME, 'ais-InfiniteHits-item.col-xs-6.col-md-4.flex')\n",
    "links = []\n",
    "for i in productlinks:\n",
    "    url = i.find_element(By.CLASS_NAME ,'block.no-underline.product-link').get_property('href')\n",
    "    links.append(url)\n",
    "print(len(links))"
   ]
  },
  {
   "cell_type": "code",
   "execution_count": 24,
   "metadata": {},
   "outputs": [
    {
     "name": "stderr",
     "output_type": "stream",
     "text": [
      "C:\\Users\\hmq4\\AppData\\Local\\Temp\\ipykernel_2980\\4214686199.py:6: DeprecationWarning: executable_path has been deprecated, please pass in a Service object\n",
      "  url = webdriver.Chrome(path)\n"
     ]
    }
   ],
   "source": [
    "import pandas as pd \n",
    "import wget\n",
    "import os \n",
    "details=[]   \n",
    "for j in links:\n",
    "    url = webdriver.Chrome(path)\n",
    "    url.get(j)\n",
    "    try:       \n",
    "        name = url.find_element(By.XPATH , '//*[@id=\"pp-gallery-n-details-wrapper\"]/div/div/div[2]/div/div[1]/div/div[1]/h1').text\n",
    "        price = url.find_element(By.XPATH ,'//*[@id=\"pp-gallery-n-details-wrapper\"]/div/div/div[2]/div/div[2]/div/div/div[1]/div/div[1]/span[1]').text\n",
    "        description = url.find_element(By.XPATH, '//*[@id=\"section-description\"]/div/div/div[2]/p').text        \n",
    "    except:\n",
    "        name = \"none\"\n",
    "        price = \"none\"\n",
    "        description = \"none\"\n",
    "    try:\n",
    "        img_url = url.find_element(By.XPATH, '//*[@id=\"pp-gallery-n-details-wrapper\"]/div/div/div[1]/div/div/div[2]/section/div[1]/div/div[1]/div/img[3]').get_attribute('src')\n",
    "        destination = \"images_1/\" + img_url.split(\"/\")[-1]\n",
    "        wget.download(img_url, destination)\n",
    "    except:\n",
    "        img_url=\"none\"\n",
    "\n",
    "    try:\n",
    "        rate = url.find_element(By.XPATH ,'//*[@id=\"pp-gallery-n-details-wrapper\"]/div/div/div[2]/div/div[1]/div/div[1]/div/span/span').text\n",
    "    except:\n",
    "        rate = \"none\"\n",
    "    \n",
    "    try:\n",
    "        rate_count = url.find_element(By.XPATH ,'//*[@id=\"rating-wrapper\"]/div[1]/div/div[2]').text\n",
    "    except:\n",
    "        rate_count= \"none\"\n",
    "    try: \n",
    "        all_details=[]\n",
    "        all = url.find_elements(By.XPATH , '//*[@id=\"section-info\"]/div/div/div[2]/ul/li')\n",
    "        for i in all:      \n",
    "            title = i.find_element(By.CSS_SELECTOR, '.col-md-2').text\n",
    "            if title == 'Brand':\n",
    "                value = i.find_element(By.CSS_SELECTOR, '.col-md-10').text\n",
    "                all_details.append((value))\n",
    "            else:\n",
    "                value = \"none\"\n",
    "            if title == 'Gender':\n",
    "                value = i.find_element(By.CSS_SELECTOR, '.col-md-10').text\n",
    "                all_details.append((value))\n",
    "            else:\n",
    "                value = \"none\"\n",
    "            if title == 'Product Type':\n",
    "                value = i.find_element(By.CSS_SELECTOR, '.col-md-10').text\n",
    "                all_details.append((value))\n",
    "            else:\n",
    "                value = \"none\"\n",
    "            if title == 'Character':\n",
    "                value = i.find_element(By.CSS_SELECTOR, '.col-md-10').text\n",
    "                all_details.append((value))\n",
    "            else:\n",
    "                value = \"none\"\n",
    "            if title == 'Fragrance Family':\n",
    "                value = i.find_element(By.CSS_SELECTOR, '.col-md-10').text\n",
    "                all_details.append((value))\n",
    "            else:\n",
    "                value = \"none\"\n",
    "            if title == 'Size':\n",
    "                value = i.find_element(By.CSS_SELECTOR, '.col-md-10').text\n",
    "                all_details.append((value))\n",
    "            else:\n",
    "                value = \"none\"\n",
    "            if title =='Year of Launch':\n",
    "                value = i.find_element(By.CSS_SELECTOR, '.col-md-10').text\n",
    "                all_details.append((value))\n",
    "            else:\n",
    "                value = \"none\"\n",
    "            if title =='Ingredients':\n",
    "                value = i.find_element(By.CSS_SELECTOR, '.col-md-10').text\n",
    "                all_details.append((value))\n",
    "            else:\n",
    "                value = \"none\"\n",
    "            if title =='Concentration':\n",
    "                value = i.find_element(By.CSS_SELECTOR, '.col-md-10').text\n",
    "                all_details.append((value))\n",
    "            else:\n",
    "                value = \"none\"\n",
    "            if title =='Top Notes':\n",
    "                value = i.find_element(By.CSS_SELECTOR, '.col-md-10').text\n",
    "                all_details.append((value))\n",
    "            else:\n",
    "                value = \"none\"\n",
    "            if title =='Middle Notes':\n",
    "                value = i.find_element(By.CSS_SELECTOR, '.col-md-10').text\n",
    "                all_details.append((value))\n",
    "            else:\n",
    "                value = \"none\"\n",
    "            if title =='Base Notes':\n",
    "                value = i.find_element(By.CSS_SELECTOR, '.col-md-10').text\n",
    "                all_details.append((value))\n",
    "            else:\n",
    "                value = \"none\"\n",
    "    except:\n",
    "        all = \"none\"\n",
    "    \n",
    "    details.append((name, price, description, rate,rate_count,all_details,img_url)) \n",
    "\n",
    "\n",
    "\n",
    "\n",
    "Perfume_Female =pd.DataFrame(details,columns=['Name', 'Price','Description','Rate', 'Rating_count', 'Details','image'])\n",
    "split_df = pd.DataFrame(Perfume_Female['Details'].tolist(), columns=['Brand', 'Gender', 'Product_Type', 'Character', 'Fragrance_Family', 'Size', 'Year', 'Ingredients', 'Concentration', 'Top_note', 'Middle_note', 'Base_note'])\n",
    "Perfume_Female = Perfume_Female.join(split_df)\n",
    "Perfume_Female.to_csv('Brand20.csv',index=False)\n"
   ]
  },
  {
   "cell_type": "code",
   "execution_count": null,
   "metadata": {},
   "outputs": [],
   "source": [
    "import pandas as pd \n",
    "Perfume_Female =pd.DataFrame(details,columns=['Name', 'Price','Description','Rate', 'Rating_count', 'Details','image'])\n",
    "split_df = pd.DataFrame(Perfume_Female['Details'].tolist(), columns=['Brand', 'Gender', 'Product_Type', 'Character', 'Fragrance_Family', 'Size', 'Year', 'Ingredients', 'Concentration', 'Top_note', 'Middle_note', 'Base_note'])\n",
    "Perfume_Female = Perfume_Female.join(split_df)\n",
    "Perfume_Female.to_csv('Perfume_best_seller.csv',index=False)\n"
   ]
  },
  {
   "cell_type": "code",
   "execution_count": null,
   "metadata": {},
   "outputs": [],
   "source": []
  },
  {
   "cell_type": "code",
   "execution_count": null,
   "metadata": {},
   "outputs": [],
   "source": []
  },
  {
   "cell_type": "code",
   "execution_count": null,
   "metadata": {},
   "outputs": [],
   "source": []
  },
  {
   "cell_type": "code",
   "execution_count": null,
   "metadata": {},
   "outputs": [],
   "source": []
  },
  {
   "cell_type": "code",
   "execution_count": null,
   "metadata": {},
   "outputs": [],
   "source": []
  },
  {
   "cell_type": "code",
   "execution_count": null,
   "metadata": {},
   "outputs": [],
   "source": [
    "from selenium import webdriver\n",
    "import time \n",
    "\n",
    "details=[]   \n",
    "for k in links:\n",
    "    url = webdriver.Chrome(path)\n",
    "    url.get(k)\n",
    "    try:       \n",
    "            name = url.find_element(By.XPATH , '//*[@id=\"pp-gallery-n-details-wrapper\"]/div/div/div[2]/div/div[1]/div/div[1]/h1').text\n",
    "            price = url.find_element(By.XPATH ,'//*[@id=\"pp-gallery-n-details-wrapper\"]/div/div/div[2]/div/div[2]/div/div/div[1]/div/div[1]/span[1]').text\n",
    "            rate = url.find_element(By.XPATH ,'//*[@id=\"rating-wrapper\"]/div[1]/div/div[1]').text\n",
    "            brand = url.find_element(By.XPATH ,'//*[@id=\"section-info\"]/div/div/div[2]/ul/li[1]/div[2]').text\n",
    "            description = url.find_element(By.XPATH, '//*[@id=\"section-description\"]/div/div/div[2]/p').text\n",
    "            Gender = url.find_element(By.XPATH ,'//*[@id=\"section-info\"]/div/div/div[2]/ul/li[2]/div[2]').text\n",
    "            productType = url.find_element(By.XPATH ,'//*[@id=\"section-info\"]/div/div/div[2]/ul/li[3]/div[2]').text\n",
    "            fragrance_family= url.find_element(By.XPATH ,'//*[@id=\"section-info\"]/div/div/div[2]/ul/li[5]/div[2]').text\n",
    "            character = url.find_element(By.XPATH ,'//*[@id=\"section-info\"]/div/div/div[2]/ul/li[4]/div[2]').text\n",
    "            ingredients = url.find_element(By.XPATH ,'//*[@id=\"section-info\"]/div/div/div[2]/ul/li[8]/div[2]').text\n",
    "            concentration = url.find_element(By.XPATH ,'//*[@id=\"section-info\"]/div/div/div[2]/ul/li[9]/div[2]').text\n",
    "            Top_note = url.find_element(By.XPATH ,'//*[@id=\"section-info\"]/div/div/div[2]/ul/li[10]/div[2]').text\n",
    "            Middle_note = url.find_element(By.XPATH ,'//*[@id=\"section-info\"]/div/div/div[2]/ul/li[11]/div[2]').text\n",
    "            Base_note = url.find_element(By.XPATH ,'//*[@id=\"section-info\"]/div/div/div[2]/ul/li[12]/div[2]').text\n",
    "            year = url.find_element(By.XPATH ,'//*[@id=\"section-info\"]/div/div/div[2]/ul/li[7]/div[2]').text\n",
    "            size = url.find_element(By.XPATH ,'//*[@id=\"section-info\"]/div/div/div[2]/ul/li[6]/div[2]').text\n",
    "            rating_count = url.find_element(By.XPATH, '//*[@id=\"rating-wrapper\"]/div[1]/div/div[2]').text\n",
    "            image = url.find_element(By.XPATH, '//*[@id=\"pp-gallery-n-details-wrapper\"]/div/div/div[1]/div/div/div[2]/section/div[1]/div/div/div/img').get_attribute('src')\n",
    "    except:\n",
    "            rate = \"none\"\n",
    "            rating_count=\"none\"\n",
    "        \n",
    "    details.append((name, price,brand,rate, rating_count,description, Gender,productType, character,fragrance_family,size, year, ingredients,concentration, Top_note, Middle_note, Base_note, image))\n",
    "    \n",
    "\n",
    "\n",
    "\n",
    "\n",
    "import pandas as pd \n",
    "\n",
    "Perfume_Dataset_Female =pd.DataFrame(details,columns=['Name', 'Price','Brand', 'Rating','Rating_count', 'Description','Gender','ProductType', 'Character','Fragrance_family','Size','Year','Ingredients','Concentration', 'Top_note', 'Middle_note', 'Base_note', 'image'])\n",
    "Perfume_Dataset_Female.to_csv('Perfume_Dataset_Female.csv',index=False)"
   ]
  },
  {
   "cell_type": "code",
   "execution_count": null,
   "metadata": {},
   "outputs": [],
   "source": [
    "print(details)"
   ]
  }
 ],
 "metadata": {
  "interpreter": {
   "hash": "2be5faf79681da6f2a61fdfdd5405d65d042280f7fba6178067603e3a2925119"
  },
  "kernelspec": {
   "display_name": "Python 3.10.2 64-bit",
   "language": "python",
   "name": "python3"
  },
  "language_info": {
   "codemirror_mode": {
    "name": "ipython",
    "version": 3
   },
   "file_extension": ".py",
   "mimetype": "text/x-python",
   "name": "python",
   "nbconvert_exporter": "python",
   "pygments_lexer": "ipython3",
   "version": "3.10.2"
  },
  "orig_nbformat": 4
 },
 "nbformat": 4,
 "nbformat_minor": 2
}

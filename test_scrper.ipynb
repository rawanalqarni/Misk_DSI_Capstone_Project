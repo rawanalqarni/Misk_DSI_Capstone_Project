{
 "cells": [
  {
   "cell_type": "code",
   "execution_count": null,
   "metadata": {},
   "outputs": [],
   "source": [
    "#! pip install html \n",
    "#! pip install requests \n",
    "#! pip install lxml"
   ]
  },
  {
   "cell_type": "code",
   "execution_count": null,
   "metadata": {},
   "outputs": [],
   "source": [
    "import selenium\n",
    "from selenium import webdriver \n",
    "from selenium.webdriver.common.by import By\n",
    "from selenium.webdriver.support.ui import WebDriverWait\n",
    "from selenium.webdriver.support import expected_conditions as EC\n",
    "\n",
    "\n",
    "path = \"C:/Users/hmq4/OneDrive/Desktop/Data Science- Misk/chrome/chromedriver.exe\"\n",
    "driver = webdriver.Chrome(path)\n",
    "driver.get(\"https://www.goldenscent.com/en/c/fragrances.html?action=cat&id=3\")\n",
    "\n",
    "def details(x):\n",
    "    details_dict = {\n",
    "        \"name\": name ,\n",
    "        \"price\": price,\n",
    "        \"rate\": rate, \n",
    "        \"brand\": brand,\n",
    "        \"Gender\": Gender,\n",
    "        \"productType\": productType,\n",
    "        \"fragrance_family\": fragrance_family,\n",
    "        \"character\": character,\n",
    "        \"ingredients\": ingredients,\n",
    "        \"concentration\": concentration,\n",
    "        \"Top_note\": Top_note,\n",
    "        \"Middle_note\": Middle_note,\n",
    "        \"Base_note\": Base_note,\n",
    "        \"year\": year,\n",
    "        \"size\":size\n",
    "    } \n",
    "\n",
    "#perfume 1 : Magam \n",
    "productlinks = driver.find_elements(By.CLASS_NAME, 'ais-InfiniteHits-item.col-xs-6.col-md-4.flex')\n",
    "links = []\n",
    "for i in productlinks:\n",
    "    url = i.find_element(By.CLASS_NAME ,'block.no-underline.product-link').get_property('href')\n",
    "    links.append(url)\n",
    "print(links)\n",
    "\n"
   ]
  },
  {
   "cell_type": "code",
   "execution_count": null,
   "metadata": {},
   "outputs": [],
   "source": [
    "details=[]   \n",
    "for j in links:\n",
    "    url = webdriver.Chrome(path)\n",
    "    url.get(j)\n",
    "    try:       \n",
    "        name = url.find_element(By.XPATH , '//*[@id=\"pp-gallery-n-details-wrapper\"]/div/div/div[2]/div/div[1]/div/div[1]/h1').text\n",
    "        price = url.find_element(By.XPATH ,'//*[@id=\"pp-gallery-n-details-wrapper\"]/div/div/div[2]/div/div[2]/div/div/div[1]/div/div[1]/span[1]').text\n",
    "        rate = url.find_element(By.XPATH ,'//*[@id=\"pp-gallery-n-details-wrapper\"]/div/div/div[2]/div/div[1]/div/div[1]/div/span/span').text\n",
    "        brand = url.find_element(By.XPATH ,'//*[@id=\"section-info\"]/div/div/div[2]/ul/li[1]/div[2]').text\n",
    "        Gender = url.find_element(By.XPATH ,'//*[@id=\"section-info\"]/div/div/div[2]/ul/li[2]/div[2]').text\n",
    "        productType = url.find_element(By.XPATH ,'//*[@id=\"section-info\"]/div/div/div[2]/ul/li[3]/div[2]').text\n",
    "        fragrance_family= url.find_element(By.XPATH ,'//*[@id=\"section-info\"]/div/div/div[2]/ul/li[5]/div[2]').text\n",
    "        character = url.find_element(By.XPATH ,'//*[@id=\"section-info\"]/div/div/div[2]/ul/li[4]/div[2]').text\n",
    "        ingredients = url.find_element(By.XPATH ,'//*[@id=\"section-info\"]/div/div/div[2]/ul/li[8]/div[2]').text\n",
    "        concentration = url.find_element(By.XPATH ,'//*[@id=\"section-info\"]/div/div/div[2]/ul/li[9]/div[2]').text\n",
    "        Top_note = url.find_element(By.XPATH ,'//*[@id=\"section-info\"]/div/div/div[2]/ul/li[10]/div[2]').text\n",
    "        Middle_note = url.find_element(By.XPATH ,'//*[@id=\"section-info\"]/div/div/div[2]/ul/li[11]/div[2]').text\n",
    "        Base_note = url.find_element(By.XPATH ,'//*[@id=\"section-info\"]/div/div/div[2]/ul/li[12]/div[2]').text\n",
    "        year = url.find_element(By.XPATH ,'//*[@id=\"section-info\"]/div/div/div[2]/ul/li[7]/div[2]').text\n",
    "        size = url.find_element(By.XPATH ,'//*[@id=\"section-info\"]/div/div/div[2]/ul/li[6]/div[2]').text\n",
    "    except:\n",
    "        rate = \"none\"\n",
    "        \n",
    "    details.append((name, price, rate,brand, Gender,productType, fragrance_family,character,ingredients,concentration, Top_note, Middle_note, Base_note, size, year))\n",
    "print(details)\n",
    "    "
   ]
  }
 ],
 "metadata": {
  "interpreter": {
   "hash": "2be5faf79681da6f2a61fdfdd5405d65d042280f7fba6178067603e3a2925119"
  },
  "kernelspec": {
   "display_name": "Python 3.10.2 64-bit",
   "language": "python",
   "name": "python3"
  },
  "language_info": {
   "codemirror_mode": {
    "name": "ipython",
    "version": 3
   },
   "file_extension": ".py",
   "mimetype": "text/x-python",
   "name": "python",
   "nbconvert_exporter": "python",
   "pygments_lexer": "ipython3",
   "version": "3.10.2"
  },
  "orig_nbformat": 4
 },
 "nbformat": 4,
 "nbformat_minor": 2
}

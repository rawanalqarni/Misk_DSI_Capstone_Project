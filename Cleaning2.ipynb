{
 "cells": [
  {
   "cell_type": "code",
   "execution_count": 1,
   "metadata": {},
   "outputs": [],
   "source": [
    "import pandas as pd\n",
    "import numpy as np "
   ]
  },
  {
   "cell_type": "code",
   "execution_count": 85,
   "metadata": {},
   "outputs": [],
   "source": [
    "Perfume_df = pd.read_csv(\"../chrome/Misk_DSI_Capstone_Project/Cleaned_1.csv\")"
   ]
  },
  {
   "cell_type": "code",
   "execution_count": 3,
   "metadata": {},
   "outputs": [
    {
     "data": {
      "text/plain": [
       "(6565, 19)"
      ]
     },
     "execution_count": 3,
     "metadata": {},
     "output_type": "execute_result"
    }
   ],
   "source": [
    "Perfume_df.shape"
   ]
  },
  {
   "cell_type": "code",
   "execution_count": 4,
   "metadata": {},
   "outputs": [
    {
     "name": "stdout",
     "output_type": "stream",
     "text": [
      "<class 'pandas.core.frame.DataFrame'>\n",
      "RangeIndex: 6565 entries, 0 to 6564\n",
      "Data columns (total 19 columns):\n",
      " #   Column            Non-Null Count  Dtype  \n",
      "---  ------            --------------  -----  \n",
      " 0   Unnamed: 0        6565 non-null   int64  \n",
      " 1   Name              6565 non-null   object \n",
      " 2   Price             6559 non-null   float64\n",
      " 3   Description       6520 non-null   object \n",
      " 4   Rate              6565 non-null   object \n",
      " 5   Rating_count      6558 non-null   object \n",
      " 6   image             6565 non-null   object \n",
      " 7   Brand             6333 non-null   object \n",
      " 8   Gender            6330 non-null   object \n",
      " 9   Product_Type      6251 non-null   object \n",
      " 10  Character         5928 non-null   object \n",
      " 11  Fragrance_Family  5564 non-null   object \n",
      " 12  Size              6565 non-null   object \n",
      " 13  Year              4667 non-null   object \n",
      " 14  Ingredients       6565 non-null   object \n",
      " 15  Concentration     4480 non-null   object \n",
      " 16  Top_note          6565 non-null   object \n",
      " 17  Middle_note       6565 non-null   object \n",
      " 18  Base_note         6565 non-null   object \n",
      "dtypes: float64(1), int64(1), object(17)\n",
      "memory usage: 974.6+ KB\n"
     ]
    }
   ],
   "source": [
    "Perfume_df.info()"
   ]
  },
  {
   "cell_type": "code",
   "execution_count": 86,
   "metadata": {},
   "outputs": [],
   "source": [
    "Perfume_df = Perfume_df.drop(\"Unnamed: 0\", axis=1)"
   ]
  },
  {
   "cell_type": "code",
   "execution_count": 94,
   "metadata": {},
   "outputs": [
    {
     "data": {
      "text/plain": [
       "Women                 4279\n",
       "Men                   1013\n",
       "Home                   633\n",
       "Mabkhara                40\n",
       "Bundles                 38\n",
       "                      ... \n",
       "Perfume                  2\n",
       "Miu Miu                  2\n",
       "Valentino                2\n",
       "Van Cleef & Arpels       2\n",
       "Lancome                  2\n",
       "Name: Gender, Length: 61, dtype: int64"
      ]
     },
     "execution_count": 94,
     "metadata": {},
     "output_type": "execute_result"
    }
   ],
   "source": [
    "Perfume_df.Gender.value_counts()"
   ]
  },
  {
   "cell_type": "code",
   "execution_count": 88,
   "metadata": {},
   "outputs": [],
   "source": [
    "Perfume_df['Gender'].mask(Perfume_df['Name'].str.contains(\"Women\"),\"Women\", inplace=True)"
   ]
  },
  {
   "cell_type": "code",
   "execution_count": 92,
   "metadata": {},
   "outputs": [],
   "source": [
    "Perfume_df['Gender'].mask(Perfume_df['Name'].str.contains(\"Men\"),\"Men\", inplace=True)"
   ]
  },
  {
   "cell_type": "code",
   "execution_count": null,
   "metadata": {},
   "outputs": [],
   "source": [
    "Perfume_df.loc[Perfume_df['Gender'] == 'Coach', 'Gender'] = 'Men' "
   ]
  },
  {
   "cell_type": "code",
   "execution_count": 213,
   "metadata": {},
   "outputs": [
    {
     "data": {
      "text/plain": [
       "Women                    3903\n",
       "Men                      1024\n",
       "Unisex                    934\n",
       "Home                      341\n",
       "Mabkhara                   34\n",
       "Aura Myst                  14\n",
       "Calvin Klein               12\n",
       "Accessories                10\n",
       "Layl                       10\n",
       "Coal                        8\n",
       "Versace                     7\n",
       "Minis                       6\n",
       "Prada                       6\n",
       "Dolce&Gabbana               6\n",
       "Narciso Rodriguez           6\n",
       "Ajwaak                      6\n",
       "Lootah                      6\n",
       "Candy Addict                5\n",
       "Reef Perfumes               5\n",
       "Giorgio Armani              5\n",
       "The Different Company       5\n",
       "Name: Gender, dtype: int64"
      ]
     },
     "execution_count": 213,
     "metadata": {},
     "output_type": "execute_result"
    }
   ],
   "source": [
    "Perfume_df.Gender.value_counts()"
   ]
  },
  {
   "cell_type": "code",
   "execution_count": 96,
   "metadata": {},
   "outputs": [],
   "source": [
    "Perfume_df['Gender'].mask(Perfume_df['Gender'] == \"Bundles\",\"Unisex\", inplace=True)"
   ]
  },
  {
   "cell_type": "code",
   "execution_count": 101,
   "metadata": {},
   "outputs": [],
   "source": [
    "Perfume_df['Gender'].mask(Perfume_df['Name'].str.contains(\"Oud\"),\"Unisex\", inplace=True)"
   ]
  },
  {
   "cell_type": "code",
   "execution_count": 104,
   "metadata": {},
   "outputs": [],
   "source": [
    "Perfume_df['Gender'].mask(Perfume_df['Gender'] == \"Kids\",\"Unisex\", inplace=True)"
   ]
  },
  {
   "cell_type": "code",
   "execution_count": 106,
   "metadata": {},
   "outputs": [],
   "source": [
    "Perfume_df['Gender'].mask(Perfume_df['Gender'] == \"Clothes Fragrance\",\"Unisex\", inplace=True)"
   ]
  },
  {
   "cell_type": "code",
   "execution_count": 108,
   "metadata": {},
   "outputs": [],
   "source": [
    "Perfume_df['Gender'].mask(Perfume_df['Gender'] == \"Junaid Perfumes\",\"Unisex\", inplace=True)"
   ]
  },
  {
   "cell_type": "code",
   "execution_count": 110,
   "metadata": {},
   "outputs": [],
   "source": [
    "Perfume_df['Gender'].mask(Perfume_df['Name'] == \"Carolina Herrera 212 VIP Black - 200 ml\",\"Men\", inplace=True)"
   ]
  },
  {
   "cell_type": "code",
   "execution_count": 112,
   "metadata": {},
   "outputs": [],
   "source": [
    "Perfume_df['Gender'].mask(Perfume_df['Gender'] == \"Carolina Herrera\",\"Women\", inplace=True)"
   ]
  },
  {
   "cell_type": "code",
   "execution_count": 114,
   "metadata": {},
   "outputs": [],
   "source": [
    "Perfume_df['Gender'].mask(Perfume_df['Gender'] == \"Perfume Co.\",\"Unisex\", inplace=True)"
   ]
  },
  {
   "cell_type": "code",
   "execution_count": 116,
   "metadata": {},
   "outputs": [],
   "source": [
    "Perfume_df['Gender'].mask(Perfume_df['Gender'] == \"Lancome\",\"Women\", inplace=True)"
   ]
  },
  {
   "cell_type": "code",
   "execution_count": 118,
   "metadata": {},
   "outputs": [],
   "source": [
    "Perfume_df['Gender'].mask(Perfume_df['Name'].str.contains(\"Pink\"),\"Women\", inplace=True)"
   ]
  },
  {
   "cell_type": "code",
   "execution_count": 119,
   "metadata": {},
   "outputs": [],
   "source": [
    "Perfume_df['Gender'].mask(Perfume_df['Name'].str.contains(\"Uomo\"),\"Men\", inplace=True)"
   ]
  },
  {
   "cell_type": "code",
   "execution_count": 139,
   "metadata": {},
   "outputs": [],
   "source": [
    "Perfume_df['Gender'].mask(Perfume_df['Name'].str.contains(\"Gentleman\"),\"Men\", inplace=True)"
   ]
  },
  {
   "cell_type": "code",
   "execution_count": 132,
   "metadata": {},
   "outputs": [],
   "source": [
    "Perfume_df['Gender'].mask(Perfume_df['Name'].str.contains(\"L'interdit\"),\"Women\", inplace=True)"
   ]
  },
  {
   "cell_type": "code",
   "execution_count": 202,
   "metadata": {},
   "outputs": [],
   "source": [
    "Perfume_df['Gender'].mask(Perfume_df['Name'].str.contains(\"L'Interdit\"),\"Women\", inplace=True)"
   ]
  },
  {
   "cell_type": "code",
   "execution_count": 137,
   "metadata": {},
   "outputs": [],
   "source": [
    "Perfume_df['Gender'].mask(Perfume_df['Name'] == \"Ti amo Set\",\"Women\", inplace=True)"
   ]
  },
  {
   "cell_type": "code",
   "execution_count": 143,
   "metadata": {},
   "outputs": [],
   "source": [
    "Perfume_df['Gender'].mask(Perfume_df['Name'].str.contains(\"Omnia\"),\"Women\", inplace=True)"
   ]
  },
  {
   "cell_type": "code",
   "execution_count": 147,
   "metadata": {},
   "outputs": [],
   "source": [
    "Perfume_df['Gender'].mask(Perfume_df['Name'].str.contains(\"Shave\"),\"Men\", inplace=True)"
   ]
  },
  {
   "cell_type": "code",
   "execution_count": 149,
   "metadata": {},
   "outputs": [],
   "source": [
    "Perfume_df['Gender'].mask(Perfume_df['Gender'] == \"Bvlgari\",\"Women\", inplace=True)"
   ]
  },
  {
   "cell_type": "code",
   "execution_count": 152,
   "metadata": {},
   "outputs": [],
   "source": [
    "Perfume_df['Gender'].mask(Perfume_df['Gender'] == \"Mont Blanc\",\"Men\", inplace=True)"
   ]
  },
  {
   "cell_type": "code",
   "execution_count": 154,
   "metadata": {},
   "outputs": [],
   "source": [
    "Perfume_df['Gender'].mask(Perfume_df['Gender'] == \"Lorenzo Villoresi Firenze\",\"Unisex\", inplace=True)"
   ]
  },
  {
   "cell_type": "code",
   "execution_count": 174,
   "metadata": {},
   "outputs": [],
   "source": [
    "Perfume_df['Gender'].mask(Perfume_df['Gender'] == \"Nicolai\",\"Unisex\", inplace=True)"
   ]
  },
  {
   "cell_type": "code",
   "execution_count": 158,
   "metadata": {},
   "outputs": [],
   "source": [
    "Perfume_df['Gender'].mask(Perfume_df['Gender'] == \"Home Fragrance Set\",\"Home\", inplace=True)"
   ]
  },
  {
   "cell_type": "code",
   "execution_count": 160,
   "metadata": {},
   "outputs": [],
   "source": [
    "Perfume_df['Gender'].mask(Perfume_df['Gender'] == \"Thierry Mugler\",\"Women\", inplace=True)"
   ]
  },
  {
   "cell_type": "code",
   "execution_count": 161,
   "metadata": {},
   "outputs": [],
   "source": [
    "Perfume_df['Gender'].mask(Perfume_df['Gender'] == \"Miu Miu\",\"Women\", inplace=True)"
   ]
  },
  {
   "cell_type": "code",
   "execution_count": 163,
   "metadata": {},
   "outputs": [],
   "source": [
    "Perfume_df['Gender'].mask(Perfume_df['Gender'] == \"Xerjoff\",\"Unisex\", inplace=True)"
   ]
  },
  {
   "cell_type": "code",
   "execution_count": 166,
   "metadata": {},
   "outputs": [],
   "source": [
    "Perfume_df['Gender'].mask(Perfume_df['Gender'] == \"Lacoste\",\"Women\", inplace=True)"
   ]
  },
  {
   "cell_type": "code",
   "execution_count": 167,
   "metadata": {},
   "outputs": [],
   "source": [
    "Perfume_df['Gender'].mask(Perfume_df['Gender'] == \"Ajwa Home\",\"Home\", inplace=True)"
   ]
  },
  {
   "cell_type": "code",
   "execution_count": 169,
   "metadata": {},
   "outputs": [],
   "source": [
    "Perfume_df['Gender'].mask(Perfume_df['Gender'] == \"Exuma Parfums\",\"Women\", inplace=True)"
   ]
  },
  {
   "cell_type": "code",
   "execution_count": 171,
   "metadata": {},
   "outputs": [],
   "source": [
    "Perfume_df['Gender'].mask(Perfume_df['Gender'] == \"Arabiyat\",\"Unisex\", inplace=True)"
   ]
  },
  {
   "cell_type": "code",
   "execution_count": 173,
   "metadata": {},
   "outputs": [],
   "source": [
    "Perfume_df['Gender'].mask(Perfume_df['Gender'] == \"Home Fragrance ,Linen Mist\",\"Home\", inplace=True)"
   ]
  },
  {
   "cell_type": "code",
   "execution_count": 176,
   "metadata": {},
   "outputs": [],
   "source": [
    "Perfume_df['Gender'].mask(Perfume_df['Gender'] == \"Goutal Paris\",\"Women\", inplace=True)"
   ]
  },
  {
   "cell_type": "code",
   "execution_count": 178,
   "metadata": {},
   "outputs": [],
   "source": [
    "Perfume_df['Gender'].mask(Perfume_df['Name'] == \"Burberry Mr Burberry EDT Travel Set - 2 x 30 ml\",\"Men\", inplace=True)"
   ]
  },
  {
   "cell_type": "code",
   "execution_count": 179,
   "metadata": {},
   "outputs": [],
   "source": [
    "Perfume_df['Gender'].mask(Perfume_df['Name'] == \"Burberry Mini Set - MR Indigo EDT 5 ml + MR Burberry EDP 5 ml + MR Burberry EDT 2 x 5 ml\",\"Men\", inplace=True)"
   ]
  },
  {
   "cell_type": "code",
   "execution_count": 180,
   "metadata": {},
   "outputs": [],
   "source": [
    "Perfume_df['Gender'].mask(Perfume_df['Gender'] == \"Burberry\",\"Women\", inplace=True)"
   ]
  },
  {
   "cell_type": "code",
   "execution_count": 182,
   "metadata": {},
   "outputs": [],
   "source": [
    "Perfume_df['Gender'].mask(Perfume_df['Name'].str.contains(\"Fahrenheit\"),\"Men\", inplace=True)"
   ]
  },
  {
   "cell_type": "code",
   "execution_count": 183,
   "metadata": {},
   "outputs": [],
   "source": [
    "Perfume_df['Gender'].mask(Perfume_df['Gender'] == \"Dior\",\"Women\", inplace=True)"
   ]
  },
  {
   "cell_type": "code",
   "execution_count": 187,
   "metadata": {},
   "outputs": [],
   "source": [
    "Perfume_df['Gender'].mask(Perfume_df['Gender'] == \"Bed Linen Spray\",\"Home\", inplace=True)"
   ]
  },
  {
   "cell_type": "code",
   "execution_count": 188,
   "metadata": {},
   "outputs": [],
   "source": [
    "Perfume_df['Gender'].mask(Perfume_df['Gender'] == \"Moschino\",\"Women\", inplace=True)"
   ]
  },
  {
   "cell_type": "code",
   "execution_count": 189,
   "metadata": {},
   "outputs": [],
   "source": [
    "Perfume_df['Gender'].mask(Perfume_df['Gender'] == \"Tiziana Terenzi\",\"Unisex\", inplace=True)"
   ]
  },
  {
   "cell_type": "code",
   "execution_count": 191,
   "metadata": {},
   "outputs": [],
   "source": [
    "Perfume_df['Gender'].mask(Perfume_df['Gender'] == \"Tous Les Jours\",\"Unisex\", inplace=True)"
   ]
  },
  {
   "cell_type": "code",
   "execution_count": 208,
   "metadata": {},
   "outputs": [],
   "source": [
    "Perfume_df['Gender'].mask(Perfume_df['Gender'] == \"Jul Et Mad\",\"Unisex\", inplace=True)"
   ]
  },
  {
   "cell_type": "code",
   "execution_count": 195,
   "metadata": {},
   "outputs": [],
   "source": [
    "Perfume_df['Gender'].mask(Perfume_df['Gender'] == \"Armaf\",\"Unisex\", inplace=True)"
   ]
  },
  {
   "cell_type": "code",
   "execution_count": 197,
   "metadata": {},
   "outputs": [],
   "source": [
    "Perfume_df['Gender'].mask(Perfume_df['Gender'] == \"Thameen Fragrance\",\"Unisex\", inplace=True)"
   ]
  },
  {
   "cell_type": "code",
   "execution_count": 203,
   "metadata": {},
   "outputs": [],
   "source": [
    "Perfume_df['Gender'].mask(Perfume_df['Gender'] == \"Givenchy\",\"Women\", inplace=True)"
   ]
  },
  {
   "cell_type": "code",
   "execution_count": 209,
   "metadata": {},
   "outputs": [],
   "source": [
    "Perfume_df['Gender'].mask(Perfume_df['Gender'] == \"Dize Home\",\"Home\", inplace=True)"
   ]
  },
  {
   "cell_type": "code",
   "execution_count": 212,
   "metadata": {},
   "outputs": [],
   "source": [
    "Perfume_df['Gender'].mask(Perfume_df['Gender'] == \"Natural Touch\",\"Unisex\", inplace=True)"
   ]
  },
  {
   "cell_type": "code",
   "execution_count": 211,
   "metadata": {},
   "outputs": [],
   "source": [
    "Perfume_df['Gender'].mask(Perfume_df['Gender'] == \"Jimmy Choo\",\"Women\", inplace=True)"
   ]
  },
  {
   "cell_type": "code",
   "execution_count": 199,
   "metadata": {},
   "outputs": [],
   "source": [
    "Perfume_df['Gender'].mask(Perfume_df['Name'].str.contains(\"Candle\"),\"Unisex\", inplace=True)"
   ]
  },
  {
   "cell_type": "code",
   "execution_count": 205,
   "metadata": {},
   "outputs": [],
   "source": [
    "Perfume_df['Gender'].mask(Perfume_df['Name'].str.contains(\"Father's Day\"),\"Men\", inplace=True)"
   ]
  },
  {
   "cell_type": "code",
   "execution_count": 206,
   "metadata": {},
   "outputs": [],
   "source": [
    "Perfume_df['Gender'].mask(Perfume_df['Gender'] == \"Acqua Di Parma\",\"Women\", inplace=True)"
   ]
  },
  {
   "cell_type": "code",
   "execution_count": 215,
   "metadata": {},
   "outputs": [],
   "source": [
    "Perfume_df['Gender'].mask(Perfume_df['Gender'] == \"The Different Company\",\"Home\", inplace=True)"
   ]
  },
  {
   "cell_type": "code",
   "execution_count": 98,
   "metadata": {},
   "outputs": [],
   "source": [
    "if (Perfume_df.Name == \"Tom Ford Violet Blonde\").any():\n",
    "    Perfume_df.Gender.replace(\"Perfume\", \"Women\", inplace=True)\n",
    "    Perfume_df.Character.replace(\"Soft Floral\", \"Feminine\", inplace=True)\n",
    "    Perfume_df.Size.replace(\"2011\",\"100 ml\" ,inplace=True)\n",
    "    Perfume_df.Year.replace(\"Iris Flowers, Jasmine & Iris Roots, Absolute Violet Leaves, Italian Mandarin and Rose Bay. Javanese, cedarwood, absolute vetiver, selkolid, fine suede.\", \"2011\", inplace=True)\n",
    "    Perfume_df.Ingredients.replace(\"Eau de Parfum\", \"Iris Flowers, Jasmine & Iris Roots, Absolute Violet Leaves, Italian Mandarin and Rose Bay. Javanese, cedarwood, absolute vetiver, selkolid, fine suede\" ,inplace=True)\n",
    "    Perfume_df.Concentration.replace(\"Iris Flowers, Jasmine & and Iris Roots.\", \"Eau de Parfum\", inplace=True)\n",
    "    Perfume_df.Top_note.replace(\"Absolute Violet Leaves, Italian Mandarin and Rose Bay.\", \"Iris Flowers, Jasmine & and Iris Roots\", inplace=True)\n",
    "    Perfume_df.Middle_note.replace(\"Javanese, cedarwood, absolute vetiver, selkolid, fine suede.\", \"Absolute Violet Leaves, Italian Mandarin and Rose Bay\", inplace=True)\n",
    "    Perfume_df.Base_note.replace(\"Musk, Sandalwood\", \"Javanese, cedarwood, absolute vetiver, selkolid, fine suede\", inplace=True)"
   ]
  },
  {
   "cell_type": "code",
   "execution_count": 214,
   "metadata": {},
   "outputs": [
    {
     "data": {
      "text/html": [
       "<div>\n",
       "<style scoped>\n",
       "    .dataframe tbody tr th:only-of-type {\n",
       "        vertical-align: middle;\n",
       "    }\n",
       "\n",
       "    .dataframe tbody tr th {\n",
       "        vertical-align: top;\n",
       "    }\n",
       "\n",
       "    .dataframe thead th {\n",
       "        text-align: right;\n",
       "    }\n",
       "</style>\n",
       "<table border=\"1\" class=\"dataframe\">\n",
       "  <thead>\n",
       "    <tr style=\"text-align: right;\">\n",
       "      <th></th>\n",
       "      <th>Name</th>\n",
       "      <th>Price</th>\n",
       "      <th>Description</th>\n",
       "      <th>Rate</th>\n",
       "      <th>Rating_count</th>\n",
       "      <th>image</th>\n",
       "      <th>Brand</th>\n",
       "      <th>Gender</th>\n",
       "      <th>Product_Type</th>\n",
       "      <th>Character</th>\n",
       "      <th>Fragrance_Family</th>\n",
       "      <th>Size</th>\n",
       "      <th>Year</th>\n",
       "      <th>Ingredients</th>\n",
       "      <th>Concentration</th>\n",
       "      <th>Top_note</th>\n",
       "      <th>Middle_note</th>\n",
       "      <th>Base_note</th>\n",
       "    </tr>\n",
       "  </thead>\n",
       "  <tbody>\n",
       "    <tr>\n",
       "      <th>5389</th>\n",
       "      <td>The Different Company After Midnight Refill - ...</td>\n",
       "      <td>373.0</td>\n",
       "      <td>Longing for a fragrance that drives you toward...</td>\n",
       "      <td>none</td>\n",
       "      <td>none</td>\n",
       "      <td>none</td>\n",
       "      <td>Guerlain</td>\n",
       "      <td>The Different Company</td>\n",
       "      <td>Hair &amp; Body Mist</td>\n",
       "      <td>Perfume</td>\n",
       "      <td>Woody</td>\n",
       "      <td>300 ml</td>\n",
       "      <td>2012</td>\n",
       "      <td>Neroli, Angelica, Bergamot, Iris, Jasmine, Mas...</td>\n",
       "      <td>Neroli, Angelica and Bergamot</td>\n",
       "      <td>Iris, Jasmine and Mastic</td>\n",
       "      <td>Labdanum, Benzoin, Amber and Woody Notes.</td>\n",
       "      <td>100 ml</td>\n",
       "    </tr>\n",
       "    <tr>\n",
       "      <th>5390</th>\n",
       "      <td>The Different Company Une Nuit Magnetique Refi...</td>\n",
       "      <td>596.0</td>\n",
       "      <td>The Different Company Une Nuit Magnetique repr...</td>\n",
       "      <td>none</td>\n",
       "      <td>none</td>\n",
       "      <td>none</td>\n",
       "      <td>Hermes</td>\n",
       "      <td>The Different Company</td>\n",
       "      <td>Hair &amp; Body Mist</td>\n",
       "      <td>Perfume</td>\n",
       "      <td>Floral</td>\n",
       "      <td>150 ml</td>\n",
       "      <td>2014</td>\n",
       "      <td>Blueberry, Ginger and Bergamot, Plum, Egyptian...</td>\n",
       "      <td>Blueberry, Ginger and Bergamot</td>\n",
       "      <td>Plum, Egyptian Jasmine, Tuberose and Turkish Rose</td>\n",
       "      <td>Benzoin, Patchouli, Amber, Musk and Woody Notes.</td>\n",
       "      <td>100 ml</td>\n",
       "    </tr>\n",
       "    <tr>\n",
       "      <th>5391</th>\n",
       "      <td>The Different Company Sublime Balkiss Refill -...</td>\n",
       "      <td>596.0</td>\n",
       "      <td>Share this unique perfume with your partner an...</td>\n",
       "      <td>none</td>\n",
       "      <td>none</td>\n",
       "      <td>none</td>\n",
       "      <td>Hermes</td>\n",
       "      <td>The Different Company</td>\n",
       "      <td>Hair &amp; Body Mist</td>\n",
       "      <td>Perfume</td>\n",
       "      <td>Floral</td>\n",
       "      <td>150 ml</td>\n",
       "      <td>2008</td>\n",
       "      <td>heather,patchouli,cacao,Blackcurrant,Lilac,Lil...</td>\n",
       "      <td>Violet,Leaves,Bergamot,Blackberry,Blackcurrant...</td>\n",
       "      <td>Damascena Rose,Lilac bunches,Lily of the valley.</td>\n",
       "      <td>Patchouli,Heather sprigs,Cocoa powder.</td>\n",
       "      <td>100 ml</td>\n",
       "    </tr>\n",
       "    <tr>\n",
       "      <th>5392</th>\n",
       "      <td>The Different Company Oriental Lounge Refill -...</td>\n",
       "      <td>596.0</td>\n",
       "      <td>Live the oriental Arabian nights and act like ...</td>\n",
       "      <td>none</td>\n",
       "      <td>none</td>\n",
       "      <td>none</td>\n",
       "      <td>Hermes</td>\n",
       "      <td>The Different Company</td>\n",
       "      <td>Hair &amp; Body Mist</td>\n",
       "      <td>Perfume</td>\n",
       "      <td>Woody</td>\n",
       "      <td>75 ml</td>\n",
       "      <td>2009</td>\n",
       "      <td>Curry Leaves,Sweet Pepper,Bergamot,RedRose,Sat...</td>\n",
       "      <td>Curry Leaves,Sweet Pepper,Bergamot</td>\n",
       "      <td>RedRose,Satinwood</td>\n",
       "      <td>Amber,Tonka Bean,Labdanum\"</td>\n",
       "      <td>100 ml</td>\n",
       "    </tr>\n",
       "    <tr>\n",
       "      <th>5393</th>\n",
       "      <td>The Different Company De Bachmakov Refill - 10...</td>\n",
       "      <td>596.0</td>\n",
       "      <td>This kind of comfortable perfume diffuses a vi...</td>\n",
       "      <td>none</td>\n",
       "      <td>none</td>\n",
       "      <td>none</td>\n",
       "      <td>Hermes</td>\n",
       "      <td>The Different Company</td>\n",
       "      <td>Hair &amp; Body Mist</td>\n",
       "      <td>Perfume</td>\n",
       "      <td>Woody</td>\n",
       "      <td>300 ml</td>\n",
       "      <td>2010</td>\n",
       "      <td>Bergamot, Coriander, Fig, Shiso, Freesia, Nutm...</td>\n",
       "      <td>Bergamot, Coriander and Fig</td>\n",
       "      <td>Shiso, Freesia and Nutmeg</td>\n",
       "      <td>Cedar and Amber</td>\n",
       "      <td>100 ml</td>\n",
       "    </tr>\n",
       "  </tbody>\n",
       "</table>\n",
       "</div>"
      ],
      "text/plain": [
       "                                                   Name  Price  \\\n",
       "5389  The Different Company After Midnight Refill - ...  373.0   \n",
       "5390  The Different Company Une Nuit Magnetique Refi...  596.0   \n",
       "5391  The Different Company Sublime Balkiss Refill -...  596.0   \n",
       "5392  The Different Company Oriental Lounge Refill -...  596.0   \n",
       "5393  The Different Company De Bachmakov Refill - 10...  596.0   \n",
       "\n",
       "                                            Description  Rate Rating_count  \\\n",
       "5389  Longing for a fragrance that drives you toward...  none         none   \n",
       "5390  The Different Company Une Nuit Magnetique repr...  none         none   \n",
       "5391  Share this unique perfume with your partner an...  none         none   \n",
       "5392  Live the oriental Arabian nights and act like ...  none         none   \n",
       "5393  This kind of comfortable perfume diffuses a vi...  none         none   \n",
       "\n",
       "     image     Brand                 Gender      Product_Type Character  \\\n",
       "5389  none  Guerlain  The Different Company  Hair & Body Mist   Perfume   \n",
       "5390  none    Hermes  The Different Company  Hair & Body Mist   Perfume   \n",
       "5391  none    Hermes  The Different Company  Hair & Body Mist   Perfume   \n",
       "5392  none    Hermes  The Different Company  Hair & Body Mist   Perfume   \n",
       "5393  none    Hermes  The Different Company  Hair & Body Mist   Perfume   \n",
       "\n",
       "     Fragrance_Family    Size  Year  \\\n",
       "5389            Woody  300 ml  2012   \n",
       "5390           Floral  150 ml  2014   \n",
       "5391           Floral  150 ml  2008   \n",
       "5392            Woody   75 ml  2009   \n",
       "5393            Woody  300 ml  2010   \n",
       "\n",
       "                                            Ingredients  \\\n",
       "5389  Neroli, Angelica, Bergamot, Iris, Jasmine, Mas...   \n",
       "5390  Blueberry, Ginger and Bergamot, Plum, Egyptian...   \n",
       "5391  heather,patchouli,cacao,Blackcurrant,Lilac,Lil...   \n",
       "5392  Curry Leaves,Sweet Pepper,Bergamot,RedRose,Sat...   \n",
       "5393  Bergamot, Coriander, Fig, Shiso, Freesia, Nutm...   \n",
       "\n",
       "                                          Concentration  \\\n",
       "5389                      Neroli, Angelica and Bergamot   \n",
       "5390                     Blueberry, Ginger and Bergamot   \n",
       "5391  Violet,Leaves,Bergamot,Blackberry,Blackcurrant...   \n",
       "5392                 Curry Leaves,Sweet Pepper,Bergamot   \n",
       "5393                        Bergamot, Coriander and Fig   \n",
       "\n",
       "                                               Top_note  \\\n",
       "5389                           Iris, Jasmine and Mastic   \n",
       "5390  Plum, Egyptian Jasmine, Tuberose and Turkish Rose   \n",
       "5391   Damascena Rose,Lilac bunches,Lily of the valley.   \n",
       "5392                                  RedRose,Satinwood   \n",
       "5393                          Shiso, Freesia and Nutmeg   \n",
       "\n",
       "                                           Middle_note Base_note  \n",
       "5389         Labdanum, Benzoin, Amber and Woody Notes.    100 ml  \n",
       "5390  Benzoin, Patchouli, Amber, Musk and Woody Notes.    100 ml  \n",
       "5391            Patchouli,Heather sprigs,Cocoa powder.    100 ml  \n",
       "5392                        Amber,Tonka Bean,Labdanum\"    100 ml  \n",
       "5393                                   Cedar and Amber    100 ml  "
      ]
     },
     "execution_count": 214,
     "metadata": {},
     "output_type": "execute_result"
    }
   ],
   "source": [
    "Perfume_df[Perfume_df.Gender == \"The Different Company\"]"
   ]
  }
 ],
 "metadata": {
  "interpreter": {
   "hash": "2be5faf79681da6f2a61fdfdd5405d65d042280f7fba6178067603e3a2925119"
  },
  "kernelspec": {
   "display_name": "Python 3.10.2 64-bit",
   "language": "python",
   "name": "python3"
  },
  "language_info": {
   "codemirror_mode": {
    "name": "ipython",
    "version": 3
   },
   "file_extension": ".py",
   "mimetype": "text/x-python",
   "name": "python",
   "nbconvert_exporter": "python",
   "pygments_lexer": "ipython3",
   "version": "3.10.2"
  },
  "orig_nbformat": 4
 },
 "nbformat": 4,
 "nbformat_minor": 2
}

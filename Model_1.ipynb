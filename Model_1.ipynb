{
 "cells": [
  {
   "cell_type": "code",
   "execution_count": 2,
   "metadata": {},
   "outputs": [],
   "source": [
    "import pandas as pd\n",
    "import numpy as np\n",
    "\n",
    "import matplotlib.pyplot as plt\n",
    "import seaborn as sns\n",
    "import missingno as msno\n",
    "from sklearn.preprocessing import LabelEncoder\n",
    "#from wordcloud import WordCloud\n",
    "from textblob import TextBlob\n",
    "#from vaderSentiment.vaderSentiment import SentimentIntensityAnalyzer\n",
    "from sklearn.impute import KNNImputer\n",
    "\n",
    "from numpy.linalg import norm\n",
    "from sklearn.feature_extraction.text import TfidfVectorizer\n",
    "from sklearn.feature_extraction.text import CountVectorizer\n",
    "from sklearn.metrics.pairwise import cosine_similarity\n",
    "from sklearn.compose import ColumnTransformer\n"
   ]
  },
  {
   "cell_type": "code",
   "execution_count": 3,
   "metadata": {},
   "outputs": [],
   "source": [
    "Dataset = pd.read_csv(\"C:/Users/hmq4/OneDrive/Desktop/Data Science- Misk/chrome/Misk_DSI_Capstone_Project/Final_dataset.csv\")"
   ]
  },
  {
   "cell_type": "code",
   "execution_count": 5,
   "metadata": {},
   "outputs": [
    {
     "name": "stdout",
     "output_type": "stream",
     "text": [
      "<class 'pandas.core.frame.DataFrame'>\n",
      "RangeIndex: 3739 entries, 0 to 3738\n",
      "Data columns (total 19 columns):\n",
      " #   Column            Non-Null Count  Dtype \n",
      "---  ------            --------------  ----- \n",
      " 0   Unnamed: 0        3739 non-null   int64 \n",
      " 1   Name              3739 non-null   object\n",
      " 2   Price             3739 non-null   int64 \n",
      " 3   Description       3739 non-null   object\n",
      " 4   Rate              3739 non-null   object\n",
      " 5   Rating_count      3739 non-null   object\n",
      " 6   image             3739 non-null   object\n",
      " 7   Brand             3739 non-null   object\n",
      " 8   Gender            3739 non-null   object\n",
      " 9   Product_Type      3739 non-null   object\n",
      " 10  Character_x       3739 non-null   object\n",
      " 11  Fragrance_Family  3682 non-null   object\n",
      " 12  Size              3739 non-null   object\n",
      " 13  Year              3739 non-null   object\n",
      " 14  Ingredients       3739 non-null   object\n",
      " 15  Concentration     3739 non-null   object\n",
      " 16  Top_note          3739 non-null   object\n",
      " 17  Middle_note       3739 non-null   object\n",
      " 18  Base_note         3739 non-null   object\n",
      "dtypes: int64(2), object(17)\n",
      "memory usage: 555.1+ KB\n"
     ]
    }
   ],
   "source": [
    "Dataset.info()"
   ]
  },
  {
   "cell_type": "code",
   "execution_count": 4,
   "metadata": {},
   "outputs": [
    {
     "data": {
      "text/plain": [
       "(4090, 19)"
      ]
     },
     "execution_count": 4,
     "metadata": {},
     "output_type": "execute_result"
    }
   ],
   "source": [
    "Dataset.shape"
   ]
  },
  {
   "cell_type": "code",
   "execution_count": 5,
   "metadata": {},
   "outputs": [
    {
     "data": {
      "text/plain": [
       "Unnamed: 0           0\n",
       "Name                 0\n",
       "Price                0\n",
       "Description          0\n",
       "Rate                 0\n",
       "Rating_count         0\n",
       "image                0\n",
       "Brand               18\n",
       "Gender               5\n",
       "Product_Type        27\n",
       "Character_x          2\n",
       "Fragrance_Family    59\n",
       "Size                 1\n",
       "Year                 4\n",
       "Ingredients          3\n",
       "Concentration       12\n",
       "Top_note             1\n",
       "Middle_note          1\n",
       "Base_note           29\n",
       "dtype: int64"
      ]
     },
     "execution_count": 5,
     "metadata": {},
     "output_type": "execute_result"
    }
   ],
   "source": [
    "Dataset.isnull().sum()"
   ]
  },
  {
   "cell_type": "code",
   "execution_count": 6,
   "metadata": {},
   "outputs": [],
   "source": [
    "Dataset = Dataset.drop(\"Unnamed: 0\", axis=1)"
   ]
  },
  {
   "cell_type": "markdown",
   "metadata": {},
   "source": [
    "- Reducing the Description "
   ]
  },
  {
   "cell_type": "code",
   "execution_count": 7,
   "metadata": {},
   "outputs": [
    {
     "name": "stderr",
     "output_type": "stream",
     "text": [
      "C:\\Users\\hmq4\\AppData\\Local\\Temp\\ipykernel_15304\\2736223612.py:1: FutureWarning: Passing a negative integer is deprecated in version 1.0 and will not be supported in future version. Instead, use None to not limit the column width.\n",
      "  pd.set_option(\"display.max_colwidth\", -1)\n"
     ]
    },
    {
     "data": {
      "text/plain": [
       "0    Perfume for the energetic woman who is a hero in her movie in life every day! It keeps you vibrant and sparkling with irresistible attractiveness, a combination of kiwi, lemon and sandalwood.\\nAbout the brand:\\nDolce & Gabbana was established in 1985 by two Italian fashion designers. Dolce & Gabbana has not only managed to build a loyal customer base in such a short span of time but it also partnered with Motorola and Sony Ericson for multiple campaigns. D&G has also partnered with football clubs namely AC Milan and Chelsea FC.\n",
       "Name: Description, dtype: object"
      ]
     },
     "execution_count": 7,
     "metadata": {},
     "output_type": "execute_result"
    }
   ],
   "source": [
    "pd.set_option(\"display.max_colwidth\", -1)\n",
    "Dataset.Description.head(1)"
   ]
  },
  {
   "cell_type": "code",
   "execution_count": 8,
   "metadata": {},
   "outputs": [],
   "source": [
    "#df.Description.split(\"About the brand:\", 1)\n",
    "Dataset['Description'] = Dataset['Description'].str.split(\"\\nAbout the brand:\\n\").str[0]"
   ]
  },
  {
   "cell_type": "code",
   "execution_count": 9,
   "metadata": {},
   "outputs": [
    {
     "name": "stderr",
     "output_type": "stream",
     "text": [
      "C:\\Users\\hmq4\\AppData\\Local\\Temp\\ipykernel_15304\\2736223612.py:1: FutureWarning: Passing a negative integer is deprecated in version 1.0 and will not be supported in future version. Instead, use None to not limit the column width.\n",
      "  pd.set_option(\"display.max_colwidth\", -1)\n"
     ]
    },
    {
     "data": {
      "text/plain": [
       "0    Perfume for the energetic woman who is a hero in her movie in life every day! It keeps you vibrant and sparkling with irresistible attractiveness, a combination of kiwi, lemon and sandalwood.\n",
       "Name: Description, dtype: object"
      ]
     },
     "execution_count": 9,
     "metadata": {},
     "output_type": "execute_result"
    }
   ],
   "source": [
    "pd.set_option(\"display.max_colwidth\", -1)\n",
    "Dataset.Description.head(1)"
   ]
  },
  {
   "cell_type": "code",
   "execution_count": 11,
   "metadata": {},
   "outputs": [
    {
     "data": {
      "text/html": [
       "<div>\n",
       "<style scoped>\n",
       "    .dataframe tbody tr th:only-of-type {\n",
       "        vertical-align: middle;\n",
       "    }\n",
       "\n",
       "    .dataframe tbody tr th {\n",
       "        vertical-align: top;\n",
       "    }\n",
       "\n",
       "    .dataframe thead th {\n",
       "        text-align: right;\n",
       "    }\n",
       "</style>\n",
       "<table border=\"1\" class=\"dataframe\">\n",
       "  <thead>\n",
       "    <tr style=\"text-align: right;\">\n",
       "      <th></th>\n",
       "      <th>Name</th>\n",
       "      <th>Price</th>\n",
       "      <th>Description</th>\n",
       "      <th>Rate</th>\n",
       "      <th>Rating_count</th>\n",
       "      <th>image</th>\n",
       "      <th>Brand</th>\n",
       "      <th>Gender</th>\n",
       "      <th>Product_Type</th>\n",
       "      <th>Character_x</th>\n",
       "      <th>Fragrance_Family</th>\n",
       "      <th>Size</th>\n",
       "      <th>Year</th>\n",
       "      <th>Ingredients</th>\n",
       "      <th>Concentration</th>\n",
       "      <th>Top_note</th>\n",
       "      <th>Middle_note</th>\n",
       "      <th>Base_note</th>\n",
       "    </tr>\n",
       "  </thead>\n",
       "  <tbody>\n",
       "    <tr>\n",
       "      <th>0</th>\n",
       "      <td>Dolce &amp; Gabanna L'imperatrice 3 Pour Femme</td>\n",
       "      <td>199</td>\n",
       "      <td>Perfume for the energetic woman who is a hero in her movie in life every day! It keeps you vibrant and sparkling with irresistible attractiveness, a combination of kiwi, lemon and sandalwood.</td>\n",
       "      <td>5</td>\n",
       "      <td>6 Rating</td>\n",
       "      <td>https://assets.goldenscent.com/catalog/product/cache/1/image/9df78eab33525d08d6e5fb8d27136e95/3/4/3423473020615-dolce-_-gabbana-l_imperatrice-01_1_.png</td>\n",
       "      <td>Dolce&amp;Gabbana</td>\n",
       "      <td>Women</td>\n",
       "      <td>Perfume</td>\n",
       "      <td>Romantic</td>\n",
       "      <td>Floral</td>\n",
       "      <td>100 ml</td>\n",
       "      <td>2009</td>\n",
       "      <td>Watermerlon, Kiwi, Pink Cyclamen, Musk, Pink Pepper, Jasmine, Sandalwood, Lemon Tree</td>\n",
       "      <td>Eau de Toilette</td>\n",
       "      <td>Pink pepper, kiwi, rhubarb</td>\n",
       "      <td>jasmine, cyclamen, watermelon</td>\n",
       "      <td>musk, sandalwood, lemon trees.</td>\n",
       "    </tr>\n",
       "    <tr>\n",
       "      <th>1</th>\n",
       "      <td>Roberto Cavalli Paradiso</td>\n",
       "      <td>169</td>\n",
       "      <td>Woody floral fragrance, a subtle aroma that makes you feel fresh with a stunning blend of citrus, jasmine, and cypress.</td>\n",
       "      <td>4.95</td>\n",
       "      <td>17 Rating</td>\n",
       "      <td>https://assets.goldenscent.com/catalog/product/cache/1/image/9df78eab33525d08d6e5fb8d27136e95/3/6/3607347733423c-roberto-cavalli-paradiso---75-ml.jpg</td>\n",
       "      <td>Roberto Cavalli</td>\n",
       "      <td>Women</td>\n",
       "      <td>Perfume</td>\n",
       "      <td>Romantic</td>\n",
       "      <td>Woody</td>\n",
       "      <td>50 ml</td>\n",
       "      <td>2015</td>\n",
       "      <td>Citrus, mandarin, bergamot, jasmine, pine, cypress, laurel.</td>\n",
       "      <td>Eau de Parfum</td>\n",
       "      <td>Citruses , Mandarin , Bergamot</td>\n",
       "      <td>Jasmine</td>\n",
       "      <td>Cypress, Parasol pine, Pink laurel</td>\n",
       "    </tr>\n",
       "    <tr>\n",
       "      <th>2</th>\n",
       "      <td>Yves Saint Laurent Libre</td>\n",
       "      <td>389</td>\n",
       "      <td>This perfume is a reflection of Freedom, specially designed for bold women, for those who live by their own rules, to enjoy the unique fusion of French lavender &amp; orange blossoms from Morrocco. A statement of freedom with an additional whiff of daring musky notes.</td>\n",
       "      <td>5</td>\n",
       "      <td>3 Rating</td>\n",
       "      <td>https://assets.goldenscent.com/catalog/product/cache/1/image/9df78eab33525d08d6e5fb8d27136e95/3/6/3614272648418c-yves-saint-laurent-libre---90-ml_1_.jpg</td>\n",
       "      <td>Yves Saint Laurent</td>\n",
       "      <td>Women</td>\n",
       "      <td>Perfume</td>\n",
       "      <td>Romantic</td>\n",
       "      <td>Floral</td>\n",
       "      <td>90 ml</td>\n",
       "      <td>2019</td>\n",
       "      <td>Mandarin Orange, lavendar, black currant, petitgrain, jasmine, orange blossom, vanilla, cedar, musk, ambergris</td>\n",
       "      <td>Eau de Parfum</td>\n",
       "      <td>Mandarin Orange, Lavendar, Black Currant, Petitgrain</td>\n",
       "      <td>Jasmine, Orange Blossom</td>\n",
       "      <td>Vanilla, Cedar, Musk, Ambergris</td>\n",
       "    </tr>\n",
       "    <tr>\n",
       "      <th>3</th>\n",
       "      <td>Mancera Red Tobacco</td>\n",
       "      <td>499</td>\n",
       "      <td>Mancera Red Tobacco is the new oriental, woody fragrance for men and women. Its the best oriental scent, full of life and attractiveness. This perfume contains a very high quality ingredients. A must have perfume!:</td>\n",
       "      <td>4.38</td>\n",
       "      <td>8 Rating</td>\n",
       "      <td>https://assets.goldenscent.com/catalog/product/cache/1/image/9df78eab33525d08d6e5fb8d27136e95/3/6/3607347733423c-mancera-red-tobacco---120-ml.jpg</td>\n",
       "      <td>Mancera</td>\n",
       "      <td>Women</td>\n",
       "      <td>Perfume</td>\n",
       "      <td>Romantic</td>\n",
       "      <td>Oriental</td>\n",
       "      <td>120 ml</td>\n",
       "      <td>2017</td>\n",
       "      <td>Saffron, Cinnamon, Incense, Nutmeg, White Peach, Green Apple &amp; Nepalese Oud, Leaves of Patchouli, delicate Jasmine, Precious Tobacco, Amber, Woody Notes, Vetiver, Vanilla Pods, White Musk.</td>\n",
       "      <td>Eau de Parfum</td>\n",
       "      <td>Saffron, Cinnamon, Incense, Nutmeg, White peach, Green apple, Nepalese</td>\n",
       "      <td>Patchouli, Jasmine</td>\n",
       "      <td>Tobacco, Amber, Woody notes, Vetiver, Vanilla, White musk</td>\n",
       "    </tr>\n",
       "    <tr>\n",
       "      <th>4</th>\n",
       "      <td>Giorgio Armani Emporio Armani Stronger With You Intensely</td>\n",
       "      <td>399</td>\n",
       "      <td>for every romantic gentle man, This strong fascinating fragrance is for you. It was released to capture all people hearts from the first smell to tell a story of an outstanding emotional man who is deeply in love and is ready to do anything for their lovers.</td>\n",
       "      <td>5</td>\n",
       "      <td>3 Rating</td>\n",
       "      <td>https://assets.goldenscent.com/catalog/product/cache/1/image/9df78eab33525d08d6e5fb8d27136e95/3/6/3614272225718-giorgio-armani-emporio-armani-stronger-with-you-intensely.jpg</td>\n",
       "      <td>Giorgio Armani</td>\n",
       "      <td>Men</td>\n",
       "      <td>Perfume</td>\n",
       "      <td>Romantic</td>\n",
       "      <td>Aromatic</td>\n",
       "      <td>100 ml</td>\n",
       "      <td>2019</td>\n",
       "      <td>Spices, Violet, Lavender, Sweet Toffee, Caramel, Cinnamon, Suede, Vanilla, Amber</td>\n",
       "      <td>Eau de Parfum</td>\n",
       "      <td>Pink pepper, Juniper, Violet leaf</td>\n",
       "      <td>Lavender, Sage, Toffee, Cinnamon</td>\n",
       "      <td>Tonka bean, Suede, Amber, Vanilla</td>\n",
       "    </tr>\n",
       "  </tbody>\n",
       "</table>\n",
       "</div>"
      ],
      "text/plain": [
       "                                                        Name Price  \\\n",
       "0  Dolce & Gabanna L'imperatrice 3 Pour Femme                 199    \n",
       "1  Roberto Cavalli Paradiso                                   169    \n",
       "2  Yves Saint Laurent Libre                                   389    \n",
       "3  Mancera Red Tobacco                                        499    \n",
       "4  Giorgio Armani Emporio Armani Stronger With You Intensely  399    \n",
       "\n",
       "                                                                                                                                                                                                                                                                Description  \\\n",
       "0  Perfume for the energetic woman who is a hero in her movie in life every day! It keeps you vibrant and sparkling with irresistible attractiveness, a combination of kiwi, lemon and sandalwood.                                                                            \n",
       "1  Woody floral fragrance, a subtle aroma that makes you feel fresh with a stunning blend of citrus, jasmine, and cypress.                                                                                                                                                    \n",
       "2  This perfume is a reflection of Freedom, specially designed for bold women, for those who live by their own rules, to enjoy the unique fusion of French lavender & orange blossoms from Morrocco. A statement of freedom with an additional whiff of daring musky notes.   \n",
       "3  Mancera Red Tobacco is the new oriental, woody fragrance for men and women. Its the best oriental scent, full of life and attractiveness. This perfume contains a very high quality ingredients. A must have perfume!:                                                     \n",
       "4  for every romantic gentle man, This strong fascinating fragrance is for you. It was released to capture all people hearts from the first smell to tell a story of an outstanding emotional man who is deeply in love and is ready to do anything for their lovers.         \n",
       "\n",
       "   Rate Rating_count  \\\n",
       "0  5     6 Rating      \n",
       "1  4.95  17 Rating     \n",
       "2  5     3 Rating      \n",
       "3  4.38  8 Rating      \n",
       "4  5     3 Rating      \n",
       "\n",
       "                                                                                                                                                                           image  \\\n",
       "0  https://assets.goldenscent.com/catalog/product/cache/1/image/9df78eab33525d08d6e5fb8d27136e95/3/4/3423473020615-dolce-_-gabbana-l_imperatrice-01_1_.png                         \n",
       "1  https://assets.goldenscent.com/catalog/product/cache/1/image/9df78eab33525d08d6e5fb8d27136e95/3/6/3607347733423c-roberto-cavalli-paradiso---75-ml.jpg                           \n",
       "2  https://assets.goldenscent.com/catalog/product/cache/1/image/9df78eab33525d08d6e5fb8d27136e95/3/6/3614272648418c-yves-saint-laurent-libre---90-ml_1_.jpg                        \n",
       "3  https://assets.goldenscent.com/catalog/product/cache/1/image/9df78eab33525d08d6e5fb8d27136e95/3/6/3607347733423c-mancera-red-tobacco---120-ml.jpg                               \n",
       "4  https://assets.goldenscent.com/catalog/product/cache/1/image/9df78eab33525d08d6e5fb8d27136e95/3/6/3614272225718-giorgio-armani-emporio-armani-stronger-with-you-intensely.jpg   \n",
       "\n",
       "                Brand Gender Product_Type Character_x Fragrance_Family  \\\n",
       "0  Dolce&Gabbana       Women  Perfume      Romantic    Floral            \n",
       "1  Roberto Cavalli     Women  Perfume      Romantic    Woody             \n",
       "2  Yves Saint Laurent  Women  Perfume      Romantic    Floral            \n",
       "3  Mancera             Women  Perfume      Romantic    Oriental          \n",
       "4  Giorgio Armani      Men    Perfume      Romantic    Aromatic          \n",
       "\n",
       "     Size  Year  \\\n",
       "0  100 ml  2009   \n",
       "1  50 ml   2015   \n",
       "2  90 ml   2019   \n",
       "3  120 ml  2017   \n",
       "4  100 ml  2019   \n",
       "\n",
       "                                                                                                                                                                                    Ingredients  \\\n",
       "0  Watermerlon, Kiwi, Pink Cyclamen, Musk, Pink Pepper, Jasmine, Sandalwood, Lemon Tree                                                                                                           \n",
       "1  Citrus, mandarin, bergamot, jasmine, pine, cypress, laurel.                                                                                                                                    \n",
       "2  Mandarin Orange, lavendar, black currant, petitgrain, jasmine, orange blossom, vanilla, cedar, musk, ambergris                                                                                 \n",
       "3  Saffron, Cinnamon, Incense, Nutmeg, White Peach, Green Apple & Nepalese Oud, Leaves of Patchouli, delicate Jasmine, Precious Tobacco, Amber, Woody Notes, Vetiver, Vanilla Pods, White Musk.   \n",
       "4  Spices, Violet, Lavender, Sweet Toffee, Caramel, Cinnamon, Suede, Vanilla, Amber                                                                                                               \n",
       "\n",
       "     Concentration  \\\n",
       "0  Eau de Toilette   \n",
       "1  Eau de Parfum     \n",
       "2  Eau de Parfum     \n",
       "3  Eau de Parfum     \n",
       "4  Eau de Parfum     \n",
       "\n",
       "                                                                 Top_note  \\\n",
       "0  Pink pepper, kiwi, rhubarb                                               \n",
       "1  Citruses , Mandarin , Bergamot                                           \n",
       "2  Mandarin Orange, Lavendar, Black Currant, Petitgrain                     \n",
       "3  Saffron, Cinnamon, Incense, Nutmeg, White peach, Green apple, Nepalese   \n",
       "4  Pink pepper, Juniper, Violet leaf                                        \n",
       "\n",
       "                        Middle_note  \\\n",
       "0  jasmine, cyclamen, watermelon      \n",
       "1  Jasmine                            \n",
       "2  Jasmine, Orange Blossom            \n",
       "3  Patchouli, Jasmine                 \n",
       "4  Lavender, Sage, Toffee, Cinnamon   \n",
       "\n",
       "                                                   Base_note  \n",
       "0  musk, sandalwood, lemon trees.                             \n",
       "1  Cypress, Parasol pine, Pink laurel                         \n",
       "2  Vanilla, Cedar, Musk, Ambergris                            \n",
       "3  Tobacco, Amber, Woody notes, Vetiver, Vanilla, White musk  \n",
       "4  Tonka bean, Suede, Amber, Vanilla                          "
      ]
     },
     "execution_count": 11,
     "metadata": {},
     "output_type": "execute_result"
    }
   ],
   "source": [
    "Dataset.head()"
   ]
  },
  {
   "cell_type": "code",
   "execution_count": 13,
   "metadata": {},
   "outputs": [],
   "source": [
    "#Dataset.groupby(\"Fragrance_Family\").agg({'Price' :\"mean\"}).sort_values(by = \"Price\", ascending=False)"
   ]
  },
  {
   "cell_type": "code",
   "execution_count": null,
   "metadata": {},
   "outputs": [],
   "source": [
    "#df['Time'] = df['Time'].str.lower()\n",
    "#df['Flavor'] = df['Flavor'].str.lower()\n",
    "#df['Ingredients'] = df['Ingredients'].str.lower()\n",
    "#df['Color'] = df['Color'].str.lower()\n",
    "#df['Description'] = df['Description'].str.lower()\n",
    "#df['Type'] = df['Type'].str.lower()\n",
    "#df['Ingredients'] = df['HealthP'].str.lower()"
   ]
  },
  {
   "cell_type": "code",
   "execution_count": null,
   "metadata": {},
   "outputs": [],
   "source": [
    "#df['word_count'] = df['Ingredients'].apply(lambda x: len(str(x).split()))\n",
    "#df['word_count'].plot(\n",
    "#    kind='hist',\n",
    "#    bins = 50,\n",
    "#    figsize = (12,8),title='Tea Ingredients Word Count Distribution')"
   ]
  },
  {
   "cell_type": "code",
   "execution_count": null,
   "metadata": {},
   "outputs": [],
   "source": [
    "#df['word_count'] = df['Description'].apply(lambda x: len(str(x).split()))# Plotting the word count\n",
    "#df['word_count'].plot(\n",
    "#    kind='hist',\n",
    "#    bins = 50,\n",
    "#    figsize = (12,8),title='Word Count Distribution for tea descriptions')"
   ]
  },
  {
   "cell_type": "markdown",
   "metadata": {},
   "source": [
    "### Label Encoding "
   ]
  },
  {
   "cell_type": "code",
   "execution_count": null,
   "metadata": {},
   "outputs": [],
   "source": [
    "le = LabelEncoder()\n",
    "le.fit(df.Character_x)\n",
    "df.Character_x=le.transform(df.Character_x)\n",
    "\n",
    "le.fit(df.Fragrance_Family)\n",
    "df.Fragrance_Family=le.transform(df.Fragrance_Family)\n",
    "\n",
    "le.fit(df.Ingredients)\n",
    "df.Ingredients=le.transform(df.Ingredients)\n",
    "\n",
    "le.fit(df.Concentration)\n",
    "df.Concentration=le.transform(df.Concentration)\n",
    "\n",
    "le.fit(df.Top_note)\n",
    "df.Top_note=le.transform(df.Top_note)\n",
    "\n",
    "le.fit(df.Middle_note)\n",
    "df.Middle_note=le.transform(df.Middle_note)\n",
    "\n",
    "le.fit(df.Base_note)\n",
    "df.Base_note=le.transform(df.Base_note)\n",
    "\n",
    "le.fit(df.Gender)\n",
    "df.Gender=le.transform(df.Gender)\n"
   ]
  },
  {
   "cell_type": "code",
   "execution_count": null,
   "metadata": {},
   "outputs": [],
   "source": [
    "features_df = df[[\n",
    " 'Gender',\n",
    " 'Character_x',\n",
    " 'Fragrance_Family',\n",
    " 'Ingredients',\n",
    " 'Concentration',\n",
    " 'Top_note',\n",
    " 'Middle_note',\n",
    " 'Base_note']]"
   ]
  },
  {
   "cell_type": "code",
   "execution_count": null,
   "metadata": {},
   "outputs": [],
   "source": [
    "# Finding the correlation between all the audio features\n",
    "scatter = sns.heatmap(features_df.corr(),  \n",
    "annot=True,\n",
    "linewidths=.5, cmap='RdPu')"
   ]
  },
  {
   "cell_type": "code",
   "execution_count": null,
   "metadata": {},
   "outputs": [],
   "source": [
    "features_df.hist(figsize = (15,15))\n",
    "plt.show()"
   ]
  },
  {
   "cell_type": "markdown",
   "metadata": {},
   "source": [
    "### Recomendations using: \n",
    "- Gender, Fragrance_Family, Ingredents, Top_note, Middle_note, Base_note"
   ]
  },
  {
   "cell_type": "code",
   "execution_count": 9,
   "metadata": {},
   "outputs": [
    {
     "name": "stdout",
     "output_type": "stream",
     "text": [
      "1738                             David Kasab Imperial EDP\n",
      "2825    Yves Saint Laurent Libre Gift Box - (EDP 50 ml...\n",
      "2826    Yves Saint Laurent Libre Gift Box - (EDP 50 ml...\n",
      "868                                  Korloff Lady Intense\n",
      "6                                Roberto Cavalli Florence\n",
      "2795                  Yves Saint Laurent Black Opium Neon\n",
      "3060                            Guerlain Shalimar Souffle\n",
      "1872                  Al Dakheel Oud Bushra Cream - 50 ml\n",
      "792                                   Mercedes Benz Woman\n",
      "235                    Bvlgari Splendida Magnolia Sensuel\n",
      "Name: Name, dtype: object\n"
     ]
    }
   ],
   "source": [
    "from sklearn.feature_extraction.text import CountVectorizer\n",
    "\n",
    "# helper function to get the indices\n",
    "def get_index(Name):\n",
    "    return Dataset[Dataset.Name == Name].index[0]\n",
    "\n",
    "#step1: combine features \n",
    "features_df = [\n",
    " 'Gender',\n",
    " 'Fragrance_Family',\n",
    " 'Ingredients',\n",
    " 'Top_note',\n",
    " 'Middle_note',\n",
    " 'Base_note']\n",
    "\n",
    "for feature in features_df:\n",
    "    Dataset[feature] = Dataset[feature].fillna('')\n",
    "\n",
    "def comine_features(row):\n",
    "    try:\n",
    "        return row['Gender']+ \" \"+row['Fragrance_Family'] + \" \"+row['Ingredients']+\" \"+row['Ingredients'] + \" \"+row['Top_note'] + \" \"+row['Middle_note']+\" \"+row['Base_note']\n",
    "    except:\n",
    "        print(\"Error:\", row)\n",
    "\n",
    "Dataset['combined_features'] = Dataset.apply(comine_features, axis=1)\n",
    "\n",
    "# step4: creat count matrix \n",
    "cv = CountVectorizer()\n",
    "count_matrix = cv.fit_transform(Dataset['combined_features'])\n",
    "\n",
    "# step5: cosine similarity \n",
    "cosine_sim = cosine_similarity(count_matrix)\n",
    "perfume_test = \"Yves Saint Laurent Libre\" \n",
    "\n",
    "#step6: getting the index of the recommended perfume \n",
    "perfume_index = get_index(perfume_test)\n",
    "similar_perfumes = list(enumerate(cosine_sim[perfume_index]))\n",
    "sorted_list  = sorted(similar_perfumes, key=lambda x:x[1], reverse=True)\n",
    "similar = sorted_list[1:11]\n",
    "perfume_indecs = [i[0] for i in similar]\n",
    "\n",
    "print(Dataset['Name'].iloc[perfume_indecs])"
   ]
  },
  {
   "cell_type": "code",
   "execution_count": 10,
   "metadata": {},
   "outputs": [
    {
     "data": {
      "text/html": [
       "<div>\n",
       "<style scoped>\n",
       "    .dataframe tbody tr th:only-of-type {\n",
       "        vertical-align: middle;\n",
       "    }\n",
       "\n",
       "    .dataframe tbody tr th {\n",
       "        vertical-align: top;\n",
       "    }\n",
       "\n",
       "    .dataframe thead th {\n",
       "        text-align: right;\n",
       "    }\n",
       "</style>\n",
       "<table border=\"1\" class=\"dataframe\">\n",
       "  <thead>\n",
       "    <tr style=\"text-align: right;\">\n",
       "      <th></th>\n",
       "      <th>Name</th>\n",
       "      <th>Price</th>\n",
       "      <th>Description</th>\n",
       "      <th>Rate</th>\n",
       "      <th>Rating_count</th>\n",
       "      <th>image</th>\n",
       "      <th>Brand</th>\n",
       "      <th>Gender</th>\n",
       "      <th>Product_Type</th>\n",
       "      <th>Character_x</th>\n",
       "      <th>Fragrance_Family</th>\n",
       "      <th>Size</th>\n",
       "      <th>Year</th>\n",
       "      <th>Ingredients</th>\n",
       "      <th>Concentration</th>\n",
       "      <th>Top_note</th>\n",
       "      <th>Middle_note</th>\n",
       "      <th>Base_note</th>\n",
       "      <th>combined_features</th>\n",
       "    </tr>\n",
       "  </thead>\n",
       "  <tbody>\n",
       "    <tr>\n",
       "      <th>2</th>\n",
       "      <td>Yves Saint Laurent Libre</td>\n",
       "      <td>389</td>\n",
       "      <td>This perfume is a reflection of Freedom, speci...</td>\n",
       "      <td>5</td>\n",
       "      <td>3 Rating</td>\n",
       "      <td>https://assets.goldenscent.com/catalog/product...</td>\n",
       "      <td>Yves Saint Laurent</td>\n",
       "      <td>Women</td>\n",
       "      <td>Perfume</td>\n",
       "      <td>Romantic</td>\n",
       "      <td>Floral</td>\n",
       "      <td>90 ml</td>\n",
       "      <td>2019</td>\n",
       "      <td>Mandarin Orange, lavendar, black currant, peti...</td>\n",
       "      <td>Eau de Parfum</td>\n",
       "      <td>Mandarin Orange, Lavendar, Black Currant, Peti...</td>\n",
       "      <td>Jasmine, Orange Blossom</td>\n",
       "      <td>Vanilla, Cedar, Musk, Ambergris</td>\n",
       "      <td>Women Floral Mandarin Orange, lavendar, black ...</td>\n",
       "    </tr>\n",
       "  </tbody>\n",
       "</table>\n",
       "</div>"
      ],
      "text/plain": [
       "                       Name  Price  \\\n",
       "2  Yves Saint Laurent Libre    389   \n",
       "\n",
       "                                         Description Rate Rating_count  \\\n",
       "2  This perfume is a reflection of Freedom, speci...    5     3 Rating   \n",
       "\n",
       "                                               image               Brand  \\\n",
       "2  https://assets.goldenscent.com/catalog/product...  Yves Saint Laurent   \n",
       "\n",
       "  Gender Product_Type Character_x Fragrance_Family   Size  Year  \\\n",
       "2  Women      Perfume    Romantic           Floral  90 ml  2019   \n",
       "\n",
       "                                         Ingredients  Concentration  \\\n",
       "2  Mandarin Orange, lavendar, black currant, peti...  Eau de Parfum   \n",
       "\n",
       "                                            Top_note              Middle_note  \\\n",
       "2  Mandarin Orange, Lavendar, Black Currant, Peti...  Jasmine, Orange Blossom   \n",
       "\n",
       "                         Base_note  \\\n",
       "2  Vanilla, Cedar, Musk, Ambergris   \n",
       "\n",
       "                                   combined_features  \n",
       "2  Women Floral Mandarin Orange, lavendar, black ...  "
      ]
     },
     "execution_count": 10,
     "metadata": {},
     "output_type": "execute_result"
    }
   ],
   "source": [
    "Dataset[Dataset.Name == \"Yves Saint Laurent Libre\"]"
   ]
  }
 ],
 "metadata": {
  "interpreter": {
   "hash": "2be5faf79681da6f2a61fdfdd5405d65d042280f7fba6178067603e3a2925119"
  },
  "kernelspec": {
   "display_name": "Python 3.10.2 64-bit",
   "language": "python",
   "name": "python3"
  },
  "language_info": {
   "codemirror_mode": {
    "name": "ipython",
    "version": 3
   },
   "file_extension": ".py",
   "mimetype": "text/x-python",
   "name": "python",
   "nbconvert_exporter": "python",
   "pygments_lexer": "ipython3",
   "version": "3.10.2"
  },
  "orig_nbformat": 4
 },
 "nbformat": 4,
 "nbformat_minor": 2
}

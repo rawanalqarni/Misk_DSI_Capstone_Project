{
 "cells": [
  {
   "cell_type": "markdown",
   "metadata": {},
   "source": [
    "### Capstone Project -  Perfumes Recommendation System \n",
    " "
   ]
  },
  {
   "cell_type": "markdown",
   "metadata": {},
   "source": [
    "#### Import Packages"
   ]
  },
  {
   "cell_type": "code",
   "execution_count": 368,
   "metadata": {},
   "outputs": [],
   "source": [
    "import pandas as pd \n",
    "import numpy as np\n",
    "import matplotlib.pyplot as plt"
   ]
  },
  {
   "cell_type": "markdown",
   "metadata": {},
   "source": [
    "#### Read Dataset:\n",
    "- Perfumes Dataset: \n",
    "This dataset contain Perfumes data: Perfumes_Name, Brand, Describtion, Price, Gender, Product_type, Fragrance_Family, Character, Average Rate, Ingredients, Top, Middle and Base Notes, image_URL.\n",
    "\n",
    "- Reviewa Dataset: \n",
    "This dataset contain User nickname, Perfume_name, Brand, Fragrance_Family, Overall_rating, User_rating, Revirews, Date.   "
   ]
  },
  {
   "cell_type": "code",
   "execution_count": 369,
   "metadata": {},
   "outputs": [],
   "source": [
    "Perfumes_df = pd.read_csv(\"C:/Users/hmq4/OneDrive/Desktop/Data Science- Misk/chrome/Misk_DSI_Capstone_Project/Dataset/Datasets/Perfume_Dataset.csv\")\n",
    "Reviews_df = pd.read_csv(\"C:/Users/hmq4/OneDrive/Desktop/Data Science- Misk/chrome/Misk_DSI_Capstone_Project/Dataset/Datasets/Reviews_Dataset.csv\")"
   ]
  },
  {
   "cell_type": "markdown",
   "metadata": {},
   "source": [
    "### 1. Perfumes Dataset Cleaning "
   ]
  },
  {
   "cell_type": "code",
   "execution_count": 370,
   "metadata": {},
   "outputs": [
    {
     "data": {
      "text/html": [
       "<div>\n",
       "<style scoped>\n",
       "    .dataframe tbody tr th:only-of-type {\n",
       "        vertical-align: middle;\n",
       "    }\n",
       "\n",
       "    .dataframe tbody tr th {\n",
       "        vertical-align: top;\n",
       "    }\n",
       "\n",
       "    .dataframe thead th {\n",
       "        text-align: right;\n",
       "    }\n",
       "</style>\n",
       "<table border=\"1\" class=\"dataframe\">\n",
       "  <thead>\n",
       "    <tr style=\"text-align: right;\">\n",
       "      <th></th>\n",
       "      <th>Name</th>\n",
       "      <th>Price</th>\n",
       "      <th>Description</th>\n",
       "      <th>Rate</th>\n",
       "      <th>Rating_count</th>\n",
       "      <th>Details</th>\n",
       "      <th>image</th>\n",
       "      <th>Brand</th>\n",
       "      <th>Gender</th>\n",
       "      <th>Product_Type</th>\n",
       "      <th>Character</th>\n",
       "      <th>Fragrance_Family</th>\n",
       "      <th>Size</th>\n",
       "      <th>Year</th>\n",
       "      <th>Ingredients</th>\n",
       "      <th>Concentration</th>\n",
       "      <th>Top_note</th>\n",
       "      <th>Middle_note</th>\n",
       "      <th>Base_note</th>\n",
       "    </tr>\n",
       "  </thead>\n",
       "  <tbody>\n",
       "    <tr>\n",
       "      <th>0</th>\n",
       "      <td>Dolce &amp; Gabanna L'imperatrice 3 Pour Femme</td>\n",
       "      <td>199 SAR</td>\n",
       "      <td>Perfume for the energetic woman who is a hero ...</td>\n",
       "      <td>5</td>\n",
       "      <td>6 Rating</td>\n",
       "      <td>['Dolce&amp;Gabbana', 'Women', 'Perfume', 'Romanti...</td>\n",
       "      <td>https://assets.goldenscent.com/catalog/product...</td>\n",
       "      <td>Dolce&amp;Gabbana</td>\n",
       "      <td>Women</td>\n",
       "      <td>Perfume</td>\n",
       "      <td>Romantic</td>\n",
       "      <td>Floral</td>\n",
       "      <td>100 ml</td>\n",
       "      <td>2009</td>\n",
       "      <td>Watermerlon, Kiwi, Pink Cyclamen, Musk, Pink P...</td>\n",
       "      <td>Eau de Toilette</td>\n",
       "      <td>Pink pepper, kiwi, rhubarb</td>\n",
       "      <td>jasmine, cyclamen, watermelon</td>\n",
       "      <td>musk, sandalwood, lemon trees.</td>\n",
       "    </tr>\n",
       "    <tr>\n",
       "      <th>1</th>\n",
       "      <td>Roberto Cavalli Paradiso</td>\n",
       "      <td>169 SAR</td>\n",
       "      <td>Woody floral fragrance, a subtle aroma that ma...</td>\n",
       "      <td>4.95</td>\n",
       "      <td>17 Rating</td>\n",
       "      <td>['Roberto Cavalli', 'Women', 'Perfume', 'Chari...</td>\n",
       "      <td>https://assets.goldenscent.com/catalog/product...</td>\n",
       "      <td>Roberto Cavalli</td>\n",
       "      <td>Women</td>\n",
       "      <td>Perfume</td>\n",
       "      <td>Charismatic</td>\n",
       "      <td>Woody</td>\n",
       "      <td>50 ml</td>\n",
       "      <td>2015</td>\n",
       "      <td>Citrus, mandarin, bergamot, jasmine, pine, cyp...</td>\n",
       "      <td>Eau de Parfum</td>\n",
       "      <td>Citruses , Mandarin , Bergamot</td>\n",
       "      <td>Jasmine</td>\n",
       "      <td>Cypress, Parasol pine, Pink laurel</td>\n",
       "    </tr>\n",
       "    <tr>\n",
       "      <th>2</th>\n",
       "      <td>Yves Saint Laurent Libre</td>\n",
       "      <td>383 SAR</td>\n",
       "      <td>This perfume is a reflection of Freedom, speci...</td>\n",
       "      <td>5</td>\n",
       "      <td>3 Rating</td>\n",
       "      <td>['Yves Saint Laurent', 'Women', 'Perfume', 'Ro...</td>\n",
       "      <td>https://assets.goldenscent.com/catalog/product...</td>\n",
       "      <td>Yves Saint Laurent</td>\n",
       "      <td>Women</td>\n",
       "      <td>Perfume</td>\n",
       "      <td>Romantic</td>\n",
       "      <td>Floral</td>\n",
       "      <td>90 ml</td>\n",
       "      <td>2019</td>\n",
       "      <td>Mandarin Orange, lavendar, black currant, peti...</td>\n",
       "      <td>Eau de Parfum</td>\n",
       "      <td>Mandarin Orange, Lavendar, Black Currant, Peti...</td>\n",
       "      <td>Jasmine, Orange Blossom</td>\n",
       "      <td>Vanilla, Cedar, Musk, Ambergris</td>\n",
       "    </tr>\n",
       "    <tr>\n",
       "      <th>3</th>\n",
       "      <td>Mancera Red Tobacco</td>\n",
       "      <td>499 SAR</td>\n",
       "      <td>Mancera Red Tobacco is the new oriental, woody...</td>\n",
       "      <td>4.38</td>\n",
       "      <td>8 Rating</td>\n",
       "      <td>['Mancera', 'Unisex', 'Perfume', 'Charismatic'...</td>\n",
       "      <td>https://assets.goldenscent.com/catalog/product...</td>\n",
       "      <td>Mancera</td>\n",
       "      <td>Unisex</td>\n",
       "      <td>Perfume</td>\n",
       "      <td>Charismatic</td>\n",
       "      <td>Oriental</td>\n",
       "      <td>120 ml</td>\n",
       "      <td>2017</td>\n",
       "      <td>Saffron, Cinnamon, Incense, Nutmeg, White Peac...</td>\n",
       "      <td>Eau de Parfum</td>\n",
       "      <td>Saffron, Cinnamon, Incense, Nutmeg, White peac...</td>\n",
       "      <td>Patchouli, Jasmine</td>\n",
       "      <td>Tobacco, Amber, Woody notes, Vetiver, Vanilla,...</td>\n",
       "    </tr>\n",
       "    <tr>\n",
       "      <th>4</th>\n",
       "      <td>Giorgio Armani Emporio Armani Stronger With Yo...</td>\n",
       "      <td>375 SAR</td>\n",
       "      <td>for every romantic gentle man, This strong fas...</td>\n",
       "      <td>5</td>\n",
       "      <td>3 Rating</td>\n",
       "      <td>['Giorgio Armani', 'Men', 'Perfume', 'Charisma...</td>\n",
       "      <td>https://assets.goldenscent.com/catalog/product...</td>\n",
       "      <td>Giorgio Armani</td>\n",
       "      <td>Men</td>\n",
       "      <td>Perfume</td>\n",
       "      <td>Charismatic</td>\n",
       "      <td>Aromatic</td>\n",
       "      <td>100 ml</td>\n",
       "      <td>2019</td>\n",
       "      <td>Spices, Violet, Lavender, Sweet Toffee, Carame...</td>\n",
       "      <td>Eau de Parfum</td>\n",
       "      <td>Pink pepper, Juniper, Violet leaf</td>\n",
       "      <td>Lavender, Sage, Toffee, Cinnamon</td>\n",
       "      <td>Tonka bean, Suede, Amber, Vanilla</td>\n",
       "    </tr>\n",
       "  </tbody>\n",
       "</table>\n",
       "</div>"
      ],
      "text/plain": [
       "                                                Name    Price  \\\n",
       "0         Dolce & Gabanna L'imperatrice 3 Pour Femme  199 SAR   \n",
       "1                           Roberto Cavalli Paradiso  169 SAR   \n",
       "2                           Yves Saint Laurent Libre  383 SAR   \n",
       "3                                Mancera Red Tobacco  499 SAR   \n",
       "4  Giorgio Armani Emporio Armani Stronger With Yo...  375 SAR   \n",
       "\n",
       "                                         Description  Rate Rating_count  \\\n",
       "0  Perfume for the energetic woman who is a hero ...     5     6 Rating   \n",
       "1  Woody floral fragrance, a subtle aroma that ma...  4.95    17 Rating   \n",
       "2  This perfume is a reflection of Freedom, speci...     5     3 Rating   \n",
       "3  Mancera Red Tobacco is the new oriental, woody...  4.38     8 Rating   \n",
       "4  for every romantic gentle man, This strong fas...     5     3 Rating   \n",
       "\n",
       "                                             Details  \\\n",
       "0  ['Dolce&Gabbana', 'Women', 'Perfume', 'Romanti...   \n",
       "1  ['Roberto Cavalli', 'Women', 'Perfume', 'Chari...   \n",
       "2  ['Yves Saint Laurent', 'Women', 'Perfume', 'Ro...   \n",
       "3  ['Mancera', 'Unisex', 'Perfume', 'Charismatic'...   \n",
       "4  ['Giorgio Armani', 'Men', 'Perfume', 'Charisma...   \n",
       "\n",
       "                                               image               Brand  \\\n",
       "0  https://assets.goldenscent.com/catalog/product...       Dolce&Gabbana   \n",
       "1  https://assets.goldenscent.com/catalog/product...     Roberto Cavalli   \n",
       "2  https://assets.goldenscent.com/catalog/product...  Yves Saint Laurent   \n",
       "3  https://assets.goldenscent.com/catalog/product...             Mancera   \n",
       "4  https://assets.goldenscent.com/catalog/product...      Giorgio Armani   \n",
       "\n",
       "   Gender Product_Type    Character Fragrance_Family    Size  Year  \\\n",
       "0   Women      Perfume     Romantic           Floral  100 ml  2009   \n",
       "1   Women      Perfume  Charismatic            Woody   50 ml  2015   \n",
       "2   Women      Perfume     Romantic           Floral   90 ml  2019   \n",
       "3  Unisex      Perfume  Charismatic         Oriental  120 ml  2017   \n",
       "4     Men      Perfume  Charismatic         Aromatic  100 ml  2019   \n",
       "\n",
       "                                         Ingredients    Concentration  \\\n",
       "0  Watermerlon, Kiwi, Pink Cyclamen, Musk, Pink P...  Eau de Toilette   \n",
       "1  Citrus, mandarin, bergamot, jasmine, pine, cyp...    Eau de Parfum   \n",
       "2  Mandarin Orange, lavendar, black currant, peti...    Eau de Parfum   \n",
       "3  Saffron, Cinnamon, Incense, Nutmeg, White Peac...    Eau de Parfum   \n",
       "4  Spices, Violet, Lavender, Sweet Toffee, Carame...    Eau de Parfum   \n",
       "\n",
       "                                            Top_note  \\\n",
       "0                         Pink pepper, kiwi, rhubarb   \n",
       "1                     Citruses , Mandarin , Bergamot   \n",
       "2  Mandarin Orange, Lavendar, Black Currant, Peti...   \n",
       "3  Saffron, Cinnamon, Incense, Nutmeg, White peac...   \n",
       "4                  Pink pepper, Juniper, Violet leaf   \n",
       "\n",
       "                        Middle_note  \\\n",
       "0     jasmine, cyclamen, watermelon   \n",
       "1                           Jasmine   \n",
       "2           Jasmine, Orange Blossom   \n",
       "3                Patchouli, Jasmine   \n",
       "4  Lavender, Sage, Toffee, Cinnamon   \n",
       "\n",
       "                                           Base_note  \n",
       "0                     musk, sandalwood, lemon trees.  \n",
       "1                 Cypress, Parasol pine, Pink laurel  \n",
       "2                    Vanilla, Cedar, Musk, Ambergris  \n",
       "3  Tobacco, Amber, Woody notes, Vetiver, Vanilla,...  \n",
       "4                  Tonka bean, Suede, Amber, Vanilla  "
      ]
     },
     "execution_count": 370,
     "metadata": {},
     "output_type": "execute_result"
    }
   ],
   "source": [
    "Perfumes_df.head()"
   ]
  },
  {
   "cell_type": "code",
   "execution_count": 371,
   "metadata": {},
   "outputs": [
    {
     "name": "stdout",
     "output_type": "stream",
     "text": [
      "<class 'pandas.core.frame.DataFrame'>\n",
      "RangeIndex: 9512 entries, 0 to 9511\n",
      "Data columns (total 19 columns):\n",
      " #   Column            Non-Null Count  Dtype \n",
      "---  ------            --------------  ----- \n",
      " 0   Name              9512 non-null   object\n",
      " 1   Price             9512 non-null   object\n",
      " 2   Description       9467 non-null   object\n",
      " 3   Rate              9512 non-null   object\n",
      " 4   Rating_count      9505 non-null   object\n",
      " 5   Details           9512 non-null   object\n",
      " 6   image             9512 non-null   object\n",
      " 7   Brand             9178 non-null   object\n",
      " 8   Gender            9156 non-null   object\n",
      " 9   Product_Type      9011 non-null   object\n",
      " 10  Character         8694 non-null   object\n",
      " 11  Fragrance_Family  8284 non-null   object\n",
      " 12  Size              8001 non-null   object\n",
      " 13  Year              7662 non-null   object\n",
      " 14  Ingredients       7506 non-null   object\n",
      " 15  Concentration     6897 non-null   object\n",
      " 16  Top_note          6134 non-null   object\n",
      " 17  Middle_note       5464 non-null   object\n",
      " 18  Base_note         3887 non-null   object\n",
      "dtypes: object(19)\n",
      "memory usage: 1.4+ MB\n"
     ]
    }
   ],
   "source": [
    "Perfumes_df.info()"
   ]
  },
  {
   "cell_type": "code",
   "execution_count": 372,
   "metadata": {},
   "outputs": [
    {
     "name": "stdout",
     "output_type": "stream",
     "text": [
      "This dataset contains: (9512, 19)\n"
     ]
    }
   ],
   "source": [
    "print(f'This dataset contains: {Perfumes_df.shape}')"
   ]
  },
  {
   "cell_type": "code",
   "execution_count": 373,
   "metadata": {},
   "outputs": [],
   "source": [
    "# I will drop Details column because it only contain lists of all the details which I have split them into columns  \n",
    "Perfumes_df.drop(\"Details\",  axis='columns', inplace=True)"
   ]
  },
  {
   "cell_type": "code",
   "execution_count": 374,
   "metadata": {},
   "outputs": [
    {
     "data": {
      "text/plain": [
       "(9512, 18)"
      ]
     },
     "execution_count": 374,
     "metadata": {},
     "output_type": "execute_result"
    }
   ],
   "source": [
    "# After droping we left with 18 columns\n",
    "Perfumes_df.shape"
   ]
  },
  {
   "cell_type": "code",
   "execution_count": 375,
   "metadata": {},
   "outputs": [
    {
     "data": {
      "text/plain": [
       "2926"
      ]
     },
     "execution_count": 375,
     "metadata": {},
     "output_type": "execute_result"
    }
   ],
   "source": [
    "# Removing Duplicate rows \n",
    "Perfumes_df.duplicated().sum()"
   ]
  },
  {
   "cell_type": "code",
   "execution_count": 695,
   "metadata": {},
   "outputs": [],
   "source": [
    "Perfumes_df.drop_duplicates(inplace=True)"
   ]
  },
  {
   "cell_type": "code",
   "execution_count": 696,
   "metadata": {},
   "outputs": [
    {
     "data": {
      "text/plain": [
       "(6566, 18)"
      ]
     },
     "execution_count": 696,
     "metadata": {},
     "output_type": "execute_result"
    }
   ],
   "source": [
    "#DataFrame size after droping duplicates\n",
    "Perfumes_df.shape"
   ]
  },
  {
   "cell_type": "markdown",
   "metadata": {},
   "source": [
    "### Cleaning Dataset"
   ]
  },
  {
   "cell_type": "markdown",
   "metadata": {},
   "source": [
    "- Brand Column "
   ]
  },
  {
   "cell_type": "code",
   "execution_count": 378,
   "metadata": {},
   "outputs": [
    {
     "name": "stdout",
     "output_type": "stream",
     "text": [
      "This dataset contain: 463\n"
     ]
    }
   ],
   "source": [
    "print(f'This dataset contain: {Perfumes_df.Brand.nunique()}')"
   ]
  },
  {
   "cell_type": "markdown",
   "metadata": {},
   "source": [
    "- Price Column "
   ]
  },
  {
   "cell_type": "code",
   "execution_count": 379,
   "metadata": {},
   "outputs": [],
   "source": [
    "if (Perfumes_df.Price == \"none\").any():\n",
    "    Perfumes_df.Price.replace(\"none\", 0, inplace=True)"
   ]
  },
  {
   "cell_type": "code",
   "execution_count": 380,
   "metadata": {},
   "outputs": [],
   "source": [
    "Perfumes_df['Price'] = Perfumes_df.Price.str.split(' ').str[0]"
   ]
  },
  {
   "cell_type": "code",
   "execution_count": 381,
   "metadata": {},
   "outputs": [],
   "source": [
    "Perfumes_df.Price = pd.to_numeric(Perfumes_df.Price)"
   ]
  },
  {
   "cell_type": "code",
   "execution_count": 382,
   "metadata": {},
   "outputs": [
    {
     "name": "stdout",
     "output_type": "stream",
     "text": [
      "6.0\n",
      "8193.0\n"
     ]
    }
   ],
   "source": [
    "print(Perfumes_df.Price.min())\n",
    "print(Perfumes_df.Price.max())\n"
   ]
  },
  {
   "cell_type": "markdown",
   "metadata": {},
   "source": [
    "- Description Column "
   ]
  },
  {
   "cell_type": "code",
   "execution_count": 383,
   "metadata": {},
   "outputs": [
    {
     "data": {
      "text/plain": [
       "45"
      ]
     },
     "execution_count": 383,
     "metadata": {},
     "output_type": "execute_result"
    }
   ],
   "source": [
    "Perfumes_df.Description.isnull().sum()"
   ]
  },
  {
   "cell_type": "markdown",
   "metadata": {},
   "source": [
    "- Size Column "
   ]
  },
  {
   "cell_type": "code",
   "execution_count": 384,
   "metadata": {},
   "outputs": [
    {
     "data": {
      "text/plain": [
       "100 ml                                            2149\n",
       "50 ml                                              882\n",
       "75 ml                                              319\n",
       "55 ml                                              149\n",
       "125 ml                                             148\n",
       "                                                  ... \n",
       "Peony Flower                                         1\n",
       "Flowers, Jasmine                                     1\n",
       "Apple, Cinnamon, Saffron, Sandalwood, Agarwood       1\n",
       "Cambodian Oud Oil                                    1\n",
       "Black tea, clary sage, guaiac wood                   1\n",
       "Name: Size, Length: 239, dtype: int64"
      ]
     },
     "execution_count": 384,
     "metadata": {},
     "output_type": "execute_result"
    }
   ],
   "source": [
    "# some columns have unrelevant data like size\n",
    "Perfumes_df.Size.value_counts()"
   ]
  },
  {
   "cell_type": "code",
   "execution_count": 385,
   "metadata": {},
   "outputs": [
    {
     "data": {
      "text/html": [
       "<div>\n",
       "<style scoped>\n",
       "    .dataframe tbody tr th:only-of-type {\n",
       "        vertical-align: middle;\n",
       "    }\n",
       "\n",
       "    .dataframe tbody tr th {\n",
       "        vertical-align: top;\n",
       "    }\n",
       "\n",
       "    .dataframe thead th {\n",
       "        text-align: right;\n",
       "    }\n",
       "</style>\n",
       "<table border=\"1\" class=\"dataframe\">\n",
       "  <thead>\n",
       "    <tr style=\"text-align: right;\">\n",
       "      <th></th>\n",
       "      <th>Name</th>\n",
       "      <th>Price</th>\n",
       "      <th>Description</th>\n",
       "      <th>Rate</th>\n",
       "      <th>Rating_count</th>\n",
       "      <th>image</th>\n",
       "      <th>Brand</th>\n",
       "      <th>Gender</th>\n",
       "      <th>Product_Type</th>\n",
       "      <th>Character</th>\n",
       "      <th>Fragrance_Family</th>\n",
       "      <th>Size</th>\n",
       "      <th>Year</th>\n",
       "      <th>Ingredients</th>\n",
       "      <th>Concentration</th>\n",
       "      <th>Top_note</th>\n",
       "      <th>Middle_note</th>\n",
       "      <th>Base_note</th>\n",
       "    </tr>\n",
       "  </thead>\n",
       "  <tbody>\n",
       "    <tr>\n",
       "      <th>143</th>\n",
       "      <td>Narciso Rodriguez For Her Hair Mist - 30 ml</td>\n",
       "      <td>207.0</td>\n",
       "      <td>Narciso Rodriguez Hair Mist for Her has a Flor...</td>\n",
       "      <td>none</td>\n",
       "      <td>none</td>\n",
       "      <td>https://assets.goldenscent.com/catalog/product...</td>\n",
       "      <td>30 ml</td>\n",
       "      <td>Narciso Rodriguez</td>\n",
       "      <td>Women</td>\n",
       "      <td>Hair Mist</td>\n",
       "      <td>Glamorous</td>\n",
       "      <td>Floral</td>\n",
       "      <td>Rose, Iris, Powdery, Musk</td>\n",
       "      <td>Rose</td>\n",
       "      <td>Iris, Powdery</td>\n",
       "      <td>Musk</td>\n",
       "      <td>NaN</td>\n",
       "      <td>NaN</td>\n",
       "    </tr>\n",
       "    <tr>\n",
       "      <th>435</th>\n",
       "      <td>Narciso Rodriguez Narciso Hair Mist - 30 ml</td>\n",
       "      <td>246.0</td>\n",
       "      <td>Narciso Rodriguez Narciso Hair Mist A light an...</td>\n",
       "      <td>none</td>\n",
       "      <td>none</td>\n",
       "      <td>https://assets.goldenscent.com/catalog/product...</td>\n",
       "      <td>30 ml</td>\n",
       "      <td>Narciso Rodriguez</td>\n",
       "      <td>Women</td>\n",
       "      <td>Hair Mist</td>\n",
       "      <td>Glamorous</td>\n",
       "      <td>Floral</td>\n",
       "      <td>Rose, Gardenia, Musk, Cedar, Vetiver</td>\n",
       "      <td>Rose, Gardenia</td>\n",
       "      <td>Musk</td>\n",
       "      <td>Cedar, Vetiver</td>\n",
       "      <td>NaN</td>\n",
       "      <td>NaN</td>\n",
       "    </tr>\n",
       "    <tr>\n",
       "      <th>639</th>\n",
       "      <td>Carolina Herrera Good Girl Hair Mist</td>\n",
       "      <td>225.0</td>\n",
       "      <td>Carolina Herrera Good Girl Hair Mist for Women...</td>\n",
       "      <td>5</td>\n",
       "      <td>1 Rating</td>\n",
       "      <td>https://assets.goldenscent.com/catalog/product...</td>\n",
       "      <td>30 ml</td>\n",
       "      <td>Carolina Herrera</td>\n",
       "      <td>Women</td>\n",
       "      <td>Hair Mist</td>\n",
       "      <td>Feminine</td>\n",
       "      <td>Floral</td>\n",
       "      <td>2017</td>\n",
       "      <td>Almond, Coffee, Jasmine Sambac, Tuberose, Tonk...</td>\n",
       "      <td>NaN</td>\n",
       "      <td>NaN</td>\n",
       "      <td>NaN</td>\n",
       "      <td>NaN</td>\n",
       "    </tr>\n",
       "    <tr>\n",
       "      <th>864</th>\n",
       "      <td>Paris Hilton Heiress Gift Set - EDP 100 ml + B...</td>\n",
       "      <td>295.0</td>\n",
       "      <td>Paris Hilton Heiress Gift Set consists of an E...</td>\n",
       "      <td>none</td>\n",
       "      <td>none</td>\n",
       "      <td>https://assets.goldenscent.com/catalog/product...</td>\n",
       "      <td>Eau de Parfum</td>\n",
       "      <td>Paris Hilton</td>\n",
       "      <td>Women</td>\n",
       "      <td>Perfume Set</td>\n",
       "      <td>Glamorous</td>\n",
       "      <td>Floral</td>\n",
       "      <td>2006</td>\n",
       "      <td>Passion Fruit, Orange, Juicy Peach, Mimosas An...</td>\n",
       "      <td>Passion Fruit, Orange, Juicy Peach, Mimosas An...</td>\n",
       "      <td>Star Jasmine, Tiare Lily, Delightfully Sweet Y...</td>\n",
       "      <td>Violet Leaf, Tahiti Tonka And Light Wood</td>\n",
       "      <td>NaN</td>\n",
       "    </tr>\n",
       "    <tr>\n",
       "      <th>1063</th>\n",
       "      <td>Givenchy L'interdit Set (EDT 50 ml + Body Loti...</td>\n",
       "      <td>369.0</td>\n",
       "      <td>This set from Givenchy includes a 50 ml EDT an...</td>\n",
       "      <td>none</td>\n",
       "      <td>none</td>\n",
       "      <td>https://assets.goldenscent.com/catalog/product...</td>\n",
       "      <td>Eau de Toilette</td>\n",
       "      <td>Givenchy</td>\n",
       "      <td>Women</td>\n",
       "      <td>Perfume Set</td>\n",
       "      <td>Sophisticated</td>\n",
       "      <td>Floral</td>\n",
       "      <td>2018</td>\n",
       "      <td>Pear, Bergamot, Tuberose, Orange Blossom, Jasm...</td>\n",
       "      <td>Pear, Bergamot</td>\n",
       "      <td>Tuberose, Orange Blossom, Jasmine Sambac</td>\n",
       "      <td>Patchouli, Vetiver, Vanilla</td>\n",
       "      <td>NaN</td>\n",
       "    </tr>\n",
       "    <tr>\n",
       "      <th>...</th>\n",
       "      <td>...</td>\n",
       "      <td>...</td>\n",
       "      <td>...</td>\n",
       "      <td>...</td>\n",
       "      <td>...</td>\n",
       "      <td>...</td>\n",
       "      <td>...</td>\n",
       "      <td>...</td>\n",
       "      <td>...</td>\n",
       "      <td>...</td>\n",
       "      <td>...</td>\n",
       "      <td>...</td>\n",
       "      <td>...</td>\n",
       "      <td>...</td>\n",
       "      <td>...</td>\n",
       "      <td>...</td>\n",
       "      <td>...</td>\n",
       "      <td>...</td>\n",
       "    </tr>\n",
       "    <tr>\n",
       "      <th>8917</th>\n",
       "      <td>Exuma Parfums Body Mist Profumo Rosa - 100 ml</td>\n",
       "      <td>276.0</td>\n",
       "      <td>A perfect body mist full of oriental scents an...</td>\n",
       "      <td>none</td>\n",
       "      <td>none</td>\n",
       "      <td>none</td>\n",
       "      <td>100 ml</td>\n",
       "      <td>Exuma Parfums</td>\n",
       "      <td>Women</td>\n",
       "      <td>Body Mist</td>\n",
       "      <td>Sensual</td>\n",
       "      <td>Floral</td>\n",
       "      <td>2018</td>\n",
       "      <td>NaN</td>\n",
       "      <td>NaN</td>\n",
       "      <td>NaN</td>\n",
       "      <td>NaN</td>\n",
       "      <td>NaN</td>\n",
       "    </tr>\n",
       "    <tr>\n",
       "      <th>8946</th>\n",
       "      <td>Al Dakheel Oud Dream 3 Body Mist - 100 ml</td>\n",
       "      <td>46.0</td>\n",
       "      <td>A wonderful body mist enriched with an enchant...</td>\n",
       "      <td>none</td>\n",
       "      <td>none</td>\n",
       "      <td>none</td>\n",
       "      <td>100 ml</td>\n",
       "      <td>Al Dakheel Oud</td>\n",
       "      <td>Unisex</td>\n",
       "      <td>Body Mist</td>\n",
       "      <td>Sensual</td>\n",
       "      <td>Floral</td>\n",
       "      <td>NaN</td>\n",
       "      <td>NaN</td>\n",
       "      <td>NaN</td>\n",
       "      <td>NaN</td>\n",
       "      <td>NaN</td>\n",
       "      <td>NaN</td>\n",
       "    </tr>\n",
       "    <tr>\n",
       "      <th>8954</th>\n",
       "      <td>Al Dakheel Oud Crown Body Mist - 100 ml</td>\n",
       "      <td>46.0</td>\n",
       "      <td>An amazing body mist with a charming and refre...</td>\n",
       "      <td>none</td>\n",
       "      <td>none</td>\n",
       "      <td>none</td>\n",
       "      <td>100 ml</td>\n",
       "      <td>Al Dakheel Oud</td>\n",
       "      <td>Unisex</td>\n",
       "      <td>Body Mist</td>\n",
       "      <td>Sensual</td>\n",
       "      <td>Floral</td>\n",
       "      <td>Tangerine, Jasmine</td>\n",
       "      <td>Oriental Roses</td>\n",
       "      <td>Vanilla, Patchouli, Musk</td>\n",
       "      <td>NaN</td>\n",
       "      <td>NaN</td>\n",
       "      <td>NaN</td>\n",
       "    </tr>\n",
       "    <tr>\n",
       "      <th>9184</th>\n",
       "      <td>Narciso Rodriguez For Her Hair Mist - 30 ml</td>\n",
       "      <td>207.0</td>\n",
       "      <td>Narciso Rodriguez Hair Mist for Her has a Flor...</td>\n",
       "      <td>none</td>\n",
       "      <td>none</td>\n",
       "      <td>https://assets.goldenscent.com/catalog/product...</td>\n",
       "      <td>30 ml</td>\n",
       "      <td>Narciso Rodriguez</td>\n",
       "      <td>Women</td>\n",
       "      <td>Hair Mist</td>\n",
       "      <td>Glamorous</td>\n",
       "      <td>Floral</td>\n",
       "      <td>Rose, Iris, Powdery, Musk</td>\n",
       "      <td>Rose</td>\n",
       "      <td>Iris, Powdery</td>\n",
       "      <td>Musk</td>\n",
       "      <td>NaN</td>\n",
       "      <td>NaN</td>\n",
       "    </tr>\n",
       "    <tr>\n",
       "      <th>9476</th>\n",
       "      <td>Narciso Rodriguez Narciso Hair Mist - 30 ml</td>\n",
       "      <td>246.0</td>\n",
       "      <td>Narciso Rodriguez Narciso Hair Mist A light an...</td>\n",
       "      <td>none</td>\n",
       "      <td>none</td>\n",
       "      <td>https://assets.goldenscent.com/catalog/product...</td>\n",
       "      <td>30 ml</td>\n",
       "      <td>Narciso Rodriguez</td>\n",
       "      <td>Women</td>\n",
       "      <td>Hair Mist</td>\n",
       "      <td>Glamorous</td>\n",
       "      <td>Floral</td>\n",
       "      <td>Rose, Gardenia, Musk, Cedar, Vetiver</td>\n",
       "      <td>Rose, Gardenia</td>\n",
       "      <td>Musk</td>\n",
       "      <td>Cedar, Vetiver</td>\n",
       "      <td>NaN</td>\n",
       "      <td>NaN</td>\n",
       "    </tr>\n",
       "  </tbody>\n",
       "</table>\n",
       "<p>141 rows × 18 columns</p>\n",
       "</div>"
      ],
      "text/plain": [
       "                                                   Name  Price  \\\n",
       "143         Narciso Rodriguez For Her Hair Mist - 30 ml  207.0   \n",
       "435         Narciso Rodriguez Narciso Hair Mist - 30 ml  246.0   \n",
       "639                Carolina Herrera Good Girl Hair Mist  225.0   \n",
       "864   Paris Hilton Heiress Gift Set - EDP 100 ml + B...  295.0   \n",
       "1063  Givenchy L'interdit Set (EDT 50 ml + Body Loti...  369.0   \n",
       "...                                                 ...    ...   \n",
       "8917      Exuma Parfums Body Mist Profumo Rosa - 100 ml  276.0   \n",
       "8946          Al Dakheel Oud Dream 3 Body Mist - 100 ml   46.0   \n",
       "8954            Al Dakheel Oud Crown Body Mist - 100 ml   46.0   \n",
       "9184        Narciso Rodriguez For Her Hair Mist - 30 ml  207.0   \n",
       "9476        Narciso Rodriguez Narciso Hair Mist - 30 ml  246.0   \n",
       "\n",
       "                                            Description  Rate Rating_count  \\\n",
       "143   Narciso Rodriguez Hair Mist for Her has a Flor...  none         none   \n",
       "435   Narciso Rodriguez Narciso Hair Mist A light an...  none         none   \n",
       "639   Carolina Herrera Good Girl Hair Mist for Women...     5     1 Rating   \n",
       "864   Paris Hilton Heiress Gift Set consists of an E...  none         none   \n",
       "1063  This set from Givenchy includes a 50 ml EDT an...  none         none   \n",
       "...                                                 ...   ...          ...   \n",
       "8917  A perfect body mist full of oriental scents an...  none         none   \n",
       "8946  A wonderful body mist enriched with an enchant...  none         none   \n",
       "8954  An amazing body mist with a charming and refre...  none         none   \n",
       "9184  Narciso Rodriguez Hair Mist for Her has a Flor...  none         none   \n",
       "9476  Narciso Rodriguez Narciso Hair Mist A light an...  none         none   \n",
       "\n",
       "                                                  image            Brand  \\\n",
       "143   https://assets.goldenscent.com/catalog/product...            30 ml   \n",
       "435   https://assets.goldenscent.com/catalog/product...            30 ml   \n",
       "639   https://assets.goldenscent.com/catalog/product...            30 ml   \n",
       "864   https://assets.goldenscent.com/catalog/product...    Eau de Parfum   \n",
       "1063  https://assets.goldenscent.com/catalog/product...  Eau de Toilette   \n",
       "...                                                 ...              ...   \n",
       "8917                                               none           100 ml   \n",
       "8946                                               none           100 ml   \n",
       "8954                                               none           100 ml   \n",
       "9184  https://assets.goldenscent.com/catalog/product...            30 ml   \n",
       "9476  https://assets.goldenscent.com/catalog/product...            30 ml   \n",
       "\n",
       "                 Gender Product_Type    Character Fragrance_Family    Size  \\\n",
       "143   Narciso Rodriguez        Women    Hair Mist        Glamorous  Floral   \n",
       "435   Narciso Rodriguez        Women    Hair Mist        Glamorous  Floral   \n",
       "639    Carolina Herrera        Women    Hair Mist         Feminine  Floral   \n",
       "864        Paris Hilton        Women  Perfume Set        Glamorous  Floral   \n",
       "1063           Givenchy        Women  Perfume Set    Sophisticated  Floral   \n",
       "...                 ...          ...          ...              ...     ...   \n",
       "8917      Exuma Parfums        Women    Body Mist          Sensual  Floral   \n",
       "8946     Al Dakheel Oud       Unisex    Body Mist          Sensual  Floral   \n",
       "8954     Al Dakheel Oud       Unisex    Body Mist          Sensual  Floral   \n",
       "9184  Narciso Rodriguez        Women    Hair Mist        Glamorous  Floral   \n",
       "9476  Narciso Rodriguez        Women    Hair Mist        Glamorous  Floral   \n",
       "\n",
       "                                      Year  \\\n",
       "143              Rose, Iris, Powdery, Musk   \n",
       "435   Rose, Gardenia, Musk, Cedar, Vetiver   \n",
       "639                                   2017   \n",
       "864                                   2006   \n",
       "1063                                  2018   \n",
       "...                                    ...   \n",
       "8917                                  2018   \n",
       "8946                                   NaN   \n",
       "8954                    Tangerine, Jasmine   \n",
       "9184             Rose, Iris, Powdery, Musk   \n",
       "9476  Rose, Gardenia, Musk, Cedar, Vetiver   \n",
       "\n",
       "                                            Ingredients  \\\n",
       "143                                                Rose   \n",
       "435                                      Rose, Gardenia   \n",
       "639   Almond, Coffee, Jasmine Sambac, Tuberose, Tonk...   \n",
       "864   Passion Fruit, Orange, Juicy Peach, Mimosas An...   \n",
       "1063  Pear, Bergamot, Tuberose, Orange Blossom, Jasm...   \n",
       "...                                                 ...   \n",
       "8917                                                NaN   \n",
       "8946                                                NaN   \n",
       "8954                                     Oriental Roses   \n",
       "9184                                               Rose   \n",
       "9476                                     Rose, Gardenia   \n",
       "\n",
       "                                          Concentration  \\\n",
       "143                                       Iris, Powdery   \n",
       "435                                                Musk   \n",
       "639                                                 NaN   \n",
       "864   Passion Fruit, Orange, Juicy Peach, Mimosas An...   \n",
       "1063                                     Pear, Bergamot   \n",
       "...                                                 ...   \n",
       "8917                                                NaN   \n",
       "8946                                                NaN   \n",
       "8954                           Vanilla, Patchouli, Musk   \n",
       "9184                                      Iris, Powdery   \n",
       "9476                                               Musk   \n",
       "\n",
       "                                               Top_note  \\\n",
       "143                                                Musk   \n",
       "435                                      Cedar, Vetiver   \n",
       "639                                                 NaN   \n",
       "864   Star Jasmine, Tiare Lily, Delightfully Sweet Y...   \n",
       "1063           Tuberose, Orange Blossom, Jasmine Sambac   \n",
       "...                                                 ...   \n",
       "8917                                                NaN   \n",
       "8946                                                NaN   \n",
       "8954                                                NaN   \n",
       "9184                                               Musk   \n",
       "9476                                     Cedar, Vetiver   \n",
       "\n",
       "                                   Middle_note Base_note  \n",
       "143                                        NaN       NaN  \n",
       "435                                        NaN       NaN  \n",
       "639                                        NaN       NaN  \n",
       "864   Violet Leaf, Tahiti Tonka And Light Wood       NaN  \n",
       "1063               Patchouli, Vetiver, Vanilla       NaN  \n",
       "...                                        ...       ...  \n",
       "8917                                       NaN       NaN  \n",
       "8946                                       NaN       NaN  \n",
       "8954                                       NaN       NaN  \n",
       "9184                                       NaN       NaN  \n",
       "9476                                       NaN       NaN  \n",
       "\n",
       "[141 rows x 18 columns]"
      ]
     },
     "execution_count": 385,
     "metadata": {},
     "output_type": "execute_result"
    }
   ],
   "source": [
    "Perfumes_df[Perfumes_df.Size == \"Floral\"]"
   ]
  },
  {
   "cell_type": "code",
   "execution_count": 386,
   "metadata": {},
   "outputs": [],
   "source": [
    "# replacing Floral with the size Stored in Brand columns \n",
    "Perfumes_df['Size'] = np.where(Perfumes_df['Size'] == \"Floral\", Perfumes_df['Brand'], Perfumes_df['Size'])"
   ]
  },
  {
   "cell_type": "code",
   "execution_count": 387,
   "metadata": {},
   "outputs": [
    {
     "data": {
      "text/plain": [
       "100 ml                                            2156\n",
       "50 ml                                              883\n",
       "75 ml                                              319\n",
       "55 ml                                              149\n",
       "125 ml                                             148\n",
       "                                                  ... \n",
       "Sage and Saffron                                     1\n",
       "Peony Flower                                         1\n",
       "Flowers, Jasmine                                     1\n",
       "Apple, Cinnamon, Saffron, Sandalwood, Agarwood       1\n",
       "Black tea, clary sage, guaiac wood                   1\n",
       "Name: Size, Length: 240, dtype: int64"
      ]
     },
     "execution_count": 387,
     "metadata": {},
     "output_type": "execute_result"
    }
   ],
   "source": [
    "Perfumes_df.Size.value_counts()"
   ]
  },
  {
   "cell_type": "code",
   "execution_count": 388,
   "metadata": {},
   "outputs": [],
   "source": [
    "#Perfumes_df[Perfumes_df.Size == \"Tunisian Neroli Oil,Bulgarian Rose, Turkish Rose,Indonesian Patchouli\"]\n",
    "if (Perfumes_df.Size == \"Tunisian Neroli Oil,Bulgarian Rose, Turkish Rose,Indonesian Patchouli\").any():\n",
    "    Perfumes_df.Fragrance_Family.replace(\"100 ml\", \"NaN\", inplace=True)\n",
    "    Perfumes_df.Size.replace(\"Tunisian Neroli Oil,Bulgarian Rose, Turkish Rose,Indonesian Patchouli\", \"100 ml\", inplace=True)\n",
    "    Perfumes_df.Year.replace(\"Eau de Toilette\", \"NaN\", inplace=True)\n",
    "    Perfumes_df.Ingredients.replace(\"Tunisian Neroli Oil\", \"Tunisian Neroli Oil,Bulgarian Rose, Turkish Rose,Indonesian Patchouli\", inplace=True)\n",
    "    Perfumes_df.Concentration.replace(\"Bulgarian Rose, Turkish Rose\", \"Eau de Toilette\", inplace=True)\n",
    "    Perfumes_df.Top_note.replace(\"Indonesian Patchouli\", \"Tunisian Neroli Oil\", inplace=True)\n",
    "    Perfumes_df.Middle_note.fillna(\"Bulgarian Rose, Turkish Rose\", inplace=True)\n",
    "    Perfumes_df.Base_note.fillna(\"Indonesian Patchouli\", inplace=True)"
   ]
  },
  {
   "cell_type": "code",
   "execution_count": 389,
   "metadata": {},
   "outputs": [
    {
     "data": {
      "text/plain": [
       "100 ml                                            2157\n",
       "50 ml                                              883\n",
       "75 ml                                              319\n",
       "55 ml                                              149\n",
       "125 ml                                             148\n",
       "                                                  ... \n",
       "Orange, Saffron, Caramel                             1\n",
       "Bergamot, Pear, Pink peppers, Maryam's incense       1\n",
       "Grapefruit ,Guava                                    1\n",
       "Sage and Saffron                                     1\n",
       "Black tea, clary sage, guaiac wood                   1\n",
       "Name: Size, Length: 239, dtype: int64"
      ]
     },
     "execution_count": 389,
     "metadata": {},
     "output_type": "execute_result"
    }
   ],
   "source": [
    "Perfumes_df.Size.value_counts()"
   ]
  },
  {
   "cell_type": "code",
   "execution_count": 390,
   "metadata": {},
   "outputs": [],
   "source": [
    "if (Perfumes_df.Size == \"Eau Fraiche\").any():\n",
    "    Perfumes_df.Brand.replace(\"Eau Fraiche\", \"Chanel\", inplace=True)\n",
    "    Perfumes_df.Gender.replace(\"Chanel\", \"Women\", inplace=True)\n",
    "    Perfumes_df.Product_Type.replace(\"Women\",\"Perfume Set\", inplace=True)\n",
    "    Perfumes_df.Character.replace(\"Perfume Set\", \"Sensual\", inplace=True)\n",
    "    Perfumes_df.Fragrance_Family.replace(\"Sensual\", \"Floral\", inplace=True)\n",
    "    Perfumes_df.Size.replace(\"Eau Fraiche\", \"NaN\", inplace=True)\n",
    "    Perfumes_df.Year.replace(\"Citron, jasmine, teak\", \"NaN\", inplace=True)\n",
    "    Perfumes_df.Ingredients.replace(\"-\", \"Citron, jasmine, teak\", inplace=True)\n",
    "    Perfumes_df.Concentration.replace(\"-\", \"NaN\", inplace=True)\n",
    "    Perfumes_df.Middle_note.replace(\"Bulgarian Rose, Turkish Rose\", \"NaN\", inplace=True)\n",
    "    Perfumes_df.Base_note.replace(\"Indonesian Patchouli\", \"NaN\", inplace=True)\n",
    "\n",
    "\n",
    "#Perfumes_df['Size'].replace(\"Eau Fraiche\", \"NaN\", inplace=True)"
   ]
  },
  {
   "cell_type": "code",
   "execution_count": 391,
   "metadata": {},
   "outputs": [],
   "source": [
    "if (Perfumes_df.Size == \"citron,teak wood, jasmine.\").any():\n",
    "    Perfumes_df.Size.replace(\"citron,teak wood, jasmine.\", \"35 ml\", inplace=True)\n",
    "    Perfumes_df.Year.replace(\"citron\", \"NaN\", inplace=True)\n",
    "    Perfumes_df.Ingredients.replace(\"teak wood\", \"citron,teak wood, jasmine\", inplace=True)\n",
    "    Perfumes_df.Top_note.replace(\"35 ml\", \"citron\", inplace=True)\n",
    "    Perfumes_df.Concentration.replace(\"jasmine\", \"NaN\", inplace=True)\n",
    "    Perfumes_df.Middle_note.fillna(\"teak wood\", inplace=True)\n",
    "    Perfumes_df.Base_note.fillna(\"jasmine\", inplace=True)\n"
   ]
  },
  {
   "cell_type": "code",
   "execution_count": 392,
   "metadata": {},
   "outputs": [],
   "source": [
    "if (Perfumes_df.Size == \"grapefruit, quince, jasmine, white musk.\").any():\n",
    "    Perfumes_df.Size.replace(\"grapefruit, quince, jasmine, white musk.\", \"NaN\", inplace=True)\n",
    "    Perfumes_df.Year.replace(\"grapefruit\", \"NaN\", inplace=True)\n",
    "    Perfumes_df.Ingredients.replace(\"quince, jasmine\", \"grapefruit, quince, jasmine, white musk\", inplace=True)\n",
    "    Perfumes_df.Concentration.replace(\"white musk.\", \"NaN\", inplace=True)\n",
    "    Perfumes_df.Top_note.replace(\"citron\",\"grapefruit\", inplace=True)\n",
    "    Perfumes_df.Middle_note.fillna(\"quince, jasmine\", inplace=True)\n",
    "    Perfumes_df.Base_note.fillna(\"white musk\", inplace=True)\n",
    "    Perfumes_df.Concentration.replace(\"white musk.\", \"NaN\", inplace=True)"
   ]
  },
  {
   "cell_type": "code",
   "execution_count": 393,
   "metadata": {},
   "outputs": [],
   "source": [
    "if (Perfumes_df.Size == \"-\").any():\n",
    "    Perfumes_df.Size.replace(\"-\", \"35 ml\", inplace=True)\n",
    "    Perfumes_df.Year.replace(\"Vanilla, Honey, Lemon, Jasmine, Mandarin, Magnolia, Passionfruit, Bergamot, Amber, Sandalwood, Patchouli\", \"NaN\", inplace=True)\n",
    "    Perfumes_df.Ingredients.replace(\"Citron, jasmine, teak\", \"Vanilla, Honey, Lemon, Jasmine, Mandarin, Magnolia, Passionfruit, Bergamot, Amber, Sandalwood, Patchouli\", inplace=True)\n",
    "    Perfumes_df.Top_note.replace(\"-\", \"Vanilla, Honey, Lemon, Jasmine\", inplace=True)\n",
    "    Perfumes_df.Middle_note.replace(\"35 ml\", \"Mandarin, Magnolia, Passionfruit, Bergamot\", inplace=True)\n",
    "    Perfumes_df.Base_note.fillna(\"Amber, Sandalwood, Patchouli\", inplace=True)"
   ]
  },
  {
   "cell_type": "code",
   "execution_count": 394,
   "metadata": {},
   "outputs": [],
   "source": [
    "if (Perfumes_df.Size == \"Modern\").any():\n",
    "    Perfumes_df.Size.replace(\"Modern\", \"75 ml\", inplace=True)\n",
    "    Perfumes_df.Year.replace(\"Floral\", \"2013\", inplace=True)\n",
    "    Perfumes_df.Ingredients.replace(\"2013\", \"Black violets, saffron, honey, lavender, cedar\", inplace=True)\n",
    "    Perfumes_df.Gender.replace(\"Eau de Toilette\", \"Men\", inplace=True)\n",
    "    Perfumes_df.Brand.replace(\"75 ml\", \"Roberto Cavalli\", inplace=True)\n",
    "    Perfumes_df.Character.replace(\"Men\", \"Modern\", inplace=True)\n",
    "    Perfumes_df.Concentration.replace(\"Black violets, saffron, honey, lavender, cedar\", \"Eau de Toilette\", inplace=True)\n",
    "    Perfumes_df.Product_Type.replace(\"Roberto Cavalli\", \"Perfume Set\", inplace=True)\n",
    "    Perfumes_df.Fragrance_Family.replace(\"Perfume Set\", \"Floral\", inplace=True)"
   ]
  },
  {
   "cell_type": "code",
   "execution_count": 395,
   "metadata": {},
   "outputs": [],
   "source": [
    "if (Perfumes_df.Size == \"Ginger, Bergamot, Orange\").any():\n",
    "    Perfumes_df.Size.replace(\"Ginger, Bergamot, Orange\", \"100 ml\", inplace=True)\n",
    "    Perfumes_df.Year.replace(\"Gardenia, Orange blossom\", \"NaN\", inplace=True)\n",
    "    Perfumes_df.Gender.replace(\"Eau de Parfum\", \"Women\", inplace=True)\n",
    "    Perfumes_df.Brand.replace(\"100 ml\", \"Valentino\", inplace=True)\n",
    "    Perfumes_df.Character.replace(\"Women\", \"NaN\", inplace=True)\n",
    "    Perfumes_df.Product_Type.replace(\"Valentino\", \"NaN\", inplace=True)\n",
    "    Perfumes_df.Ingredients.fillna(\"Oakmoss, Sandalwood, Musk, Tonka Bean, Vanilla\", inplace=True)\n",
    "    Perfumes_df.Top_note.fillna(\"Ginger, Bergamot, Orange\", inplace=True)\n",
    "    Perfumes_df.Middle_note.fillna(\"Gardenia, Orange blossom\", inplace=True)\n",
    "    Perfumes_df.Base_note.fillna(\"Oakmoss, Sandalwood, Musk, Tonka Bean, Vanilla\", inplace=True)\n"
   ]
  },
  {
   "cell_type": "code",
   "execution_count": 396,
   "metadata": {},
   "outputs": [],
   "source": [
    "if (Perfumes_df.Size == \"Peony Flower\").any():\n",
    "    Perfumes_df.Brand.replace(\"200 ml\", \"Al Majed For Oud\", inplace=True)\n",
    "    Perfumes_df.Gender.replace(\"Al Majed For Oud\", \"NaN\", inplace=True)\n",
    "    Perfumes_df.Size.replace(\"Peony Flower\", \"200 ml\", inplace=True)\n",
    "    Perfumes_df.Year.replace(\"Caramel\", \"NaN\", inplace=True)\n",
    "    Perfumes_df.Ingredients.replace(\"vanilla\", \"Caramel, Vanilla\", inplace=True)\n",
    "    Perfumes_df.Top_note.replace(\"Ginger, Bergamot, Orange\", \"NaN\", inplace=True)"
   ]
  },
  {
   "cell_type": "code",
   "execution_count": 397,
   "metadata": {},
   "outputs": [],
   "source": [
    "if (Perfumes_df.Product_Type == \"Room Spray\").any():\n",
    "    Perfumes_df.Size.fillna(\"200 ml\", inplace=True)"
   ]
  },
  {
   "cell_type": "code",
   "execution_count": 398,
   "metadata": {},
   "outputs": [],
   "source": [
    "if (Perfumes_df.Size == \"Flowers, Jasmine\").any():\n",
    "    Perfumes_df.Size.replace(\"Flowers, Jasmine\", \"200 ml\", inplace=True)\n",
    "    Perfumes_df.Year.replace(\"Citrus\", \"NaN\" , inplace=True)\n",
    "    Perfumes_df.Ingredients.replace(\"Musk\", \"Flowers, Jasmine, Citrus, Musk\", inplace=True)\n"
   ]
  },
  {
   "cell_type": "code",
   "execution_count": 399,
   "metadata": {},
   "outputs": [],
   "source": [
    "if (Perfumes_df.Size == \"Black tea, clary sage, guaiac wood\").any():\n",
    "    Perfumes_df.Brand.replace(\"300 ml\",\"Zenology\", inplace=True)\n",
    "    Perfumes_df.Gender.replace(\"Zenology\",\"NaN\", inplace=True)\n",
    "    Perfumes_df.Size.replace(\"Black tea, clary sage, guaiac wood\",\"300 ml\", inplace=True)\n",
    "    Perfumes_df.Ingredients.replace(\"Oakmoss, Sandalwood, Musk, Tonka Bean, Vanilla\",\"Black tea, clary sage, guaiac wood\", inplace=True)\n"
   ]
  },
  {
   "cell_type": "code",
   "execution_count": 400,
   "metadata": {},
   "outputs": [],
   "source": [
    "if (Perfumes_df.Size == \"Alcohol, Propylene Glycol, Aqua (Water), Palmitic Acid, Stearic Acid, Ethylhexylglycerin, Parfum (Fragrance), Sodium Hydroxide, Hamamelis Virginiana (Witch Hazel) Water, Menthyl Lactate, Phenoxyethurate Extract, Salvia Office (SAGE) Leaf Extract, BHT, toc\").any():\n",
    "    Perfumes_df.Brand.replace(\"Eau de Parfum\",\"Loewe\", inplace=True)\n",
    "    Perfumes_df.Gender.replace(\"Loewe\", \"Men\", inplace=True)\n",
    "    Perfumes_df.Product_Type.replace(\"Men\", \"Perfume Set\", inplace=True)\n",
    "    Perfumes_df.Size.replace(\"Alcohol, Propylene Glycol, Aqua (Water), Palmitic Acid, Stearic Acid, Ethylhexylglycerin, Parfum (Fragrance), Sodium Hydroxide, Hamamelis Virginiana (Witch Hazel) Water, Menthyl Lactate, Phenoxyethurate Extract, Salvia Office (SAGE) Leaf Extract, BHT, toc\", \"100 ml\", inplace=True)\n",
    "    Perfumes_df.Year.replace(\"Bergamot, Lemon, Tarragon\", \"NaN\", inplace=True)\n",
    "    Perfumes_df.Ingredients.replace(\"Lavender, Geranium, Nutmeg\", \"Alcohol, Propylene Glycol, Aqua (Water), Palmitic Acid, Stearic Acid, Ethylhexylglycerin, Parfum (Fragrance), Sodium Hydroxide, Hamamelis Virginiana (Witch Hazel) Water, Menthyl Lactate, Phenoxyethurate Extract, Salvia Office (SAGE) Leaf Extract, BHT, toc\", inplace=True)\n",
    "    Perfumes_df.Concentration.replace(\"Sandalwood, Amber, Musk, Vetiver\", \"NaN\", inplace=True)\n",
    "    Perfumes_df.Top_note.fillna(\"Bergamot, Lemon, Tarragon\", inplace=True)\n",
    "    Perfumes_df.Middle_note.fillna(\"Lavender, Geranium, Nutmeg\", inplace=True)\n",
    "    Perfumes_df.Base_note.fillna(\"Sandalwood, Amber, Musk, Vetiver\", inplace=True)"
   ]
  },
  {
   "cell_type": "code",
   "execution_count": 401,
   "metadata": {},
   "outputs": [],
   "source": [
    "if (Perfumes_df.Size == \"Ozone Notes, Passion Fruit, Agarwood, Amber\").any():\n",
    "    Perfumes_df.Fragrance_Family.replace(\"75 ml\", \"NaN\", inplace=True)\n",
    "    Perfumes_df.Size.replace(\"Ozone Notes, Passion Fruit, Agarwood, Amber\", \"75 ml\", inplace=True)\n",
    "    Perfumes_df.Year.replace(\"Eau de Parfum\", \"NaN\", inplace=True)\n",
    "    Perfumes_df.Ingredients.replace(\"Black tea, clary sage, guaiac wood\", \"Ozone Notes, Passion Fruit, Agarwood, Amber\", inplace=True)"
   ]
  },
  {
   "cell_type": "code",
   "execution_count": 402,
   "metadata": {},
   "outputs": [
    {
     "data": {
      "text/plain": [
       "100 ml                                            2159\n",
       "200 ml                                            1301\n",
       "50 ml                                              883\n",
       "75 ml                                              321\n",
       "55 ml                                              149\n",
       "                                                  ... \n",
       "14 ml                                                1\n",
       "Orange, Saffron, Caramel                             1\n",
       "Bergamot, Pear, Pink peppers, Maryam's incense       1\n",
       "Grapefruit ,Guava                                    1\n",
       "Amber, geranium, precious spices, dark woods         1\n",
       "Name: Size, Length: 229, dtype: int64"
      ]
     },
     "execution_count": 402,
     "metadata": {},
     "output_type": "execute_result"
    }
   ],
   "source": [
    "Perfumes_df.Size.value_counts()"
   ]
  },
  {
   "cell_type": "code",
   "execution_count": 403,
   "metadata": {},
   "outputs": [],
   "source": [
    "if (Perfumes_df.Size == \"Orange, Saffron, Caramel\").any():\n",
    "    Perfumes_df.Size.replace(\"Orange, Saffron, Caramel\", \"200 ml\", inplace=True)\n",
    "    Perfumes_df.Year.replace(\"Dry amber\", \"NaN\", inplace=True)    \n",
    "    Perfumes_df.Ingredients.replace(\"Vanilla, lavender\", \"NaN\", inplace=True)\n",
    "    Perfumes_df.Top_note.replace(\"NaN\", \"Orange, Saffron, Caramel\", inplace=True)\n",
    "    Perfumes_df.Middle_note.replace(\"NaN\", \"Dry amber\", inplace=True)\n",
    "    Perfumes_df.Base_note.replace(\"NaN\",\"Vanilla, lavender\", inplace=True)"
   ]
  },
  {
   "cell_type": "code",
   "execution_count": 404,
   "metadata": {},
   "outputs": [],
   "source": [
    "if (Perfumes_df.Size == \"Bergamot, Pear, Pink peppers, Maryam's incense\").any():\n",
    "    Perfumes_df.Size.replace(\"Bergamot, Pear, Pink peppers, Maryam's incense\", \"200 ml\", inplace=True)\n",
    "    Perfumes_df.Year.replace(\"Flower of Fawanya, Bulgarian Rose, Frisia Flower, Jasmine\", \"NaN\", inplace=True)\n",
    "    Perfumes_df.Ingredients.replace(\"Perfume of honey, Amber, Patchouli\", \"Bergamot, Pear, Pink peppers, Maryam's incense,Flower of Fawanya, Bulgarian Rose, Frisia Flower, Jasmine, honey, Amber, Patchouli\", inplace=True)\n",
    "    Perfumes_df.Top_note.replace(\"NaN\", \"Bergamot, Pear, Pink peppers, Maryam's incense\", inplace=True)\n",
    "    Perfumes_df.Middle_note.replace(\"NaN\", \"Flower of Fawanya, Bulgarian Rose, Frisia Flower, Jasmine\", inplace=True)\n",
    "    Perfumes_df.Base_note.replace(\"NaN\", \"Perfume of honey, Amber, Patchouli\", inplace=True)"
   ]
  },
  {
   "cell_type": "code",
   "execution_count": 405,
   "metadata": {},
   "outputs": [],
   "source": [
    "if (Perfumes_df.Size == \"Grapefruit ,Guava\").any():\n",
    "    Perfumes_df.Size.replace(\"Grapefruit ,Guava\", \"200 ml\", inplace=True)\n",
    "    Perfumes_df.Ingredients.replace(\"Pineapple, Rose, Fawanya\", \"Pineapple, Rose, Fawanya,Dry amber,Pineapple, Rose, Fawanya\", inplace=True)\n",
    "    Perfumes_df.Top_note.replace(\"Orange, Saffron, Caramel\", \"Grapefruit ,Guava\", inplace=True)\n",
    "    Perfumes_df.Base_note.replace(\"Vanilla, lavender\", \"Pineapple, Rose, Fawanya\", inplace=True)\n",
    "\n"
   ]
  },
  {
   "cell_type": "code",
   "execution_count": 406,
   "metadata": {},
   "outputs": [],
   "source": [
    "if (Perfumes_df.Size == \"Amber, geranium, precious spices, dark woods\").any():\n",
    "    Perfumes_df.Size.replace(\"Amber, geranium, precious spices, dark woods\", \"300 ml\", inplace=True)\n",
    "    Perfumes_df.Ingredients.replace(\"Ozone Notes, Passion Fruit, Agarwood, Amber\", \"Amber, geranium, precious spices, dark woods\", inplace=True)\n",
    "    Perfumes_df.Top_note.replace(\"Grapefruit ,Guava\", \"NaN\", inplace=True)\n",
    "    Perfumes_df.Middle_note.replace(\"Dry amber\", \"NaN\", inplace=True)\n",
    "    Perfumes_df.Base_note.replace(\"Pineapple, Rose, Fawanya\", \"NaN\", inplace=True)\n"
   ]
  },
  {
   "cell_type": "code",
   "execution_count": 407,
   "metadata": {},
   "outputs": [],
   "source": [
    "if (Perfumes_df.Size == \"Apple, Cinnamon, Saffron, Sandalwood, Agarwood\").any():\n",
    "    Perfumes_df.Fragrance_Family.replace(\"12 ml\", \"NaN\", inplace=True)\n",
    "    Perfumes_df.Size.replace(\"Apple, Cinnamon, Saffron, Sandalwood, Agarwood\", \"12 ml\",inplace=True )\n",
    "    Perfumes_df.Ingredients.replace(\"Amber, geranium, precious spices, dark woods\", \"Apple, Cinnamon, Saffron, Sandalwood, Agarwood\", inplace=True)\n"
   ]
  },
  {
   "cell_type": "code",
   "execution_count": 408,
   "metadata": {},
   "outputs": [
    {
     "data": {
      "text/plain": [
       "100 ml                                                             2159\n",
       "200 ml                                                             1304\n",
       "50 ml                                                               883\n",
       "75 ml                                                               321\n",
       "55 ml                                                               149\n",
       "                                                                   ... \n",
       "Sage and Saffron                                                      1\n",
       "Cambodian Oud Oil                                                     1\n",
       "Pepper, Pink Pepper, Geranium Leaves, Patchouli, Raspberry Rose       1\n",
       "Pink Pepper, Violet, Mint Leaves                                      1\n",
       "Extrait de Parfum                                                     1\n",
       "Name: Size, Length: 224, dtype: int64"
      ]
     },
     "execution_count": 408,
     "metadata": {},
     "output_type": "execute_result"
    }
   ],
   "source": [
    "Perfumes_df.Size.value_counts()"
   ]
  },
  {
   "cell_type": "code",
   "execution_count": 409,
   "metadata": {},
   "outputs": [],
   "source": [
    "if (Perfumes_df.Size == \"Pepper, Pink Pepper, Geranium Leaves, Patchouli, Raspberry Rose\").any():\n",
    "    Perfumes_df.Size.replace(\"Pepper, Pink Pepper, Geranium Leaves, Patchouli, Raspberry Rose\", \"75 ml\", inplace=True)\n",
    "    Perfumes_df.Brand.replace(\"Loewe\", \"Hermes\", inplace=True)\n",
    "    Perfumes_df.Gender.replace(\"Hermes\", \"NaN\", inplace=True)\n",
    "    Perfumes_df.Fragrance_Family.replace(\"Grapefruit, Orange\", \"NaN\", inplace=True)\n",
    "    Perfumes_df.Ingredients.replace(\"Apple, Cinnamon, Saffron, Sandalwood, Agarwood\", \"NaN\", inplace=True)\n",
    "    Perfumes_df.Top_note.replace(\"NaN\", \"Grapefruit, Orange\", inplace=True)\n",
    "    Perfumes_df.Middle_note.replace(\"NaN\", \"Pepper, Pink Pepper, Geranium Leaves, Patchouli, Raspberry Rose\", inplace=True)\n",
    "    Perfumes_df.Base_note.replace(\"NaN\", \"Atlantic Cedar, Vetiver, Resin\", inplace=True)"
   ]
  },
  {
   "cell_type": "code",
   "execution_count": 410,
   "metadata": {},
   "outputs": [],
   "source": [
    "if (Perfumes_df.Size == \"Extrait de Parfum\").any():\n",
    "    Perfumes_df.Size.replace(\"Extrait de Parfum\", \"100 ml\", inplace=True)"
   ]
  },
  {
   "cell_type": "code",
   "execution_count": 411,
   "metadata": {},
   "outputs": [],
   "source": [
    "if (Perfumes_df.Size == \"Sage and Saffron\").any():\n",
    "    Perfumes_df.Size.replace(\"Sage and Saffron\", \"50 g\", inplace=True)\n",
    "    Perfumes_df.Product_Type.replace(\"Charismatic\", \"NaN\", inplace=True)\n",
    "    Perfumes_df.Character.replace(\"Oriental\", \"Charismatic\", inplace=True)\n",
    "    Perfumes_df.Fragrance_Family.replace(\"Damask rose\", \"Oriental\",inplace=True)\n",
    "    Perfumes_df.Year.replace(\"Sandalwood and Musk\", \"NaN\", inplace=True)\n",
    "    Perfumes_df.Ingredients.replace(\"NaN\", \"Damask rose, Sage and Saffron, Sandalwood and Musk\", inplace=True)\n",
    "    Perfumes_df.Top_note.replace(\"Grapefruit, Orange\", \"Damask rose\", inplace=True)\n",
    "    Perfumes_df.Ingredients.replace(\"Pepper, Pink Pepper, Geranium Leaves, Patchouli, Raspberry Rose\", \"Sage and Saffron\", inplace=True)\n",
    "    Perfumes_df.Ingredients.replace(\"Atlantic Cedar, Vetiver, Resin\", \"Sandalwood and Musk\", inplace=True)"
   ]
  },
  {
   "cell_type": "code",
   "execution_count": 412,
   "metadata": {},
   "outputs": [],
   "source": [
    "if (Perfumes_df.Size == \"Orange, Grapefruit, Benzoin, Wood notes, oak moss, Volcanic stones\").any():\n",
    "    Perfumes_df.Size.replace(\"Orange, Grapefruit, Benzoin, Wood notes, oak moss, Volcanic stones\", \"50 ml\", inplace=True)\n",
    "    Perfumes_df.Fragrance_Family.replace(\"50 ml\",\"NaN\" ,inplace=True)\n",
    "    Perfumes_df.Ingredients.replace(\"Orange, Grapefruit\", \"Orange, Grapefruit, Benzoin, Wood notes, oak moss, Volcanic stones\", inplace=True)\n",
    "    Perfumes_df.Concentration.replace(\"Volcanic stones\", \"Eau de Parfum\", inplace=True)\n",
    "    Perfumes_df.Top_note.replace(\"Benzoin, Wood notes, Oak moss\", \"Orange, Grapefruit\", inplace=True)\n",
    "    Perfumes_df.Middle_note.replace(\"Pepper, Pink Pepper, Geranium Leaves, Patchouli, Raspberry Rose\", \"Volcanic stones\", inplace=True)\n",
    "    Perfumes_df.Base_note.replace(\"Atlantic Cedar, Vetiver, Resin\", \"Benzoin, Wood notes, Oak moss\", inplace=True)"
   ]
  },
  {
   "cell_type": "code",
   "execution_count": 413,
   "metadata": {},
   "outputs": [],
   "source": [
    "if (Perfumes_df.Size == \"Cambodian Oud Oil\").any():\n",
    "    Perfumes_df.Size.replace(\"Cambodian Oud Oil\", \"NaN\", inplace=True)\n",
    "    Perfumes_df.Year.replace(\"Perfume Oil\", \"NaN\", inplace=True)\n",
    "    Perfumes_df.Ingredients.replace(\"Damask rose, Sage and Saffron, Sandalwood and Musk\", \"Cambodian Oud Oil\", inplace=True)\n",
    "    Perfumes_df.Top_note.replace(\"Damask rose\", \"NaN\", inplace=True)\n",
    "    Perfumes_df.Middle_note.replace(\"Volcanic stones\", \"NaN\", inplace=True)\n",
    "    Perfumes_df.Base_note.replace(\"Benzoin, Wood notes, Oak moss\", \"NaN\", inplace=True)"
   ]
  },
  {
   "cell_type": "code",
   "execution_count": 414,
   "metadata": {},
   "outputs": [],
   "source": [
    "if (Perfumes_df.Size == \"1997\").any():\n",
    "    Perfumes_df.Size.replace(\"1997\", \"195 ml\", inplace=True)\n",
    "    Perfumes_df.Year.replace(\"Apple, Orange Blossom, Sweet Bergamot, Sparkling Lemon\", \"1997\", inplace=True)\n",
    "    Perfumes_df.Ingredients.replace(\"Rose, Patchouli, Teakwood\", \"Rose, Patchouli, Teakwood,Vanilla, Musk, Labdanum,Apple, Orange Blossom, Sweet Bergamot, Sparkling Lemon\", inplace=True)\n",
    "    Perfumes_df.Concentration.replace(\"Vanilla, Musk, Labdanum\", \"NaN\", inplace=True)\n",
    "    Perfumes_df.Top_note.replace(\"NaN\", \"Apple, Orange Blossom, Sweet Bergamot, Sparkling Lemon\", inplace=True)\n",
    "    Perfumes_df.Middle_note.replace(\"NaN\", \"Rose, Patchouli, Teakwood\", inplace=True)\n",
    "    Perfumes_df.Base_note.replace(\"NaN\", \"Vanilla, Musk, Labdanum\", inplace=True)\n"
   ]
  },
  {
   "cell_type": "code",
   "execution_count": 415,
   "metadata": {},
   "outputs": [],
   "source": [
    "if (Perfumes_df.Size == \"Pink Pepper, Violet, Mint Leaves\").any():\n",
    "    Perfumes_df.Size.replace(\"Pink Pepper, Violet, Mint Leaves\", \"90 ml\", inplace=True)\n",
    "    Perfumes_df.Character.replace(\"90 ml\",\"NaN\", inplace=True)    \n",
    "    Perfumes_df.Fragrance_Family.replace(\"Eau de Toilette\", \"NaN\", inplace=True)    \n",
    "    Perfumes_df.Year.replace(\"Sage, Watermelon, Pineapple, Lavender, Cinnamon\", \"NaN\", inplace=True)    \n",
    "    Perfumes_df.Concentration.replace(\"NaN\", \"Eau de Toilette\", inplace=True)\n",
    "    Perfumes_df.Top_note.replace(\"Apple, Orange Blossom, Sweet Bergamot\", \"Pink Pepper, Violet, Mint Leaves\", inplace=True)\n",
    "    Perfumes_df.Middle_note.replace(\"Rose, Patchouli, Teakwood\", \"Sage, Watermelon, Pineapple, Lavender, Cinnamon\", inplace=True)\n",
    "    Perfumes_df.Base_note.replace(\"Vanilla, Musk, Labdanum\", \"Vanilla, Chestnut, Cedar, Amber, Agarwood, Guaiac Wood\", inplace=True)\n",
    "    Perfumes_df.Ingredients.replace(\"Vanilla, Chestnut, Cedar, Amber, Agarwood, Guaiac Wood\", \"Vanilla, Chestnut, Cedar, Amber, Agarwood, Guaiac Wood,Pink Pepper, Violet, Mint Leaves,Sage, Watermelon, Pineapple, Lavender, Cinnamon\", inplace=True)"
   ]
  },
  {
   "cell_type": "code",
   "execution_count": 416,
   "metadata": {},
   "outputs": [
    {
     "data": {
      "text/plain": [
       "100 ml            2160\n",
       "200 ml            1304\n",
       "50 ml              884\n",
       "75 ml              322\n",
       "55 ml              149\n",
       "                  ... \n",
       "14 ml                1\n",
       "50 g                 1\n",
       "195 ml               1\n",
       "Floral,Chypre        1\n",
       "Eau de Cologne       1\n",
       "Name: Size, Length: 219, dtype: int64"
      ]
     },
     "execution_count": 416,
     "metadata": {},
     "output_type": "execute_result"
    }
   ],
   "source": [
    "Perfumes_df.Size.value_counts()"
   ]
  },
  {
   "cell_type": "code",
   "execution_count": 417,
   "metadata": {},
   "outputs": [],
   "source": [
    "if (Perfumes_df.Size == \"Floral,Chypre\").any():\n",
    "    Perfumes_df.Size.replace(\"Floral,Chypre\", \"80 ml\", inplace=True)\n",
    "    Perfumes_df.Brand.replace(\"80 ml\", \"One Word\",inplace=True)\n",
    "    Perfumes_df.Gender.replace(\"One Word\", \"Unisex\", inplace=True)\n",
    "    Perfumes_df.Product_Type.replace(\"Unisex\", \"Hair & Body Mist\", inplace=True)\n",
    "    Perfumes_df.Fragrance_Family.replace(\"Charismatic,Modern\", \"Floral,Chypre\", inplace=True)\n",
    "    Perfumes_df.Character.replace(\"Hair & Body Mist\", \"Charismatic,Modern\", inplace=True)\n",
    "    Perfumes_df.Concentration.replace(\"Bergamot\", \"NaN\", inplace=True)\n",
    "    Perfumes_df.Top_note.replace(\"Orange Flower\", \"Bergamot\", inplace=True)\n",
    "    Perfumes_df.Middle_note.replace(\"Myrrh\", \"Orange Flower\", inplace=True)\n",
    "    Perfumes_df.Base_note.replace(\"Vanilla, Chestnut, Cedar, Amber, Agarwood, Guaiac Wood\", \"Myrrh\", inplace=True)"
   ]
  },
  {
   "cell_type": "code",
   "execution_count": 418,
   "metadata": {},
   "outputs": [],
   "source": [
    "if (Perfumes_df.Size == \"Freesia, Amber, Musk\").any():\n",
    "    Perfumes_df.Size.replace(\"Freesia, Amber, Musk\", \"100 ml\", inplace=True)\n",
    "    Perfumes_df.Ingredients.replace(\"Freesia\", \"Freesia, Amber, Musk\", inplace=True)\n",
    "    Perfumes_df.Top_note.replace(\"Musk\", \"Freesia\", inplace=True)\n",
    "    Perfumes_df.Middle_note.replace(\"Sage, Watermelon, Pineapple, Lavender, Cinnamon\", \"Amber\", inplace=True)\n",
    "    Perfumes_df.Base_note.replace(\"Myrrh\", \"Musk\", inplace=True)\n",
    "    Perfumes_df.Concentration.replace(\"Amber\", \"NaN\", inplace=True)\n"
   ]
  },
  {
   "cell_type": "code",
   "execution_count": 419,
   "metadata": {},
   "outputs": [],
   "source": [
    "if (Perfumes_df.Size == \"Eau de Cologne\").any():\n",
    "    Perfumes_df.Size.replace(\"Eau de Cologne\", \"50 ml\", inplace=True)\n",
    "    Perfumes_df.Character.replace(\"50 ml\",\"NaN\" , inplace=True)\n",
    "    Perfumes_df.Concentration.replace(\"Leather accord, Cedar Wood, Patchouli, Benzoin\", \"Eau de Cologne\",  inplace=True)\n",
    "    Perfumes_df.Ingredients.replace(\"Leather accord, Cedar Wood, Patchouli, Benzoin, Musk\", \"Cardamom, Calabrian Bergamot, Sicilian Lemon, Ginger, Myrtle, Artemisia, Neroli, Leather accord, Cedar Wood, Patchouli, Benzoin, Musk\", inplace=True)\n",
    "    Perfumes_df.Top_note.replace(\"Apple, Orange Blossom, Sweet Bergamot\", \"Cardamom, Calabrian Bergamot, Sicilian Lemon, Ginger\", inplace=True)\n",
    "    Perfumes_df.Base_note.replace(\"Musk\", \"Leather accord, Cedar Wood, Patchouli, Benzoin, Musk\", inplace=True)\n",
    "    Perfumes_df.Middle_note.replace(\"Amber\", \"Myrtle, Artemisia, Neroli\", inplace=True)\n",
    "    Perfumes_df.Fragrance_Family.replace(\"Cardamom, Calabrian Bergamot, Sicilian Lemon\", \"NaN\", inplace=True)"
   ]
  },
  {
   "cell_type": "code",
   "execution_count": 420,
   "metadata": {},
   "outputs": [],
   "source": [
    "if (Perfumes_df.Size == \"Green Lemon, Ginger, White Pepper\").any():\n",
    "    Perfumes_df.Size.replace(\"Green Lemon, Ginger, White Pepper\", \"25 ml\", inplace=True)\n",
    "    Perfumes_df.Brand.replace(\"25 ml\",\"Dr. Vranjes Firenze\",  inplace=True)\n",
    "    Perfumes_df.Gender.replace(\"Dr. Vranjes Firenze\", \"NaN\", inplace=True)\n",
    "    Perfumes_df.Year.replace(\"Green Lemon\", \"NaN\", inplace=True)\n",
    "    Perfumes_df.Ingredients.replace(\"Ginger\", \"Green Lemon, Ginger, White Pepper\", inplace=True)\n",
    "    Perfumes_df.Concentration.replace(\"White Pepper\",\"NaN\",  inplace=True)\n",
    "    Perfumes_df.Top_note.replace(\"Apple, Orange Blossom, Sweet Bergamot\", \"Green Lemon\", inplace=True)\n",
    "    Perfumes_df.Middle_note.replace(\"Myrtle, Artemisia, Neroli\", \"Ginger\", inplace=True)\n",
    "    Perfumes_df.Base_note.replace(\"eather accord, Cedar Wood, Patchouli\", \"White Pepper\", inplace=True)\n"
   ]
  },
  {
   "cell_type": "code",
   "execution_count": 421,
   "metadata": {},
   "outputs": [],
   "source": [
    "if (Perfumes_df.Size == \"citrus fruits\").any():\n",
    "    Perfumes_df.Size.replace(\"citrus fruits\", \"50 g\", inplace=True)\n",
    "    Perfumes_df.Product_Type.replace(\"Extravagant\", \"Bakhoor\", inplace=True)    \n",
    "    Perfumes_df.Character.replace(\"Citrus\", \"Extravagant\", inplace=True)    \n",
    "    Perfumes_df.Fragrance_Family.replace(\"Citrus, rose, fruits, amber, sandalwood, musk\", \"Citrus\", inplace=True)    \n",
    "    Perfumes_df.Year.replace(\"Roses, fruits\", \"NaN\", inplace=True)\n",
    "    Perfumes_df.Ingredients.replace(\"Amber, sandalwood, musk\", \"Citrus, rose, fruits, amber, sandalwood, musk\", inplace=True)\n",
    "    Perfumes_df.Top_note.replace(\"Apple, Orange Blossom, Sweet Bergamot\", \"citrus fruits\", inplace=True)\n",
    "    Perfumes_df.Middle_note.replace(\"Ginger\", \"Roses, fruits\", inplace=True)\n",
    "    Perfumes_df.Base_note.replace(\"Leather accord, Cedar Wood, Patchouli\", \"Amber, sandalwood, musk\", inplace=True)"
   ]
  },
  {
   "cell_type": "code",
   "execution_count": 422,
   "metadata": {},
   "outputs": [],
   "source": [
    "if (Perfumes_df.Size == \"Pink Pepper, Jasmine, Amber, Patchouli\").any():\n",
    "    Perfumes_df.Size.replace(\"Pink Pepper, Jasmine, Amber, Patchouli\", \"35 ml\", inplace=True)\n",
    "    Perfumes_df.Year.replace(\"Pink Pepper, Jasmine,\", \"NaN\", inplace=True)\n",
    "    Perfumes_df.Ingredients.replace(\"Amber\", \"Pink Pepper, Jasmine, Amber, Patchouli\", inplace=True)\n",
    "    Perfumes_df.Top_note.replace(\"grapefruit\", \"Pink Pepper, Jasmine,\", inplace=True)\n",
    "    Perfumes_df.Middle_note.replace(\"Roses, fruits\", \"Amber\", inplace=True)\n",
    "    Perfumes_df.Base_note.replace(\"Leather accord, Cedar Wood, Patchouli\", \"Patchouli\", inplace=True)"
   ]
  },
  {
   "cell_type": "markdown",
   "metadata": {},
   "source": [
    "- Cleaning Gender"
   ]
  },
  {
   "cell_type": "code",
   "execution_count": 423,
   "metadata": {},
   "outputs": [],
   "source": [
    "if (Perfumes_df.Gender == \"Bakhoor\").any():\n",
    "    Perfumes_df.Gender.replace(\"Bakhoor\", \"Home\", inplace=True)"
   ]
  },
  {
   "cell_type": "code",
   "execution_count": 424,
   "metadata": {},
   "outputs": [],
   "source": [
    "if (Perfumes_df.Gender == \"Room Spray\").any():\n",
    "    Perfumes_df.Gender.replace(\"Room Spray\", \"Home\", inplace=True)"
   ]
  },
  {
   "cell_type": "code",
   "execution_count": 425,
   "metadata": {},
   "outputs": [],
   "source": [
    "if (Perfumes_df.Gender == \"Candle\").any():\n",
    "    Perfumes_df['Gender'].replace(\"Candle\", \"Home\", inplace=True)"
   ]
  },
  {
   "cell_type": "code",
   "execution_count": 426,
   "metadata": {},
   "outputs": [],
   "source": [
    "if (Perfumes_df.Gender == \"Victoria's Secret\").any():\n",
    "    Perfumes_df.Gender.replace(\"Victoria's Secret\", \"Women\", inplace=True)"
   ]
  },
  {
   "cell_type": "code",
   "execution_count": 428,
   "metadata": {},
   "outputs": [],
   "source": [
    "if (Perfumes_df.Gender == \"Diffuser\").any():\n",
    "    Perfumes_df.Gender.replace(\"Diffuser\", \"Home\", inplace=True)"
   ]
  },
  {
   "cell_type": "markdown",
   "metadata": {},
   "source": [
    "- This is a shaving cream, thus I drop it "
   ]
  },
  {
   "cell_type": "code",
   "execution_count": 697,
   "metadata": {},
   "outputs": [],
   "source": [
    "Perfumes_df.drop(Perfumes_df.index[Perfumes_df['Gender'] == \"Creed\"], inplace=True)"
   ]
  },
  {
   "cell_type": "code",
   "execution_count": 698,
   "metadata": {},
   "outputs": [],
   "source": [
    "if (Perfumes_df.Gender == \"Perfume Set\").any():\n",
    "    Perfumes_df.Gender.replace(\"Perfume Set\", \"Women\", inplace=True)"
   ]
  },
  {
   "cell_type": "code",
   "execution_count": 699,
   "metadata": {},
   "outputs": [],
   "source": [
    "if (Perfumes_df.Gender == \"Alrokon Alomani\").any():\n",
    "    Perfumes_df.Gender.replace(\"Alrokon Alomani\", \"Home\", inplace=True)"
   ]
  },
  {
   "cell_type": "code",
   "execution_count": null,
   "metadata": {},
   "outputs": [],
   "source": [
    "if (Perfumes_df.Name == \"COACH SET FOR WOMEN (EDP 100 ML + EDP 7.5 ML + SHOWER GEL 100 ML)\").any():\n",
    "    Perfumes_df.Gender.replace(\"Coach\", \"Women\", inplace=True)\n",
    "    Perfumes_df.Character.replace(\"Romantic\", \"Feminine\", inplace=True)\n",
    "    Perfumes_df.Size.replace(\"Rasepberry Leaf, Pink Pepper, Pear,Turkish Rose,Musk, Sandalwood\", \"100 ml\", inplace=True)\n",
    "    Perfumes_df.Fragrance_Family.replace(\"Feminine\", \"Fruity\", inplace=True)\n",
    "    Perfumes_df.Ingredients.replace(\"Tuberose, Iris, Jasmine, Aromatic Ingredients\", \"Rasepberry Leaf, Pink Pepper, Pear,Turkish Rose,Musk, Sandalwood\", inplace=True)\n",
    "    Perfumes_df.Concentration.replace(\"NaN\", \"Eau de Parfum\", inplace=True)\n",
    "    Perfumes_df.Top_note.replace(\"Incense\", \"Rasepberry Leaf, Pink Pepper, Pear\", inplace=True)\n",
    "    Perfumes_df.Middle_note.replace(\"Flowers\", \"Turkish Rose\", inplace=True)\n",
    "    Perfumes_df.Base_note.replace(\"Jasmine, Aromatic Ingredients\", \"Musk, Sandalwood\", inplace=True)"
   ]
  },
  {
   "cell_type": "code",
   "execution_count": 737,
   "metadata": {},
   "outputs": [],
   "source": [
    "if (Perfumes_df.Name == \"COACH SET FOR WOMEN (EDP 100 ML + EDP 7.5 ML + SHOWER GEL 100 ML)\").any():\n",
    "    Perfumes_df.Gender.replace(\"Coach\", \"Women\", inplace=True)\n",
    "    Perfumes_df.Character.replace(\"Romantic\", \"Feminine\", inplace=True)\n",
    "    Perfumes_df.Size.replace(\"Rasepberry Leaf, Pink Pepper, Pear,Turkish Rose,Musk, Sandalwood\", \"100 ml\", inplace=True)\n",
    "    Perfumes_df.Fragrance_Family.replace(\"Feminine\", \"Fruity\", inplace=True)\n",
    "    Perfumes_df.Ingredients.replace(\"Tuberose, Iris, Jasmine, Aromatic Ingredients\", \"Rasepberry Leaf, Pink Pepper, Pear,Turkish Rose,Musk, Sandalwood\", inplace=True)\n",
    "    Perfumes_df.Concentration.replace(\"NaN\", \"Eau de Parfum\", inplace=True)\n",
    "    Perfumes_df.Top_note.replace(\"Incense\", \"Rasepberry Leaf, Pink Pepper, Pear\", inplace=True)\n",
    "    Perfumes_df.Middle_note.replace(\"Flowers\", \"Turkish Rose\", inplace=True)\n",
    "    Perfumes_df.Base_note.replace(\"Jasmine, Aromatic Ingredients\", \"Musk, Sandalwood\", inplace=True)"
   ]
  },
  {
   "cell_type": "code",
   "execution_count": null,
   "metadata": {},
   "outputs": [],
   "source": []
  },
  {
   "cell_type": "code",
   "execution_count": 692,
   "metadata": {},
   "outputs": [],
   "source": [
    "if (Perfumes_df.Name == \"Deem Perfumes Hotel - 300 ml\").any():\n",
    "    Perfumes_df.Gender.replace('Deem Perfumes', \"Home\", inplace=True)\n",
    "    Perfumes_df.Character.replace('Incense, Flowers, Amber, Woods', \"NaN\", inplace=True)\n",
    "    Perfumes_df.Size.replace('100 ml', \"300 ml\", inplace=True)\n",
    "    Perfumes_df.Ingredients.replace('Blackcurrant, Bergamot, Neroli, White Geranium, Jasmine, Patchouli, Musk', \"Incense, Flowers, Amber, Woods\", inplace=True)\n",
    "    Perfumes_df.Top_note.replace('Tuberose', \"Incense\", inplace=True)\n",
    "    Perfumes_df.Middle_note.replace('Iris', \"Flowers\", inplace=True)\n",
    "    Perfumes_df.Top_note.replace('Sandalwood,Cedarwood, Vanilla', \"Amber, Woods\", inplace=True)"
   ]
  },
  {
   "cell_type": "code",
   "execution_count": 691,
   "metadata": {},
   "outputs": [],
   "source": [
    "if (Perfumes_df.Name == \"Deem Perfumes Garden - 300 ml\").any():\n",
    "    #Perfumes_df.Gender.replace('Deem Perfumes', \"Home\", inplace=True)\n",
    "    #Perfumes_df.Character.replace('Tuberose, Iris, Jasmine, Aromatic Ingredients', \"NaN\", inplace=True)\n",
    "    #Perfumes_df.Size.replace('100 ml', \"300 ml\", inplace=True)\n",
    "    Perfumes_df.Ingredients.replace('Blackcurrant, Bergamot, Neroli, White Geranium, Jasmine, Patchouli, Musk', \"Tuberose, Iris, Jasmine, Aromatic Ingredients\", inplace=True)\n",
    "    #Perfumes_df.Top_note.replace('Chamomile, Bitter Almond,Musk', \"Tuberose\", inplace=True)\n",
    "    #Perfumes_df.Middle_note.replace('Indian Jasmine, Jasmine', \"Iris\", inplace=True)\n",
    "    #Perfumes_df.Base_note.replace('Sandalwood,Cedarwood, Vanilla', \"Jasmine, Aromatic Ingredients\", inplace=True)"
   ]
  },
  {
   "cell_type": "code",
   "execution_count": 683,
   "metadata": {},
   "outputs": [],
   "source": [
    "if (Perfumes_df.Name == \"Gucci Bloom Set (EDP 100 ml + EDP 7.4 Rollerball + Perfumes Soap 100 g )\").any():\n",
    "    Perfumes_df.Gender.replace(\"Unisex\", \"Women\", inplace=True)\n",
    "    Perfumes_df.Character.replace(\"Charismatic\", \"Romantic\", inplace=True)\n",
    "    Perfumes_df.Fragrance_Family.replace(\"Romantic\", \"Floral\", inplace=True)\n",
    "    Perfumes_df.Concentration.replace(\"Jasmine absolute, Jasmine bud extract, Rangoon creeper\", \"Eau de Parfum\", inplace=True)\n",
    "    Perfumes_df.Top_note.replace(\"Tuberose\", \"Jasmine absolute, Jasmine bud extract, Rangoon creeper\", inplace=True)\n",
    "    Perfumes_df.Middle_note.replace(\"Rangoon creeper\", \"Tuberose\", inplace=True)\n",
    "    Perfumes_df.Middle_note.replace(\"Sandalwood,Cedarwood, Vanilla\", \"Rangoon creeper\", inplace=True)\n"
   ]
  },
  {
   "cell_type": "code",
   "execution_count": 680,
   "metadata": {},
   "outputs": [],
   "source": [
    "if (Perfumes_df.Name == \"Gucci Memoire D'Une Odeur Set (EDP 100 ml + EDP 7.4 ml)\").any():\n",
    "    Perfumes_df.Gender.replace(\"Gucci\", \"Unisex\", inplace=True)\n",
    "    Perfumes_df.Character.replace(\"Natural\", \"Charismatic\", inplace=True)\n",
    "    Perfumes_df.Fragrance_Family.replace(\"Oriental\", \"Woody\", inplace=True)\n",
    "    Perfumes_df.Year.replace(\"Chamomile, Bitter Almond\", \"NaN\", inplace=True)\n",
    "    Perfumes_df.Ingredients.replace(\"Musk, Indian Jasmine, Jasmine\", \"Chamomile, Bitter Almond,Musk, Indian Jasmine, Jasmine, Sandalwood,Cedarwood, Vanilla\", inplace=True)\n",
    "    Perfumes_df.Concentration.replace(\"Sandalwood, Cedarwood, Vanilla\",\"Eau de Parfum\", inplace=True)\n",
    "    Perfumes_df.Top_note.replace(\"NaN\", \"Chamomile, Bitter Almond,Musk\", inplace=True)\n",
    "    Perfumes_df.Middle_note.replace(\"NaN\", \"Indian Jasmine, Jasmine\", inplace=True)\n",
    "    Perfumes_df.Base_note.replace(\"NaN\", \"Sandalwood,Cedarwood, Vanilla\", inplace=True)\n"
   ]
  },
  {
   "cell_type": "code",
   "execution_count": 677,
   "metadata": {},
   "outputs": [],
   "source": [
    "if (Perfumes_df.Gender == \"Paco Rabanne\").any():\n",
    "    Perfumes_df.Gender.replace(\"Paco Rabanne\", \"Men\", inplace=True)\n",
    "    Perfumes_df.Size.replace(\"7 ml\", \"100 ml\", inplace=True)\n",
    "    Perfumes_df.Concentration.replace(\"NaN\", \"Eau de Toilette\", inplace=True)\n",
    "    Perfumes_df.Base_note.replace(\"Black Amber, Patchouli, Vanilla\", \"NaN\", inplace=True)\n",
    "    "
   ]
  },
  {
   "cell_type": "code",
   "execution_count": 675,
   "metadata": {},
   "outputs": [],
   "source": [
    "if (Perfumes_df.Gender == \"Byredo\").any():\n",
    "    Perfumes_df.Gender.replace(\"Byredo\", \"Unisex\", inplace=True)\n",
    "    Perfumes_df.Character.replace(\"Hair Mist\", \"Charismatic\", inplace=True)\n",
    "    Perfumes_df.Concentration.replace(\"Juniper Berries, Black Pepper\", \"Perfume\", inplace=True)\n",
    "    Perfumes_df.Top_note.replace(\"Violet, Iris, Leather\", \"Juniper Berries, Black Pepper\", inplace=True)\n",
    "    Perfumes_df.Middle_note.replace(\"Black Amber, Patchouli, Vanilla\", \"Violet, Iris, Leather\", inplace=True)\n",
    "    Perfumes_df.Base_note.replace(\"NaN\", \"Black Amber, Patchouli, Vanilla\", inplace=True)\n"
   ]
  },
  {
   "cell_type": "code",
   "execution_count": 672,
   "metadata": {},
   "outputs": [],
   "source": [
    "if (Perfumes_df.Name == \"Mercedes Benz Set EDT 4x7 ml\").any():\n",
    "    Perfumes_df.Character.replace(\"Sensual\", \"Natural\", inplace=True)\n",
    "    Perfumes_df.Size.replace(\"300 ml\", \"7 ml\", inplace=True)\n",
    "    Perfumes_df.Concentration.replace(\"NaN\", \"Eau de Toilette\", inplace=True)\n",
    "    Perfumes_df.Ingredients.replace(\"Blackcurrant, Bergamot, Neroli, White Geranium, Jasmine\", \"NaN\", inplace=True)\n",
    "    Perfumes_df.Top_note.replace(\"Tea, Bergamot, Osmanthus\", \"NaN\", inplace=True)\n",
    "    Perfumes_df.Middle_note.replace(\"Orchids, Jasmine, Rose, Freesia\", \"NaN\", inplace=True)\n",
    "    Perfumes_df.Base_note.replace(\"African Orange Flower, Patchouli, Musk, Vanilla\", \"NaN\", inplace=True)"
   ]
  },
  {
   "cell_type": "code",
   "execution_count": 664,
   "metadata": {},
   "outputs": [],
   "source": [
    "if (Perfumes_df.Name == \"Viktor & Rolf Ladies Perfume Set - 4×7 ml\").any():\n",
    "    Perfumes_df.Gender.replace(\"Viktor & Rolf\", \"Women\", inplace=True)\n",
    "    Perfumes_df.Character.replace(\"NaN\",\"Sensual\", inplace=True)\n",
    "    Perfumes_df.Year.replace(\"Tea, Bergamot, Osmanthus\", \"NaN\", inplace=True)\n",
    "    Perfumes_df.Ingredients.replace(\"Orchids, Jasmine, Rose, Freesia\", \"Tea, Bergamot, Osmanthus, Orchids, Jasmine, Rose, Freesia, African Orange Flower, Patchouli, Musk, Vanilla\", inplace=True)\n",
    "    Perfumes_df.Concentration.replace(\"African Orange Flower, Patchouli, Musk, Vanilla\", \"Eau de Parfum\", inplace=True)\n",
    "    Perfumes_df.Top_note.replace(\"NaN\", \"Tea, Bergamot, Osmanthus\", inplace=True)\n",
    "    Perfumes_df.Middle_note.replace(\"NaN\", \"Orchids, Jasmine, Rose, Freesia\", inplace=True)\n",
    "    Perfumes_df.Base_note.replace(\"NaN\", \"African Orange Flower, Patchouli, Musk, Vanilla\", inplace=True)"
   ]
  },
  {
   "cell_type": "code",
   "execution_count": 657,
   "metadata": {},
   "outputs": [],
   "source": [
    "if (Perfumes_df.Gender == \"Faz\").any():\n",
    "    Perfumes_df.Gender.replace(\"Faz\", \"Unisex\", inplace=True)\n",
    "    Perfumes_df.Fragrance_Family.replace(\"NaN\", \"Floral\", inplace=True)\n",
    "    Perfumes_df.Ingredients.replace(\"Blackcurrant, Bergamot, Neroli, White Geranium, Jasmine\", \"NaN\", inplace=True)\n",
    "    Perfumes_df.Size.replace(\"100 g\", \"300 ml\", inplace=True)"
   ]
  },
  {
   "cell_type": "code",
   "execution_count": 652,
   "metadata": {},
   "outputs": [],
   "source": [
    "if (Perfumes_df.Gender == \"Ajmal\").any():\n",
    "    Perfumes_df.Gender.replace(\"Ajmal\", \"Unisex\", inplace=True)\n",
    "    Perfumes_df.Brand.replace(\"100 g\", \"Ajmal\", inplace=True)\n",
    "    Perfumes_df.Character.replace(\"Natural\", \"NaN\", inplace=True)\n",
    "    Perfumes_df.Fragrance_Family.replace(\"NaN\", \"Oriental\", inplace=True)\n",
    "    Perfumes_df.Size.replace(\"100 ml\", \"100 g\", inplace=True)\n",
    "    Perfumes_df.Ingredients.replace(\"Blackcurrant, Bergamot, Neroli, White Geranium, Jasmine\", \"NaN\", inplace=True)\n",
    "    Perfumes_df.Top_note.replace(\"Pear, Black Currant\", \"NaN\", inplace=True)\n",
    "    Perfumes_df.Middle_note.replace(\"Pepper, Frankincense, Geranium, Fern\", \"NaN\", inplace=True)\n",
    "    Perfumes_df.Base_note.replace(\"Musk, Tonka Bean, Moss, Vetiver, Amber, Cedar\", \"NaN\", inplace=True)\n"
   ]
  },
  {
   "cell_type": "code",
   "execution_count": 649,
   "metadata": {},
   "outputs": [],
   "source": [
    "if (Perfumes_df.Name == \"Dunhill Icon Racing Red Set (EDP 100 ml + 30 ml + Shower Gel 90 ml)\").any():\n",
    "    Perfumes_df.Ingredients.replace(\"Grapefruit, Black Pepper, Fine Grain, Mandarin, Orange, Solar Notes\", \"Grapefruit, Black Pepper, Fine Grain, Mandarin, Orange, Solar Notes,Pepper, Frankincense, Geranium, Fern,Musk, Tonka Bean, Moss, Vetiver, Amber, Cedar\", inplace=True)\n",
    "    Perfumes_df.Concentration.replace(\"Pepper, Frankincense, Geranium, Fern\", \"Eau de Parfum\", inplace=True)\n",
    "    Perfumes_df.Top_note.replace(\"Musk, Tonka Bean, Moss, Vetiver, Amber, Cedar\", \"Grapefruit, Black Pepper, Fine Grain, Mandarin, Orange, Solar Notes\", inplace=True)\n",
    "    Perfumes_df.Middle_note.replace(\"Coriander, Neroli, Cardamom, Sea Salts\", \"Pepper, Frankincense, Geranium, Fern\", inplace=True)\n",
    "    Perfumes_df.Base_note.replace(\"Patchouli, Amber, Sandalwood, Driftwood\",\"Musk, Tonka Bean, Moss, Vetiver, Amber, Cedar\",  inplace=True)"
   ]
  },
  {
   "cell_type": "code",
   "execution_count": 646,
   "metadata": {},
   "outputs": [],
   "source": [
    "if (Perfumes_df.Name == \"Dunhill Icon Racing Blue Set (EDP 100 ml + 30 ml + Shower Gel 90 ml)\").any():\n",
    "    Perfumes_df.Character.replace(\"Sensual\", \"Natural\", inplace=True)\n",
    "    Perfumes_df.Fragrance_Family.replace(\"Natural\", \"Woody\", inplace=True)\n",
    "    Perfumes_df.Size.replace(\"Woody\", \"100 ml\", inplace=True)\n",
    "    Perfumes_df.Ingredients.replace(\"Ambroxan, Bergamot, Lime\", \"Ambroxan, Bergamot, Lime,Coriander, Neroli, Cardamom, Sea Salts,Patchouli, Amber, Sandalwood, Driftwood\", inplace=True)\n",
    "    Perfumes_df.Concentration.replace(\"Coriander, Neroli, Cardamom, Sea Salts\", \"Eau de Parfum\", inplace=True)\n",
    "    Perfumes_df.Top_note.replace(\"Patchouli, Amber, Sandalwood, Driftwood\", \"Ambroxan, Bergamot, Lime\", inplace=True)\n",
    "    Perfumes_df.Middle_note.replace(\"Lily of the Valley, Strawberry, Red Berries, Licorice, Girls' Hair\", \"Coriander, Neroli, Cardamom, Sea Salts\", inplace=True)\n",
    "    Perfumes_df.Base_note.replace(\"Sandalwood, Tonka Bean, Musk, Vanilla, Caramel\", \"Patchouli, Amber, Sandalwood, Driftwood\", inplace=True)"
   ]
  },
  {
   "cell_type": "code",
   "execution_count": 643,
   "metadata": {},
   "outputs": [],
   "source": [
    "if (Perfumes_df.Gender == \"Dunhill\").any():\n",
    "    Perfumes_df.Character.replace(\"Sensual\", \"Natural\", inplace=True)\n",
    "    Perfumes_df.Fragrance_Family.replace(\"Natural\", \"Woody\", inplace=True)\n",
    "    Perfumes_df.Size.replace(\"Woody\", \"100 ml\", inplace=True)\n",
    "    Perfumes_df.Ingredients.replace(\"Ambroxan, Bergamot, Lime\", \"Ambroxan, Bergamot, Lime,Coriander, Neroli, Cardamom, Sea Salts,Patchouli, Amber, Sandalwood, Driftwood\", inplace=True)\n",
    "    Perfumes_df.Concentration.replace(\"Coriander, Neroli, Cardamom, Sea Salts\", \"Eau de Parfum\", inplace=True)\n",
    "    Perfumes_df.Top_note.replace(\"Patchouli, Amber, Sandalwood, Driftwood\", \"Ambroxan, Bergamot, Lime\", inplace=True)\n",
    "    Perfumes_df.Middle_note.replace(\"Lily of the Valley, Strawberry, Red Berries, Licorice, Girls' Hair\", \"Coriander, Neroli, Cardamom, Sea Salts\", inplace=True)\n",
    "    Perfumes_df.Base_note.replace(\"Sandalwood, Tonka Bean, Musk, Vanilla, Caramel\", \"Patchouli, Amber, Sandalwood, Driftwood\", inplace=True)\n"
   ]
  },
  {
   "cell_type": "code",
   "execution_count": 637,
   "metadata": {},
   "outputs": [],
   "source": [
    "if (Perfumes_df.Gender == \"Aquolina\").any():\n",
    "    Perfumes_df.Gender.replace(\"Aquolina\", \"Women\", inplace=True)\n",
    "    Perfumes_df.Character.replace(\"Charismatic\", \"Sensual\", inplace=True)\n",
    "    Perfumes_df.Concentration.replace(\"Lily of the Valley, Strawberry, Red Berries, Licorice, Girls' Hair\", \"Eau de Toilette\", inplace=True)\n",
    "    Perfumes_df.Ingredients.replace(\"Bergamot, Fig Leaf, Mandarin, Raspberry\", \"Bergamot, Fig Leaf, Mandarin, Raspberry, Lily of the Valley, Strawberry, Red Berries, Licorice, Girls' Hair, Sandalwood, Tonka Bean, Musk, Vanilla, Caramel\", inplace=True)\n",
    "    Perfumes_df.Top_note.replace(\"Sandalwood, Tonka Bean, Musk, Vanilla, Caramel\", \"Bergamot, Fig Leaf, Mandarin, Raspberry\", inplace=True)\n",
    "    Perfumes_df.Middle_note.replace(\"Almond, Tonka Bean, Patchouli\", \"Lily of the Valley, Strawberry, Red Berries, Licorice, Girls' Hair\", inplace=True)\n",
    "    Perfumes_df.Base_note.replace(\"Almond, Tonka Bean, Patchouli\", \"Sandalwood, Tonka Bean, Musk, Vanilla, Caramel\", inplace=True)"
   ]
  },
  {
   "cell_type": "code",
   "execution_count": 635,
   "metadata": {},
   "outputs": [],
   "source": [
    "if (Perfumes_df.Gender == \"Tom Ford\").any():\n",
    "    Perfumes_df.Gender.replace(\"Tom Ford\", \"Women\", inplace=True)\n",
    "    Perfumes_df.Character.replace(\"Soft Floral\", \"Feminine\", inplace=True)\n",
    "    Perfumes_df.Fragrance_Family.replace(\"Oriental\", \"Soft Floral\", inplace=True)\n",
    "    Perfumes_df.Size.replace(\"2011\", \"100 ml\", inplace=True)\n",
    "    Perfumes_df.Year.replace(\"2011\",\"Iris Flowers, Jasmine & Iris Roots, Absolute Violet Leaves, Italian Mandarin and Rose Bay. Javanese, cedarwood, absolute vetiver, selkolid, fine suede.\", \"2011\", inplace=True)\n",
    "    Perfumes_df.Ingredients.replace(\"Eau de Parfum\", \"Iris Flowers, Jasmine & Iris Roots, Absolute Violet Leaves, Italian Mandarin and Rose Bay. Javanese, cedarwood, absolute vetiver, selkolid, fine suede.\", inplace=True)\n",
    "    Perfumes_df.Concentration.replace(\"Iris Flowers, Jasmine & and Iris Roots.\",\"Eau de Parfum\", inplace=True)\n",
    "    Perfumes_df.Top_note.replace(\"Absolute Violet Leaves, Italian Mandarin and Rose Bay.\", \"Iris Flowers, Jasmine & and Iris Roots.\", inplace=True)\n",
    "    Perfumes_df.Middle_note.replace(\"Javanese, cedarwood, absolute vetiver, selkolid, fine suede.\", \"Absolute Violet Leaves, Italian Mandarin and Rose Bay.\", inplace=True)\n",
    "    Perfumes_df.Base_note.replace(\"Almond, Tonka Bean, Patchouli\", \"Javanese, cedarwood, absolute vetiver, selkolid, fine suede.\", inplace=True)"
   ]
  },
  {
   "cell_type": "code",
   "execution_count": 631,
   "metadata": {},
   "outputs": [],
   "source": [
    "if (Perfumes_df.Gender == \"Alwaleef\").any():\n",
    "    Perfumes_df.Gender.replace(\"Alwaleef\", \"Unisex\", inplace=True)\n",
    "    Perfumes_df.Character.replace(\"Sensual\", \"Charismatic\", inplace=True)\n",
    "    Perfumes_df.Fragrance_Family.replace(\"Aromatic\", \"Oriental\", inplace=True)\n",
    "    Perfumes_df.Year.replace(\"Pear, Black Currant\", \"NaN\", inplace=True)\n",
    "    Perfumes_df.Ingredients.replace(\"Orange Blossom, Jasmine, Iris\", \"Pear, Black Currant,Orange Blossom, Jasmine, Iris,Almond, Tonka Bean, Patchouli\", inplace=True)\n",
    "    Perfumes_df.Concentration.replace(\"Almond, Tonka Bean, Patchouli\", \"Eau de Parfum\", inplace=True)\n",
    "    Perfumes_df.Top_note.replace(\"NaN\", \"Pear, Black Currant\", inplace=True)\n",
    "    Perfumes_df.Middle_note.replace(\"Damask rose\", \"Almond, Tonka Bean, Patchouli\", inplace=True)\n",
    "    Perfumes_df.Base_note.replace(\"Sandalwood, Tolu Balsam, Almond, Vanilla,Tonka Bean\", \"Almond, Tonka Bean, Patchouli\", inplace=True)"
   ]
  },
  {
   "cell_type": "code",
   "execution_count": 626,
   "metadata": {},
   "outputs": [],
   "source": [
    "if (Perfumes_df.Gender == \"Carrera Jeans\").any():\n",
    "    Perfumes_df.Gender.replace(\"Carrera Jeans\", \"Women\", inplace=True)\n",
    "    Perfumes_df.Character.replace(\"Charismatic\", \"Sensual\", inplace=True)\n",
    "    Perfumes_df.Concentration.replace(\"Damask rose\", \"Eau de Parfum\", inplace=True)\n",
    "    Perfumes_df.Ingredients.replace(\"Bitter Orange\", \"Bitter Orange,Damask rose, Sandalwood, Tolu Balsam, Almond, Vanilla,Tonka Bean\", inplace=True)\n",
    "    Perfumes_df.Top_note.replace(\"Sandalwood, Tolu Balsam, Almond, Vanilla,Tonka Bean\", \"Bitter Orange\", inplace=True)\n",
    "    Perfumes_df.Middle_note.replace(\"NaN\", \"Damask rose\", inplace=True)\n",
    "    Perfumes_df.Base_note.replace(\"NaN\", \"Sandalwood, Tolu Balsam, Almond, Vanilla,Tonka Bean\", inplace=True)"
   ]
  },
  {
   "cell_type": "code",
   "execution_count": 624,
   "metadata": {},
   "outputs": [],
   "source": [
    "if (Perfumes_df.Gender == \"Atyaab Al Noman\").any():\n",
    "    Perfumes_df.Gender.replace(\"Atyaab Al Noman\", \"Unisex\", inplace=True)\n",
    "    Perfumes_df.Brand.replace(\"40 g\", \"Atyaab Al Noman\", inplace=True)\n",
    "    Perfumes_df.Fragrance_Family.replace(\"NaN\", \"Oriental\", inplace=True)\n",
    "    Perfumes_df.Size.replace(\"200 ml\", \"40 g\", inplace=True)\n",
    "    Perfumes_df.Ingredients.replace(\"Blackcurrant, Bergamot, Neroli, White Geranium, Jasmine\", \"NaN\", inplace=True)\n",
    "    Perfumes_df.Top_note.replace(\"Thyme, Bergamot, Apple, Basil\", \"NaN\", inplace=True)\n",
    "    Perfumes_df.Middle_note.replace(\"Hedione, Cardamom, Licorice\", \"NaN\", inplace=True)\n",
    "    Perfumes_df.Base_note.replace(\"Virginian Cedar, White Honey, Rose, Patchouli\", \"NaN\", inplace=True)"
   ]
  },
  {
   "cell_type": "code",
   "execution_count": 622,
   "metadata": {},
   "outputs": [],
   "source": [
    "if (Perfumes_df.Gender == \"Caron\").any():\n",
    "    Perfumes_df.Gender.replace(\"Caron\", \"Men\", inplace=True)\n",
    "    Perfumes_df.Character.replace(\"Modern\", \"Charismatic\", inplace=True)\n",
    "    Perfumes_df.Fragrance_Family.replace(\"Oriental\", \"Aromatic\", inplace=True)\n",
    "    Perfumes_df.Size.replace(\"NaN\", \"200 ml\", inplace=True)\n",
    "    Perfumes_df.Concentration.replace(\"Lavender\", \"Eau de Toilette\", inplace=True)\n",
    "    Perfumes_df.Top_note.replace(\"Vanilla\", \"Lavender\", inplace=True)\n",
    "    Perfumes_df.Middle_note.replace(\"Amber, Musk\", \"Vanilla\", inplace=True)\n",
    "    Perfumes_df.Top_note.replace(\"Virginian Cedar, White Honey, Rose, Patchouli\", \"Amber, Musk\", inplace=True)"
   ]
  },
  {
   "cell_type": "code",
   "execution_count": 616,
   "metadata": {},
   "outputs": [],
   "source": [
    "if (Perfumes_df.Gender == \"Elie Saab\").any():\n",
    "    Perfumes_df.Gender.replace(\"Elie Saab\", \"Women\", inplace=True)\n",
    "    Perfumes_df.Character.replace(\"Charismatic\", \"Modern\", inplace=True)\n",
    "    Perfumes_df.Fragrance_Family.replace(\"Modern\", \"Floral Oriental\", inplace=True)\n",
    "    Perfumes_df.Size.replace(\"Floral Oriental\", \"90 ml\", inplace=True)\n",
    "    Perfumes_df.Concentration.replace(\"Orange Blossom\", \"Eau de Toilette\", inplace=True)\n",
    "    Perfumes_df.Top_note.replace(\"Jasmine\", \"Orange Blossom\", inplace=True)\n",
    "    Perfumes_df.Middle_note.replace(\"Virginian Cedar, White Honey, Rose, Patchouli\", \"Jasmine\", inplace=True)\n",
    "    Perfumes_df.Base_note.replace(\"Patchouli, Cedar, Amber Wood, Vetiver, Vanilla\", \"Virginian Cedar, White Honey, Rose, Patchouli\", inplace=True)\n"
   ]
  },
  {
   "cell_type": "code",
   "execution_count": 614,
   "metadata": {},
   "outputs": [],
   "source": [
    "if (Perfumes_df.Gender == \"Diesel\").any():\n",
    "    Perfumes_df.Gender.replace(\"Diesel\", \"Men\", inplace=True)\n",
    "    Perfumes_df.Character.replace(\"Extravagant\", \"Charismatic\", inplace=True)\n",
    "    Perfumes_df.Fragrance_Family.replace(\"Charismatic\", \"Oriental\", inplace=True)\n",
    "    Perfumes_df.Size.replace(\"Oriental\", \"75 ml\", inplace=True)\n",
    "    Perfumes_df.Year.replace(\"Thyme, Bergamot, Apple, Basil\", \"NaN\", inplace=True)\n",
    "    Perfumes_df.Ingredients.replace(\"Hedione, Cardamom, Licorice\", \"Thyme, Bergamot, Apple, Basil,Hedione, Cardamom, Licorice,Patchouli, Cedar, Amber Wood, Vetiver, Vanilla\", inplace=True)\n",
    "    Perfumes_df.Top_note.replace(\"NaN\", \"Thyme, Bergamot, Apple, Basil\", inplace=True)\n",
    "    Perfumes_df.Middle_note.replace(\"NaN\", \"Hedione, Cardamom, Licorice\", inplace=True)\n",
    "    Perfumes_df.Base_note.replace(\"NaN\", \"Patchouli, Cedar, Amber Wood, Vetiver, Vanilla\", inplace=True)\n"
   ]
  },
  {
   "cell_type": "code",
   "execution_count": 611,
   "metadata": {},
   "outputs": [],
   "source": [
    "if (Perfumes_df.Gender == \"Who Am I\").any():\n",
    "    Perfumes_df.Gender.replace(\"Who Am I\", \"Unisex\", inplace=True)\n",
    "    Perfumes_df.Character.replace(\"Bundles\", \"NaN\", inplace=True)\n",
    "    Perfumes_df.Size.replace(\"10 g\", \"NaN\", inplace=True)\n",
    "    Perfumes_df.Ingredients.replace(\"Blackcurrant, Bergamot, Neroli, White Geranium, Jasmine\", \"NaN\", inplace=True)"
   ]
  },
  {
   "cell_type": "code",
   "execution_count": 609,
   "metadata": {},
   "outputs": [],
   "source": [
    "if (Perfumes_df.Gender == \"Cartier\").any():\n",
    "    Perfumes_df.Gender.replace(\"Cartier\", \"Unisex\", inplace=True)\n",
    "    Perfumes_df.Character.replace(\"Sensual\", \"Extravagant\", inplace=True)\n",
    "    Perfumes_df.Fragrance_Family.replace(\"Extravagant\", \"Aromatic\", inplace=True)\n",
    "    Perfumes_df.Size.replace(\"Aromatic\", \"NaN\", inplace=True)\n",
    "    Perfumes_df.Ingredients.replace(\"Vanilla, Honey, Lemon, Jasmine, Mandarin\", \"NaN\", inplace=True)\n",
    "    Perfumes_df.Concentration.replace(\"Eau de Toilette\", \"Eau de Perfum\", inplace=True)\n",
    "    Perfumes_df.Middle_note.replace(\"Rose\", \"NaN\", inplace=True)\n",
    "    Perfumes_df.Base_note.replace(\"Patchouli, Vetiver, Tonka bean, Moss\", \"NaN\", inplace=True)\n",
    "\n"
   ]
  },
  {
   "cell_type": "code",
   "execution_count": 604,
   "metadata": {},
   "outputs": [],
   "source": [
    "if (Perfumes_df.Gender == \"Guerlain\").any():\n",
    "    Perfumes_df.Gender.replace(\"Guerlain\" ,\"Women\", inplace=True)\n",
    "    Perfumes_df.Brand.replace(\"Eau de Toilette\", \"Guerlain\", inplace=True)\n",
    "    Perfumes_df.Size.replace(\"Eau de Toilette\" ,\"50 ml\", inplace=True)\n",
    "    Perfumes_df.Year.replace(\"Bergamot, Raspberry, Rose, Patchouli, Vetiver, Tonka bean, Moss\" ,\"NaN\", inplace=True)\n",
    "    Perfumes_df.Ingredients.replace(\"Bergamot, Raspberry\" ,\"Bergamot, Raspberry, Rose, Patchouli, Vetiver, Tonka bean, Moss\", inplace=True)\n",
    "    Perfumes_df.Concentration.replace(\"Rose\" ,\"Eau de Toilette\", inplace=True)\n",
    "    Perfumes_df.Top_note.replace(\"Patchouli, Vetiver, Tonka bean, Moss\" ,\"Bergamot, Raspberry\", inplace=True)\n",
    "    Perfumes_df.Middle_note.replace(\"NaN\", \"Rose\", inplace=True)\n",
    "    Perfumes_df.Base_note.replace(\"NaN\" ,\"Patchouli, Vetiver, Tonka bean, Moss\", inplace=True)"
   ]
  },
  {
   "cell_type": "code",
   "execution_count": 601,
   "metadata": {},
   "outputs": [],
   "source": [
    "if (Perfumes_df.Gender == \"Alsinan Perfumes\").any():\n",
    "    Perfumes_df.Gender.replace(\"Alsinan Perfumes\", \"Home\", inplace=True)\n",
    "    Perfumes_df.Brand.replace(\"10 g\", \"Alsinan Perfumes\", inplace=True)\n",
    "    Perfumes_df.Fragrance_Family.replace(\"NaN\", \"Oriental\", inplace=True)\n",
    "    Perfumes_df.Size.replace(\"250 ml\", \"10 g\", inplace=True)\n",
    "    Perfumes_df.Ingredients.replace(\"Blackcurrant, Bergamot, Neroli, White Geranium, Jasmine\", \"NaN\", inplace=True)\n",
    "    Perfumes_df.Top_note.replace(\"Blackcurrant, Bergamot\", \"NaN\", inplace=True)\n",
    "    Perfumes_df.Middle_note.replace(\"Neroli, White Geranium, Jasmine\", \"NaN\", inplace=True)\n",
    "    Perfumes_df.Base_note.replace(\"Sandalwood, Patchouli, Oakmoss, Amberwwod, Musk\", \"NaN\", inplace=True)"
   ]
  },
  {
   "cell_type": "code",
   "execution_count": 596,
   "metadata": {},
   "outputs": [],
   "source": [
    "if (Perfumes_df.Gender == \"Chloe\").any():\n",
    "    Perfumes_df.Gender.replace(\"Chloe\", \"Women\", inplace=True)\n",
    "    Perfumes_df.Year.replace(\"Lemon, Mirabelle, Bergamot, Orange, Freesia, Peach, Rose, Jasmine, Sandalwood, Patchouli, Oakmoss, Amberwwod, Musk\", \"NaN\", inplace=True)    \n",
    "    Perfumes_df.Ingredients.replace(\"Lemon, Mirabelle, Bergamot, Orange\", \"Lemon, Mirabelle, Bergamot, Orange, Freesia, Peach, Rose, Jasmine, Sandalwood, Patchouli, Oakmoss, Amberwwod, Musk\", inplace=True)    \n",
    "    Perfumes_df.Concentration.replace(\"Freesia, Peach, Rose, Jasmine\", \"Eau de Parfum\", inplace=True)    \n",
    "    Perfumes_df.Top_note.replace(\"Sandalwood, Patchouli, Oakmoss, Amberwwod, Musk\", \"Lemon, Mirabelle, Bergamot, Orange\", inplace=True)    \n",
    "    Perfumes_df.Middle_note.replace(\"Neroli, White Geranium, Jasmine\", \"Freesia, Peach, Rose, Jasmine\", inplace=True)\n",
    "    Perfumes_df.Base_note.replace(\"Patchouli, Musk\", \"Sandalwood, Patchouli, Oakmoss, Amberwwod, Musk\", inplace=True)"
   ]
  },
  {
   "cell_type": "code",
   "execution_count": 583,
   "metadata": {},
   "outputs": [],
   "source": [
    "Perfumes_df['Gender'].mask(Perfumes_df['Name'].str.contains(\"Spray\"),\"Home\", inplace=True)"
   ]
  },
  {
   "cell_type": "code",
   "execution_count": 585,
   "metadata": {},
   "outputs": [],
   "source": [
    "Perfumes_df['Gender'].mask(Perfumes_df['Name'].str.contains(\"Gift\"),\"Women\", inplace=True)"
   ]
  },
  {
   "cell_type": "code",
   "execution_count": 587,
   "metadata": {},
   "outputs": [],
   "source": [
    "Perfumes_df['Gender'].mask(Perfumes_df['Name'].str.contains(\"D'Hermes\"),\"Men\", inplace=True)"
   ]
  },
  {
   "cell_type": "code",
   "execution_count": 589,
   "metadata": {},
   "outputs": [],
   "source": [
    "Perfumes_df['Gender'].mask(Perfumes_df['Name'].str.contains(\"Hermes Un Jardin\"),\"Unisex\", inplace=True)"
   ]
  },
  {
   "cell_type": "code",
   "execution_count": 433,
   "metadata": {},
   "outputs": [],
   "source": [
    "if (Perfumes_df.Gender == \"Perfume Oil\").any():\n",
    "    Perfumes_df.Brand.replace(\"3 ml\", \"Junaid\", inplace=True)\n",
    "    Perfumes_df.Gender.replace(\"Perfume Oil\", \"Unisex\", inplace=True)\n",
    "    Perfumes_df.Product_Type.replace(\"Junaid Perfumes\", \"Perfume Set,Perfume Oil\", inplace=True)\n",
    "    Perfumes_df.Character.replace(\"Unisex\", \"Dynamic\", inplace=True)\n",
    "    Perfumes_df.Fragrance_Family.replace(\"Perfume Set,Perfume Oil\", \"Arabian\", inplace=True)\n",
    "    Perfumes_df.Ingredients.replace(\"Cambodian Oud Oil\", \"NaN\", inplace=True)\n",
    "    Perfumes_df.Top_note.replace(\"Apple, Orange Blossom, Sweet Bergamot\", \"NaN\", inplace=True)\n",
    "    Perfumes_df.Ingredients.replace(\"Amber\", \"NaN\", inplace=True)\n",
    "    Perfumes_df.Ingredients.replace(\"Leather accord, Cedar Wood, Patchouli\", \"NaN\", inplace=True)"
   ]
  },
  {
   "cell_type": "code",
   "execution_count": 700,
   "metadata": {},
   "outputs": [],
   "source": [
    "Perfumes_df.drop(Perfumes_df.index[Perfumes_df['Gender'] == \"Wadi Halfa\"], inplace=True)"
   ]
  },
  {
   "cell_type": "code",
   "execution_count": 701,
   "metadata": {},
   "outputs": [],
   "source": [
    "Perfumes_df.drop(Perfumes_df.index[Perfumes_df['Gender'] == \"Car Air Freshener\"], inplace=True)"
   ]
  },
  {
   "cell_type": "code",
   "execution_count": 702,
   "metadata": {},
   "outputs": [],
   "source": [
    "Perfumes_df.drop(Perfumes_df.index[Perfumes_df['Gender'] == \"Diffuser Refill\"], inplace=True)"
   ]
  },
  {
   "cell_type": "code",
   "execution_count": 703,
   "metadata": {},
   "outputs": [],
   "source": [
    "Perfumes_df.drop(Perfumes_df.index[2908], inplace=True)"
   ]
  },
  {
   "cell_type": "code",
   "execution_count": 748,
   "metadata": {},
   "outputs": [
    {
     "data": {
      "text/plain": [
       "Women        4280\n",
       "Men          1001\n",
       "Home          633\n",
       "Mabkhara       40\n",
       "Bundles        38\n",
       "             ... \n",
       "Coach           2\n",
       "Xerjoff         2\n",
       "Valentino       2\n",
       "Lancome         2\n",
       "Miu Miu         2\n",
       "Name: Gender, Length: 62, dtype: int64"
      ]
     },
     "execution_count": 748,
     "metadata": {},
     "output_type": "execute_result"
    }
   ],
   "source": [
    "Perfumes_df['Gender'].value_counts()"
   ]
  },
  {
   "cell_type": "markdown",
   "metadata": {},
   "source": [
    "- Rate Column"
   ]
  },
  {
   "cell_type": "code",
   "execution_count": 435,
   "metadata": {},
   "outputs": [
    {
     "data": {
      "text/plain": [
       "none    6020\n",
       "5        424\n",
       "4         36\n",
       "4.5       31\n",
       "3         10\n",
       "4.25       8\n",
       "3.5        7\n",
       "4.75       7\n",
       "4.6        5\n",
       "1          5\n",
       "4.83       4\n",
       "3.67       4\n",
       "4.67       3\n",
       "4.86       3\n",
       "4.93       3\n",
       "4.88       3\n",
       "4.8        2\n",
       "4.38       2\n",
       "4.89       1\n",
       "4.92       1\n",
       "4.9        1\n",
       "4.95       1\n",
       "4.42       1\n",
       "4.79       1\n",
       "3.33       1\n",
       "Name: Rate, dtype: int64"
      ]
     },
     "execution_count": 435,
     "metadata": {},
     "output_type": "execute_result"
    }
   ],
   "source": [
    "Perfumes_df.Rate.value_counts()"
   ]
  },
  {
   "cell_type": "code",
   "execution_count": 436,
   "metadata": {},
   "outputs": [
    {
     "data": {
      "text/plain": [
       "none         6020\n",
       "1 Rating      330\n",
       "2 Rating      111\n",
       "3 Rating       52\n",
       "4 Rating       26\n",
       "5 Rating       11\n",
       "6 Rating       10\n",
       "8 Rating        6\n",
       "7 Rating        4\n",
       "18 Rating       3\n",
       "13 Rating       2\n",
       "17 Rating       1\n",
       "12 Rating       1\n",
       "Name: Rating_count, dtype: int64"
      ]
     },
     "execution_count": 436,
     "metadata": {},
     "output_type": "execute_result"
    }
   ],
   "source": [
    "Perfumes_df.Rating_count.value_counts()"
   ]
  },
  {
   "cell_type": "markdown",
   "metadata": {},
   "source": [
    "As shown above I don't have a lot of rating data, thus Iam going to choose a content-based model that focuses on perfume features "
   ]
  },
  {
   "cell_type": "markdown",
   "metadata": {},
   "source": [
    "- Brand Column "
   ]
  },
  {
   "cell_type": "code",
   "execution_count": 437,
   "metadata": {},
   "outputs": [
    {
     "name": "stdout",
     "output_type": "stream",
     "text": [
      "This dataset consist of : 454 brands\n"
     ]
    }
   ],
   "source": [
    "# How many Brand I have? \n",
    "print(f'This dataset consist of : {Perfumes_df.Brand.nunique()} brands')"
   ]
  },
  {
   "cell_type": "markdown",
   "metadata": {},
   "source": [
    "- Product Type "
   ]
  },
  {
   "cell_type": "code",
   "execution_count": 438,
   "metadata": {},
   "outputs": [
    {
     "name": "stdout",
     "output_type": "stream",
     "text": [
      "This dataset consist of : 107 different product type\n"
     ]
    }
   ],
   "source": [
    "print(f'This dataset consist of : {Perfumes_df.Product_Type.nunique()} different product type')"
   ]
  },
  {
   "cell_type": "markdown",
   "metadata": {},
   "source": [
    "107 is a big number it not possible this column need cleaning"
   ]
  },
  {
   "cell_type": "markdown",
   "metadata": {},
   "source": [
    "I found some product type that should be excluded like makeup, shower gel, body lotion "
   ]
  },
  {
   "cell_type": "code",
   "execution_count": 749,
   "metadata": {},
   "outputs": [
    {
     "data": {
      "text/plain": [
       "Perfume               4564\n",
       "Perfume Set            697\n",
       "Room Spray             155\n",
       "Perfume Oil            143\n",
       "Candle                 136\n",
       "Hair Mist              108\n",
       "Bakhoor                106\n",
       "Diffuser                93\n",
       "Oud                     88\n",
       "Body Mist               79\n",
       "Hair & Body Mist        57\n",
       "Clothes Fragrance       13\n",
       "Bundles                  7\n",
       "Car Air Freshener        4\n",
       "Home Fragrance Set       1\n",
       "Name: Product_Type, dtype: int64"
      ]
     },
     "execution_count": 749,
     "metadata": {},
     "output_type": "execute_result"
    }
   ],
   "source": [
    "Perfumes_df.Product_Type.value_counts()"
   ]
  },
  {
   "cell_type": "code",
   "execution_count": 752,
   "metadata": {},
   "outputs": [],
   "source": [
    "Perfumes_df.to_csv(\"Cleaned_1.csv\")"
   ]
  },
  {
   "cell_type": "markdown",
   "metadata": {},
   "source": [
    "### Cleaning "
   ]
  },
  {
   "cell_type": "code",
   "execution_count": 440,
   "metadata": {},
   "outputs": [],
   "source": [
    "if (Perfumes_df.Name == \"Room Spray\").any():\n",
    "    Perfumes_df.Product_Type.replace(\"Natural oud, Oriental Oils\", \"Room Spray\",inplace=True)"
   ]
  },
  {
   "cell_type": "code",
   "execution_count": 441,
   "metadata": {},
   "outputs": [],
   "source": [
    "if (Perfumes_df.Product_Type == \"Oriental\").any():\n",
    "    Perfumes_df.Product_Type.replace(\"Oriental\", \"Perfume\", inplace=True)"
   ]
  },
  {
   "cell_type": "code",
   "execution_count": 442,
   "metadata": {},
   "outputs": [],
   "source": [
    "if (Perfumes_df.Product_Type == \"Wild berries\").any():\n",
    "    Perfumes_df.Product_Type.replace(\"Wild berries\", \"Perfume\", inplace=True)"
   ]
  },
  {
   "cell_type": "code",
   "execution_count": 443,
   "metadata": {},
   "outputs": [],
   "source": [
    "if (Perfumes_df.Product_Type == \"Mugler\").any():\n",
    "    Perfumes_df.Product_Type.replace(\"Mugler\", \"Perfume\", inplace=True)"
   ]
  },
  {
   "cell_type": "code",
   "execution_count": 444,
   "metadata": {},
   "outputs": [],
   "source": [
    "if (Perfumes_df.Product_Type == \"Oud, French notes\").any():\n",
    "    Perfumes_df.Product_Type.replace(\"Oud, French notes\", \"Perfume\", inplace=True)"
   ]
  },
  {
   "cell_type": "code",
   "execution_count": 445,
   "metadata": {},
   "outputs": [],
   "source": [
    "if (Perfumes_df.Product_Type == \"Chanel\").any():\n",
    "    Perfumes_df.Product_Type.replace(\"Chanel\", \"Perfume\", inplace=True)"
   ]
  },
  {
   "cell_type": "markdown",
   "metadata": {},
   "source": [
    "- Drop rows that is not relevant to my project"
   ]
  },
  {
   "cell_type": "code",
   "execution_count": 704,
   "metadata": {},
   "outputs": [],
   "source": [
    "index_names = Perfumes_df[Perfumes_df.Product_Type == \"Deodorant\"].index\n",
    "Perfumes_df.drop(index_names, inplace=True)"
   ]
  },
  {
   "cell_type": "code",
   "execution_count": 705,
   "metadata": {},
   "outputs": [],
   "source": [
    "index_names = Perfumes_df[Perfumes_df.Product_Type == \"Compact Powder\"].index\n",
    "Perfumes_df.drop(index_names, inplace=True)"
   ]
  },
  {
   "cell_type": "code",
   "execution_count": 706,
   "metadata": {},
   "outputs": [],
   "source": [
    "index_names = Perfumes_df[Perfumes_df.Product_Type == \"Face Cream\"].index\n",
    "Perfumes_df.drop(index_names, inplace=True)"
   ]
  },
  {
   "cell_type": "code",
   "execution_count": 707,
   "metadata": {},
   "outputs": [],
   "source": [
    "index_names = Perfumes_df[Perfumes_df.Product_Type == \"Shower Gel,Hair Gel\"].index\n",
    "Perfumes_df.drop(index_names, inplace=True)"
   ]
  },
  {
   "cell_type": "code",
   "execution_count": 708,
   "metadata": {},
   "outputs": [],
   "source": [
    "index_names = Perfumes_df[Perfumes_df.Product_Type == \"Shower Gel\"].index\n",
    "Perfumes_df.drop(index_names, inplace=True)"
   ]
  },
  {
   "cell_type": "code",
   "execution_count": 451,
   "metadata": {},
   "outputs": [],
   "source": [
    "index_names = Perfumes_df[Perfumes_df.Product_Type == \"Diffuser ,Home Fragrance\"].index\n",
    "Perfumes_df.drop(index_names, inplace=True)"
   ]
  },
  {
   "cell_type": "code",
   "execution_count": 709,
   "metadata": {},
   "outputs": [],
   "source": [
    "index_names = Perfumes_df[Perfumes_df.Product_Type == \"Body Cream\"].index\n",
    "Perfumes_df.drop(index_names, inplace=True)"
   ]
  },
  {
   "cell_type": "code",
   "execution_count": 720,
   "metadata": {},
   "outputs": [],
   "source": [
    "index_names = Perfumes_df[Perfumes_df.Product_Type == \"Body Lotion\"].index\n",
    "Perfumes_df.drop(index_names, inplace=True)\n"
   ]
  },
  {
   "cell_type": "code",
   "execution_count": 718,
   "metadata": {},
   "outputs": [],
   "source": [
    "index_names = Perfumes_df[Perfumes_df.Product_Type == \"Mabkhara\"].index\n",
    "Perfumes_df.drop(index_names, inplace=True)\n"
   ]
  },
  {
   "cell_type": "code",
   "execution_count": 721,
   "metadata": {},
   "outputs": [
    {
     "data": {
      "text/plain": [
       "(6565, 18)"
      ]
     },
     "execution_count": 721,
     "metadata": {},
     "output_type": "execute_result"
    }
   ],
   "source": [
    "Perfumes_df.shape"
   ]
  },
  {
   "cell_type": "markdown",
   "metadata": {},
   "source": [
    "### Cleaning "
   ]
  },
  {
   "cell_type": "code",
   "execution_count": 454,
   "metadata": {},
   "outputs": [],
   "source": [
    "if (Perfumes_df.Product_Type == \"Red berries, jasmine, vanilla, amber and musk\").any():\n",
    "    Perfumes_df.Product_Type.replace(\"Red berries, jasmine, vanilla, amber and musk\", \"Perfume\", inplace=True)"
   ]
  },
  {
   "cell_type": "code",
   "execution_count": 455,
   "metadata": {},
   "outputs": [],
   "source": [
    "if (Perfumes_df.Product_Type == \"Armand Basi\").any():\n",
    "    Perfumes_df.Product_Type.replace(\"Armand Basi\", \"Perfume\", inplace=True)"
   ]
  },
  {
   "cell_type": "code",
   "execution_count": 456,
   "metadata": {},
   "outputs": [],
   "source": [
    "if (Perfumes_df.Product_Type == \"Dynamic\").any():\n",
    "    Perfumes_df.Product_Type.replace(\"Dynamic\", \"Perfume\", inplace=True)"
   ]
  },
  {
   "cell_type": "code",
   "execution_count": 457,
   "metadata": {},
   "outputs": [],
   "source": [
    "if (Perfumes_df.Product_Type == \"Cartier\").any():\n",
    "    Perfumes_df.Product_Type.replace(\"Cartier\", \"Perfume\", inplace=True)"
   ]
  },
  {
   "cell_type": "code",
   "execution_count": 458,
   "metadata": {},
   "outputs": [],
   "source": [
    "if (Perfumes_df.Product_Type == \"Miu Miu\").any():\n",
    "    Perfumes_df.Product_Type.replace(\"Miu Miu\", \"Perfume\", inplace=True)"
   ]
  },
  {
   "cell_type": "code",
   "execution_count": 459,
   "metadata": {},
   "outputs": [],
   "source": [
    "if (Perfumes_df.Product_Type == \"Musk\").any():\n",
    "    Perfumes_df.Product_Type.replace(\"Musk\", \"Perfume\", inplace=True)"
   ]
  },
  {
   "cell_type": "code",
   "execution_count": 460,
   "metadata": {},
   "outputs": [],
   "source": [
    "if (Perfumes_df.Product_Type == \"Concealer\").any():\n",
    "    Perfumes_df.Product_Type.replace(\"Concealer\", \"Perfume\", inplace=True)"
   ]
  },
  {
   "cell_type": "code",
   "execution_count": 461,
   "metadata": {},
   "outputs": [],
   "source": [
    "if (Perfumes_df.Product_Type == \"Mont Blanc\").any():\n",
    "    Perfumes_df.Product_Type.replace(\"Mont Blanc\", \"Perfume\", inplace=True)"
   ]
  },
  {
   "cell_type": "code",
   "execution_count": 462,
   "metadata": {},
   "outputs": [],
   "source": [
    "if (Perfumes_df.Product_Type == \"Coach\").any():\n",
    "    Perfumes_df.Product_Type.replace(\"Coach\", \"Perfume\", inplace=True)"
   ]
  },
  {
   "cell_type": "code",
   "execution_count": 463,
   "metadata": {},
   "outputs": [],
   "source": [
    "if (Perfumes_df.Product_Type == \"Dunhill\").any():\n",
    "    Perfumes_df.Product_Type.replace(\"Dunhill\", \"Perfume\", inplace=True)"
   ]
  },
  {
   "cell_type": "code",
   "execution_count": 464,
   "metadata": {},
   "outputs": [],
   "source": [
    "if (Perfumes_df.Product_Type == \"EstÃ©e Lauder\").any():\n",
    "    Perfumes_df.Product_Type.replace(\"EstÃ©e Lauder\", \"Perfume\", inplace=True)"
   ]
  },
  {
   "cell_type": "code",
   "execution_count": 465,
   "metadata": {},
   "outputs": [],
   "source": [
    "if (Perfumes_df.Product_Type == \"Hugo Boss\").any():\n",
    "    Perfumes_df.Product_Type.replace(\"Hugo Boss\", \"Perfume\", inplace=True)"
   ]
  },
  {
   "cell_type": "code",
   "execution_count": 466,
   "metadata": {},
   "outputs": [],
   "source": [
    "if (Perfumes_df.Product_Type == \"Versace\").any():\n",
    "    Perfumes_df.Product_Type.replace(\"Versace\", \"Perfume\", inplace=True)"
   ]
  },
  {
   "cell_type": "code",
   "execution_count": 467,
   "metadata": {},
   "outputs": [],
   "source": [
    "if (Perfumes_df.Product_Type == \"Creed\").any():\n",
    "    Perfumes_df.Product_Type.replace(\"Creed\", \"Perfume\", inplace=True)"
   ]
  },
  {
   "cell_type": "code",
   "execution_count": 468,
   "metadata": {},
   "outputs": [],
   "source": [
    "if (Perfumes_df.Product_Type == \"Violet\").any():\n",
    "    Perfumes_df.Product_Type.replace(\"Violet\", \"Perfume\", inplace=True)"
   ]
  },
  {
   "cell_type": "code",
   "execution_count": 469,
   "metadata": {},
   "outputs": [],
   "source": [
    "if (Perfumes_df.Product_Type == \"Lacoste\").any():\n",
    "    Perfumes_df.Product_Type.replace(\"Lacoste\", \"Perfume\", inplace=True)"
   ]
  },
  {
   "cell_type": "code",
   "execution_count": 470,
   "metadata": {},
   "outputs": [],
   "source": [
    "if (Perfumes_df.Product_Type == \"Perfume Set,Perfume Oil\").any():\n",
    "    Perfumes_df.Product_Type.replace(\"Perfume Set,Perfume Oil\", \"Perfume Set\", inplace=True)"
   ]
  },
  {
   "cell_type": "code",
   "execution_count": 471,
   "metadata": {},
   "outputs": [],
   "source": [
    "if (Perfumes_df.Product_Type == \"Lorenzo Villoresi Firenze\").any():\n",
    "    Perfumes_df.Product_Type.replace(\"Lorenzo Villoresi Firenze\", \"Perfume\", inplace=True)"
   ]
  },
  {
   "cell_type": "code",
   "execution_count": 472,
   "metadata": {},
   "outputs": [],
   "source": [
    "if (Perfumes_df.Product_Type == \"Omani Frankincense, Mukhallat Malaki\").any():\n",
    "    Perfumes_df.Product_Type.replace(\"Omani Frankincense, Mukhallat Malaki\", \"Perfume\", inplace=True)"
   ]
  },
  {
   "cell_type": "code",
   "execution_count": 473,
   "metadata": {},
   "outputs": [],
   "source": [
    "if (Perfumes_df.Product_Type == \"170 g\").any():\n",
    "    Perfumes_df.Product_Type.replace(\"170 g\", \"Oud\", inplace=True)"
   ]
  },
  {
   "cell_type": "code",
   "execution_count": 474,
   "metadata": {},
   "outputs": [],
   "source": [
    "if (Perfumes_df.Product_Type == \"Natural\").any():\n",
    "    Perfumes_df.Product_Type.replace(\"Natural\", \"Perfume\", inplace=True)"
   ]
  },
  {
   "cell_type": "code",
   "execution_count": 475,
   "metadata": {},
   "outputs": [],
   "source": [
    "if (Perfumes_df.Product_Type == \"Cotton\").any():\n",
    "    Perfumes_df.Product_Type.replace(\"Cotton\", \"Diffuser\", inplace=True)"
   ]
  },
  {
   "cell_type": "code",
   "execution_count": 476,
   "metadata": {},
   "outputs": [],
   "source": [
    "if (Perfumes_df.Product_Type == \"Fruity scents\").any():\n",
    "    Perfumes_df.Product_Type.replace(\"Fruity scents\", \"Perfume\", inplace=True)"
   ]
  },
  {
   "cell_type": "code",
   "execution_count": 477,
   "metadata": {},
   "outputs": [],
   "source": [
    "if (Perfumes_df.Product_Type == \"Omani Frankincense, lavender\").any():\n",
    "    Perfumes_df.Product_Type.replace(\"Omani Frankincense, lavender\", \"Perfume\", inplace=True)"
   ]
  },
  {
   "cell_type": "code",
   "execution_count": 478,
   "metadata": {},
   "outputs": [],
   "source": [
    "if (Perfumes_df.Product_Type == \"Oriental notes, French notes\").any():\n",
    "    Perfumes_df.Product_Type.replace(\"Oriental notes, French notes\", \"Perfume\", inplace=True)"
   ]
  },
  {
   "cell_type": "code",
   "execution_count": 479,
   "metadata": {},
   "outputs": [],
   "source": [
    "if (Perfumes_df.Product_Type == \"Cactus petals, Vanilla, Coconut, Lemon, Essential Oils\").any():\n",
    "    Perfumes_df.Product_Type.replace(\"Cactus petals, Vanilla, Coconut, Lemon, Essential Oils\", \"Candle\", inplace=True)"
   ]
  },
  {
   "cell_type": "code",
   "execution_count": 480,
   "metadata": {},
   "outputs": [],
   "source": [
    "if (Perfumes_df.Product_Type == \"Cherry, Blackberry, Merlot, Perfume oils\").any():\n",
    "    Perfumes_df.Product_Type.replace(\"Cherry, Blackberry, Merlot, Perfume oils\", \"Perfume Oil\", inplace=True)"
   ]
  },
  {
   "cell_type": "code",
   "execution_count": 481,
   "metadata": {},
   "outputs": [],
   "source": [
    "if (Perfumes_df.Product_Type == \"Coronet\").any():\n",
    "    Perfumes_df.Product_Type.replace(\"Coronet\", \"Room Spray\", inplace=True)"
   ]
  },
  {
   "cell_type": "code",
   "execution_count": 482,
   "metadata": {},
   "outputs": [],
   "source": [
    "if (Perfumes_df.Product_Type == \"20 g\").any():\n",
    "    Perfumes_df.Product_Type.replace(\"20 g\", \"Bakhoor\", inplace=True)"
   ]
  },
  {
   "cell_type": "code",
   "execution_count": 483,
   "metadata": {},
   "outputs": [],
   "source": [
    "if (Perfumes_df.Product_Type == \"Sparkling champagne, crystal peony, almond cream\").any():\n",
    "    Perfumes_df.Product_Type.replace(\"Sparkling champagne, crystal peony, almond cream\", \"Candle\", inplace=True)\n",
    "    Perfumes_df.Ingredients.replace(\"Chrysanthemum, pink vanilla, apple, cassis, woods\", \"Sparkling champagne, crystal peony, almond cream\", inplace=True)"
   ]
  },
  {
   "cell_type": "code",
   "execution_count": 484,
   "metadata": {},
   "outputs": [],
   "source": [
    "if (Perfumes_df.Product_Type == \"Anfasic Dokhoon\").any():\n",
    "    Perfumes_df.Product_Type.replace(\"Anfasic Dokhoon\", \"Oud\", inplace=True)\n",
    "    Perfumes_df.Year.replace(\"Ozone Notes, Passion Fruit, Agarwood, Amber\", \"NaN\", inplace=True)\n",
    "    Perfumes_df.Ingredients.replace(\"Chrysanthemum, pink vanilla, apple, cassis, woods\", \"Ozone Notes, Passion Fruit, Agarwood, Amber\", inplace=True)"
   ]
  },
  {
   "cell_type": "code",
   "execution_count": 485,
   "metadata": {},
   "outputs": [],
   "source": [
    "if (Perfumes_df.Product_Type == \"Bed Linen Spray\").any():\n",
    "    Perfumes_df.Product_Type.replace(\"Bed Linen Spray\", \"Room Spray\", inplace=True)"
   ]
  },
  {
   "cell_type": "code",
   "execution_count": 486,
   "metadata": {},
   "outputs": [],
   "source": [
    "if (Perfumes_df.Product_Type == \"Van Cleef & Arpels\").any():\n",
    "    Perfumes_df.Product_Type.replace(\"Van Cleef & Arpels\", \"Perfume\", inplace=True)\n"
   ]
  },
  {
   "cell_type": "code",
   "execution_count": 487,
   "metadata": {},
   "outputs": [],
   "source": [
    "if (Perfumes_df.Product_Type == \"Chrysanthemum, pink vanilla, apple, cassis, woods\").any():\n",
    "    Perfumes_df.Product_Type.replace(\"Chrysanthemum, pink vanilla, apple, cassis, woods\", \"Candle\", inplace=True)\n",
    "    Perfumes_df.Ingredients.replace(\"Pineapple, papaya, mandarin orange, sugar cane and peach, musk, sandalwood and coconut\", \"Chrysanthemum, pink vanilla, apple, cassis, woods\", inplace=True)"
   ]
  },
  {
   "cell_type": "code",
   "execution_count": 488,
   "metadata": {},
   "outputs": [],
   "source": [
    "if (Perfumes_df.Product_Type == \"Pineapple, papaya, mandarin orange, sugar cane and peach, musk, sandalwood and coconut.\").any():\n",
    "    Perfumes_df.Product_Type.replace(\"Pineapple, papaya, mandarin orange, sugar cane and peach, musk, sandalwood and coconut.\", \"Room Spray\", inplace=True)\n",
    "    Perfumes_df.Ingredients.replace(\"NaN\", \"Pineapple, papaya, mandarin orange, sugar cane and peach, musk, sandalwood and coconut\", inplace=True)\n",
    "    Perfumes_df.Top_note.replace(\"Apple, Orange Blossom, Sweet Bergamot, Sparkling Lemon\", \"NaN\", inplace=True)\n",
    "    Perfumes_df.Character.replace(\"500 ml\", \"NaN\", inplace=True)\n",
    "    Perfumes_df.Size.replace(\"200 ml\", \"500 ml\", inplace=True)\n",
    "    Perfumes_df.Middle_note.replace(\"Amber\", \"NaN\", inplace=True)\n",
    "    Perfumes_df.Base_note.replace(\"Leather accord, Cedar Wood, Patchouli, Benzoin, Musk\", \"NaN\", inplace=True)\n"
   ]
  },
  {
   "cell_type": "code",
   "execution_count": 489,
   "metadata": {},
   "outputs": [],
   "source": [
    "if (Perfumes_df.Product_Type == \"Floral\").any():\n",
    "    Perfumes_df.Product_Type.replace(\"Floral\", \"Candle\", inplace=True)"
   ]
  },
  {
   "cell_type": "code",
   "execution_count": 490,
   "metadata": {},
   "outputs": [],
   "source": [
    "if (Perfumes_df.Product_Type == \"Fruity\").any():\n",
    "    Perfumes_df.Product_Type.replace(\"Fruity\", \"Candle\", inplace=True)"
   ]
  },
  {
   "cell_type": "code",
   "execution_count": 491,
   "metadata": {},
   "outputs": [],
   "source": [
    "if (Perfumes_df.Product_Type == \"Citrus\").any():\n",
    "    Perfumes_df.Product_Type.replace(\"Citrus\", \"Candle\", inplace=True)"
   ]
  },
  {
   "cell_type": "code",
   "execution_count": 492,
   "metadata": {},
   "outputs": [],
   "source": [
    "if (Perfumes_df.Product_Type == \"Essential Oil\").any():\n",
    "    Perfumes_df.Product_Type.replace(\"Essential Oil\", \"Perfume Oil\", inplace=True)"
   ]
  },
  {
   "cell_type": "code",
   "execution_count": 493,
   "metadata": {},
   "outputs": [],
   "source": [
    "if (Perfumes_df.Product_Type == \"500 ml\").any():\n",
    "    Perfumes_df.Product_Type.replace(\"500 ml\", \"Room Spray\", inplace=True)"
   ]
  },
  {
   "cell_type": "code",
   "execution_count": 494,
   "metadata": {},
   "outputs": [],
   "source": [
    "if (Perfumes_df.Product_Type == \"Giorgio Armani\").any():\n",
    "    Perfumes_df.Product_Type.replace(\"Giorgio Armani\", \"Perfume\", inplace=True)"
   ]
  },
  {
   "cell_type": "code",
   "execution_count": 495,
   "metadata": {},
   "outputs": [],
   "source": [
    "if (Perfumes_df.Product_Type == \"Gucci\").any():\n",
    "    Perfumes_df.Product_Type.replace(\"Gucci\", \"Perfume\", inplace=True)"
   ]
  },
  {
   "cell_type": "code",
   "execution_count": 496,
   "metadata": {},
   "outputs": [],
   "source": [
    "if (Perfumes_df.Product_Type == \"Moschino\").any():\n",
    "    Perfumes_df.Product_Type.replace(\"Moschino\", \"Perfume Set\", inplace=True)"
   ]
  },
  {
   "cell_type": "code",
   "execution_count": 497,
   "metadata": {},
   "outputs": [],
   "source": [
    "if (Perfumes_df.Product_Type == \"Burberry\").any():\n",
    "    Perfumes_df.Product_Type.replace(\"Burberry\", \"Perfume Set\", inplace=True)"
   ]
  },
  {
   "cell_type": "code",
   "execution_count": 498,
   "metadata": {},
   "outputs": [],
   "source": [
    "if (Perfumes_df.Product_Type == \"Bvlgari\").any():\n",
    "    Perfumes_df.Product_Type.replace(\"Bvlgari\", \"Perfume Set\", inplace=True)"
   ]
  },
  {
   "cell_type": "code",
   "execution_count": 499,
   "metadata": {},
   "outputs": [],
   "source": [
    "if (Perfumes_df.Product_Type == \"Woody Oriental\").any():\n",
    "    Perfumes_df.Product_Type.replace(\"Woody Oriental\", \"Bakhoor\", inplace=True)"
   ]
  },
  {
   "cell_type": "code",
   "execution_count": 500,
   "metadata": {},
   "outputs": [],
   "source": [
    "if (Perfumes_df.Product_Type == \"Floral Oriental\").any():\n",
    "    Perfumes_df.Product_Type.replace(\"Floral Oriental\", \"Room Spray\", inplace=True)"
   ]
  },
  {
   "cell_type": "code",
   "execution_count": 501,
   "metadata": {},
   "outputs": [],
   "source": [
    "if (Perfumes_df.Product_Type == \"Perfume,Body Mist\").any():\n",
    "    Perfumes_df.Product_Type.replace(\"Perfume,Body Mist\", \"Body Mist\", inplace=True)"
   ]
  },
  {
   "cell_type": "code",
   "execution_count": 502,
   "metadata": {},
   "outputs": [],
   "source": [
    "if (Perfumes_df.Product_Type == \"Kids\").any():\n",
    "    Perfumes_df.Product_Type.replace(\"Kids\", \"Perfume Set\", inplace=True)"
   ]
  },
  {
   "cell_type": "code",
   "execution_count": 503,
   "metadata": {},
   "outputs": [],
   "source": [
    "if (Perfumes_df.Product_Type == \"Aquatic\").any():\n",
    "    Perfumes_df.Product_Type.replace(\"Aquatic\", \"Candle\", inplace=True)"
   ]
  },
  {
   "cell_type": "code",
   "execution_count": 504,
   "metadata": {},
   "outputs": [],
   "source": [
    "if (Perfumes_df.Product_Type == \"Dolce&Gabbana\").any():\n",
    "    Perfumes_df.Product_Type.replace(\"Dolce&Gabbana\", \"Perfume Set\", inplace=True)"
   ]
  },
  {
   "cell_type": "code",
   "execution_count": 505,
   "metadata": {},
   "outputs": [],
   "source": [
    "if (Perfumes_df.Product_Type == \"Guerlain\").any():\n",
    "    Perfumes_df.Product_Type.replace(\"Guerlain\", \"Perfume Set\", inplace=True)"
   ]
  },
  {
   "cell_type": "code",
   "execution_count": 506,
   "metadata": {},
   "outputs": [],
   "source": [
    "if (Perfumes_df.Product_Type == \"Calvin Klein\").any():\n",
    "    Perfumes_df.Product_Type.replace(\"Calvin Klein\", \"Perfume Set\", inplace=True)"
   ]
  },
  {
   "cell_type": "code",
   "execution_count": 507,
   "metadata": {},
   "outputs": [],
   "source": [
    "if (Perfumes_df.Product_Type == \"Givenchy\").any():\n",
    "    Perfumes_df.Product_Type.replace(\"Givenchy\", \"Perfume Set\", inplace=True)"
   ]
  },
  {
   "cell_type": "code",
   "execution_count": 508,
   "metadata": {},
   "outputs": [],
   "source": [
    "if (Perfumes_df.Product_Type == \"Diffuser ,Diffuser Refill\").any():\n",
    "    Perfumes_df.Product_Type.replace(\"Diffuser ,Diffuser Refill\", \"Diffuser\", inplace=True)"
   ]
  },
  {
   "cell_type": "code",
   "execution_count": 509,
   "metadata": {},
   "outputs": [],
   "source": [
    "if (Perfumes_df.Product_Type == \"Arabian\").any():\n",
    "    Perfumes_df.Product_Type.replace(\"Arabian\", \"Room Spray\", inplace=True)"
   ]
  },
  {
   "cell_type": "code",
   "execution_count": 510,
   "metadata": {},
   "outputs": [],
   "source": [
    "if (Perfumes_df.Product_Type == \"Victoria's Secret\").any():\n",
    "    Perfumes_df.Product_Type.replace(\"Victoria's Secret\", \"Perfume Set\", inplace=True)"
   ]
  },
  {
   "cell_type": "code",
   "execution_count": 511,
   "metadata": {},
   "outputs": [],
   "source": [
    "if (Perfumes_df.Product_Type == \"Diffuser Refill\").any():\n",
    "    Perfumes_df.Product_Type.replace(\"Diffuser Refill\", \"Diffuser\", inplace=True)"
   ]
  },
  {
   "cell_type": "code",
   "execution_count": 512,
   "metadata": {},
   "outputs": [],
   "source": [
    "if (Perfumes_df.Product_Type == \"Perfume Set,Hair Mist\").any():\n",
    "    Perfumes_df.Product_Type.replace(\"Perfume Set,Hair Mist\", \"Perfume Set\", inplace=True)"
   ]
  },
  {
   "cell_type": "code",
   "execution_count": 513,
   "metadata": {},
   "outputs": [],
   "source": [
    "if (Perfumes_df.Product_Type == \"Green Notes, Saffron, Rose, Orris, Sandalwood, Cedar, Balsam, Musk\").any():\n",
    "    Perfumes_df.Product_Type.replace(\"Green Notes, Saffron, Rose, Orris, Sandalwood, Cedar, Balsam, Musk\", \"Bakhoor\", inplace=True)"
   ]
  },
  {
   "cell_type": "code",
   "execution_count": 514,
   "metadata": {},
   "outputs": [],
   "source": [
    "if (Perfumes_df.Product_Type == \"Laurent Mazzone\").any():\n",
    "    Perfumes_df.Product_Type.replace(\"Laurent Mazzone\", \"Perfume Set\", inplace=True)"
   ]
  },
  {
   "cell_type": "code",
   "execution_count": 515,
   "metadata": {},
   "outputs": [],
   "source": [
    "if (Perfumes_df.Product_Type == \"Feminine\").any():\n",
    "    Perfumes_df.Product_Type.replace(\"Feminine\", \"Perfume\", inplace=True)"
   ]
  },
  {
   "cell_type": "code",
   "execution_count": 516,
   "metadata": {},
   "outputs": [],
   "source": [
    "if (Perfumes_df.Product_Type == \"Sophisticated\").any():\n",
    "    Perfumes_df.Product_Type.replace(\"Sophisticated\", \"Bakhoor\", inplace=True)"
   ]
  },
  {
   "cell_type": "code",
   "execution_count": 517,
   "metadata": {},
   "outputs": [],
   "source": [
    "if (Perfumes_df.Product_Type == \"Classical\").any():\n",
    "    Perfumes_df.Product_Type.replace(\"Classical\", \"Room Spray\", inplace=True)"
   ]
  },
  {
   "cell_type": "code",
   "execution_count": 518,
   "metadata": {},
   "outputs": [],
   "source": [
    "if (Perfumes_df.Product_Type == \"Glamorous\").any():\n",
    "    Perfumes_df.Product_Type.replace(\"Glamorous\", \"Oud\", inplace=True)"
   ]
  },
  {
   "cell_type": "code",
   "execution_count": 519,
   "metadata": {},
   "outputs": [],
   "source": [
    "if (Perfumes_df.Product_Type == \"Woody\").any():\n",
    "    Perfumes_df.Product_Type.replace(\"Woody\", \"Candle\", inplace=True)"
   ]
  },
  {
   "cell_type": "code",
   "execution_count": 520,
   "metadata": {},
   "outputs": [],
   "source": [
    "if (Perfumes_df.Product_Type == \"Aromatic\").any():\n",
    "    Perfumes_df.Product_Type.replace(\"Aromatic\", \"Diffuser\", inplace=True)"
   ]
  },
  {
   "cell_type": "code",
   "execution_count": 521,
   "metadata": {},
   "outputs": [],
   "source": [
    "if (Perfumes_df.Product_Type == \"Pascal Morabito\").any():\n",
    "    Perfumes_df.Product_Type.replace(\"Pascal Morabito\", \"Perfume Set\", inplace=True)"
   ]
  },
  {
   "cell_type": "code",
   "execution_count": 522,
   "metadata": {},
   "outputs": [],
   "source": [
    "if (Perfumes_df.Product_Type == \"Eau De Parfum\").any():\n",
    "    Perfumes_df.Product_Type.replace(\"Eau De Parfum\", \"Perfume\", inplace=True)"
   ]
  },
  {
   "cell_type": "code",
   "execution_count": 523,
   "metadata": {},
   "outputs": [],
   "source": [
    "if (Perfumes_df.Product_Type == \"The lute\").any():\n",
    "    Perfumes_df.Product_Type.replace(\"The lute\", \"Perfume Set\", inplace=True)\n",
    "    Perfumes_df.Product_Type.replace(\"Ozone Notes, Passion Fruit, Agarwood, Amber\", \"The lute\", inplace=True)"
   ]
  },
  {
   "cell_type": "code",
   "execution_count": 524,
   "metadata": {},
   "outputs": [],
   "source": [
    "if (Perfumes_df.Product_Type == \"Natural oud, Oriental Oils\").any():\n",
    "    Perfumes_df.Product_Type.replace(\"Natural oud, Oriental Oils\", \"Room Spray\", inplace=True)"
   ]
  },
  {
   "cell_type": "code",
   "execution_count": 525,
   "metadata": {},
   "outputs": [],
   "source": [
    "if (Perfumes_df.Product_Type == \"Yves Saint Laurent\").any():\n",
    "    Perfumes_df.Product_Type.replace(\"Yves Saint Laurent\", \"Perfume Set\", inplace=True)"
   ]
  },
  {
   "cell_type": "code",
   "execution_count": 526,
   "metadata": {},
   "outputs": [],
   "source": [
    "if (Perfumes_df.Product_Type == \"Chopard\").any():\n",
    "    Perfumes_df.Product_Type.replace(\"Chopard\", \"Perfume Set\", inplace=True)"
   ]
  },
  {
   "cell_type": "code",
   "execution_count": 527,
   "metadata": {},
   "outputs": [],
   "source": [
    "if (Perfumes_df.Product_Type == \"Sensual\").any():\n",
    "    Perfumes_df.Product_Type.replace(\"Sensual\", \"Diffuser\", inplace=True)"
   ]
  },
  {
   "cell_type": "code",
   "execution_count": 528,
   "metadata": {},
   "outputs": [],
   "source": [
    "if (Perfumes_df.Product_Type == \"Sea scents, jasmine, amber\").any():\n",
    "    Perfumes_df.Product_Type.replace(\"Sea scents, jasmine, amber\", \"Room Spray\", inplace=True)\n",
    "    Perfumes_df.Ingredients.replace(\"Ozone Notes, Passion Fruit, Agarwood, Amber\", \"Sea scents, jasmine, amber\", inplace=True)"
   ]
  },
  {
   "cell_type": "code",
   "execution_count": 529,
   "metadata": {},
   "outputs": [],
   "source": [
    "if (Perfumes_df.Product_Type == \"Soft Floral\").any():\n",
    "    Perfumes_df.Product_Type.replace(\"Soft Floral\", \"Candle\", inplace=True)\n",
    "    Perfumes_df.Ingredients.replace(\"Sea scents, jasmine, amber\", \"White gardenia, jasmine petals, mongolia flowers, pink nectarine, cotton musk\", inplace=True)"
   ]
  },
  {
   "cell_type": "code",
   "execution_count": 530,
   "metadata": {},
   "outputs": [],
   "source": [
    "if (Perfumes_df.Product_Type == \"Lalique\").any():\n",
    "    Perfumes_df.Product_Type.replace(\"Lalique\", \"Perfume Set\", inplace=True)\n"
   ]
  },
  {
   "cell_type": "code",
   "execution_count": 561,
   "metadata": {},
   "outputs": [],
   "source": [
    "if (Perfumes_df.Product_Type == \"Romantic\").any():\n",
    "    Perfumes_df.Product_Type.replace(\"Romantic\", \"Bakhoor\", inplace=True)\n",
    "    Perfumes_df.Character.replace(\"Floral\", \"Romantic\", inplace=True)\n",
    "    Perfumes_df.Fragrance_Family.replace(\"Roses, fruits, sandalwood, rose, moss, musk\", \"Floral\", inplace=True)\n",
    "    Perfumes_df.Size.replace(\"Roses, fruits\", \"50 g\", inplace=True)\n",
    "    Perfumes_df.Year.replace(\"Sandalwood, rose\", \"NaN\", inplace=True)\n",
    "    Perfumes_df.Ingredients.replace(\"Moss, musk\", \"Roses, fruits, sandalwood, rose, moss, musk\", inplace=True)\n",
    "    Perfumes_df.Top_note.replace(\"NaN\", \"Roses, fruits\", inplace=True)\n",
    "    Perfumes_df.Middle_note.replace(\"NaN\", \"Sandalwood, rose\", inplace=True)\n",
    "    Perfumes_df.Base_note.replace(\"NaN\", \"Moss, musk\", inplace=True)\n"
   ]
  },
  {
   "cell_type": "code",
   "execution_count": 567,
   "metadata": {},
   "outputs": [],
   "source": [
    "if (Perfumes_df.Product_Type == \"Home Fragrance Set\").any():\n",
    "    Perfumes_df.Brand.replace(\"250 ml\", \"Esteban\", inplace=True)\n",
    "    Perfumes_df.Gender.replace(\"Esteban\", \"Home\", inplace=True)\n",
    "    Perfumes_df.Fragrance_Family.replace(\"Blackcurrant, Bergamot, Neroli, White Geranium, Jasmine, Patchouli, Musk\", \"Aromatic\", inplace=True)\n",
    "    Perfumes_df.Character.replace(\"Aromatic\", \"NaN\", inplace=True)\n",
    "    Perfumes_df.Size.replace(\"500 ml\", \"250 ml\", inplace=True)\n",
    "    Perfumes_df.Ingredients.replace(\"Pineapple, papaya, mandarin orange, sugar cane and peach, musk, sandalwood and coconut\",\"Blackcurrant, Bergamot, Neroli, White Geranium, Jasmine, Patchouli, Musk\",  inplace=True)\n",
    "    Perfumes_df.Top_note.replace(\"Roses, fruits\",\"Blackcurrant, Bergamot\", inplace=True)\n",
    "    Perfumes_df.Middle_note.replace(\"Sandalwood, rose\", \"Neroli, White Geranium, Jasmine\", inplace=True)\n",
    "    Perfumes_df.Base_note.replace(\"Moss, musk\",\"Patchouli, Musk\" , inplace=True)"
   ]
  },
  {
   "cell_type": "code",
   "execution_count": 546,
   "metadata": {},
   "outputs": [],
   "source": [
    "# replacing NaN value with Perfume Set if the name contain Set  \n",
    "Perfumes_df['Product_Type'].mask(Perfumes_df['Name'].str.contains(\"Set\"),\"Perfume Set\", inplace=True)\n"
   ]
  },
  {
   "cell_type": "code",
   "execution_count": 540,
   "metadata": {},
   "outputs": [],
   "source": [
    "Perfumes_df['Product_Type'].mask(Perfumes_df['Name'].str.contains(\"Al Majed For Oud\"),\"Bakhoor\", inplace=True)"
   ]
  },
  {
   "cell_type": "code",
   "execution_count": 542,
   "metadata": {},
   "outputs": [],
   "source": [
    "Perfumes_df['Product_Type'].mask(Perfumes_df['Name'].str.contains(\"Room Spray\"),\"Room Spray\", inplace=True)"
   ]
  },
  {
   "cell_type": "code",
   "execution_count": 543,
   "metadata": {},
   "outputs": [],
   "source": [
    "Perfumes_df['Product_Type'].mask(Perfumes_df['Name'].str.contains(\"Diffuser\"),\"Diffuser\", inplace=True)"
   ]
  },
  {
   "cell_type": "code",
   "execution_count": 544,
   "metadata": {},
   "outputs": [],
   "source": [
    "Perfumes_df['Product_Type'].mask(Perfumes_df['Name'].str.contains(\"Candle\"),\"Candle\", inplace=True)"
   ]
  },
  {
   "cell_type": "code",
   "execution_count": 549,
   "metadata": {},
   "outputs": [],
   "source": [
    "Perfumes_df['Product_Type'].mask(Perfumes_df['Name'].str.contains(\"Roze\"),\"Clothes Fragrance\", inplace=True)"
   ]
  },
  {
   "cell_type": "code",
   "execution_count": 555,
   "metadata": {},
   "outputs": [],
   "source": [
    "Perfumes_df['Product_Type'].mask(Perfumes_df['Name'].str.contains(\"Shower Gel 100 ml\"),\"Perfume Set\", inplace=True)"
   ]
  },
  {
   "cell_type": "code",
   "execution_count": 533,
   "metadata": {},
   "outputs": [
    {
     "name": "stdout",
     "output_type": "stream",
     "text": [
      "The left product type :17\n"
     ]
    }
   ],
   "source": [
    "print(f'The left product type :{Perfumes_df.Product_Type.nunique()}')"
   ]
  },
  {
   "cell_type": "markdown",
   "metadata": {},
   "source": [
    "As Shown in the plot Perfumes have the majority as expected  "
   ]
  },
  {
   "cell_type": "code",
   "execution_count": 712,
   "metadata": {},
   "outputs": [
    {
     "data": {
      "text/plain": [
       "(6565, 18)"
      ]
     },
     "execution_count": 712,
     "metadata": {},
     "output_type": "execute_result"
    }
   ],
   "source": [
    "Perfumes_df.shape"
   ]
  },
  {
   "cell_type": "markdown",
   "metadata": {},
   "source": [
    "#### Cleaning Fragrance Family "
   ]
  },
  {
   "cell_type": "markdown",
   "metadata": {},
   "source": [
    "- Fragrance Family Column "
   ]
  },
  {
   "cell_type": "code",
   "execution_count": 534,
   "metadata": {},
   "outputs": [
    {
     "data": {
      "text/plain": [
       "Floral                                                                         1346\n",
       "Oriental                                                                        785\n",
       "Woody                                                                           641\n",
       "Aromatic                                                                        415\n",
       "Fruity                                                                          301\n",
       "                                                                               ... \n",
       "Lemon, Mandarin, Bergamot, Neroli, Mint, Galbanum, Patchouli, Vanilla, Musk       1\n",
       "Lavender, musk, orange, rose, patchouli, sandalwood, vanilla                      1\n",
       "Jasmine, lily, musk                                                               1\n",
       "Floral,Citrus                                                                     1\n",
       "Verbana, Lemon                                                                    1\n",
       "Name: Fragrance_Family, Length: 189, dtype: int64"
      ]
     },
     "execution_count": 534,
     "metadata": {},
     "output_type": "execute_result"
    }
   ],
   "source": [
    "Perfumes_df.Fragrance_Family.value_counts()"
   ]
  },
  {
   "cell_type": "code",
   "execution_count": 535,
   "metadata": {},
   "outputs": [
    {
     "data": {
      "text/html": [
       "<div>\n",
       "<style scoped>\n",
       "    .dataframe tbody tr th:only-of-type {\n",
       "        vertical-align: middle;\n",
       "    }\n",
       "\n",
       "    .dataframe tbody tr th {\n",
       "        vertical-align: top;\n",
       "    }\n",
       "\n",
       "    .dataframe thead th {\n",
       "        text-align: right;\n",
       "    }\n",
       "</style>\n",
       "<table border=\"1\" class=\"dataframe\">\n",
       "  <thead>\n",
       "    <tr style=\"text-align: right;\">\n",
       "      <th></th>\n",
       "      <th>Name</th>\n",
       "      <th>Price</th>\n",
       "      <th>Description</th>\n",
       "      <th>Rate</th>\n",
       "      <th>Rating_count</th>\n",
       "      <th>image</th>\n",
       "      <th>Brand</th>\n",
       "      <th>Gender</th>\n",
       "      <th>Product_Type</th>\n",
       "      <th>Character</th>\n",
       "      <th>Fragrance_Family</th>\n",
       "      <th>Size</th>\n",
       "      <th>Year</th>\n",
       "      <th>Ingredients</th>\n",
       "      <th>Concentration</th>\n",
       "      <th>Top_note</th>\n",
       "      <th>Middle_note</th>\n",
       "      <th>Base_note</th>\n",
       "    </tr>\n",
       "  </thead>\n",
       "  <tbody>\n",
       "    <tr>\n",
       "      <th>8786</th>\n",
       "      <td>Aura Myst Essential Oil Verbana - 15 ml</td>\n",
       "      <td>52.0</td>\n",
       "      <td>An intense perfume oil with a fresh scent that...</td>\n",
       "      <td>none</td>\n",
       "      <td>none</td>\n",
       "      <td>none</td>\n",
       "      <td>15 ml</td>\n",
       "      <td>Aura Myst</td>\n",
       "      <td>Perfume Oil</td>\n",
       "      <td>Charismatic</td>\n",
       "      <td>Verbana, Lemon</td>\n",
       "      <td>500 ml</td>\n",
       "      <td>NaN</td>\n",
       "      <td>Pineapple, papaya, mandarin orange, sugar cane...</td>\n",
       "      <td>NaN</td>\n",
       "      <td>NaN</td>\n",
       "      <td>NaN</td>\n",
       "      <td>NaN</td>\n",
       "    </tr>\n",
       "  </tbody>\n",
       "</table>\n",
       "</div>"
      ],
      "text/plain": [
       "                                         Name  Price  \\\n",
       "8786  Aura Myst Essential Oil Verbana - 15 ml   52.0   \n",
       "\n",
       "                                            Description  Rate Rating_count  \\\n",
       "8786  An intense perfume oil with a fresh scent that...  none         none   \n",
       "\n",
       "     image  Brand     Gender Product_Type    Character Fragrance_Family  \\\n",
       "8786  none  15 ml  Aura Myst  Perfume Oil  Charismatic   Verbana, Lemon   \n",
       "\n",
       "        Size Year                                        Ingredients  \\\n",
       "8786  500 ml  NaN  Pineapple, papaya, mandarin orange, sugar cane...   \n",
       "\n",
       "     Concentration Top_note Middle_note Base_note  \n",
       "8786           NaN      NaN         NaN       NaN  "
      ]
     },
     "execution_count": 535,
     "metadata": {},
     "output_type": "execute_result"
    }
   ],
   "source": [
    "Perfumes_df[Perfumes_df.Fragrance_Family == \"Verbana, Lemon\"]"
   ]
  },
  {
   "cell_type": "code",
   "execution_count": 536,
   "metadata": {},
   "outputs": [],
   "source": [
    "if (Perfumes_df.Fragrance_Family == \"Lemon, Mandarin, Bergamot, Neroli, Mint, Galbanum, Patchouli, Vanilla, Musk\").any():\n",
    "    Perfumes_df.Fragrance_Family.replace(\"Lemon, Mandarin, Bergamot, Neroli, Mint, Galbanum, Patchouli, Vanilla, Musk\", \"Floral\" , inplace=True)\n",
    "    Perfumes_df.Ingredients.replace(\"Oriental notes\", \"Lemon, Mandarin, Bergamot, Neroli, Mint, Galbanum, Patchouli, Vanilla, Musk\", inplace=True)\n",
    "    Perfumes_df.Size.replace(\"Eau de Parfum\",\"150 ml\" , inplace=True)\n",
    "    Perfumes_df.Character.replace(\"150 ml\",\"NaN\", inplace=True)\n",
    "    Perfumes_df.Concentration.replace(\"NaN\",\"Eau de Parfum\", inplace=True)"
   ]
  },
  {
   "cell_type": "markdown",
   "metadata": {},
   "source": [
    "- Models I probably going with:\n",
    "2. Cosine Similarity \n",
    "3. Deep Learning - Neural Network \n",
    "4. content-based similarity model >> go with this "
   ]
  }
 ],
 "metadata": {
  "interpreter": {
   "hash": "2be5faf79681da6f2a61fdfdd5405d65d042280f7fba6178067603e3a2925119"
  },
  "kernelspec": {
   "display_name": "Python 3.10.2 64-bit",
   "language": "python",
   "name": "python3"
  },
  "language_info": {
   "codemirror_mode": {
    "name": "ipython",
    "version": 3
   },
   "file_extension": ".py",
   "mimetype": "text/x-python",
   "name": "python",
   "nbconvert_exporter": "python",
   "pygments_lexer": "ipython3",
   "version": "3.10.2"
  },
  "orig_nbformat": 4
 },
 "nbformat": 4,
 "nbformat_minor": 2
}

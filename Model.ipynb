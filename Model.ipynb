{
 "cells": [
  {
   "cell_type": "code",
   "execution_count": 6,
   "metadata": {},
   "outputs": [],
   "source": [
    "import pandas as pd\n",
    "import numpy as np"
   ]
  },
  {
   "cell_type": "code",
   "execution_count": 44,
   "metadata": {},
   "outputs": [],
   "source": [
    "Perfume_df = pd.read_csv(\"C:/Users/hmq4/OneDrive/Desktop/Data Science- Misk/chrome/Misk_DSI_Capstone_Project/final_df.csv\")"
   ]
  },
  {
   "cell_type": "code",
   "execution_count": 45,
   "metadata": {},
   "outputs": [
    {
     "name": "stdout",
     "output_type": "stream",
     "text": [
      "<class 'pandas.core.frame.DataFrame'>\n",
      "RangeIndex: 4239 entries, 0 to 4238\n",
      "Data columns (total 18 columns):\n",
      " #   Column            Non-Null Count  Dtype \n",
      "---  ------            --------------  ----- \n",
      " 0   Name              4239 non-null   object\n",
      " 1   Price             4239 non-null   int64 \n",
      " 2   Description       4239 non-null   object\n",
      " 3   Rate              4239 non-null   object\n",
      " 4   Rating_count      4239 non-null   object\n",
      " 5   image             4239 non-null   object\n",
      " 6   Brand             4239 non-null   object\n",
      " 7   Gender            4239 non-null   object\n",
      " 8   Product_Type      4239 non-null   object\n",
      " 9   Character_x       4239 non-null   object\n",
      " 10  Fragrance_Family  4239 non-null   object\n",
      " 11  Size              4239 non-null   object\n",
      " 12  Year              4239 non-null   int64 \n",
      " 13  Ingredients       4239 non-null   object\n",
      " 14  Concentration     4239 non-null   object\n",
      " 15  Top_note          4239 non-null   object\n",
      " 16  Middle_note       4239 non-null   object\n",
      " 17  Base_note         4239 non-null   object\n",
      "dtypes: int64(2), object(16)\n",
      "memory usage: 596.2+ KB\n"
     ]
    }
   ],
   "source": [
    "Perfume_df.info()"
   ]
  },
  {
   "cell_type": "code",
   "execution_count": 46,
   "metadata": {},
   "outputs": [
    {
     "data": {
      "text/plain": [
       "(4239, 7485)"
      ]
     },
     "execution_count": 46,
     "metadata": {},
     "output_type": "execute_result"
    }
   ],
   "source": [
    "from sklearn.feature_extraction.text import TfidfVectorizer\n",
    "#Define a TF-IDF Object. use stop_words to remove english stop words such as 'the', 'a'\n",
    "tfi = TfidfVectorizer(stop_words='english')\n",
    "# specify the column I will use Description column and fill in NaNs with a space \n",
    "Perfume_df[\"Description\"] = Perfume_df['Description'].fillna(\" \")\n",
    "#create TF-IDF matrix by fitting and transforming the data\n",
    "tfi_matrix = tfi.fit_transform(Perfume_df['Description'])\n",
    "#How large the shape of tfidf_matrix\n",
    "tfi_matrix.shape"
   ]
  },
  {
   "cell_type": "code",
   "execution_count": 47,
   "metadata": {},
   "outputs": [],
   "source": [
    "# Import linear_kernel\n",
    "from sklearn.metrics.pairwise import linear_kernel\n",
    "# find the cosine similarity matrix\n",
    "cosine_sim = linear_kernel(tfi_matrix, tfi_matrix)"
   ]
  },
  {
   "cell_type": "code",
   "execution_count": 48,
   "metadata": {},
   "outputs": [],
   "source": [
    "# get the perfume index from dataframe \n",
    "indices = pd.Series(Perfume_df.index, index=Perfume_df['Name']).drop_duplicates()"
   ]
  },
  {
   "cell_type": "code",
   "execution_count": 52,
   "metadata": {},
   "outputs": [],
   "source": [
    "def get_recommendations(title, cosine_sim=cosine_sim):\n",
    "    # Get the index of the perfume that matches the title\n",
    "    idx = indices[title]\n",
    "\n",
    "    # Get the pairwsie similarity scores of all perfume with that perfume\n",
    "    sim_scores = list(enumerate(cosine_sim[idx]))\n",
    "        \n",
    "    # Sort the Perfumes based on the similarity scores\n",
    "    sim_scores = sorted(sim_scores, key=lambda x: x[1], reverse=True)\n",
    "\n",
    "    # Get the scores of the 10 most similar perfumes\n",
    "    sim_scores = sim_scores[1:6]\n",
    "\n",
    "    # Get the perfume indices\n",
    "    per_indices = [i[0] for i in sim_scores]\n",
    "    \n",
    "    # Return the top 10 most similar perfumes based on description\n",
    "    return Perfume_df['Name'].iloc[per_indices]"
   ]
  },
  {
   "cell_type": "code",
   "execution_count": 53,
   "metadata": {},
   "outputs": [
    {
     "data": {
      "text/plain": [
       "104      Ya Aali Al Hima Set\n",
       "1111                Ebar Set\n",
       "879     Together Forever Set\n",
       "1109        Men Mithlak? Set\n",
       "570        Sokar Aleyoon Set\n",
       "Name: Name, dtype: object"
      ]
     },
     "execution_count": 53,
     "metadata": {},
     "output_type": "execute_result"
    }
   ],
   "source": [
    "get_recommendations(\"Dolce & Gabanna L'imperatrice 3 Pour Femme\")"
   ]
  },
  {
   "cell_type": "code",
   "execution_count": 54,
   "metadata": {},
   "outputs": [
    {
     "data": {
      "text/plain": [
       "164                                Guerlain Oud Essentiel\n",
       "1088                                 Lootah Silky Oud EDP\n",
       "862           Salvatore Ferragamo Emozione Rosa Orientale\n",
       "755     Narciso Rodriguez Santal Musc Eau De Parfum In...\n",
       "679                   Oscar De La Renta Oscar Velvet Noir\n",
       "Name: Name, dtype: object"
      ]
     },
     "execution_count": 54,
     "metadata": {},
     "output_type": "execute_result"
    }
   ],
   "source": [
    "get_recommendations(\"Guerlain Santal Royal Guerlain\")"
   ]
  },
  {
   "cell_type": "code",
   "execution_count": 55,
   "metadata": {},
   "outputs": [
    {
     "data": {
      "text/plain": [
       "1211    Tom Ford Noir Pour Femme\n",
       "3092           Tom Ford Noir EDP\n",
       "291        Tom Ford Noir De Noir\n",
       "3022         Tom Ford Metallique\n",
       "3038       Tom Ford Rive D'ambre\n",
       "Name: Name, dtype: object"
      ]
     },
     "execution_count": 55,
     "metadata": {},
     "output_type": "execute_result"
    }
   ],
   "source": [
    "get_recommendations(\"Tom Ford Noir Extreme\")"
   ]
  },
  {
   "cell_type": "markdown",
   "metadata": {},
   "source": [
    "### Using Ingredients to find similar perfumes "
   ]
  },
  {
   "cell_type": "code",
   "execution_count": 56,
   "metadata": {},
   "outputs": [
    {
     "data": {
      "text/plain": [
       "(4239, 1514)"
      ]
     },
     "execution_count": 56,
     "metadata": {},
     "output_type": "execute_result"
    }
   ],
   "source": [
    "from sklearn.feature_extraction.text import TfidfVectorizer\n",
    "tfi = TfidfVectorizer(stop_words='english')\n",
    "Perfume_df[\"Ingredients\"] = Perfume_df['Ingredients'].fillna(\" \")\n",
    "tfi_matrix2 = tfi.fit_transform(Perfume_df['Ingredients'])\n",
    "#shape of tfi_matrix2\n",
    "tfi_matrix2.shape"
   ]
  },
  {
   "cell_type": "markdown",
   "metadata": {},
   "source": [
    "The matrix size is much smaller that when we use description, it may indicate that will result in a poor recommendations"
   ]
  },
  {
   "cell_type": "code",
   "execution_count": 58,
   "metadata": {},
   "outputs": [],
   "source": [
    "from sklearn.metrics.pairwise import linear_kernel\n",
    "cosine_sim = linear_kernel(tfi_matrix2, tfi_matrix2)"
   ]
  },
  {
   "cell_type": "code",
   "execution_count": 59,
   "metadata": {},
   "outputs": [],
   "source": [
    "indices = pd.Series(Perfume_df.index, index=Perfume_df['Name']).drop_duplicates()"
   ]
  },
  {
   "cell_type": "code",
   "execution_count": 60,
   "metadata": {},
   "outputs": [],
   "source": [
    "def get_recommendations2(title, cosine_sim=cosine_sim):\n",
    "    # Get the index of the perfume that matches the title\n",
    "    idx = indices[title]\n",
    "\n",
    "    # Get the pairwsie similarity scores of all perfume with that perfume\n",
    "    sim_scores = list(enumerate(cosine_sim[idx]))\n",
    "        \n",
    "    # Sort the Perfumes based on the similarity scores\n",
    "    sim_scores = sorted(sim_scores, key=lambda x: x[1], reverse=True)\n",
    "\n",
    "    # Get the scores of the 10 most similar perfumes\n",
    "    sim_scores = sim_scores[1:6]\n",
    "\n",
    "    # Get the perfume indices\n",
    "    per_indices = [i[0] for i in sim_scores]\n",
    "    \n",
    "    # Return the top 10 most similar perfumes based on description\n",
    "    return Perfume_df['Name'].iloc[per_indices]"
   ]
  },
  {
   "cell_type": "code",
   "execution_count": 61,
   "metadata": {},
   "outputs": [
    {
     "data": {
      "text/plain": [
       "710                   Dolce & Gabbana Pour Femme\n",
       "79            Candy Addict Marshmallow Mash EDP \n",
       "547     Candy Addict Marshmallow Mash Hair Mist \n",
       "548     Candy Addict Marshmallow Mash Body Mist \n",
       "3000     Victoria's Secret Purple Haze Body Mist\n",
       "Name: Name, dtype: object"
      ]
     },
     "execution_count": 61,
     "metadata": {},
     "output_type": "execute_result"
    }
   ],
   "source": [
    "get_recommendations2(\"Dolce & Gabbana Pour Femme Intense\")"
   ]
  },
  {
   "cell_type": "markdown",
   "metadata": {},
   "source": [
    "In this I got a wrong recommendations the ingredients of the recommended perfumes are totally different, so I will use other approach in Model_1.ipynb."
   ]
  }
 ],
 "metadata": {
  "interpreter": {
   "hash": "2be5faf79681da6f2a61fdfdd5405d65d042280f7fba6178067603e3a2925119"
  },
  "kernelspec": {
   "display_name": "Python 3.10.2 64-bit",
   "language": "python",
   "name": "python3"
  },
  "language_info": {
   "codemirror_mode": {
    "name": "ipython",
    "version": 3
   },
   "file_extension": ".py",
   "mimetype": "text/x-python",
   "name": "python",
   "nbconvert_exporter": "python",
   "pygments_lexer": "ipython3",
   "version": "3.10.2"
  },
  "orig_nbformat": 4
 },
 "nbformat": 4,
 "nbformat_minor": 2
}

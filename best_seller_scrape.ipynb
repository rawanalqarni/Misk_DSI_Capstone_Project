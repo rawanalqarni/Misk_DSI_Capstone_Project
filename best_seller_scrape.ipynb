{
 "cells": [
  {
   "cell_type": "code",
   "execution_count": null,
   "metadata": {},
   "outputs": [],
   "source": [
    "import selenium\n",
    "from selenium import webdriver \n",
    "from selenium.webdriver.common.by import By\n",
    "from selenium.webdriver.support.ui import WebDriverWait\n",
    "from selenium.webdriver.support import expected_conditions as EC\n",
    "\n",
    "\n",
    "path = \"C:/Users/hmq4/OneDrive/Desktop/Data Science- Misk/chrome/chromedriver.exe\"\n",
    "driver = webdriver.Chrome(path)\n",
    "driver.get(\"https://www.goldenscent.com/en/c/international/bestsellers.html?action=cat&id=2575\")"
   ]
  },
  {
   "cell_type": "code",
   "execution_count": null,
   "metadata": {},
   "outputs": [],
   "source": [
    "from selenium.webdriver.common.by import By\n",
    "from selenium.webdriver.support.ui import WebDriverWait\n",
    "import time\n",
    "\n",
    "productlinks = driver.find_elements(By.CLASS_NAME, 'ais-InfiniteHits-item.col-xs-6.col-md-4.flex')\n",
    "links = []\n",
    "for i in productlinks:\n",
    "    url = i.find_element(By.CLASS_NAME ,'block.no-underline.product-link').get_property('href')\n",
    "    links.append(url)\n",
    "print(len(links))"
   ]
  },
  {
   "cell_type": "code",
   "execution_count": null,
   "metadata": {},
   "outputs": [],
   "source": [
    "details=[]   \n",
    "for j in links:\n",
    "    url = webdriver.Chrome(path)\n",
    "    url.get(j)\n",
    "    try:       \n",
    "        name = url.find_element(By.XPATH , '//*[@id=\"pp-gallery-n-details-wrapper\"]/div/div/div[2]/div/div[1]/div/div[1]/h1').text\n",
    "        price = url.find_element(By.XPATH ,'//*[@id=\"pp-gallery-n-details-wrapper\"]/div/div/div[2]/div/div[2]/div/div/div[1]/div/div[1]/span[1]').text\n",
    "        rate = url.find_element(By.XPATH ,'//*[@id=\"pp-gallery-n-details-wrapper\"]/div/div/div[2]/div/div[1]/div/div[1]/div/span/span').text\n",
    "        description = url.find_element(By.XPATH, '//*[@id=\"section-description\"]/div/div/div[2]/p/p[1]').text\n",
    "        about_brand = url.find_element(By.XPATH, '//*[@id=\"section-description\"]/div/div/div[2]/p/p[4]').text\n",
    "        brand = url.find_element(By.XPATH ,'//*[@id=\"section-info\"]/div/div/div[2]/ul/li[1]/div[2]').text\n",
    "        Gender = url.find_element(By.XPATH ,'//*[@id=\"section-info\"]/div/div/div[2]/ul/li[2]/div[2]').text\n",
    "        productType = url.find_element(By.XPATH ,'//*[@id=\"section-info\"]/div/div/div[2]/ul/li[3]/div[2]').text\n",
    "        character = url.find_element(By.XPATH ,'//*[@id=\"section-info\"]/div/div/div[2]/ul/li[4]/div[2]').text\n",
    "        fragrance_family= url.find_element(By.XPATH ,'//*[@id=\"section-info\"]/div/div/div[2]/ul/li[5]/div[2]').text\n",
    "        size = url.find_element(By.XPATH ,'//*[@id=\"section-info\"]/div/div/div[2]/ul/li[6]/div[2]').text\n",
    "        year = url.find_element(By.XPATH ,'//*[@id=\"section-info\"]/div/div/div[2]/ul/li[7]/div[2]').text\n",
    "        ingredients = url.find_element(By.XPATH ,'//*[@id=\"section-info\"]/div/div/div[2]/ul/li[8]/div[2]').text\n",
    "        concentration = url.find_element(By.XPATH ,'//*[@id=\"section-info\"]/div/div/div[2]/ul/li[9]/div[2]').text\n",
    "        Top_note = url.find_element(By.XPATH ,'//*[@id=\"section-info\"]/div/div/div[2]/ul/li[10]/div[2]').text\n",
    "        Middle_note = url.find_element(By.XPATH ,'//*[@id=\"section-info\"]/div/div/div[2]/ul/li[11]/div[2]').text\n",
    "        Base_note = url.find_element(By.XPATH ,'//*[@id=\"section-info\"]/div/div/div[2]/ul/li[12]/div[2]').text\n",
    "        rating_count = url.find_element(By.XPATH, '//*[@id=\"rating-wrapper\"]/div[1]/div/div[2]').text\n",
    "        image = url.find_element(By.XPATH, '//*[@id=\"pp-gallery-n-details-wrapper\"]/div/div/div[1]/div/div/div[2]/section/div[1]/div/div/div/img').get_attribute('src')\n",
    "\n",
    "    except:\n",
    "        rate = \"none\"\n",
    "        rating_count = \"none\"\n",
    "        \n",
    "    details.append((name, price, rate, description,about_brand, brand, rating_count, Gender,productType,character, fragrance_family,size, year, ingredients,concentration, Top_note, Middle_note, Base_note, image))    \n"
   ]
  },
  {
   "cell_type": "code",
   "execution_count": null,
   "metadata": {},
   "outputs": [],
   "source": [
    "print(details)"
   ]
  },
  {
   "cell_type": "code",
   "execution_count": null,
   "metadata": {},
   "outputs": [],
   "source": [
    "import pandas as pd \n",
    "\n",
    "Perfume_Dataset_Bestseller =pd.DataFrame(details,columns=['Name', 'Price', 'Rating','Description', 'About_Brand', 'Brand','Rating_Count','Gender','ProductType', 'Character','Fragrance_family','Size','Year','Ingredients','Concentration', 'Top_note', 'Middle_note', 'Base_note', 'image'])\n",
    "Perfume_Dataset_Bestseller.to_csv('Perfume_Dataset_Bestseller.csv',index=False)"
   ]
  }
 ],
 "metadata": {
  "language_info": {
   "name": "python"
  },
  "orig_nbformat": 4
 },
 "nbformat": 4,
 "nbformat_minor": 2
}
